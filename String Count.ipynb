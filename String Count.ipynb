{
 "cells": [
  {
   "cell_type": "markdown",
   "metadata": {},
   "source": [
    "# Counting String Length, Number of Words in String"
   ]
  },
  {
   "cell_type": "code",
   "execution_count": 1,
   "metadata": {},
   "outputs": [],
   "source": [
    "sentence = \"The cat sat on the mat with the rat , cat and rat were playing on the mat and both cat and rat looks very happy\""
   ]
  },
  {
   "cell_type": "code",
   "execution_count": 2,
   "metadata": {},
   "outputs": [
    {
     "name": "stdout",
     "output_type": "stream",
     "text": [
      "The cat sat on the mat with the rat , cat and rat were playing on the mat and both cat and rat looks very happy\n"
     ]
    }
   ],
   "source": [
    "print(sentence)"
   ]
  },
  {
   "cell_type": "code",
   "execution_count": 3,
   "metadata": {},
   "outputs": [
    {
     "name": "stdout",
     "output_type": "stream",
     "text": [
      "Sentence :  The cat sat on the mat with the rat , cat and rat were playing on the mat and both cat and rat looks very happy\n"
     ]
    }
   ],
   "source": [
    "print(\"Sentence : \",sentence)"
   ]
  },
  {
   "cell_type": "markdown",
   "metadata": {},
   "source": [
    "###### inbuilt function <b>len()</b> : counts each and every character inside given variable"
   ]
  },
  {
   "cell_type": "code",
   "execution_count": 15,
   "metadata": {
    "scrolled": true
   },
   "outputs": [
    {
     "name": "stdout",
     "output_type": "stream",
     "text": [
      "Length of Sentence :  111\n"
     ]
    }
   ],
   "source": [
    "print(\"Length of Sentence : \",len(sentence))"
   ]
  },
  {
   "cell_type": "markdown",
   "metadata": {},
   "source": [
    "###### inbuilt function <b>type()</b> : shows the type of variable. ##In Python every thing is an Object"
   ]
  },
  {
   "cell_type": "code",
   "execution_count": 16,
   "metadata": {},
   "outputs": [
    {
     "data": {
      "text/plain": [
       "str"
      ]
     },
     "execution_count": 16,
     "metadata": {},
     "output_type": "execute_result"
    }
   ],
   "source": [
    "type(sentence) #print(\"Type of Sentence : \",type(sentence))"
   ]
  },
  {
   "cell_type": "code",
   "execution_count": 17,
   "metadata": {},
   "outputs": [
    {
     "name": "stdout",
     "output_type": "stream",
     "text": [
      "Type of Sentence :  <class 'str'>\n"
     ]
    }
   ],
   "source": [
    "print(\"Type of Sentence : \",type(sentence))  #main output looks like <class 'str'>"
   ]
  },
  {
   "cell_type": "markdown",
   "metadata": {},
   "source": [
    "###### there's another inbuilt function <b>count()</b>, used with string variable"
   ]
  },
  {
   "cell_type": "code",
   "execution_count": 18,
   "metadata": {},
   "outputs": [
    {
     "name": "stdout",
     "output_type": "stream",
     "text": [
      "Count No of 'c' : 3\n"
     ]
    }
   ],
   "source": [
    "print(\"Count No of 'c' :\",sentence.count('c'))"
   ]
  },
  {
   "cell_type": "code",
   "execution_count": 19,
   "metadata": {},
   "outputs": [
    {
     "name": "stdout",
     "output_type": "stream",
     "text": [
      "Count No of 'cat' : 3\n"
     ]
    }
   ],
   "source": [
    "print(\"Count No of 'cat' :\",sentence.count('cat'))"
   ]
  },
  {
   "cell_type": "markdown",
   "metadata": {},
   "source": [
    "#Check the Error below:"
   ]
  },
  {
   "cell_type": "code",
   "execution_count": 20,
   "metadata": {},
   "outputs": [
    {
     "data": {
      "text/plain": [
       "'TypeError                                 Traceback (most recent call last)\\n<ipython-input-10-9e362254c0ee> in <module>\\n----> 1 print(\"Count No of :\",sentence.count())\\n\\nTypeError: count() takes at least 1 argument (0 given)'"
      ]
     },
     "execution_count": 20,
     "metadata": {},
     "output_type": "execute_result"
    }
   ],
   "source": [
    "#print(\"Count No of :\",sentence.count())\n",
    "'''TypeError                                 Traceback (most recent call last)\n",
    "<ipython-input-10-9e362254c0ee> in <module>\n",
    "----> 1 print(\"Count No of :\",sentence.count())\n",
    "\n",
    "TypeError: count() takes at least 1 argument (0 given)'''"
   ]
  },
  {
   "cell_type": "code",
   "execution_count": 21,
   "metadata": {},
   "outputs": [
    {
     "name": "stdout",
     "output_type": "stream",
     "text": [
      "Count No of ' ' : 25\n"
     ]
    }
   ],
   "source": [
    "print(\"Count No of ' ' :\",sentence.count(' '))"
   ]
  },
  {
   "cell_type": "code",
   "execution_count": 22,
   "metadata": {},
   "outputs": [
    {
     "name": "stdout",
     "output_type": "stream",
     "text": [
      "Count No of ' ' : 112\n"
     ]
    }
   ],
   "source": [
    "print(\"Count No of ' ' :\",sentence.count(''))"
   ]
  },
  {
   "cell_type": "code",
   "execution_count": 23,
   "metadata": {},
   "outputs": [
    {
     "name": "stdout",
     "output_type": "stream",
     "text": [
      "111\n"
     ]
    }
   ],
   "source": [
    "print(len(sentence))"
   ]
  },
  {
   "cell_type": "markdown",
   "metadata": {},
   "source": [
    "### Split Sentence and Perform advanced functions"
   ]
  },
  {
   "cell_type": "code",
   "execution_count": 24,
   "metadata": {},
   "outputs": [
    {
     "name": "stdout",
     "output_type": "stream",
     "text": [
      "Split :  ['The', 'cat', 'sat', 'on', 'the', 'mat', 'with', 'the', 'rat', ',', 'cat', 'and', 'rat', 'were', 'playing', 'on', 'the', 'mat', 'and', 'both', 'cat', 'and', 'rat', 'looks', 'very', 'happy']\n"
     ]
    }
   ],
   "source": [
    "#Split sentence, generates List (collection of elements) \n",
    "words = sentence.split()  #without parameter splits using 'space' character\n",
    "print(\"Split : \",words)"
   ]
  },
  {
   "cell_type": "code",
   "execution_count": 25,
   "metadata": {},
   "outputs": [
    {
     "name": "stdout",
     "output_type": "stream",
     "text": [
      "Split again :  ['The cat sat ', ' the mat with the rat , cat and rat were playing ', ' the mat and both cat and rat looks very happy']\n"
     ]
    }
   ],
   "source": [
    "words = sentence.split('on')\n",
    "print(\"Split again : \",words)"
   ]
  },
  {
   "cell_type": "code",
   "execution_count": 26,
   "metadata": {},
   "outputs": [
    {
     "name": "stdout",
     "output_type": "stream",
     "text": [
      "Type of Words :  <class 'list'>\n"
     ]
    }
   ],
   "source": [
    "print(\"Type of Words : \",type(words))"
   ]
  },
  {
   "cell_type": "code",
   "execution_count": 27,
   "metadata": {},
   "outputs": [
    {
     "name": "stdout",
     "output_type": "stream",
     "text": [
      "Words :  ['The', 'cat', 'sat', 'on', 'the', 'mat', 'with', 'the', 'rat', ',', 'cat', 'and', 'rat', 'were', 'playing', 'on', 'the', 'mat', 'and', 'both', 'cat', 'and', 'rat', 'looks', 'very', 'happy']\n",
      "\n",
      "No of Elements in Words :  26\n"
     ]
    }
   ],
   "source": [
    "words = sentence.split()\n",
    "print(\"Words : \",words)\n",
    "print(\"\")\n",
    "print(\"No of Elements in Words : \",len(words))"
   ]
  },
  {
   "cell_type": "code",
   "execution_count": 28,
   "metadata": {},
   "outputs": [],
   "source": [
    "#Count Number of Elements in Words\n",
    "bucket={} #declaring empty Dictionary to be used as {'cat':3,...}\n",
    "\n",
    "\"\"\"\n",
    "loop through each element (say:'word') in List 'words' and append value 1 as default count,\n",
    "if 'word' is found again and is already inside Bucket, update the count value of that element by 1\n",
    "\"\"\"\n",
    "for word in words:\n",
    "    if word in bucket:\n",
    "        bucket[word] += 1\n",
    "    else:\n",
    "        bucket[word] = 1"
   ]
  },
  {
   "cell_type": "code",
   "execution_count": 29,
   "metadata": {},
   "outputs": [
    {
     "name": "stdout",
     "output_type": "stream",
     "text": [
      "Dictionary :  {'The': 1, 'cat': 3, 'sat': 1, 'on': 2, 'the': 3, 'mat': 2, 'with': 1, 'rat': 3, ',': 1, 'and': 3, 'were': 1, 'playing': 1, 'both': 1, 'looks': 1, 'very': 1, 'happy': 1}\n",
      "\n",
      "Type of Bucket :  <class 'dict'>\n"
     ]
    }
   ],
   "source": [
    "print(\"Dictionary : \",bucket)\n",
    "print('')\n",
    "print(\"Type of Bucket : \", type(bucket))"
   ]
  },
  {
   "cell_type": "code",
   "execution_count": 30,
   "metadata": {},
   "outputs": [
    {
     "name": "stdout",
     "output_type": "stream",
     "text": [
      "Sentence :  The cat sat on the mat with the rat , cat and rat were playing on the mat and both cat and rat looks very happy\n"
     ]
    }
   ],
   "source": [
    "#Sentence\n",
    "print(\"Sentence : \",sentence)"
   ]
  },
  {
   "cell_type": "code",
   "execution_count": 31,
   "metadata": {},
   "outputs": [
    {
     "name": "stdout",
     "output_type": "stream",
     "text": [
      "Occurrences of 'cat':  3\n",
      "Occurrences of 'happy':  1\n",
      "Occurrences of 'rat':  3\n"
     ]
    }
   ],
   "source": [
    "print(\"Occurrences of 'cat': \",bucket['cat'])\n",
    "print(\"Occurrences of 'happy': \",bucket['happy'])\n",
    "print(\"Occurrences of 'rat': \",bucket['rat'])"
   ]
  },
  {
   "cell_type": "markdown",
   "metadata": {},
   "source": [
    "## count() using Python library"
   ]
  },
  {
   "cell_type": "code",
   "execution_count": 32,
   "metadata": {},
   "outputs": [],
   "source": [
    "from collections import Counter"
   ]
  },
  {
   "cell_type": "code",
   "execution_count": 33,
   "metadata": {},
   "outputs": [
    {
     "name": "stdout",
     "output_type": "stream",
     "text": [
      "Words :  ['The', 'cat', 'sat', 'on', 'the', 'mat', 'with', 'the', 'rat', ',', 'cat', 'and', 'rat', 'were', 'playing', 'on', 'the', 'mat', 'and', 'both', 'cat', 'and', 'rat', 'looks', 'very', 'happy']\n",
      "\n",
      "No of Elements in Words :  26\n"
     ]
    }
   ],
   "source": [
    "words = sentence.split()\n",
    "print(\"Words : \",words)\n",
    "print(\"\")\n",
    "print(\"No of Elements in Words : \",len(words))"
   ]
  },
  {
   "cell_type": "code",
   "execution_count": 34,
   "metadata": {},
   "outputs": [
    {
     "name": "stdout",
     "output_type": "stream",
     "text": [
      "Type counts:  <class 'collections.Counter'>\n",
      "\n",
      "Counter({'cat': 3, 'the': 3, 'rat': 3, 'and': 3, 'on': 2, 'mat': 2, 'The': 1, 'sat': 1, 'with': 1, ',': 1, 'were': 1, 'playing': 1, 'both': 1, 'looks': 1, 'very': 1, 'happy': 1})\n"
     ]
    }
   ],
   "source": [
    "#using Counter\n",
    "counts = Counter(words)\n",
    "print(\"Type counts: \",type(counts))\n",
    "print('')\n",
    "print(counts)"
   ]
  },
  {
   "cell_type": "code",
   "execution_count": 35,
   "metadata": {},
   "outputs": [
    {
     "name": "stdout",
     "output_type": "stream",
     "text": [
      "Occurrences of 'cat':  3\n",
      "Occurrences of 'happy':  1\n",
      "Occurrences of 'rat':  3\n"
     ]
    }
   ],
   "source": [
    "print(\"Occurrences of 'cat': \",counts['cat'])\n",
    "print(\"Occurrences of 'happy': \",counts['happy'])\n",
    "print(\"Occurrences of 'rat': \",counts['rat'])"
   ]
  },
  {
   "cell_type": "markdown",
   "metadata": {},
   "source": [
    "#### counter general Use (collections.Counter())"
   ]
  },
  {
   "cell_type": "code",
   "execution_count": 36,
   "metadata": {},
   "outputs": [
    {
     "name": "stdout",
     "output_type": "stream",
     "text": [
      "Using Counter: \n",
      "Counter({'a': 3, 2: 3, 'b': 3, 1: 2, 'c': 1, 'd': 1})\n"
     ]
    }
   ],
   "source": [
    "print(\"Using Counter: \")\n",
    "print(Counter(['a',2, 'b', 'c', 1,'a', 'b', 'd','b','a',1,2,2]))"
   ]
  },
  {
   "cell_type": "markdown",
   "metadata": {},
   "source": [
    "# Using Comprehension"
   ]
  },
  {
   "cell_type": "code",
   "execution_count": 37,
   "metadata": {},
   "outputs": [],
   "source": [
    "sentence = \"The cat sat on the mat with the rat , cat and rat were playing on the mat and both cat and rat looks very happy\""
   ]
  },
  {
   "cell_type": "code",
   "execution_count": 38,
   "metadata": {},
   "outputs": [
    {
     "name": "stdout",
     "output_type": "stream",
     "text": [
      "The cat sat on the mat with the rat , cat and rat were playing on the mat and both cat and rat looks very happy\n"
     ]
    }
   ],
   "source": [
    "print(sentence)"
   ]
  },
  {
   "cell_type": "code",
   "execution_count": 39,
   "metadata": {},
   "outputs": [],
   "source": [
    "countDict = {word:sentence.count(word) for word in sentence.split()}"
   ]
  },
  {
   "cell_type": "code",
   "execution_count": 40,
   "metadata": {},
   "outputs": [
    {
     "name": "stdout",
     "output_type": "stream",
     "text": [
      "{'The': 1, 'cat': 3, 'sat': 1, 'on': 2, 'the': 3, 'mat': 2, 'with': 1, 'rat': 3, ',': 1, 'and': 3, 'were': 1, 'playing': 1, 'both': 1, 'looks': 1, 'very': 1, 'happy': 1}\n"
     ]
    }
   ],
   "source": [
    "print(countDict)"
   ]
  },
  {
   "cell_type": "markdown",
   "metadata": {},
   "source": [
    "# Plotting using MatplotLib"
   ]
  },
  {
   "cell_type": "code",
   "execution_count": 41,
   "metadata": {},
   "outputs": [],
   "source": [
    "import matplotlib.pyplot as plt"
   ]
  },
  {
   "cell_type": "code",
   "execution_count": 42,
   "metadata": {},
   "outputs": [
    {
     "name": "stdout",
     "output_type": "stream",
     "text": [
      "dict_keys(['The', 'cat', 'sat', 'on', 'the', 'mat', 'with', 'rat', ',', 'and', 'were', 'playing', 'both', 'looks', 'very', 'happy'])\n",
      "dict_values([1, 3, 1, 2, 3, 2, 1, 3, 1, 3, 1, 1, 1, 1, 1, 1])\n"
     ]
    }
   ],
   "source": [
    "x=countDict.keys()\n",
    "y=countDict.values()\n",
    "print(x)\n",
    "print(y)"
   ]
  },
  {
   "cell_type": "code",
   "execution_count": 43,
   "metadata": {},
   "outputs": [
    {
     "data": {
      "text/plain": [
       "<BarContainer object of 16 artists>"
      ]
     },
     "execution_count": 43,
     "metadata": {},
     "output_type": "execute_result"
    },
    {
     "data": {
      "image/png": "[encoded data removed]",
      "text/plain": [
       "<Figure size 432x288 with 1 Axes>"
      ]
     },
     "metadata": {
      "needs_background": "light"
     },
     "output_type": "display_data"
    }
   ],
   "source": [
    "plt.bar(x,y)"
   ]
  },
  {
   "cell_type": "markdown",
   "metadata": {},
   "source": [
    "# Bar Chart with Label,title"
   ]
  },
  {
   "cell_type": "code",
   "execution_count": 44,
   "metadata": {},
   "outputs": [
    {
     "data": {
      "text/plain": [
       "<BarContainer object of 16 artists>"
      ]
     },
     "execution_count": 44,
     "metadata": {},
     "output_type": "execute_result"
    },
    {
     "data": {
      "image/png": "[encoded data removed]",
      "text/plain": [
       "<Figure size 432x288 with 1 Axes>"
      ]
     },
     "metadata": {
      "needs_background": "light"
     },
     "output_type": "display_data"
    }
   ],
   "source": [
    "plt.xlabel('words')\n",
    "plt.ylabel('count')\n",
    "plt.title('Word Counts')\n",
    "#colors?\n",
    "plt.bar(x,y)"
   ]
  },
  {
   "cell_type": "markdown",
   "metadata": {},
   "source": [
    "# Pie Chart"
   ]
  },
  {
   "cell_type": "code",
   "execution_count": 45,
   "metadata": {},
   "outputs": [
    {
     "data": {
      "text/plain": [
       "(-1.100000003253464,\n",
       " 1.1000000060825583,\n",
       " -1.1078003076198233,\n",
       " 1.1029175183322302)"
      ]
     },
     "execution_count": 45,
     "metadata": {},
     "output_type": "execute_result"
    },
    {
     "data": {
      "image/png": "[encoded data removed]",
      "text/plain": [
       "<Figure size 432x288 with 1 Axes>"
      ]
     },
     "metadata": {},
     "output_type": "display_data"
    }
   ],
   "source": [
    "plt.pie(y,labels=x)\n",
    "plt.axis(\"equal\")"
   ]
  },
  {
   "cell_type": "code",
   "execution_count": null,
   "metadata": {},
   "outputs": [],
   "source": [
    "#analysis? #sentiment analysis, NLP: corpus analysis!  ## nltk"
   ]
  },
  {
   "cell_type": "code",
   "execution_count": null,
   "metadata": {},
   "outputs": [],
   "source": [
    "#Interactive PIE: 3D, package?"
   ]
  }
 ],
 "metadata": {
  "kernelspec": {
   "display_name": "Python 3.7.0 32-bit",
   "language": "python",
   "name": "python37032bit5c9370e1c10f47d2a6b751db754ffb65"
  },
  "language_info": {
   "codemirror_mode": {
    "name": "ipython",
    "version": 3
   },
   "file_extension": ".py",
   "mimetype": "text/x-python",
   "name": "python",
   "nbconvert_exporter": "python",
   "pygments_lexer": "ipython3",
   "version": "3.7.6"
  }
 },
 "nbformat": 4,
 "nbformat_minor": 4
}
