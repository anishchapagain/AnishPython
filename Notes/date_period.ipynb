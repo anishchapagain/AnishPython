{
 "cells": [
  {
   "cell_type": "markdown",
   "metadata": {},
   "source": [
    "#### Date/Period Range  -> https://pandas.pydata.org/docs/user_guide/timeseries.html#timeseries-offset-aliases"
   ]
  },
  {
   "cell_type": "code",
   "execution_count": 1,
   "metadata": {},
   "outputs": [],
   "source": [
    "import pandas as pd"
   ]
  },
  {
   "cell_type": "code",
   "execution_count": 2,
   "metadata": {},
   "outputs": [
    {
     "data": {
      "text/plain": [
       "PeriodIndex(['1981-04', '1981-05', '1981-06', '1981-07', '1981-08', '1981-09',\n",
       "             '1981-10', '1981-11', '1981-12', '1982-01',\n",
       "             ...\n",
       "             '2013-10', '2013-11', '2013-12', '2014-01', '2014-02', '2014-03',\n",
       "             '2014-04', '2014-05', '2014-06', '2014-07'],\n",
       "            dtype='period[M]', length=400, freq='M')"
      ]
     },
     "execution_count": 2,
     "metadata": {},
     "output_type": "execute_result"
    }
   ],
   "source": [
    "mVal=pd.period_range('1981-04-26',periods=400, freq='M')\n",
    "mVal"
   ]
  },
  {
   "cell_type": "code",
   "execution_count": 3,
   "metadata": {},
   "outputs": [
    {
     "data": {
      "text/plain": [
       "PeriodIndex(['1981', '1982', '1983', '1984', '1985', '1986', '1987', '1988',\n",
       "             '1989', '1990', '1991', '1992', '1993', '1994', '1995', '1996',\n",
       "             '1997', '1998', '1999', '2000', '2001', '2002', '2003', '2004',\n",
       "             '2005', '2006', '2007', '2008', '2009', '2010', '2011', '2012',\n",
       "             '2013', '2014', '2015', '2016', '2017', '2018', '2019', '2020',\n",
       "             '2021'],\n",
       "            dtype='period[A-DEC]', freq='A-DEC')"
      ]
     },
     "execution_count": 3,
     "metadata": {},
     "output_type": "execute_result"
    }
   ],
   "source": [
    "yVal=pd.period_range('1981-04-26','2021-04-26', freq='Y')\n",
    "yVal"
   ]
  },
  {
   "cell_type": "code",
   "execution_count": 4,
   "metadata": {},
   "outputs": [
    {
     "data": {
      "text/plain": [
       "Int64Index([ 4,  6,  8, 10, 12,  2,  4,  6,  8, 10, 12,  2,  4,  6,  8, 10, 12,\n",
       "             2,  4,  6,  8, 10, 12,  2,  4,  6,  8, 10, 12,  2,  4,  6,  8, 10,\n",
       "            12,  2,  4,  6,  8, 10, 12,  2,  4,  6,  8, 10, 12,  2,  4,  6],\n",
       "           dtype='int64')"
      ]
     },
     "execution_count": 4,
     "metadata": {},
     "output_type": "execute_result"
    }
   ],
   "source": [
    "mVal[0:100:2].month"
   ]
  },
  {
   "cell_type": "code",
   "execution_count": 5,
   "metadata": {},
   "outputs": [
    {
     "data": {
      "text/plain": [
       "DatetimeIndex(['2021-01-01 00:00:00', '2021-01-01 00:01:00',\n",
       "               '2021-01-01 00:02:00', '2021-01-01 00:03:00',\n",
       "               '2021-01-01 00:04:00', '2021-01-01 00:05:00',\n",
       "               '2021-01-01 00:06:00', '2021-01-01 00:07:00',\n",
       "               '2021-01-01 00:08:00'],\n",
       "              dtype='datetime64[ns]', freq='T')"
      ]
     },
     "execution_count": 5,
     "metadata": {},
     "output_type": "execute_result"
    }
   ],
   "source": [
    "index = pd.date_range('2021-01-01', periods=9, freq='T')\n",
    "index"
   ]
  },
  {
   "cell_type": "code",
   "execution_count": 6,
   "metadata": {},
   "outputs": [
    {
     "data": {
      "text/plain": [
       "PeriodIndex(['2018', '2019', '2020', '2021', '2022'], dtype='period[A-DEC]', freq='A-DEC')"
      ]
     },
     "execution_count": 6,
     "metadata": {},
     "output_type": "execute_result"
    }
   ],
   "source": [
    "index=pd.period_range('2018-01-01',freq='A',periods=5)\n",
    "index"
   ]
  },
  {
   "cell_type": "code",
   "execution_count": 7,
   "metadata": {},
   "outputs": [
    {
     "data": {
      "text/plain": [
       "DatetimeIndex(['2021-01-01 00:00:00', '2021-01-01 02:15:59',\n",
       "               '2021-01-01 04:31:58', '2021-01-01 06:47:57',\n",
       "               '2021-01-01 09:03:56', '2021-01-01 11:19:55',\n",
       "               '2021-01-01 13:35:54', '2021-01-01 15:51:53',\n",
       "               '2021-01-01 18:07:52', '2021-01-01 20:23:51',\n",
       "               '2021-01-01 22:39:50'],\n",
       "              dtype='datetime64[ns]', freq='8159S')"
      ]
     },
     "execution_count": 7,
     "metadata": {},
     "output_type": "execute_result"
    }
   ],
   "source": [
    "rng = pd.date_range('2021-01-01','2021-01-02', freq='2H15T59S') #Hour,T/min,Second\n",
    "rng"
   ]
  },
  {
   "cell_type": "code",
   "execution_count": 10,
   "metadata": {},
   "outputs": [
    {
     "data": {
      "text/plain": [
       "DatetimeIndex(['2021-07-01', '2021-07-02', '2021-07-03', '2021-07-04',\n",
       "               '2021-07-05', '2021-07-06', '2021-07-07', '2021-07-08',\n",
       "               '2021-07-09', '2021-07-10', '2021-07-11', '2021-07-12',\n",
       "               '2021-07-13', '2021-07-14', '2021-07-15', '2021-07-16',\n",
       "               '2021-07-17', '2021-07-18', '2021-07-19', '2021-07-20',\n",
       "               '2021-07-21', '2021-07-22', '2021-07-23', '2021-07-24',\n",
       "               '2021-07-25', '2021-07-26', '2021-07-27', '2021-07-28',\n",
       "               '2021-07-29', '2021-07-30', '2021-07-31', '2021-08-01'],\n",
       "              dtype='datetime64[ns]', freq='D')"
      ]
     },
     "execution_count": 10,
     "metadata": {},
     "output_type": "execute_result"
    }
   ],
   "source": [
    "rngB = pd.date_range('2021-07-01','2021-08-01', freq='D')  #D calendar day (sat-sun), B: business day (mon-fri)\n",
    "rngB"
   ]
  },
  {
   "cell_type": "code",
   "execution_count": 11,
   "metadata": {},
   "outputs": [
    {
     "data": {
      "text/plain": [
       "DatetimeIndex(['2021-06-06', '2021-06-13', '2021-06-20', '2021-06-27',\n",
       "               '2021-07-04', '2021-07-11', '2021-07-18', '2021-07-25',\n",
       "               '2021-08-01'],\n",
       "              dtype='datetime64[ns]', freq='W-SUN')"
      ]
     },
     "execution_count": 11,
     "metadata": {},
     "output_type": "execute_result"
    }
   ],
   "source": [
    "rngW = pd.date_range('2021-06-01','2021-08-01', freq='W')\n",
    "rngW"
   ]
  },
  {
   "cell_type": "code",
   "execution_count": 14,
   "metadata": {},
   "outputs": [
    {
     "data": {
      "text/plain": [
       "DatetimeIndex(['2021-06-07', '2021-06-14', '2021-06-21', '2021-06-28',\n",
       "               '2021-07-05', '2021-07-12', '2021-07-19', '2021-07-26'],\n",
       "              dtype='datetime64[ns]', freq='W-MON')"
      ]
     },
     "execution_count": 14,
     "metadata": {},
     "output_type": "execute_result"
    }
   ],
   "source": [
    "rngWM = pd.date_range('2021-06-01','2021-08-01', freq='W-Mon')\n",
    "rngWM"
   ]
  },
  {
   "cell_type": "code",
   "execution_count": 15,
   "metadata": {},
   "outputs": [
    {
     "data": {
      "text/plain": [
       "DatetimeIndex(['2021-06-04', '2021-06-11', '2021-06-18', '2021-06-25',\n",
       "               '2021-07-02', '2021-07-09', '2021-07-16', '2021-07-23',\n",
       "               '2021-07-30'],\n",
       "              dtype='datetime64[ns]', freq='W-FRI')"
      ]
     },
     "execution_count": 15,
     "metadata": {},
     "output_type": "execute_result"
    }
   ],
   "source": [
    "rngWF = pd.date_range('2021-06-01','2021-08-01', freq='W-Fri')\n",
    "rngWF"
   ]
  },
  {
   "cell_type": "code",
   "execution_count": null,
   "metadata": {},
   "outputs": [],
   "source": []
  }
 ],
 "metadata": {
  "kernelspec": {
   "display_name": "Python 3.7.0 32-bit",
   "language": "python",
   "name": "python37032bit5c9370e1c10f47d2a6b751db754ffb65"
  },
  "language_info": {
   "codemirror_mode": {
    "name": "ipython",
    "version": 3
   },
   "file_extension": ".py",
   "mimetype": "text/x-python",
   "name": "python",
   "nbconvert_exporter": "python",
   "pygments_lexer": "ipython3",
   "version": "3.7.6"
  }
 },
 "nbformat": 4,
 "nbformat_minor": 4
}
