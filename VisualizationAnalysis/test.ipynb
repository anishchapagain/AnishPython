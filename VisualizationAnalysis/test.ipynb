{
 "cells": [
  {
   "cell_type": "code",
   "execution_count": 2,
   "metadata": {},
   "outputs": [],
   "source": [
    "import pandas as pd"
   ]
  },
  {
   "cell_type": "code",
   "execution_count": 6,
   "metadata": {},
   "outputs": [
    {
     "data": {
      "text/html": [
       "<div>\n",
       "<style scoped>\n",
       "    .dataframe tbody tr th:only-of-type {\n",
       "        vertical-align: middle;\n",
       "    }\n",
       "\n",
       "    .dataframe tbody tr th {\n",
       "        vertical-align: top;\n",
       "    }\n",
       "\n",
       "    .dataframe thead th {\n",
       "        text-align: right;\n",
       "    }\n",
       "</style>\n",
       "<table border=\"1\" class=\"dataframe\">\n",
       "  <thead>\n",
       "    <tr style=\"text-align: right;\">\n",
       "      <th></th>\n",
       "      <th>Sub-Indices</th>\n",
       "      <th>Current</th>\n",
       "      <th>Points Change</th>\n",
       "      <th>%Change</th>\n",
       "      <th>Unnamed: 4</th>\n",
       "    </tr>\n",
       "  </thead>\n",
       "  <tbody>\n",
       "    <tr>\n",
       "      <th>0</th>\n",
       "      <td>Banking</td>\n",
       "      <td>2,124.94</td>\n",
       "      <td>8.99</td>\n",
       "      <td>0.42</td>\n",
       "      <td>NaN</td>\n",
       "    </tr>\n",
       "    <tr>\n",
       "      <th>1</th>\n",
       "      <td>Trading</td>\n",
       "      <td>3,861.97</td>\n",
       "      <td>59.17</td>\n",
       "      <td>1.51</td>\n",
       "      <td>NaN</td>\n",
       "    </tr>\n",
       "    <tr>\n",
       "      <th>2</th>\n",
       "      <td>Hotels And Tourism</td>\n",
       "      <td>3,763.83</td>\n",
       "      <td>37.84</td>\n",
       "      <td>1.00</td>\n",
       "      <td>NaN</td>\n",
       "    </tr>\n",
       "    <tr>\n",
       "      <th>3</th>\n",
       "      <td>Development Bank</td>\n",
       "      <td>5,749.25</td>\n",
       "      <td>344.41</td>\n",
       "      <td>6.37</td>\n",
       "      <td>NaN</td>\n",
       "    </tr>\n",
       "    <tr>\n",
       "      <th>4</th>\n",
       "      <td>HydroPower</td>\n",
       "      <td>3,813.06</td>\n",
       "      <td>24.08</td>\n",
       "      <td>0.63</td>\n",
       "      <td>NaN</td>\n",
       "    </tr>\n",
       "    <tr>\n",
       "      <th>5</th>\n",
       "      <td>Finance</td>\n",
       "      <td>3,012.96</td>\n",
       "      <td>31.77</td>\n",
       "      <td>1.07</td>\n",
       "      <td>NaN</td>\n",
       "    </tr>\n",
       "    <tr>\n",
       "      <th>6</th>\n",
       "      <td>Non Life Insurance</td>\n",
       "      <td>14,662.46</td>\n",
       "      <td>12.23</td>\n",
       "      <td>0.08</td>\n",
       "      <td>NaN</td>\n",
       "    </tr>\n",
       "    <tr>\n",
       "      <th>7</th>\n",
       "      <td>Manu.&amp; Pro.</td>\n",
       "      <td>6,822.36</td>\n",
       "      <td>99.25</td>\n",
       "      <td>1.48</td>\n",
       "      <td>NaN</td>\n",
       "    </tr>\n",
       "    <tr>\n",
       "      <th>8</th>\n",
       "      <td>Others</td>\n",
       "      <td>2,117.58</td>\n",
       "      <td>9.10</td>\n",
       "      <td>0.43</td>\n",
       "      <td>NaN</td>\n",
       "    </tr>\n",
       "    <tr>\n",
       "      <th>9</th>\n",
       "      <td>Microfinance</td>\n",
       "      <td>5,761.34</td>\n",
       "      <td>5.65</td>\n",
       "      <td>0.10</td>\n",
       "      <td>NaN</td>\n",
       "    </tr>\n",
       "    <tr>\n",
       "      <th>10</th>\n",
       "      <td>Life Insurance</td>\n",
       "      <td>18,213.37</td>\n",
       "      <td>31.05</td>\n",
       "      <td>0.17</td>\n",
       "      <td>NaN</td>\n",
       "    </tr>\n",
       "    <tr>\n",
       "      <th>11</th>\n",
       "      <td>Mutual Fund</td>\n",
       "      <td>17.45</td>\n",
       "      <td>0.08</td>\n",
       "      <td>0.45</td>\n",
       "      <td>NaN</td>\n",
       "    </tr>\n",
       "    <tr>\n",
       "      <th>12</th>\n",
       "      <td>Investment</td>\n",
       "      <td>118.05</td>\n",
       "      <td>1.71</td>\n",
       "      <td>1.47</td>\n",
       "      <td>NaN</td>\n",
       "    </tr>\n",
       "  </tbody>\n",
       "</table>\n",
       "</div>"
      ],
      "text/plain": [
       "           Sub-Indices    Current  Points Change  %Change  Unnamed: 4\n",
       "0              Banking   2,124.94           8.99     0.42         NaN\n",
       "1              Trading   3,861.97          59.17     1.51         NaN\n",
       "2   Hotels And Tourism   3,763.83          37.84     1.00         NaN\n",
       "3     Development Bank   5,749.25         344.41     6.37         NaN\n",
       "4           HydroPower   3,813.06          24.08     0.63         NaN\n",
       "5              Finance   3,012.96          31.77     1.07         NaN\n",
       "6   Non Life Insurance  14,662.46          12.23     0.08         NaN\n",
       "7          Manu.& Pro.   6,822.36          99.25     1.48         NaN\n",
       "8               Others   2,117.58           9.10     0.43         NaN\n",
       "9         Microfinance   5,761.34           5.65     0.10         NaN\n",
       "10      Life Insurance  18,213.37          31.05     0.17         NaN\n",
       "11         Mutual Fund      17.45           0.08     0.45         NaN\n",
       "12          Investment     118.05           1.71     1.47         NaN"
      ]
     },
     "execution_count": 6,
     "metadata": {},
     "output_type": "execute_result"
    }
   ],
   "source": [
    "aug10=pd.read_clipboard() #read from memory!\n",
    "aug10"
   ]
  },
  {
   "cell_type": "code",
   "execution_count": 27,
   "metadata": {},
   "outputs": [
    {
     "data": {
      "text/html": [
       "<div>\n",
       "<style scoped>\n",
       "    .dataframe tbody tr th:only-of-type {\n",
       "        vertical-align: middle;\n",
       "    }\n",
       "\n",
       "    .dataframe tbody tr th {\n",
       "        vertical-align: top;\n",
       "    }\n",
       "\n",
       "    .dataframe thead th {\n",
       "        text-align: right;\n",
       "    }\n",
       "</style>\n",
       "<table border=\"1\" class=\"dataframe\">\n",
       "  <thead>\n",
       "    <tr style=\"text-align: right;\">\n",
       "      <th></th>\n",
       "      <th>Sub-Indices</th>\n",
       "      <th>Current</th>\n",
       "      <th>Points Change</th>\n",
       "      <th>%Change</th>\n",
       "      <th>Unnamed: 4</th>\n",
       "    </tr>\n",
       "  </thead>\n",
       "  <tbody>\n",
       "    <tr>\n",
       "      <th>0</th>\n",
       "      <td>Banking</td>\n",
       "      <td>2,124.94</td>\n",
       "      <td>8.99</td>\n",
       "      <td>0.42</td>\n",
       "      <td>NaN</td>\n",
       "    </tr>\n",
       "    <tr>\n",
       "      <th>1</th>\n",
       "      <td>Trading</td>\n",
       "      <td>3,861.97</td>\n",
       "      <td>59.17</td>\n",
       "      <td>1.51</td>\n",
       "      <td>NaN</td>\n",
       "    </tr>\n",
       "    <tr>\n",
       "      <th>2</th>\n",
       "      <td>Hotels And Tourism</td>\n",
       "      <td>3,763.83</td>\n",
       "      <td>37.84</td>\n",
       "      <td>1.00</td>\n",
       "      <td>NaN</td>\n",
       "    </tr>\n",
       "    <tr>\n",
       "      <th>3</th>\n",
       "      <td>Development Bank</td>\n",
       "      <td>5,749.25</td>\n",
       "      <td>344.41</td>\n",
       "      <td>6.37</td>\n",
       "      <td>NaN</td>\n",
       "    </tr>\n",
       "    <tr>\n",
       "      <th>4</th>\n",
       "      <td>HydroPower</td>\n",
       "      <td>3,813.06</td>\n",
       "      <td>24.08</td>\n",
       "      <td>0.63</td>\n",
       "      <td>NaN</td>\n",
       "    </tr>\n",
       "  </tbody>\n",
       "</table>\n",
       "</div>"
      ],
      "text/plain": [
       "          Sub-Indices   Current  Points Change  %Change  Unnamed: 4\n",
       "0             Banking  2,124.94           8.99     0.42         NaN\n",
       "1             Trading  3,861.97          59.17     1.51         NaN\n",
       "2  Hotels And Tourism  3,763.83          37.84     1.00         NaN\n",
       "3    Development Bank  5,749.25         344.41     6.37         NaN\n",
       "4          HydroPower  3,813.06          24.08     0.63         NaN"
      ]
     },
     "execution_count": 27,
     "metadata": {},
     "output_type": "execute_result"
    }
   ],
   "source": [
    "aug10.head()"
   ]
  },
  {
   "cell_type": "code",
   "execution_count": 19,
   "metadata": {},
   "outputs": [
    {
     "data": {
      "text/plain": [
       "0.09999999999999998"
      ]
     },
     "execution_count": 19,
     "metadata": {},
     "output_type": "execute_result"
    }
   ],
   "source": [
    "aug10.loc[aug10[\"Sub-Indices\"]==\"Finance\",:].shape[0]-.9"
   ]
  },
  {
   "cell_type": "code",
   "execution_count": 24,
   "metadata": {},
   "outputs": [
    {
     "data": {
      "text/plain": [
       "(1, 5)"
      ]
     },
     "execution_count": 24,
     "metadata": {},
     "output_type": "execute_result"
    }
   ],
   "source": [
    "aug10.loc[aug10[\"Sub-Indices\"]==\"Finance\",:].shape"
   ]
  },
  {
   "cell_type": "code",
   "execution_count": 25,
   "metadata": {},
   "outputs": [
    {
     "data": {
      "text/plain": [
       "1"
      ]
     },
     "execution_count": 25,
     "metadata": {},
     "output_type": "execute_result"
    }
   ],
   "source": [
    "aug10.loc[aug10[\"Sub-Indices\"]==\"Finance\",:].shape[0]"
   ]
  },
  {
   "cell_type": "code",
   "execution_count": 26,
   "metadata": {},
   "outputs": [
    {
     "data": {
      "text/html": [
       "<div>\n",
       "<style scoped>\n",
       "    .dataframe tbody tr th:only-of-type {\n",
       "        vertical-align: middle;\n",
       "    }\n",
       "\n",
       "    .dataframe tbody tr th {\n",
       "        vertical-align: top;\n",
       "    }\n",
       "\n",
       "    .dataframe thead th {\n",
       "        text-align: right;\n",
       "    }\n",
       "</style>\n",
       "<table border=\"1\" class=\"dataframe\">\n",
       "  <thead>\n",
       "    <tr style=\"text-align: right;\">\n",
       "      <th></th>\n",
       "      <th>Sub-Indices</th>\n",
       "      <th>Current</th>\n",
       "      <th>Points Change</th>\n",
       "      <th>%Change</th>\n",
       "      <th>Unnamed: 4</th>\n",
       "    </tr>\n",
       "  </thead>\n",
       "  <tbody>\n",
       "    <tr>\n",
       "      <th>5</th>\n",
       "      <td>Finance</td>\n",
       "      <td>3,012.96</td>\n",
       "      <td>31.77</td>\n",
       "      <td>1.07</td>\n",
       "      <td>NaN</td>\n",
       "    </tr>\n",
       "  </tbody>\n",
       "</table>\n",
       "</div>"
      ],
      "text/plain": [
       "  Sub-Indices   Current  Points Change  %Change  Unnamed: 4\n",
       "5     Finance  3,012.96          31.77     1.07         NaN"
      ]
     },
     "execution_count": 26,
     "metadata": {},
     "output_type": "execute_result"
    }
   ],
   "source": [
    "aug10.loc[aug10[\"Sub-Indices\"]==\"Finance\",:]"
   ]
  },
  {
   "cell_type": "code",
   "execution_count": 23,
   "metadata": {},
   "outputs": [
    {
     "data": {
      "text/plain": [
       "array(['3,012.96'], dtype=object)"
      ]
     },
     "execution_count": 23,
     "metadata": {},
     "output_type": "execute_result"
    }
   ],
   "source": [
    "#aug10[\"Sub-Indices\"]==\"Finance\" for position\n",
    "#\"current\" as column name\n",
    "\n",
    "aug10.loc[aug10[\"Sub-Indices\"]==\"Finance\",\"Current\"]"
   ]
  },
  {
   "cell_type": "code",
   "execution_count": 28,
   "metadata": {},
   "outputs": [
    {
     "data": {
      "text/plain": [
       "5    3,012.96\n",
       "Name: Current, dtype: object"
      ]
     },
     "execution_count": 28,
     "metadata": {},
     "output_type": "execute_result"
    }
   ],
   "source": [
    "aug10.loc[aug10[\"Sub-Indices\"]==\"Finance\",\"Current\"][-1:] #all value from last"
   ]
  },
  {
   "cell_type": "code",
   "execution_count": 29,
   "metadata": {},
   "outputs": [
    {
     "data": {
      "text/plain": [
       "array(['3,012.96'], dtype=object)"
      ]
     },
     "execution_count": 29,
     "metadata": {},
     "output_type": "execute_result"
    }
   ],
   "source": [
    "aug10.loc[aug10[\"Sub-Indices\"]==\"Finance\",\"Current\"][-1:].values"
   ]
  },
  {
   "cell_type": "code",
   "execution_count": 30,
   "metadata": {},
   "outputs": [
    {
     "data": {
      "text/plain": [
       "'3,012.96'"
      ]
     },
     "execution_count": 30,
     "metadata": {},
     "output_type": "execute_result"
    }
   ],
   "source": [
    "aug10.loc[aug10[\"Sub-Indices\"]==\"Finance\",\"Current\"][-1:].values[0]"
   ]
  },
  {
   "cell_type": "code",
   "execution_count": null,
   "metadata": {},
   "outputs": [],
   "source": [
    "# Prep Colors\n",
    "#np.random.seed(100)\n",
    "#mycolors = np.random.choice(list(mpl.colors.XKCD_COLORS.keys()), len(years),replace=False)\n",
    "          \n",
    "# Draw Plot\n",
    "#plt.figure(figsize=(16,12), dpi= 80)\n",
    "          \n",
    "for i, y in enumerate(years):  \n",
    "if i > 0:\n",
    "    plt.plot(\"month\", \"value\", data=X.loc[X.year==y, :], color=mycolors[i],label=y)\n",
    "    plt.text(X.loc[X.year==y, :].shape[0]-.9, X.loc[X.year==y, \"value\"][-1:].values[0], y, fontsize=12, color=mycolors[i])"
   ]
  },
  {
   "cell_type": "code",
   "execution_count": 7,
   "metadata": {},
   "outputs": [
    {
     "data": {
      "text/plain": [
       "Sub-Indices       object\n",
       "Current           object\n",
       "Points Change    float64\n",
       "%Change          float64\n",
       "Unnamed: 4       float64\n",
       "dtype: object"
      ]
     },
     "execution_count": 7,
     "metadata": {},
     "output_type": "execute_result"
    }
   ],
   "source": [
    "aug10.dtypes"
   ]
  },
  {
   "cell_type": "code",
   "execution_count": 8,
   "metadata": {},
   "outputs": [
    {
     "data": {
      "text/html": [
       "<div>\n",
       "<style scoped>\n",
       "    .dataframe tbody tr th:only-of-type {\n",
       "        vertical-align: middle;\n",
       "    }\n",
       "\n",
       "    .dataframe tbody tr th {\n",
       "        vertical-align: top;\n",
       "    }\n",
       "\n",
       "    .dataframe thead th {\n",
       "        text-align: right;\n",
       "    }\n",
       "</style>\n",
       "<table border=\"1\" class=\"dataframe\">\n",
       "  <thead>\n",
       "    <tr style=\"text-align: right;\">\n",
       "      <th></th>\n",
       "      <th>Points Change</th>\n",
       "      <th>%Change</th>\n",
       "      <th>Unnamed: 4</th>\n",
       "    </tr>\n",
       "  </thead>\n",
       "  <tbody>\n",
       "    <tr>\n",
       "      <th>count</th>\n",
       "      <td>13.000000</td>\n",
       "      <td>13.000000</td>\n",
       "      <td>0.0</td>\n",
       "    </tr>\n",
       "    <tr>\n",
       "      <th>mean</th>\n",
       "      <td>51.179231</td>\n",
       "      <td>1.167692</td>\n",
       "      <td>NaN</td>\n",
       "    </tr>\n",
       "    <tr>\n",
       "      <th>std</th>\n",
       "      <td>92.309274</td>\n",
       "      <td>1.649081</td>\n",
       "      <td>NaN</td>\n",
       "    </tr>\n",
       "    <tr>\n",
       "      <th>min</th>\n",
       "      <td>0.080000</td>\n",
       "      <td>0.080000</td>\n",
       "      <td>NaN</td>\n",
       "    </tr>\n",
       "    <tr>\n",
       "      <th>25%</th>\n",
       "      <td>8.990000</td>\n",
       "      <td>0.420000</td>\n",
       "      <td>NaN</td>\n",
       "    </tr>\n",
       "    <tr>\n",
       "      <th>50%</th>\n",
       "      <td>24.080000</td>\n",
       "      <td>0.630000</td>\n",
       "      <td>NaN</td>\n",
       "    </tr>\n",
       "    <tr>\n",
       "      <th>75%</th>\n",
       "      <td>37.840000</td>\n",
       "      <td>1.470000</td>\n",
       "      <td>NaN</td>\n",
       "    </tr>\n",
       "    <tr>\n",
       "      <th>max</th>\n",
       "      <td>344.410000</td>\n",
       "      <td>6.370000</td>\n",
       "      <td>NaN</td>\n",
       "    </tr>\n",
       "  </tbody>\n",
       "</table>\n",
       "</div>"
      ],
      "text/plain": [
       "       Points Change    %Change  Unnamed: 4\n",
       "count      13.000000  13.000000         0.0\n",
       "mean       51.179231   1.167692         NaN\n",
       "std        92.309274   1.649081         NaN\n",
       "min         0.080000   0.080000         NaN\n",
       "25%         8.990000   0.420000         NaN\n",
       "50%        24.080000   0.630000         NaN\n",
       "75%        37.840000   1.470000         NaN\n",
       "max       344.410000   6.370000         NaN"
      ]
     },
     "execution_count": 8,
     "metadata": {},
     "output_type": "execute_result"
    }
   ],
   "source": [
    "aug10.describe()"
   ]
  },
  {
   "cell_type": "code",
   "execution_count": 8,
   "metadata": {},
   "outputs": [],
   "source": [
    "aug10.to_csv('aug10.csv')"
   ]
  },
  {
   "cell_type": "code",
   "execution_count": 2,
   "metadata": {},
   "outputs": [],
   "source": [
    "#pages = range(1,13)"
   ]
  },
  {
   "cell_type": "raw",
   "metadata": {},
   "source": [
    "import pyquery\n",
    "import bs4 \n",
    "import scrapy"
   ]
  },
  {
   "cell_type": "raw",
   "metadata": {},
   "source": [
    "#url='http://nepalstock.com/main/todays_price/index/'+page+'/'    #normal\n",
    "\n",
    "#url='http://nepalstock.com/main/todays_price/index/'+page+'/?startDate=&stock-symbol=&_limit=50'    #filter\n",
    "\n",
    "#http://nepalstock.com/main/todays_price/index/1/?startDate=&stock-symbol=&_limit=500\n",
    "\n",
    "#response = requests.post('http://httpbin.org/post',data=params,headers=headers).json()\n",
    "#response = requests.post(\n",
    "'https://newweb.nepalstock.com/api/nots/nepse-data/floorsheet?page=50&size=500&sort=contractId,desc',\n",
    "data='{\"id\":668}').json() or .text\n",
    "\n",
    "# https://newweb.nepalstock.com/api/nots/nepse-data/floorsheet?&sort=contractId,desc\n",
    "# https://newweb.nepalstock.com/api/nots/nepse-data/floorsheet?&size=500&sort=contractId,desc \n",
    "# https://newweb.nepalstock.com/api/nots/nepse-data/floorsheet?page=50&size=500&sort=contractId,desc\n",
    "    \n",
    "#l=[0,1,[2,3,[4,5,6,[7,8,9],10],11],100]  #traverse -> parsing\n",
    "l[0][2][3][1]"
   ]
  },
  {
   "cell_type": "raw",
   "metadata": {},
   "source": [
    "for page in pages:\n",
    "    url = 'http://nepalstock.com/main/todays_price/index/'+str(page)+'/'\n",
    "    \n",
    "    \n",
    "    #load(GET/POST) page # urllib, requests, lxml\n",
    "    #content read\n",
    "    #bs4, scrapy, pyquery, lxml,re - content -> Collect -> Traversing and Parsing\n",
    "    #collected process"
   ]
  },
  {
   "cell_type": "code",
   "execution_count": 5,
   "metadata": {},
   "outputs": [],
   "source": [
    "import requests\n",
    "from pyquery import PyQuery as pq"
   ]
  },
  {
   "cell_type": "code",
   "execution_count": 24,
   "metadata": {},
   "outputs": [],
   "source": [
    "url=\"http://nepalstock.com/floorsheet\""
   ]
  },
  {
   "cell_type": "code",
   "execution_count": 25,
   "metadata": {},
   "outputs": [],
   "source": [
    "source=requests.get(url)"
   ]
  },
  {
   "cell_type": "code",
   "execution_count": 26,
   "metadata": {},
   "outputs": [
    {
     "data": {
      "text/plain": [
       "<Response [200]>"
      ]
     },
     "execution_count": 26,
     "metadata": {},
     "output_type": "execute_result"
    }
   ],
   "source": [
    "source"
   ]
  },
  {
   "cell_type": "code",
   "execution_count": 27,
   "metadata": {},
   "outputs": [],
   "source": [
    "pagesource = source.content\n",
    "\n",
    "html = pq(pagesource) #important html source -> pyquery object\n",
    "#dir(html)"
   ]
  },
  {
   "cell_type": "code",
   "execution_count": 35,
   "metadata": {},
   "outputs": [
    {
     "data": {
      "text/plain": [
       "'Nepal Stock Exchange Ltd.'"
      ]
     },
     "execution_count": 35,
     "metadata": {},
     "output_type": "execute_result"
    }
   ],
   "source": [
    "html.find('title').text()"
   ]
  },
  {
   "cell_type": "code",
   "execution_count": 36,
   "metadata": {},
   "outputs": [
    {
     "data": {
      "text/plain": [
       "'S.N.\\nContract No\\nStock Symbol\\nBuyer Broker\\nSeller Broker\\nQuantity\\nRate\\nAmount'"
      ]
     },
     "execution_count": 36,
     "metadata": {},
     "output_type": "execute_result"
    }
   ],
   "source": [
    "dataset=list()\n",
    "html.find('table:first tr:eq(1)').text()"
   ]
  },
  {
   "cell_type": "code",
   "execution_count": 45,
   "metadata": {},
   "outputs": [],
   "source": [
    "rows = html.find('table:first tr')\n",
    "for row in rows.items():\n",
    "    row.html()    "
   ]
  },
  {
   "cell_type": "code",
   "execution_count": 18,
   "metadata": {},
   "outputs": [
    {
     "data": {
      "text/plain": [
       "'UPPER'"
      ]
     },
     "execution_count": 18,
     "metadata": {},
     "output_type": "execute_result"
    }
   ],
   "source": [
    "#html.find('b:eq(3)').text()  # :eq(0) , :eq(99) ,  :first , :last"
   ]
  },
  {
   "cell_type": "code",
   "execution_count": 19,
   "metadata": {},
   "outputs": [
    {
     "data": {
      "text/plain": [
       "'Market Close'"
      ]
     },
     "execution_count": 19,
     "metadata": {},
     "output_type": "execute_result"
    }
   ],
   "source": [
    "#title = html.find('b').text()\n",
    "#html.find('div#top-notice-bar b').text()\n",
    "#title"
   ]
  },
  {
   "cell_type": "code",
   "execution_count": 22,
   "metadata": {},
   "outputs": [
    {
     "data": {
      "text/plain": [
       "'Market Close'"
      ]
     },
     "execution_count": 22,
     "metadata": {},
     "output_type": "execute_result"
    }
   ],
   "source": [
    "#html.find('div.market-status:eq(0) b:eq(0)').text()"
   ]
  },
  {
   "cell_type": "code",
   "execution_count": 23,
   "metadata": {},
   "outputs": [
    {
     "data": {
      "text/plain": [
       "'NEPSE Official Website'"
      ]
     },
     "execution_count": 23,
     "metadata": {},
     "output_type": "execute_result"
    }
   ],
   "source": [
    "#html.find('meta:eq(2)').attr('content')"
   ]
  },
  {
   "cell_type": "code",
   "execution_count": 15,
   "metadata": {},
   "outputs": [
    {
     "data": {
      "text/plain": [
       "['__attrs__',\n",
       " '__bool__',\n",
       " '__class__',\n",
       " '__delattr__',\n",
       " '__dict__',\n",
       " '__dir__',\n",
       " '__doc__',\n",
       " '__enter__',\n",
       " '__eq__',\n",
       " '__exit__',\n",
       " '__format__',\n",
       " '__ge__',\n",
       " '__getattribute__',\n",
       " '__getstate__',\n",
       " '__gt__',\n",
       " '__hash__',\n",
       " '__init__',\n",
       " '__init_subclass__',\n",
       " '__iter__',\n",
       " '__le__',\n",
       " '__lt__',\n",
       " '__module__',\n",
       " '__ne__',\n",
       " '__new__',\n",
       " '__nonzero__',\n",
       " '__reduce__',\n",
       " '__reduce_ex__',\n",
       " '__repr__',\n",
       " '__setattr__',\n",
       " '__setstate__',\n",
       " '__sizeof__',\n",
       " '__str__',\n",
       " '__subclasshook__',\n",
       " '__weakref__',\n",
       " '_content',\n",
       " '_content_consumed',\n",
       " '_next',\n",
       " 'apparent_encoding',\n",
       " 'close',\n",
       " 'connection',\n",
       " 'content',\n",
       " 'cookies',\n",
       " 'elapsed',\n",
       " 'encoding',\n",
       " 'headers',\n",
       " 'history',\n",
       " 'is_permanent_redirect',\n",
       " 'is_redirect',\n",
       " 'iter_content',\n",
       " 'iter_lines',\n",
       " 'json',\n",
       " 'links',\n",
       " 'next',\n",
       " 'ok',\n",
       " 'raise_for_status',\n",
       " 'raw',\n",
       " 'reason',\n",
       " 'request',\n",
       " 'status_code',\n",
       " 'text',\n",
       " 'url']"
      ]
     },
     "execution_count": 15,
     "metadata": {},
     "output_type": "execute_result"
    }
   ],
   "source": [
    "#dir(source)"
   ]
  },
  {
   "cell_type": "code",
   "execution_count": null,
   "metadata": {},
   "outputs": [],
   "source": [
    " # Xpath, Css selectors"
   ]
  }
 ],
 "metadata": {
  "kernelspec": {
   "display_name": "Python 3.7.0 32-bit",
   "language": "python",
   "name": "python37032bit5c9370e1c10f47d2a6b751db754ffb65"
  },
  "language_info": {
   "codemirror_mode": {
    "name": "ipython",
    "version": 3
   },
   "file_extension": ".py",
   "mimetype": "text/x-python",
   "name": "python",
   "nbconvert_exporter": "python",
   "pygments_lexer": "ipython3",
   "version": "3.7.6"
  }
 },
 "nbformat": 4,
 "nbformat_minor": 4
}
