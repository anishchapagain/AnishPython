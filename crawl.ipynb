{
 "cells": [
  {
   "cell_type": "code",
   "execution_count": 1,
   "metadata": {},
   "outputs": [],
   "source": [
    "import requests\n",
    "from pyquery import PyQuery as pq\n",
    "import csv"
   ]
  },
  {
   "cell_type": "code",
   "execution_count": 2,
   "metadata": {},
   "outputs": [],
   "source": [
    "url=\"http://nepalstock.com/floorsheet\""
   ]
  },
  {
   "cell_type": "code",
   "execution_count": 3,
   "metadata": {},
   "outputs": [],
   "source": [
    "source=requests.get(url)"
   ]
  },
  {
   "cell_type": "code",
   "execution_count": 4,
   "metadata": {},
   "outputs": [
    {
     "data": {
      "text/plain": [
       "<Response [200]>"
      ]
     },
     "execution_count": 4,
     "metadata": {},
     "output_type": "execute_result"
    }
   ],
   "source": [
    "source"
   ]
  },
  {
   "cell_type": "code",
   "execution_count": 5,
   "metadata": {},
   "outputs": [],
   "source": [
    "pagesource = source.content\n",
    "\n",
    "html = pq(pagesource) #important html source -> pyquery object\n",
    "#dir(html)"
   ]
  },
  {
   "cell_type": "code",
   "execution_count": 6,
   "metadata": {},
   "outputs": [
    {
     "data": {
      "text/plain": [
       "'Nepal Stock Exchange Ltd.'"
      ]
     },
     "execution_count": 6,
     "metadata": {},
     "output_type": "execute_result"
    }
   ],
   "source": [
    "html.find('title').text()"
   ]
  },
  {
   "cell_type": "code",
   "execution_count": 7,
   "metadata": {},
   "outputs": [
    {
     "data": {
      "text/plain": [
       "'S.N.\\nContract No\\nStock Symbol\\nBuyer Broker\\nSeller Broker\\nQuantity\\nRate\\nAmount'"
      ]
     },
     "execution_count": 7,
     "metadata": {},
     "output_type": "execute_result"
    }
   ],
   "source": [
    "dataset=list()\n",
    "html.find('table:first tr:eq(1)').text()"
   ]
  },
  {
   "cell_type": "code",
   "execution_count": 8,
   "metadata": {},
   "outputs": [
    {
     "data": {
      "text/plain": [
       "24"
      ]
     },
     "execution_count": 8,
     "metadata": {},
     "output_type": "execute_result"
    }
   ],
   "source": [
    "rows = html.find('table tr:gt(0)').__len__()\n",
    "rows"
   ]
  },
  {
   "cell_type": "code",
   "execution_count": 26,
   "metadata": {},
   "outputs": [],
   "source": [
    "data=list()"
   ]
  },
  {
   "cell_type": "code",
   "execution_count": 28,
   "metadata": {},
   "outputs": [
    {
     "name": "stdout",
     "output_type": "stream",
     "text": [
      "Collecting Page  1\n",
      "Collecting Page  2\n",
      "Collecting Page  3\n",
      "Collecting Page  4\n",
      "Collecting Page  5\n",
      "Collecting Page  6\n",
      "Collecting Page  7\n",
      "Collecting Page  8\n",
      "Collecting Page  9\n",
      "Collecting Page  10\n",
      "Collecting Page  11\n",
      "Collecting Page  12\n",
      "Collecting Page  13\n",
      "Collecting Page  14\n",
      "Collecting Page  15\n",
      "Collecting Page  16\n",
      "Collecting Page  17\n",
      "Collecting Page  18\n",
      "Collecting Page  19\n",
      "Collecting Page  20\n",
      "Collecting Page  21\n",
      "Collecting Page  22\n",
      "Collecting Page  23\n",
      "Collecting Page  24\n",
      "Collecting Page  25\n",
      "Collecting Page  26\n",
      "Collecting Page  27\n",
      "Collecting Page  28\n",
      "Collecting Page  29\n",
      "Collecting Page  30\n",
      "Collecting Page  31\n",
      "Collecting Page  32\n",
      "Collecting Page  33\n",
      "Collecting Page  34\n",
      "Collecting Page  35\n",
      "Collecting Page  36\n",
      "Collecting Page  37\n",
      "Collecting Page  38\n",
      "Collecting Page  39\n",
      "Collecting Page  40\n",
      "Collecting Page  41\n",
      "Collecting Page  42\n",
      "Collecting Page  43\n",
      "Collecting Page  44\n",
      "Collecting Page  45\n",
      "Collecting Page  46\n",
      "Collecting Page  47\n",
      "Collecting Page  48\n",
      "Collecting Page  49\n",
      "Collecting Page  50\n",
      "Collecting Page  51\n",
      "Collecting Page  52\n",
      "Collecting Page  53\n",
      "Collecting Page  54\n",
      "Collecting Page  55\n",
      "Collecting Page  56\n",
      "Collecting Page  57\n",
      "Collecting Page  58\n",
      "Collecting Page  59\n",
      "Collecting Page  60\n",
      "Collecting Page  61\n",
      "Collecting Page  62\n",
      "Collecting Page  63\n",
      "Collecting Page  64\n",
      "Collecting Page  65\n",
      "Collecting Page  66\n",
      "Collecting Page  67\n",
      "Collecting Page  68\n",
      "Collecting Page  69\n",
      "Collecting Page  70\n",
      "Collecting Page  71\n",
      "Collecting Page  72\n",
      "Collecting Page  73\n",
      "Collecting Page  74\n",
      "Collecting Page  75\n",
      "Collecting Page  76\n",
      "Collecting Page  77\n",
      "Collecting Page  78\n",
      "Collecting Page  79\n",
      "Collecting Page  80\n",
      "Collecting Page  81\n",
      "Collecting Page  82\n",
      "Collecting Page  83\n",
      "Collecting Page  84\n",
      "Collecting Page  85\n",
      "Collecting Page  86\n",
      "Collecting Page  87\n",
      "Collecting Page  88\n",
      "Collecting Page  89\n",
      "Collecting Page  90\n",
      "Collecting Page  91\n",
      "Collecting Page  92\n",
      "Collecting Page  93\n",
      "Collecting Page  94\n",
      "Collecting Page  95\n",
      "Collecting Page  96\n",
      "Collecting Page  97\n",
      "Collecting Page  98\n",
      "Collecting Page  99\n",
      "Collecting Page  100\n",
      "Collecting Page  101\n",
      "Collecting Page  102\n",
      "Collecting Page  103\n",
      "Collecting Page  104\n",
      "Collecting Page  105\n",
      "Collecting Page  106\n",
      "Collecting Page  107\n",
      "Collecting Page  108\n",
      "Collecting Page  109\n",
      "Collecting Page  110\n",
      "Collecting Page  111\n",
      "Collecting Page  112\n",
      "Collecting Page  113\n",
      "Collecting Page  114\n",
      "Collecting Page  115\n",
      "Collecting Page  116\n",
      "Collecting Page  117\n",
      "Collecting Page  118\n",
      "Collecting Page  119\n",
      "Collecting Page  120\n",
      "Collecting Page  121\n",
      "Collecting Page  122\n",
      "Collecting Page  123\n",
      "Collecting Page  124\n",
      "Collecting Page  125\n",
      "Collecting Page  126\n",
      "Collecting Page  127\n",
      "Collecting Page  128\n",
      "Collecting Page  129\n",
      "Collecting Page  130\n",
      "Collecting Page  131\n",
      "Collecting Page  132\n",
      "Collecting Page  133\n",
      "Collecting Page  134\n",
      "Collecting Page  135\n",
      "Collecting Page  136\n",
      "Collecting Page  137\n",
      "Collecting Page  138\n",
      "Collecting Page  139\n",
      "Collecting Page  140\n",
      "Collecting Page  141\n",
      "Collecting Page  142\n",
      "Collecting Page  143\n",
      "Collecting Page  144\n",
      "Collecting Page  145\n",
      "Collecting Page  146\n",
      "Collecting Page  147\n",
      "Collecting Page  148\n",
      "Collecting Page  149\n",
      "Collecting Page  150\n",
      "Collecting Page  151\n",
      "Collecting Page  152\n",
      "Collecting Page  153\n",
      "Collecting Page  154\n",
      "Collecting Page  155\n",
      "Collecting Page  156\n",
      "Collecting Page  157\n",
      "Collecting Page  158\n",
      "Collecting Page  159\n",
      "Collecting Page  160\n",
      "Collecting Page  161\n",
      "Collecting Page  162\n",
      "Collecting Page  163\n",
      "Collecting Page  164\n",
      "Collecting Page  165\n",
      "Collecting Page  166\n",
      "Collecting Page  167\n",
      "Collecting Page  168\n",
      "Collecting Page  169\n",
      "Collecting Page  170\n",
      "Collecting Page  171\n",
      "Collecting Page  172\n",
      "Collecting Page  173\n",
      "Collecting Page  174\n",
      "Collecting Page  175\n",
      "Collecting Page  176\n",
      "Collecting Page  177\n",
      "Collecting Page  178\n",
      "Collecting Page  179\n",
      "Collecting Page  180\n",
      "Collecting Page  181\n",
      "Collecting Page  182\n",
      "Collecting Page  183\n",
      "Collecting Page  184\n",
      "Collecting Page  185\n",
      "Collecting Page  186\n",
      "Collecting Page  187\n",
      "Collecting Page  188\n",
      "Collecting Page  189\n",
      "Collecting Page  190\n",
      "Collecting Page  191\n",
      "Collecting Page  192\n",
      "Collecting Page  193\n",
      "Collecting Page  194\n",
      "Collecting Page  195\n",
      "Collecting Page  196\n",
      "Collecting Page  197\n",
      "Collecting Page  198\n",
      "Collecting Page  199\n",
      "Collecting Page  200\n",
      "Collecting Page  201\n",
      "Collecting Page  202\n",
      "Collecting Page  203\n",
      "Collecting Page  204\n",
      "Collecting Page  205\n",
      "Collecting Page  206\n",
      "Collecting Page  207\n",
      "Collecting Page  208\n",
      "Collecting Page  209\n",
      "Collecting Page  210\n",
      "Collecting Page  211\n",
      "Collecting Page  212\n",
      "Collecting Page  213\n",
      "Collecting Page  214\n",
      "Collecting Page  215\n",
      "Collecting Page  216\n",
      "Collecting Page  217\n",
      "Collecting Page  218\n",
      "Collecting Page  219\n",
      "Collecting Page  220\n",
      "Collecting Page  221\n",
      "Collecting Page  222\n",
      "Collecting Page  223\n",
      "Collecting Page  224\n",
      "Collecting Page  225\n",
      "Collecting Page  226\n",
      "Collecting Page  227\n",
      "Collecting Page  228\n",
      "Collecting Page  229\n",
      "Collecting Page  230\n",
      "Collecting Page  231\n",
      "Collecting Page  232\n",
      "Collecting Page  233\n",
      "Collecting Page  234\n",
      "Collecting Page  235\n",
      "Collecting Page  236\n",
      "Collecting Page  237\n",
      "Collecting Page  238\n",
      "Collecting Page  239\n",
      "Collecting Page  240\n",
      "Collecting Page  241\n",
      "Collecting Page  242\n",
      "Collecting Page  243\n",
      "Collecting Page  244\n",
      "Collecting Page  245\n",
      "Collecting Page  246\n",
      "Collecting Page  247\n",
      "Collecting Page  248\n",
      "Collecting Page  249\n",
      "Collecting Page  250\n",
      "Collecting Page  251\n",
      "Collecting Page  252\n",
      "Collecting Page  253\n",
      "Collecting Page  254\n",
      "Collecting Page  255\n",
      "Collecting Page  256\n",
      "Collecting Page  257\n",
      "Collecting Page  258\n",
      "Collecting Page  259\n",
      "Collecting Page  260\n",
      "Collecting Page  261\n",
      "Collecting Page  262\n",
      "Collecting Page  263\n",
      "Collecting Page  264\n",
      "Collecting Page  265\n",
      "Collecting Page  266\n",
      "Collecting Page  267\n",
      "Collecting Page  268\n",
      "Collecting Page  269\n",
      "Collecting Page  270\n",
      "Collecting Page  271\n",
      "Collecting Page  272\n",
      "Collecting Page  273\n",
      "Collecting Page  274\n",
      "Collecting Page  275\n",
      "Collecting Page  276\n",
      "Collecting Page  277\n",
      "Collecting Page  278\n",
      "Collecting Page  279\n",
      "Collecting Page  280\n",
      "Collecting Page  281\n",
      "Collecting Page  282\n",
      "Collecting Page  283\n",
      "Collecting Page  284\n",
      "Collecting Page  285\n",
      "Collecting Page  286\n",
      "Collecting Page  287\n",
      "Collecting Page  288\n",
      "Collecting Page  289\n",
      "Collecting Page  290\n",
      "Collecting Page  291\n",
      "Collecting Page  292\n",
      "Collecting Page  293\n",
      "Collecting Page  294\n",
      "Collecting Page  295\n",
      "Collecting Page  296\n",
      "Collecting Page  297\n",
      "Collecting Page  298\n",
      "Collecting Page  299\n",
      "Collecting Page  300\n",
      "Collecting Page  301\n",
      "Collecting Page  302\n",
      "Collecting Page  303\n",
      "Collecting Page  304\n",
      "Collecting Page  305\n",
      "Collecting Page  306\n",
      "Collecting Page  307\n",
      "Collecting Page  308\n",
      "Collecting Page  309\n",
      "Collecting Page  310\n"
     ]
    }
   ],
   "source": [
    "for pageNo in range(1,311): #try the logic here!\n",
    "    \n",
    "    source = requests.get('http://nepalstock.com/main/floorsheet/index/'+str(pageNo)+'/?_limit=500') #page number\n",
    "    page = pq(source.content)\n",
    "    \n",
    "    print(\"Collecting Page \",pageNo)\n",
    "    \n",
    "    for row in page.find('table.my-table tr:gt(1)').items():   #loop all <tr> after index 0\n",
    "        sn = row.find('td').eq(0).text().strip()     \n",
    "        contract = row.find('td').eq(1).text().strip()\n",
    "        stock = row.find('td').eq(2).text().strip()\n",
    "        buyer = row.find('td').eq(3).text().strip()\n",
    "        seller = row.find('td').eq(4).text().strip()\n",
    "        qty = row.find('td').eq(5).text().strip()\n",
    "        rate = row.find('td').eq(6).text().strip()\n",
    "        amt = row.find('td').eq(7).text().strip()               #collect <td> at position 8 (8-1=7) for given <tr> or 'row' in current case!\n",
    "        \n",
    "        if stock: #only append to list if there is stock or Stock-symbol!\n",
    "            \n",
    "            data.append([sn,contract,stock,buyer,seller,qty,rate,amt])"
   ]
  },
  {
   "cell_type": "code",
   "execution_count": 31,
   "metadata": {},
   "outputs": [
    {
     "data": {
      "text/plain": [
       "154655"
      ]
     },
     "execution_count": 31,
     "metadata": {},
     "output_type": "execute_result"
    }
   ],
   "source": [
    "len(data)"
   ]
  },
  {
   "cell_type": "code",
   "execution_count": 32,
   "metadata": {},
   "outputs": [],
   "source": [
    "#write collected data to CSV\n",
    "\n",
    "with open('floorSheet.csv', 'w+',newline='') as csv_file:\n",
    "    write = csv.writer(csv_file)\n",
    "    write.writerows(data)"
   ]
  },
  {
   "cell_type": "code",
   "execution_count": 33,
   "metadata": {},
   "outputs": [
    {
     "data": {
      "text/plain": [
       "154655"
      ]
     },
     "execution_count": 33,
     "metadata": {},
     "output_type": "execute_result"
    }
   ],
   "source": [
    "len(data)"
   ]
  },
  {
   "cell_type": "code",
   "execution_count": null,
   "metadata": {},
   "outputs": [],
   "source": []
  }
 ],
 "metadata": {
  "kernelspec": {
   "display_name": "Python 3.7.0 32-bit",
   "language": "python",
   "name": "python37032bit5c9370e1c10f47d2a6b751db754ffb65"
  },
  "language_info": {
   "codemirror_mode": {
    "name": "ipython",
    "version": 3
   },
   "file_extension": ".py",
   "mimetype": "text/x-python",
   "name": "python",
   "nbconvert_exporter": "python",
   "pygments_lexer": "ipython3",
   "version": "3.7.6"
  }
 },
 "nbformat": 4,
 "nbformat_minor": 4
}
