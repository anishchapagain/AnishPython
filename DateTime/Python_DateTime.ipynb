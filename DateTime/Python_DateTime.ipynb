{
 "cells": [
  {
   "cell_type": "markdown",
   "metadata": {},
   "source": [
    "## Python DateTime"
   ]
  },
  {
   "cell_type": "code",
   "execution_count": 85,
   "metadata": {
    "collapsed": false,
    "jupyter": {
     "outputs_hidden": false
    }
   },
   "outputs": [],
   "source": [
    "import datetime"
   ]
  },
  {
   "cell_type": "code",
   "execution_count": 88,
   "metadata": {
    "collapsed": false,
    "jupyter": {
     "outputs_hidden": false
    }
   },
   "outputs": [
    {
     "name": "stdout",
     "output_type": "stream",
     "text": [
      "2017-08-05 09:17:01.116000\n",
      "('Now :', '2017-08-05 09:17:01.116000')\n",
      "('ctime : ', 'Sat Aug  5 09:17:01 2017')\n",
      "('UTC NOW : ', datetime.datetime(2017, 8, 5, 3, 32, 1, 117000))\n",
      "('Time : ', datetime.time(9, 17, 1, 116000), ' >> ', '09:17:01.116000')\n"
     ]
    }
   ],
   "source": [
    "now = datetime.datetime.now()\n",
    "print(now)\n",
    "print(\"Now :\",str(now))\n",
    "print(\"ctime : \",str(now.ctime()))  #ctime with more detail info\n",
    "print(\"UTC NOW : \",datetime.datetime.utcnow())\n",
    "t = datetime.time(now.hour,now.minute,now.second,now.microsecond)\n",
    "print(\"Time : \",t , \" >> \",str(t))"
   ]
  },
  {
   "cell_type": "code",
   "execution_count": 42,
   "metadata": {
    "collapsed": false,
    "jupyter": {
     "outputs_hidden": false
    }
   },
   "outputs": [
    {
     "name": "stdout",
     "output_type": "stream",
     "text": [
      "('Today : ', datetime.datetime(2017, 8, 5, 8, 36, 38, 4000))\n",
      "('Today Str: ', '2017-08-05 08:36:38.004000')\n",
      "('Today DateTime : ', datetime.date(2017, 8, 5))\n",
      "('Today DateTime Str : ', '2017-08-05')\n",
      "('Ordinal :', 736546)\n"
     ]
    }
   ],
   "source": [
    "today = datetime.datetime.today()\n",
    "print(\"Today : \",today)\n",
    "print(\"Today Str: \",str(today)) #str casting\n",
    "print(\"Today DateTime : \" ,datetime.date.today())\n",
    "print(\"Today DateTime Str : \" ,str(datetime.date.today()))\n",
    "print('Ordinal :', today.toordinal())"
   ]
  },
  {
   "cell_type": "code",
   "execution_count": 39,
   "metadata": {
    "collapsed": false,
    "jupyter": {
     "outputs_hidden": false
    }
   },
   "outputs": [
    {
     "name": "stdout",
     "output_type": "stream",
     "text": [
      "('Date :', '2017-08-05')\n",
      "('Time : ', '08:25:58.382000')\n"
     ]
    }
   ],
   "source": [
    "print(\"Date :\",str(today.date()))\n",
    "print(\"Time : \",str(today.time()))"
   ]
  },
  {
   "cell_type": "markdown",
   "metadata": {},
   "source": [
    "### Individual elements from DateTime"
   ]
  },
  {
   "cell_type": "code",
   "execution_count": 44,
   "metadata": {
    "collapsed": false,
    "jupyter": {
     "outputs_hidden": false
    }
   },
   "outputs": [
    {
     "name": "stdout",
     "output_type": "stream",
     "text": [
      "('Year : ', 2017)\n",
      "('Month : ', 8)\n",
      "('Day : ', 5)\n",
      "('Hour : ', 8)\n",
      "('Minute : ', 36)\n",
      "('Second : ', 38)\n",
      "('WeekDay :', 5)\n",
      "('Iso Calendar :', (2017, 31, 6))\n",
      "('Iso Format :', '2017-08-05T08:36:38.004000')\n"
     ]
    }
   ],
   "source": [
    "print(\"Year : \",today.year)\n",
    "print(\"Month : \",today.month)\n",
    "print(\"Day : \",today.day)\n",
    "print(\"Hour : \",today.hour)\n",
    "print(\"Minute : \",today.minute)\n",
    "print(\"Second : \",today.second)\n",
    "print(\"WeekDay :\" ,today.weekday())\n",
    "print(\"Iso Calendar :\",today.isocalendar())\n",
    "print(\"Iso Format :\",today.isoformat())"
   ]
  },
  {
   "cell_type": "markdown",
   "metadata": {},
   "source": [
    "### Time Tuple"
   ]
  },
  {
   "cell_type": "code",
   "execution_count": 40,
   "metadata": {
    "collapsed": false,
    "jupyter": {
     "outputs_hidden": false
    }
   },
   "outputs": [
    {
     "name": "stdout",
     "output_type": "stream",
     "text": [
      "time.struct_time(tm_year=2017, tm_mon=8, tm_mday=5, tm_hour=8, tm_min=25, tm_sec=58, tm_wday=5, tm_yday=217, tm_isdst=-1)\n"
     ]
    }
   ],
   "source": [
    "print(today.timetuple())"
   ]
  },
  {
   "cell_type": "code",
   "execution_count": 70,
   "metadata": {
    "collapsed": false,
    "jupyter": {
     "outputs_hidden": false
    }
   },
   "outputs": [
    {
     "name": "stdout",
     "output_type": "stream",
     "text": [
      "('tuple  : tm_year  =', 2017)\n",
      "('         tm_mon   =', 8)\n",
      "('         tm_mday  =', 5)\n",
      "('         tm_hour  =', 8)\n",
      "('         tm_min   =', 36)\n",
      "('         tm_sec   =', 38)\n",
      "('         tm_wday  =', 5)\n",
      "('         tm_yday  =', 217)\n",
      "('         tm_isdst =', -1)\n"
     ]
    }
   ],
   "source": [
    "tt = today.timetuple()\n",
    "print('tuple  : tm_year  =', tt.tm_year)\n",
    "print('         tm_mon   =', tt.tm_mon)\n",
    "print('         tm_mday  =', tt.tm_mday)\n",
    "print('         tm_hour  =', tt.tm_hour)\n",
    "print('         tm_min   =', tt.tm_min)\n",
    "print('         tm_sec   =', tt.tm_sec)\n",
    "print('         tm_wday  =', tt.tm_wday)\n",
    "print('         tm_yday  =', tt.tm_yday)\n",
    "print('         tm_isdst =', tt.tm_isdst)"
   ]
  },
  {
   "cell_type": "markdown",
   "metadata": {},
   "source": [
    "### Ordinal and Timestamp "
   ]
  },
  {
   "cell_type": "code",
   "execution_count": 53,
   "metadata": {
    "collapsed": false,
    "jupyter": {
     "outputs_hidden": false
    }
   },
   "outputs": [
    {
     "name": "stdout",
     "output_type": "stream",
     "text": [
      "('Ordinal : ', 736546)\n",
      "('From Ordinal : ', datetime.datetime(2017, 8, 5, 0, 0))\n",
      "('Time :', datetime.time(8, 36, 38, 4000))\n"
     ]
    },
    {
     "data": {
      "text/plain": [
       "(datetime.time(8, 36, 38, 4000), ' and ', None)"
      ]
     },
     "execution_count": 53,
     "metadata": {},
     "output_type": "execute_result"
    }
   ],
   "source": [
    "'''\n",
    "The method toordinal returns the proleptic Gregorian ordinal. \n",
    "The proleptic Gregorian calendar is produced by extending the Gregorian calendar backward\n",
    "to dates preceding its official introduction in 1582. January 1 of year 1 is day 1\n",
    "'''\n",
    "print(\"Ordinal : \",today.toordinal())\n",
    "print(\"From Ordinal : \",today.fromordinal(today.toordinal()))\n",
    "print(\"Time :\", today.time())\n",
    "today.timetz() ,\" and \", today.tzname()"
   ]
  },
  {
   "cell_type": "markdown",
   "metadata": {},
   "source": [
    "## DateTime Calculations"
   ]
  },
  {
   "cell_type": "code",
   "execution_count": 57,
   "metadata": {
    "collapsed": false,
    "jupyter": {
     "outputs_hidden": false
    }
   },
   "outputs": [
    {
     "name": "stdout",
     "output_type": "stream",
     "text": [
      "('Today    :', datetime.datetime(2017, 8, 5, 8, 36, 38, 4000))\n",
      "('Yesterday:', datetime.datetime(2017, 8, 4, 8, 36, 38, 4000))\n",
      "('Tomorrow :', datetime.datetime(2017, 8, 6, 8, 36, 38, 4000))\n",
      "('Tomorrow - Yesterday :', datetime.timedelta(2))\n",
      "('Yesterday - Tomorrow :', datetime.timedelta(-2))\n",
      "('Tomorrow > Yesterday :', True)\n",
      "('Yesterday > Tomorrow:', False)\n"
     ]
    }
   ],
   "source": [
    "print('Today    :', today)\n",
    "yesterday = today - datetime.timedelta(days=1)\n",
    "print('Yesterday:', yesterday)\n",
    "tomorrow = today + datetime.timedelta(days=1)\n",
    "print('Tomorrow :', tomorrow)\n",
    "\n",
    "print('Tomorrow - Yesterday :', tomorrow - yesterday)\n",
    "print('Yesterday - Tomorrow :', yesterday - tomorrow)\n",
    "print('Tomorrow > Yesterday :', tomorrow > yesterday)\n",
    "print('Yesterday > Tomorrow:', yesterday > tomorrow)"
   ]
  },
  {
   "cell_type": "code",
   "execution_count": 92,
   "metadata": {
    "collapsed": false,
    "jupyter": {
     "outputs_hidden": false
    },
    "scrolled": true
   },
   "outputs": [
    {
     "name": "stdout",
     "output_type": "stream",
     "text": [
      "('100 Days Ago : ', '2017-04-27 08:36:38.004000')\n",
      "('4 Days Ago : ', '2017-08-01 08:36:38.004000')\n",
      "('7 Days Ago : ', '2017-07-29 08:36:38.004000')\n",
      "('1 Week Ago : ', '2017-07-29 08:36:38.004000')\n",
      "('4 Hour Ago : ', '2017-08-05 04:36:38.004000')\n",
      "('30 Minutes Ago : ', '2017-08-05 08:06:38.004000')\n",
      "('45 Seconds Ago : ', '2017-08-05 08:35:53.004000')\n",
      "--------------------------------------------------\n",
      "('1 Week After : ', '2017-08-12 08:36:38.004000')\n",
      "('100 Days After : ', '2017-11-13 08:36:38.004000')\n",
      "('4 Hour After : ', '2017-08-05 12:36:38.004000')\n",
      "('30 Minutes After :', '2017-08-05 09:06:38.004000')\n",
      "('45 Seconds After :', '2017-08-05 08:37:23.004000')\n"
     ]
    }
   ],
   "source": [
    "print(\"100 Days Ago : \", str(today - datetime.timedelta(days=100)))\n",
    "print(\"4 Days Ago : \", str(today - datetime.timedelta(days=4)))\n",
    "print(\"7 Days Ago : \", str(today - datetime.timedelta(days=7)))\n",
    "print(\"1 Week Ago : \", str(today - datetime.timedelta(weeks=1)))\n",
    "print(\"4 Hour Ago : \", str(today - datetime.timedelta(hours=4)))\n",
    "print(\"30 Minutes Ago : \", str(today - datetime.timedelta(minutes=30)))\n",
    "print(\"45 Seconds Ago : \", str(today - datetime.timedelta(seconds=45)))\n",
    "print('-'*50)\n",
    "print(\"1 Week After : \", str(today + datetime.timedelta(weeks=1)))\n",
    "print(\"100 Days After : \", str(today + datetime.timedelta(days=100)))\n",
    "print(\"4 Hour After : \" ,str(today + datetime.timedelta(hours=4)))\n",
    "print(\"30 Minutes After :\" , str(today + datetime.timedelta(minutes=30)))\n",
    "print(\"45 Seconds After :\", str(today + datetime.timedelta(seconds=45)))"
   ]
  },
  {
   "cell_type": "markdown",
   "metadata": {},
   "source": [
    "#### Calculate Month Difference between two Dates?"
   ]
  },
  {
   "cell_type": "code",
   "execution_count": null,
   "metadata": {
    "collapsed": true,
    "jupyter": {
     "outputs_hidden": true
    }
   },
   "outputs": [],
   "source": [
    "#1970-"
   ]
  }
 ],
 "metadata": {
  "kernelspec": {
   "display_name": "Python 3.7.0 32-bit",
   "language": "python",
   "name": "python37032bit5c9370e1c10f47d2a6b751db754ffb65"
  },
  "language_info": {
   "codemirror_mode": {
    "name": "ipython",
    "version": 3
   },
   "file_extension": ".py",
   "mimetype": "text/x-python",
   "name": "python",
   "nbconvert_exporter": "python",
   "pygments_lexer": "ipython3",
   "version": "3.7.6"
  }
 },
 "nbformat": 4,
 "nbformat_minor": 4
}
