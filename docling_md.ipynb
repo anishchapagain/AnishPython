{
 "cells": [
  {
   "cell_type": "markdown",
   "id": "5849c6e9",
   "metadata": {},
   "source": [
    "## Docling ( PDF to MD )"
   ]
  },
  {
   "cell_type": "code",
   "execution_count": 46,
   "id": "37a62b4a",
   "metadata": {},
   "outputs": [],
   "source": [
    "import docling"
   ]
  },
  {
   "cell_type": "code",
   "execution_count": 47,
   "id": "9358fc47",
   "metadata": {},
   "outputs": [
    {
     "data": {
      "text/plain": [
       "['__builtins__',\n",
       " '__cached__',\n",
       " '__doc__',\n",
       " '__file__',\n",
       " '__loader__',\n",
       " '__name__',\n",
       " '__package__',\n",
       " '__path__',\n",
       " '__spec__',\n",
       " 'backend',\n",
       " 'datamodel',\n",
       " 'document_converter',\n",
       " 'exceptions',\n",
       " 'models',\n",
       " 'pipeline',\n",
       " 'utils']"
      ]
     },
     "execution_count": 47,
     "metadata": {},
     "output_type": "execute_result"
    }
   ],
   "source": [
    "dir(docling)"
   ]
  },
  {
   "cell_type": "code",
   "execution_count": 48,
   "id": "c54e92c2",
   "metadata": {},
   "outputs": [],
   "source": [
    "from docling.document_converter import DocumentConverter"
   ]
  },
  {
   "cell_type": "code",
   "execution_count": 49,
   "id": "8baf7fd1",
   "metadata": {},
   "outputs": [],
   "source": [
    "pdfs = [\"./Tech Innovators Corp sample FS.pdf\",\"./BIT301_Tutorial_1.pdf\", \"./agile-project-management-whats-the-story.pdf\"]"
   ]
  },
  {
   "cell_type": "code",
   "execution_count": 50,
   "id": "936dd1b5",
   "metadata": {},
   "outputs": [],
   "source": [
    "# Initialize the Docling object with the path to your document\n",
    "converter = DocumentConverter()"
   ]
  },
  {
   "cell_type": "code",
   "execution_count": 51,
   "id": "361af154",
   "metadata": {},
   "outputs": [],
   "source": [
    "# Convert the document to a structured format\n",
    "structured_data = converter.convert(pdfs[0])"
   ]
  },
  {
   "cell_type": "code",
   "execution_count": 52,
   "id": "9c739967",
   "metadata": {},
   "outputs": [],
   "source": [
    "output = structured_data.document.export_to_markdown()"
   ]
  },
  {
   "cell_type": "code",
   "execution_count": 53,
   "id": "f11f8148",
   "metadata": {},
   "outputs": [
    {
     "data": {
      "text/plain": [
       "str"
      ]
     },
     "execution_count": 53,
     "metadata": {},
     "output_type": "execute_result"
    }
   ],
   "source": [
    "type(output)"
   ]
  },
  {
   "cell_type": "code",
   "execution_count": 54,
   "id": "3ce31690",
   "metadata": {},
   "outputs": [
    {
     "data": {
      "text/plain": [
       "'## Tech Innovators Corp.\\n\\nFinancial Statements for the Years Ended December 31, 2022 and 2021 (All amounts in USD)\\n\\n## Balance Sheet\\n\\n| Assets                     | 2022        | 2021        |\\n|----------------------------|-------------|-------------|\\n| Current Assets             |             |             |\\n| Cash &Equivalents          | $15,000,000 | $12,000,000 |\\n| Accounts Receivable        | $10,000,000 | $8,500,000  |\\n| Inventory                  | $5,000,000  | $4,200,000  |\\n| Total Current Assets       | $30,000,000 | $24,700,000 |\\n| Non-Current Assets         |             |             |\\n| Property, Plant &Equipment | $25,000,000 | $22,000,000 |\\n| Long-term Investments      | $8,000,000  | $6,500,000  |\\n| Total Non-Current Assets   | $33,000,000 | $28,500,000 |\\n| Total Assets               | $63,000,000 | $53,200,000 |\\n| Liabilities &Equity        | 2022        | 2021        |\\n| Current Liabilities        |             |             |\\n| Accounts Payable           | $12,000,000 | $10,500,000 |\\n| Short-term Debt            | $5,000,000  | $4,000,000  |\\n| Total Current Liabilities  | $17,000,000 | $14,500,000 |\\n| Non-Current Liabilities    |             |             |\\n| Long-term Debt             | $20,000,000 | $18,000,000 |\\n| Total Liabilities          | $37,000,000 | $32,500,000 |\\n| Equity                     |             |             |\\n| Common Stock               | $20,000,000 | $18,000,000 |\\n| Retained Earnings          | $6,000,000  | $2,700,000  |\\n| Total Equity               | $26,000,000 | $20,700,000 |\\n| Total Liabilities &Equity  | $63,000,000 | $53,200,000 |\\n\\n## Income Statement\\n\\n| Particulars              | 2022          | 2021          |\\n|--------------------------|---------------|---------------|\\n| Sales Revenue            | $120,000,000  | $105,000,000  |\\n| Cost of Goods Sold       | ($70,000,000) | ($60,000,000) |\\n| Gross Profit             | $50,000,000   | $45,000,000   |\\n| Operating Expenses       |               |               |\\n| Research &Development    | ($10,000,000) | ($8,500,000)  |\\n| Marketing                | ($8,000,000)  | ($7,000,000)  |\\n| Administrative Costs     | ($5,000,000)  | ($4,500,000)  |\\n| Total Operating Expenses | ($23,000,000) | ($20,000,000) |\\n| Operating Income         | $27,000,000   | $25,000,000   |\\n| Interest Expense         | ($2,000,000)  | ($1,800,000)  |\\n| Income Before Tax        | $25,000,000   | $23,200,000   |\\n| Tax Expense (20%)        | ($5,000,000)  | ($4,640,000)  |\\n| Net Income               | $20,000,000   | $18,560,000   |\\n\\n## Cash Flow Statement\\n\\n| Particulars              | 2022          | 2021         |\\n|--------------------------|---------------|--------------|\\n| Net Cash from Operations | $28,000,000   | $24,500,000  |\\n| Net Cash from Investing  | ($10,000,000) | ($8,000,000) |\\n| Net Cash from Financing  | ($5,000,000)  | ($3,000,000) |\\n| Net Change in Cash       | $13,000,000   | $13,500,000  |'"
      ]
     },
     "execution_count": 54,
     "metadata": {},
     "output_type": "execute_result"
    }
   ],
   "source": [
    "output  # Display the first 1000 characters of the output"
   ]
  },
  {
   "cell_type": "code",
   "execution_count": 55,
   "id": "a7b9db81",
   "metadata": {},
   "outputs": [],
   "source": [
    "input_file = pdfs[0].lower()\n",
    "if input_file.startswith(\"./\"):\n",
    "    input_file = input_file[2:]\n",
    "input_file_name = input_file.split(\"/\")[-1].split(\".\")[0]\n",
    "if \" \" in input_file_name:\n",
    "    input_file_name = input_file_name.replace(\" \", \"_\")\n",
    "output_file = f\"{input_file_name}.md\"\n"
   ]
  },
  {
   "cell_type": "code",
   "execution_count": 56,
   "id": "b8de8b99",
   "metadata": {},
   "outputs": [
    {
     "data": {
      "text/plain": [
       "('tech innovators corp sample fs.pdf', 'tech_innovators_corp_sample_fs.md')"
      ]
     },
     "execution_count": 56,
     "metadata": {},
     "output_type": "execute_result"
    }
   ],
   "source": [
    "input_file, output_file"
   ]
  },
  {
   "cell_type": "code",
   "execution_count": 57,
   "id": "8e4b366b",
   "metadata": {},
   "outputs": [],
   "source": [
    "output_dir = \"./markdown_docs/\""
   ]
  },
  {
   "cell_type": "code",
   "execution_count": 58,
   "id": "ce63b9df",
   "metadata": {},
   "outputs": [],
   "source": [
    "output_path = f\"{output_dir}{output_file}\"\n",
    "# Save the Markdown text to a file\n",
    "with open(output_path, \"w\",encoding=\"utf-8\") as file:\n",
    "    file.write(output)"
   ]
  },
  {
   "cell_type": "markdown",
   "id": "765b9d82",
   "metadata": {},
   "source": [
    "## Using LLM"
   ]
  },
  {
   "cell_type": "code",
   "execution_count": 59,
   "id": "044050c7",
   "metadata": {},
   "outputs": [],
   "source": [
    "import ollama"
   ]
  },
  {
   "cell_type": "code",
   "execution_count": 68,
   "id": "612b900d",
   "metadata": {},
   "outputs": [],
   "source": [
    "models = {\n",
    "    \"llama\":[\"llama3.1:latest\"],\n",
    "    \"deepseek\":[\"deepseek-r1:8b\"],\n",
    "    \"gemma\":[\"gemma3:latest\"],\n",
    "    \"qwen\":[\"qwen3:latest\"],\n",
    "}"
   ]
  },
  {
   "cell_type": "code",
   "execution_count": 61,
   "id": "2c2e66e5",
   "metadata": {},
   "outputs": [],
   "source": [
    "from ollama import GenerateResponse"
   ]
  },
  {
   "cell_type": "code",
   "execution_count": null,
   "id": "e2f9a72a",
   "metadata": {},
   "outputs": [],
   "source": [
    "# prompt\n",
    "prompt = f\"\"\"\n",
    "You are an expert financial analyst.You're analyzing financial statement of an organization.\n",
    "\n",
    "Your goal is to extract key insights from the <document> content provided below.\n",
    "\n",
    "<instructions>\n",
    "1. Summarize the financial performance of the organization.\n",
    "2. Identify key financial metrics and ratios.\n",
    "3. Provide actual values used in calculations.\n",
    "4. Analyze the trends in revenue, expenses, and profit margins.\n",
    "5. Highlight any significant trends or anomalies in the financial data.\n",
    "6. Provide a brief overview of the organization's financial health.\n",
    "7. Ensure the analysis is concise and focused on the most critical aspects of the financial statement.\n",
    "</instructions>\n",
    "\n",
    "<document>\n",
    "{output} \n",
    "</document>\n",
    "\n",
    "Follow the instructions carefully and provide a comprehensive analysis based on the provided financial statement.\n",
    "Calculated metrics should be clearly stated, and do not include any speculative or unverified information. \n",
    "Focus on factual data and insights derived from the financial statement.\n",
    "Do not include any additional information or commentary outside of the analysis.\n",
    "\"\"\""
   ]
  },
  {
   "cell_type": "code",
   "execution_count": 63,
   "id": "6e750fca",
   "metadata": {},
   "outputs": [
    {
     "data": {
      "text/plain": [
       "\"\\nYou are an expert financial analyst.You're analyzing financial statement for a organization.\\n\\nYour goal is to extract key insights from the <document> content provided below.\\n\\n<instructions>\\n1. Summarize the financial performance of the organization.\\n2. Identify key financial metrics and ratios.\\n3. Highlight any significant trends or anomalies in the financial data.\\n4. Provide a brief overview of the organization's financial health.\\n5. Include any relevant comparisons to industry benchmarks or previous periods.\\n6. Ensure the analysis is concise and focused on the most critical aspects of the financial statement.\\n</instructions>\\n\\n<document>\\n## Tech Innovators Corp.\\n\\nFinancial Statements for the Years Ended December 31, 2022 and 2021 (All amounts in USD)\\n\\n## Balance Sheet\\n\\n| Assets                     | 2022        | 2021        |\\n|----------------------------|-------------|-------------|\\n| Current Assets             |             |             |\\n| Cash &Equivalents          | $15,000,000 | $12,000,000 |\\n| Accounts Receivable        | $10,000,000 | $8,500,000  |\\n| Inventory                  | $5,000,000  | $4,200,000  |\\n| Total Current Assets       | $30,000,000 | $24,700,000 |\\n| Non-Current Assets         |             |             |\\n| Property, Plant &Equipment | $25,000,000 | $22,000,000 |\\n| Long-term Investments      | $8,000,000  | $6,500,000  |\\n| Total Non-Current Assets   | $33,000,000 | $28,500,000 |\\n| Total Assets               | $63,000,000 | $53,200,000 |\\n| Liabilities &Equity        | 2022        | 2021        |\\n| Current Liabilities        |             |             |\\n| Accounts Payable           | $12,000,000 | $10,500,000 |\\n| Short-term Debt            | $5,000,000  | $4,000,000  |\\n| Total Current Liabilities  | $17,000,000 | $14,500,000 |\\n| Non-Current Liabilities    |             |             |\\n| Long-term Debt             | $20,000,000 | $18,000,000 |\\n| Total Liabilities          | $37,000,000 | $32,500,000 |\\n| Equity                     |             |             |\\n| Common Stock               | $20,000,000 | $18,000,000 |\\n| Retained Earnings          | $6,000,000  | $2,700,000  |\\n| Total Equity               | $26,000,000 | $20,700,000 |\\n| Total Liabilities &Equity  | $63,000,000 | $53,200,000 |\\n\\n## Income Statement\\n\\n| Particulars              | 2022          | 2021          |\\n|--------------------------|---------------|---------------|\\n| Sales Revenue            | $120,000,000  | $105,000,000  |\\n| Cost of Goods Sold       | ($70,000,000) | ($60,000,000) |\\n| Gross Profit             | $50,000,000   | $45,000,000   |\\n| Operating Expenses       |               |               |\\n| Research &Development    | ($10,000,000) | ($8,500,000)  |\\n| Marketing                | ($8,000,000)  | ($7,000,000)  |\\n| Administrative Costs     | ($5,000,000)  | ($4,500,000)  |\\n| Total Operating Expenses | ($23,000,000) | ($20,000,000) |\\n| Operating Income         | $27,000,000   | $25,000,000   |\\n| Interest Expense         | ($2,000,000)  | ($1,800,000)  |\\n| Income Before Tax        | $25,000,000   | $23,200,000   |\\n| Tax Expense (20%)        | ($5,000,000)  | ($4,640,000)  |\\n| Net Income               | $20,000,000   | $18,560,000   |\\n\\n## Cash Flow Statement\\n\\n| Particulars              | 2022          | 2021         |\\n|--------------------------|---------------|--------------|\\n| Net Cash from Operations | $28,000,000   | $24,500,000  |\\n| Net Cash from Investing  | ($10,000,000) | ($8,000,000) |\\n| Net Cash from Financing  | ($5,000,000)  | ($3,000,000) |\\n| Net Change in Cash       | $13,000,000   | $13,500,000  | \\n</document>\\n\\nFollow the instructions carefully and provide a comprehensive analysis based on the provided financial statement.\\nCalculated metrics should be clearly stated, and do not include any speculative or unverified information. \\nFocus on factual data and insights derived from the financial statement.\\nDo not include any additional information or commentary outside of the analysis.\\n\""
      ]
     },
     "execution_count": 63,
     "metadata": {},
     "output_type": "execute_result"
    }
   ],
   "source": [
    "prompt"
   ]
  },
  {
   "cell_type": "code",
   "execution_count": 64,
   "id": "47711ce0",
   "metadata": {},
   "outputs": [],
   "source": [
    "def call_llama(prompt, think=False, model=\"qwen3:latest\"): \n",
    "    # Use Ollama to process the prompt\n",
    "    response = ollama.generate(\n",
    "        model=model,  # Use any local model you installed\n",
    "        prompt=prompt,\n",
    "        options={\n",
    "            \"temperature\": 0.2,  # Adjust for creativity\n",
    "            \"top_p\": 0.8,  # Adjust for diversity\n",
    "            \"context_window\": 8192,  # Adjust for context length\n",
    "            \"think\": think  # Enable thinking mode for better reasoning\n",
    "        },\n",
    "        # format=GenerateResponse.JSON\n",
    "    )\n",
    "\n",
    "    # response = ollama.chat(\n",
    "    #     model=model,  # Use any local model you installed\n",
    "    #     messages=[\n",
    "    #         {\"role\": \"user\", \"content\": prompt}\n",
    "    #     ]\n",
    "    # )\n",
    "    # return response['message']['content']\n",
    "    return response"
   ]
  },
  {
   "cell_type": "code",
   "execution_count": 65,
   "id": "0212171c",
   "metadata": {},
   "outputs": [],
   "source": [
    "def write_response_to_file(response, output_file):\n",
    "    with open(f\"{output_dir}summary_{output_file}\", \"w\", encoding=\"utf-8\") as file:\n",
    "        file.write(response)"
   ]
  },
  {
   "cell_type": "code",
   "execution_count": 69,
   "id": "f2be1a07",
   "metadata": {},
   "outputs": [
    {
     "name": "stdout",
     "output_type": "stream",
     "text": [
      "Response completed successfully.\n"
     ]
    }
   ],
   "source": [
    "response = call_llama(prompt, think=True, model=models[\"qwen\"][0])\n",
    "if response.done:\n",
    "    write_response_to_file(response.response, output_file)\n",
    "    print(\"Response completed successfully.\")\n",
    "    # print(\"Response:\", response.response)\n",
    "else:\n",
    "    print(\"Response not completed yet. Status:\", response.done)"
   ]
  },
  {
   "cell_type": "code",
   "execution_count": 67,
   "id": "55574333",
   "metadata": {},
   "outputs": [],
   "source": [
    "# Define the prompt for NER\n",
    "prompt_ner = f\"\"\"\n",
    "You are a natural language assistant.\n",
    "Identify the entities like person name, organizations name, locations and dates from the provided Markdown content.\n",
    "\n",
    "Markdown content:\n",
    "---\n",
    "{output}\n",
    "---\n",
    "\n",
    "Return only the identified names, locations and dates.\n",
    "\"\"\""
   ]
  },
  {
   "cell_type": "code",
   "execution_count": null,
   "id": "573f8b76",
   "metadata": {},
   "outputs": [
    {
     "name": "stdout",
     "output_type": "stream",
     "text": [
      "<think>\n",
      "Okay, let's see. The user wants me to return only the identified names, locations, and dates from the provided text. First, I need to go through the text carefully.\n",
      "\n",
      "Starting with the author's name: Jerry Manas is mentioned. Then there's a mention of Tom Peters, who is a management guru, and Pat Williams, Senior VP of the Orlando Magic. Locations include places like Iceland, where Jerry appeared on a National TV program discussing economic recovery. Dates mentioned are 2015, when Gartner predicted three quarters of knowledge-based project work would be by virtual teams. Also, the book \"Napoleon on Project Management\" and \"Managing the Gray Areas\" are referenced, but those are titles, not dates. The Planview Enterprise demo is mentioned, but no specific date there. \n",
      "\n",
      "Wait, the user specified to return only names, locations, and dates. So I need to make sure I don't include any other information. Let me check again. \n",
      "\n",
      "Names: Jerry Manas, Tom Peters, Pat Williams, Angela Ahrendts, Judith E. Glaser. Locations: Orlando Magic (though that's an organization, but the location is Orlando, Florida?), Iceland. Dates: 2015. Also, the book publication dates? The text mentions Jerry's latest book is The Resource Management and Capacity Planning Handbook (McGraw-Hill), but no specific date. The user might not want book titles unless they include dates. \n",
      "\n",
      "Wait, the user says \"identified names, locations and dates.\" So any dates mentioned in the text. The Gartner mention in 2015 is a date. The other dates? The text says \"by 2015,\" so 2015 is a date. Also, the mention of the Planview Enterprise demo, but no specific date. \n",
      "\n",
      "So compiling all that: names are Jerry Manas, Tom Peters, Pat Williams, Angela Ahrendts, Judith E. Glaser. Locations: Iceland, Orlando (assuming Orlando Magic is based in Orlando, Florida). Dates: 2015. \n",
      "\n",
      "Wait, the user might consider \"Orlando Magic\" as an organization, but the location is Orlando, Florida. Also, the mention of Iceland as a location where he appeared on TV. \n",
      "\n",
      "I think that's all. Let me make sure there are no other dates. The text also mentions \"the Global 2000\" but that's a term, not a date. The rest are names and locations. So the answer should list those.\n",
      "</think>\n",
      "\n",
      "- **Names**: Jerry Manas, Tom Peters, Pat Williams, Angela Ahrendts, Judith E. Glaser  \n",
      "- **Locations**: Iceland, Orlando (Orlando Magic), Florida  \n",
      "- **Dates**: 2015\n"
     ]
    },
    {
     "ename": "",
     "evalue": "",
     "output_type": "error",
     "traceback": [
      "\u001b[1;31mThe Kernel crashed while executing code in the current cell or a previous cell. \n",
      "\u001b[1;31mPlease review the code in the cell(s) to identify a possible cause of the failure. \n",
      "\u001b[1;31mClick <a href='https://aka.ms/vscodeJupyterKernelCrash'>here</a> for more info. \n",
      "\u001b[1;31mView Jupyter <a href='command:jupyter.viewOutput'>log</a> for further details."
     ]
    }
   ],
   "source": [
    "print(call_llama(prompt_ner))"
   ]
  },
  {
   "cell_type": "code",
   "execution_count": null,
   "id": "3b8c915f",
   "metadata": {},
   "outputs": [],
   "source": []
  }
 ],
 "metadata": {
  "kernelspec": {
   "display_name": "venv",
   "language": "python",
   "name": "python3"
  },
  "language_info": {
   "codemirror_mode": {
    "name": "ipython",
    "version": 3
   },
   "file_extension": ".py",
   "mimetype": "text/x-python",
   "name": "python",
   "nbconvert_exporter": "python",
   "pygments_lexer": "ipython3",
   "version": "3.11.9"
  }
 },
 "nbformat": 4,
 "nbformat_minor": 5
}
