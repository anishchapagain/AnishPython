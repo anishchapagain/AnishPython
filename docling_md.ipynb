{
 "cells": [
  {
   "cell_type": "markdown",
   "id": "5849c6e9",
   "metadata": {},
   "source": [
    "## Docling ( PDF to MD )"
   ]
  },
  {
   "cell_type": "code",
   "execution_count": 4,
   "id": "37a62b4a",
   "metadata": {},
   "outputs": [],
   "source": [
    "import docling"
   ]
  },
  {
   "cell_type": "code",
   "execution_count": 5,
   "id": "9358fc47",
   "metadata": {},
   "outputs": [
    {
     "data": {
      "text/plain": [
       "['__builtins__',\n",
       " '__cached__',\n",
       " '__doc__',\n",
       " '__file__',\n",
       " '__loader__',\n",
       " '__name__',\n",
       " '__package__',\n",
       " '__path__',\n",
       " '__spec__']"
      ]
     },
     "execution_count": 5,
     "metadata": {},
     "output_type": "execute_result"
    }
   ],
   "source": [
    "dir(docling)"
   ]
  },
  {
   "cell_type": "code",
   "execution_count": 7,
   "id": "c54e92c2",
   "metadata": {},
   "outputs": [],
   "source": [
    "from docling.document_converter import DocumentConverter"
   ]
  },
  {
   "cell_type": "code",
   "execution_count": 23,
   "id": "8baf7fd1",
   "metadata": {},
   "outputs": [],
   "source": [
    "pdfs = [\"./BIT301_Tutorial_1.pdf\", \"./agile-project-management-whats-the-story.pdf\"]"
   ]
  },
  {
   "cell_type": "code",
   "execution_count": 14,
   "id": "936dd1b5",
   "metadata": {},
   "outputs": [],
   "source": [
    "# Initialize the Docling object with the path to your document\n",
    "converter = DocumentConverter()"
   ]
  },
  {
   "cell_type": "code",
   "execution_count": 33,
   "id": "361af154",
   "metadata": {},
   "outputs": [
    {
     "name": "stderr",
     "output_type": "stream",
     "text": [
      "d:\\PythonProjects\\pdf_assistant\\venv\\Lib\\site-packages\\torch\\utils\\data\\dataloader.py:665: UserWarning: 'pin_memory' argument is set as true but no accelerator is found, then device pinned memory won't be used.\n",
      "  warnings.warn(warn_msg)\n",
      "d:\\PythonProjects\\pdf_assistant\\venv\\Lib\\site-packages\\torch\\utils\\data\\dataloader.py:665: UserWarning: 'pin_memory' argument is set as true but no accelerator is found, then device pinned memory won't be used.\n",
      "  warnings.warn(warn_msg)\n",
      "d:\\PythonProjects\\pdf_assistant\\venv\\Lib\\site-packages\\torch\\utils\\data\\dataloader.py:665: UserWarning: 'pin_memory' argument is set as true but no accelerator is found, then device pinned memory won't be used.\n",
      "  warnings.warn(warn_msg)\n"
     ]
    }
   ],
   "source": [
    "# Convert the document to a structured format\n",
    "structured_data = converter.convert(pdfs[1])"
   ]
  },
  {
   "cell_type": "code",
   "execution_count": 34,
   "id": "9c739967",
   "metadata": {},
   "outputs": [],
   "source": [
    "output = structured_data.document.export_to_markdown()"
   ]
  },
  {
   "cell_type": "code",
   "execution_count": 35,
   "id": "f11f8148",
   "metadata": {},
   "outputs": [
    {
     "data": {
      "text/plain": [
       "str"
      ]
     },
     "execution_count": 35,
     "metadata": {},
     "output_type": "execute_result"
    }
   ],
   "source": [
    "type(output)"
   ]
  },
  {
   "cell_type": "code",
   "execution_count": 36,
   "id": "3ce31690",
   "metadata": {},
   "outputs": [
    {
     "data": {
      "text/plain": [
       "\"<!-- image -->\\n\\nWhitepaper\\n\\n## Agile Project Management: What's the story?\\n\\nThere is no doubt that Agile project management, the adaptive methodology that spread like wildfire around the turn of the millennium, is here to stay.\\n\\nAs organizations make the shift to Agile methods, there remains confusion, skepticism, and rampant misconceptions about Agile. And like any methodology, Agile requires organizations to look at the triple foundation of people, process, and technology. To underplay any of those is to sabotage success.\\n\\nThis white paper will explore Agile from all three perspectives, and will offer guidelines for effective Agile project management. It will expose common myths, offer tips on the cultural shift to Agile, and address concerns about mixed environments where some departments use Agile and others do not. Finally, it will show how Agile is implemented in Planview Enterprise ®  - with and without adjacent tools such as Atlassian's CA Agile Central, Version One, and IBM Rational ®  Team Concert (RTC).\\n\\nTopics we'll address are:\\n\\n- · What's different about Agile? What are its benefits?\\n- · How does Agile work? What do all those terms mean?\\n- · What roles are required for effective Agile projects? And specifically, how does the role of the project manager change?\\n- · How do we address typical management concerns and skepticism about Agile? Are some of those concerns justified?\\n- · How is Agile implemented in Planview Enterprise? What if some departments don't use Agile?\\n- · If we plan to use Agile tools, how do we effectively use them with Planview Enterprise? Which tool is best for what activities?\\n\\nWhether you're new to Agile or an Agile expert, in addressing these common questions, this white paper will position you for success and show you how to effectively use Planview Enterprise for Agile project management. The Agile movement is undoubtedly expanding, and those who understand its nuances - around people, process, and technology - will be more effective.\\n\\n- · Can Agile work for Virtual Teams?\\n\\n## Introduction: What's Different about Agile?\\n\\nTraditional 'Waterfall' style project management methods involve detailed up-front planning and design (often known as BDUF or Big Design Up Front). The features and scope are predetermined, and a schedule and associated costs are estimated. This works fine for construction projects, where details must by nature be predefined.\\n\\nAgile focuses on people working closely together in short iterations (generally two to four weeks), delivering some form of measurable value with each iteration and inspecting and adapting as appropriate. And throughout all this, the focus is on the product and the customer.\\n\\nFor knowledge work, however, such as software development, research projects, most engineering projects, and other types of work that involve a level of uncertainty and high change rates, traditional methods fall short. In an environment where change is the norm and value can be improved based on information from new or unexpected sources, there is a more efficient and realistic way to manage. This is where Agile comes in.\\n\\nAlthough Agile-like methods were employed in Japan as early as 1986, it wasn't until 2001 that a group of thought leaders in software development formalized the approach. This culminated in the Agile Manifesto, which cited 12 principles based on four overarching values that emphasized:\\n\\n- · Individuals and interactions over processes and tools\\n- · Working software over comprehensive documentation\\n- · Customer collaboration over contract negotiation\\n- · Responding to change over following a plan\\n\\nAnother difference about Agile is that instead of having a fixed scope and then estimating the schedule and cost, it involves working in fixed time and cost iterations, and estimating what features can be delivered in those iterations. In other words, it turns traditional project management on its head (see figure below).\\n\\n<!-- image -->\\n\\n| Fixed     | Fixed     | Fixed     |\\n|-----------|-----------|-----------|\\n| Features  | Cost      | Schedule  |\\n| Estimated | Estimated | Estimated |\\n\\nCollectively, this collaborative and iterative approach results in:\\n\\n- · Faster value delivered to the user . . . because of the iterative process\\n\\n- · Reduced risk . . . because of iterative product delivery\\n- · Reduced uncertainty . . .  because of the product and customer focus\\n- · Better decision making . . . because of the collaborative focus\\n- · Increased trust . . . because of incremental value being delivered\\n\\n## How Does Agile Work?\\n\\nAgile is a whole different way of thinking, so, not surprisingly, the terminology is different as well. Below is a summary of how Agile works, along with the relevant terminology:\\n\\nFeatures are defined in stories , which identify the user(s), action(s), and benefits for that feature. (As an analogy, think of stories in fiction: they involve character, plot, and motive)\\n\\nUser stories are estimated in relative points (though some organizations use ideal days). Story points are a measure of relative complexity and effort. As work is completed, the team can 'earn' points for the completed stories.\\n\\nUser stories are prioritized so that the highest value features or enabling features are delivered as soon as possible.\\n\\nThe team works collaboratively on prioritized stories from a backlog in fixed-time iterations, generally 1 to 4 weeks in duration (in the Agile Scrum methodology, popular in software development, these iterations are called sprints ).\\n\\n## Agile Roles\\n\\nWith Agile projects, the role of the project manager must be reconsidered. This is because:\\n\\nBaselines are irrelevant (A baseline is meaningless if the whole concept of Agile is to plan and adapt the features to fit within fixed time and cost iterations.)\\n\\nFormal up-front requirements don't apply (Customer needs must be understood, but detailed requirements are not all fixed up front; requirements evolve with learnings from each sprint.)\\n\\n- · Fewer errors. . . because of greater communication\\n- · Clearer accountability… because of delineated roles\\n\\nWith such benefits, it is not surprising that Agile has enjoyed such rapid growth in knowledge worker environments, extending beyond just software development where the idea originated.\\n\\nThe team meets regularly to share information and progress. In the Agile Scrum methodology, these are daily 15-minute standup meetings. The key is to stay out of the weeds. These are not problem-solving meetings.\\n\\nAfter each iteration/sprint, the team and stakeholders meet to assess progress, make adjustments, and plan next steps (i.e. evolutionary planning). This is often referred to as a retrospective . It differs from the traditional postimplementation review, which is usually held long after the project and far too late to make a difference on the current project.\\n\\nProgress is tracked via burndown charts , which track work remaining over time (in terms of story points planned vs. earned).\\n\\nVelocity measures story points completed per iteration/ sprint (i.e. the speed at which value is being delivered).\\n\\nA release of a product is generally made up of multiple iterations/sprints. Often, there is a planning sprint at the start of each release to plan out the stories for that release.\\n\\nThe devil is in the details (Agile projects succeed or fail based on mutual understanding of customer needs and technical capabilities. Thus leaders of Agile projects need to understand the details.)\\n\\nIt' s all about the product (Unlike traditional projects, where the focus is on managing the scope, schedule, and budget, Agile projects are all about the product as opposed to the project. Items like schedule and budget are fixed.)\\n\\nAgile projects are community-driven (In Agile projects, developers, analysis, product owners, and customers are in constant communication. If they're not, then the Agile methodology is not being followed. Unlike traditional projects, the project manager is not the primary source of communication.)\\n\\nAgile projects are relatively low risk (With a large, complex project with lots of cross-team involvement and moving parts, Agile may not be the best approach. Agile is often used in software development and other knowledgework projects that can bear some sort of tolerance for uncertainty and a single team can work at a rapid pace.)\\n\\nWith all this in mind, some may ask the inevitable question: What, then, is there for a project manager to do? It's a valid question, and organizations have taken different approaches, from not having a project manager at all to using the project manager as a facilitator across the product owner, customers, and developers. In some organizations, the Scrum Master serves as the project manager.\\n\\nBelow are typical roles in an Agile project:\\n\\n- · Product Manager/Owner - determines the product vision and ensures that features listed in the backlog\\n\\n## Fear of Agile: Addressing the Concerns\\n\\nSince the beginning of the Agile movement, defenders of traditional methods have been skeptical. Some of their concerns are valid, while others are rooted in ignorance of true Agile methods. Ten common management fears are:\\n\\n- 1. It won't work for big, complex projects.\\n- 2. It' s too open-ended. We can't predict costs. It's 'sanctioned scope creep.'\\n- 3. It sounds like 'back of the napkin' design and planning.\\n- 4. It' s too 'techie' focused.\\n- 5. Software developers don't talk the same language as customers.\\n- 6. Customers don't have time to get involved in planning.\\n- are prioritized and understood; provides User Stories (users/actions/benefits)\\n- · Customer - monitors progress and provides input for valuable deliverables (Note: The Product Manager typically serves as the proxy for the customer when it comes to electronically recording comments and input)\\n- · Development Manager/SCRUM Master/Project Manager - populates sprints from the project backlog and updates story points based on planning sprints; facilitates daily meetings and sprint demos\\n- · Developers - are assigned to stories and make testing notes against stories; report effort for cost tracking purposes\\n- · Resource Managers - optimize resource utilization across multiple projects and ensure resource availability on critical projects\\n- · QA/QE Manager/Testers - focuses on quality assurance/engineering, including process improvements, testing, and measurement\\n- 7. We don't want our customers to see our dirty laundry.\\n- 8. This 'teamwork' approach doesn't sound practical.\\n- 9. Daily meetings? Our employees will feel like they're under a microscope.\\n- 10. It's too rigid and inhibits individual creativity.\\n\\nThe truth is that Agile involves more planning than they realize - with each iteration in fact. And customer and business involvement is higher and communication is elevated, so the focus isn't strictly on technology. But other concerns are quite legitimate. Overall, the following ten strategies can address typical concerns:\\n\\n- 1. Make the strategy fit the situation (use the right methodology for the right job; Agile is best for a cohesive team working on knowledge work with a level of uncertainty.)\\n\\n- 2. Reduce risk by focusing on business symptoms over solutions (don't lose sight of the business problem being solved.)\\n- 3. Adopt a 'see for yourself' policy to assess the user experience (before and after.)\\n- 4. Foster a systems-thinking approach (think beyond the software; think also of processes, upstream and downstream systems; stakeholder impact, and so on.)\\n- 5. Engage a business analyst to ensure that details aren't overlooked (developers often lack an understanding of business details.)\\n- 6. Bridge the culture gap between technicians and customers (this can be done through training for developers on customer interaction or by engaging others to interpret and translate to bridge the gap between developers and customers.)\\n- 7. Embrace change, but manage it (assume features will change based on learnings, but have discussions about overall scope, and manage and log changes to the scope.)\\n- 8. Focus on product evolution, not project evolution; manage by prioritized features and release; have release targets (most sprints do not result in a deliverable to the customer, but provide some level of value; releases do result in customer deliverables; also, be sure to prioritize features and set milestones tied to releases.)\\n- 9. Gain management commitment to attend retrospectives and open demos (without management and customer involvement, the Agile methodology loses its power; gaining commitment is key.)\\n- 10. Focus on outcomes and value, not activities or hours (don't make people feel like they're under a microscope - focus on what is needed, not how to go about it; allow flexibility and individual creativity, and focus only on agreed-upon outcomes and value for each sprint - freedom with hours and creativity can balance out the heavy focus on achievement, and agreement on what's achievable can reduce pressure.)\\n\\nOne additional way to reduce other shortcomings of Agile is to take an integrated approach to emphasize that which is generally outside of the Agile methodology. To address this, use a four-phased approach that can sit on top of your current methodology. The acronym spells UP-IT:\\n\\n<!-- image -->\\n\\n- ·  U nderstand (build the knowledge necessary to be successful on the project; do research; examine the current and desired user experience.)\\n- ·  P repare (gain the capabilities to execute the project successfully, such as training, the right tools, gaining stakeholder commitment, etc.)\\n- ·  I terate (plan and execute iterations/sprints to deliver value through planned releases.)\\n- ·  T ransform (focus on ongoing support and selfsustainability for the customer; be sure to educate the team on lessons learned to be applied to future releases.)\\n\\nLastly, there are some situations where Agile is probably NOT the best approach. Here are eight examples of where to avoid Agile methods:\\n\\n- 1. Large enterprise initiatives that need requirements defined up front, and generally require heavy documentation\\n- 2. Where formal specs are needed for auditability, safety, or preciseness\\n- 3. Where scope and requirements are known, can be defined, and are unlikely to change much\\n\\n- 4. Where lots of approvals are needed by multiple parties\\n- 5. Where the organizational or team culture is incompatible with an Agile approach\\n- 6. If customers/users are not generally available to participate\\n\\n## Virtual Teams and Agile\\n\\nAccording to Gartner, by 2015, three quarters of knowledge-based project work in the Global 2000 will be completed by distributed virtual teams. This presents new challenges in collaboration, which is a central tenet of Agile. With this in mind, an understanding of new media and online collaboration tools will become more and more important.\\n\\nAgile teams will need to employ methods to stay in regular communication, whether by teleconference,\\n\\n## Planview Enterprise and Agile\\n\\nPlanview Enterprise has features to support organizations that use the Agile methodology. These include:\\n\\n- · Agile column sets when examining project schedules in the Work Manager. Built-in fields include:\\n- · Sprint (the associated Sprint name)\\n- · Story # - unique identifier code (can optionally link to a URL and/or other software)\\n- · Story Status (e.g., Done, In Progress, Not Started, etc.)\\n- · Sprint Start Date / Finish Date\\n- · Story Points Planned (manually recorded)\\n- · Story Points Planned Roll-Up (calculated automatically)\\n- · Story Points Earned (manually recorded)\\n- · Story Points Earned Roll-Up (calculated automatically)\\n- 7. If the team lacks interpersonal skills or heavy technical knowledge (i.e. they can't be empowered)\\n- 8. If the team is too large to be effective at crosscommunication (i.e. over 100 people, though this number can vary depending on the culture and technology involved)\\n\\nwebinars, Twitter-like tools such as Yammer, collaboration websites, or other media. Some organizations have even taken to the use of Wikis to capture, organize, and share knowledge.\\n\\nThis also applies to organizations that are currently unable or unwilling to co-locate their development teams. Most Agile experts agree that co-location is best, but with the right technology and the right principles, distributed teams can still be effective.\\n\\n- · To-Do List and Notes functionality for story details\\n- · Content Management for documenting and storing information from sprint retrospectives\\n- · A Community page for discussions and team updates\\n- · Resource authorizations for tracking time and cost\\n- · Resource Reserves for high level resource demand planning\\n- · Defined user roles for the various participants in the Agile methodology\\n- · Custom reporting dashboards and Insight Analytics OLAP reporting tool, offering iteration velocity comparisons, weekly burndown charts, and end-ofiteration reports\\n\\nBelow is a typical Agile column set for an Agile project:\\n\\n<!-- image -->\\n\\nThe typical Agile process using Planview Enterprise is as follows:\\n\\n- · Managers and developers populate sprints with user stories from the project backlog with a simple cut/paste function.\\n- · Iterations or sprints may be planned for whatever duration is determined by each project team.  And stories can include those from developers, testers and other team members to ensure that working software or tangible value can be delivered on a frequent basis.\\n- · Note: If stories are finished early, the remaining time in the sprint can be spent on other stories from the backlog.\\n- · Developers may assign themselves as resources to stories, make testing notes directly against the story for viewing and editing by all team members; they can also track actual effort expended against a story via Planview's timesheet for project costing purposes.\\n- · Note: Assignments can be done in a number of different ways. Allocations are NOT the best approach because effort is not planned and schedules should not 'slip.' The reserve/ authorization combo is best. Reserves (soft booking named resources) and Authorizations (allowing named resources to enter time) can be at a project or phase level.\\n- · Note: Some companies, such as Planview, have all projects on the same sprint schedule. Others have a separate schedule per project.\\n- · There is no need for scheduled start, scheduled finish, duration, or planning of effort. Sprint dates are fixed, and progress is tracked via planned and earned story points.\\n- · Note: This frequently requires a cultural adjustment, so plan accordingly.\\n\\n## Using Planview Enterprise with Other Agile Tools\\n\\nMany Agile developers use products such as Atlassian's JIRA, CA Agile Central, Version One, and IBM Rational Team Concert. These products and others, have fullfeatured Agile capabilities, each with their own emphasis and strengths.\\n\\nPlanview Enterprise and Agile tools all offer story point entry and tracking, velocity and burndown charts, and collaboration. This may lead to the question: What's the benefit of using Planview Enterprise with these other Agile products?\\n\\nThe benefits of using Planview Enterprise in the mix with other Agile solutions are as follows:\\n\\n- · To align program and portfolio management with development work\\n- · To better integrate operational plans to Agile execution\\n- · To enable resource managers to balance demand with capacity\\n- · To share project status seamlessly across management and development teams\\n- · To enable project managers and developers to communicate in their own languages - everyone gets to work within their own preferred tool\\n- · To make high-level approval, timing, and resource allocation decisions based on how you plan capacity and demand, be it FTEs, money, user story points, ideal developer days, and/or other measures\\n- · To improve efficiency, productivity, and collaboration\\n\\nThe  integration with an Agile tool provides a different workflow:\\n\\n- · In Planview Enterprise, a product or project manager inputs project phases, iterations, and high level tasks\\n- · The data is sent to the Agile tool\\n- · In the Agile tool, developers assign and implement the work to deliver features\\n- · Story Point and Status updates go to Planview Enterprise for the project manager\\n- · A story identifier in Planview Enterprise links to the story in the Agile tool\\n- · Resource Authorizations and Reserves are entered in Planview Enterprise at the project or phase level, and time tracking (if desired) is done in Planview Enterprise\\n\\nSome organizations only use Planview Enterprise for resource authorizations and reserves, doing all their tracking and reporting in their Agile tool. Others allow stories to be entered in the Agile tool or Planview Enterprise, depending on the development team's preference, with everything being electronically replicated in Planview Enterprise and the other software via a batch process.\\n\\n## To summarize:\\n\\nPlanview Enterprise has Agile support, including Agile column sets that support story creation and story point tracking, as well as team-based capacity planning, content management, collaboration, and burndown and velocity charts.\\n\\nPlanview Enterprise software can also be used in conjunction with leading Agile software, such as JIRA, CA Agile Central, Version One, and IBM Rational Team Concert.\\n\\nWhen using Planview solutions with an Agile tool, multiple options exist, and the approach depends on organizational preference and overall use of Planview Enterprise.\\n\\n## About Planview Enterprise\\n\\nToday's business leaders are under pressure to execute on strategy, given the reality of constrained people and financial resources, in an increasingly competitive marketplace.\\n\\nPlanview Enterprise is a portfolio and resource management solution that connects strategy to execution by improving decision making across the enterprise, including product development, IT, and services. By integrating planning and execution, Planview Enterprise enables organizations to prioritize their portfolios, balance organizational capacity against demand, link plans and resources to project execution, and manage the underlying financials of the entire process. Planview's focus on portfolio and resource management drives a unique level of innovation and commitment to customer success.\\n\\n## About the Author\\n\\n<!-- image -->\\n\\nJerry Manas is an internationally best-selling author, speaker, and consultant. He is frequently cited by leading voices in the world of business, including legendary management guru Tom Peters ('In Search of Excellence'), who often references Manas's bestselling book Napoleon on Project Management for its insights on simplicity and character, and Pat Williams, Senior VP of the Orlando Magic, who called Manas's book Managing the Gray Areas 'a new path for leaders.'\\n\\nJerry's latest book is The Resource Management and Capacity Planning Handbook (McGraw-Hill), which Judith E. Glaser, noted author of Conversational Intelligence , touted as 'the first book dedicated to what is essentially the drivetrain of organizations-the effective use of its people toward its most important activities.' He also co-authored the bestseller, 42 Rules for Creating WE with Glaser, which Angela Ahrendts, CEO of Burberry, called 'today's greatest guide for team success.'\\n\\nPlanview Enterprise, a market leading solution for endto-end portfolio management, from ideation through operational planning, execution, and value delivery.\\n\\nLearn more about Planview Enterprise for Agile in the Planview Enterprise demo.\\n\\nis a popular speaker at events around the world, speaking on resource planning, organizational change, lessons from history, and other topics.\\n\\nIn addition to his writing, consulting, and keynotes, Jerry is a founding member of The Creating We Institute, an international thought leadership community dedicated to fostering WE-centric thinking in organizations through research in neuroscience and positive psychology. He. was also part of the leadership team for several Project Management Institute standards.\\n\\nJerry's work has been highlighted in a variety of publications, including the Houston Chronicle, Chicago Sun Times, National Post, Globe and Mail, Huffington Post, and others. He has appeared on radio and TV internationally, including Iceland, where he appeared on a National TV program talking about their economic recovery.\\n\\nFollow him on Twitter @jerrymanas\\n\\nA sought-after consultant, Jerry helps clients maximize their organizational people resources, leading to a greater capacity to innovate, a more value-focused and productive workforce, and an increased ability to adapt to change. He\\n\\n<!-- image -->\\n\\n©\""
      ]
     },
     "execution_count": 36,
     "metadata": {},
     "output_type": "execute_result"
    }
   ],
   "source": [
    "output  # Display the first 1000 characters of the output"
   ]
  },
  {
   "cell_type": "code",
   "execution_count": 37,
   "id": "ce63b9df",
   "metadata": {},
   "outputs": [],
   "source": [
    "output_file = pdfs[1].replace(\".pdf\", \".md\")\n",
    "output_path = f\"./markdown_docs/{output_file}\"\n",
    "# Save the Markdown text to a file\n",
    "with open(output_path, \"w\",encoding=\"utf-8\") as file:\n",
    "    file.write(output)"
   ]
  },
  {
   "cell_type": "markdown",
   "id": "765b9d82",
   "metadata": {},
   "source": [
    "## Using LLM"
   ]
  },
  {
   "cell_type": "code",
   "execution_count": 38,
   "id": "044050c7",
   "metadata": {},
   "outputs": [],
   "source": [
    "import ollama"
   ]
  },
  {
   "cell_type": "code",
   "execution_count": 40,
   "id": "e2f9a72a",
   "metadata": {},
   "outputs": [],
   "source": [
    "# prompt\n",
    "prompt = f\"\"\"\n",
    "You are an assistant who summarizes and analyzes documents.\n",
    "Here is a document content extracted from a PDF:\n",
    "---\n",
    "{output} \n",
    "---\n",
    "Please provide:\n",
    "1. A brief summary (max 5 bullet points)\n",
    "2. Key topics\n",
    "3. Any important observations\n",
    "\"\"\""
   ]
  },
  {
   "cell_type": "code",
   "execution_count": null,
   "id": "612b900d",
   "metadata": {},
   "outputs": [],
   "source": [
    "model = \"llama3.1:latest\""
   ]
  },
  {
   "cell_type": "code",
   "execution_count": 59,
   "id": "47711ce0",
   "metadata": {},
   "outputs": [],
   "source": [
    "def call_llama(prompt, model=\"qwen3:latest\"): \n",
    "    # Use Ollama to process the prompt\n",
    "    response = ollama.chat(\n",
    "        model=model,  # Use any local model you installed\n",
    "        messages=[\n",
    "            {\"role\": \"user\", \"content\": prompt}\n",
    "        ]\n",
    "    )\n",
    "    return response['message']['content']"
   ]
  },
  {
   "cell_type": "code",
   "execution_count": 48,
   "id": "f2be1a07",
   "metadata": {},
   "outputs": [
    {
     "data": {
      "text/plain": [
       "\"The provided text is a comprehensive guide to Agile project management, with a focus on Planview Enterprise, a portfolio and resource management solution that supports Agile methodologies. Here are the main points:\\n\\n**Agile Project Management**\\n\\n* Agile teams prioritize customer satisfaction through early delivery of working software.\\n* Sprints or iterations (usually 2-4 weeks) help manage work in progress.\\n* Story points measure effort required to complete tasks.\\n* Velocity measures a team's average story point completion rate.\\n* Burndown charts track the remaining story points for each sprint.\\n\\n**Planview Enterprise and Agile**\\n\\n* Planview Enterprise supports Agile column sets, including story creation and tracking.\\n* It allows team-based capacity planning and burndown/velocity charting.\\n* Integration with leading Agile tools (e.g., JIRA, CA Agile Central) enables multiple options for organizations.\\n* Resource authorizations and reserves help manage resource demand.\\n\\n**Benefits of Using Planview Enterprise with Other Agile Tools**\\n\\n* Align program and portfolio management with development work.\\n* Better integrate operational plans to Agile execution.\\n* Enable resource managers to balance demand with capacity.\\n* Share project status seamlessly across management and development teams.\\n* Facilitate communication between project managers and developers.\\n\\n**Virtual Teams and Agile**\\n\\n* Distributed virtual teams can effectively implement Agile methodologies using online collaboration tools.\\n* Regular communication is crucial for successful Agile projects in virtual environments.\\n\\n**About Planview Enterprise**\\n\\nPlanview Enterprise connects strategy to execution by improving decision-making across the enterprise. It helps organizations prioritize portfolios, balance capacity against demand, link plans and resources to project execution, and manage underlying financials.\\n\\n**About Jerry Manas**\\n\\nThe author, Jerry Manas, is an internationally best-selling author, speaker, and consultant with expertise in resource management, organizational change, lessons from history, and other topics. His work has been featured in various publications, and he appears on radio and TV internationally.\\n\\nOverall, the provided text offers a detailed guide to Agile project management, including support for Planview Enterprise, which enables organizations to prioritize portfolios, balance capacity against demand, and manage underlying financials while implementing Agile methodologies.\""
      ]
     },
     "execution_count": 48,
     "metadata": {},
     "output_type": "execute_result"
    }
   ],
   "source": [
    "call_llama(prompt)"
   ]
  },
  {
   "cell_type": "code",
   "execution_count": 67,
   "id": "55574333",
   "metadata": {},
   "outputs": [],
   "source": [
    "# Define the prompt for NER\n",
    "prompt_ner = f\"\"\"\n",
    "You are a natural language assistant.\n",
    "Identify the entities like person name, organizations name, locations and dates from the provided Markdown content.\n",
    "\n",
    "Markdown content:\n",
    "---\n",
    "{output}\n",
    "---\n",
    "\n",
    "Return only the identified names, locations and dates.\n",
    "\"\"\""
   ]
  },
  {
   "cell_type": "code",
   "execution_count": 68,
   "id": "573f8b76",
   "metadata": {},
   "outputs": [
    {
     "name": "stdout",
     "output_type": "stream",
     "text": [
      "<think>\n",
      "Okay, let's see. The user wants me to return only the identified names, locations, and dates from the provided text. First, I need to go through the text carefully.\n",
      "\n",
      "Starting with the author's name: Jerry Manas is mentioned. Then there's a mention of Tom Peters, who is a management guru, and Pat Williams, Senior VP of the Orlando Magic. Locations include places like Iceland, where Jerry appeared on a National TV program discussing economic recovery. Dates mentioned are 2015, when Gartner predicted three quarters of knowledge-based project work would be by virtual teams. Also, the book \"Napoleon on Project Management\" and \"Managing the Gray Areas\" are referenced, but those are titles, not dates. The Planview Enterprise demo is mentioned, but no specific date there. \n",
      "\n",
      "Wait, the user specified to return only names, locations, and dates. So I need to make sure I don't include any other information. Let me check again. \n",
      "\n",
      "Names: Jerry Manas, Tom Peters, Pat Williams, Angela Ahrendts, Judith E. Glaser. Locations: Orlando Magic (though that's an organization, but the location is Orlando, Florida?), Iceland. Dates: 2015. Also, the book publication dates? The text mentions Jerry's latest book is The Resource Management and Capacity Planning Handbook (McGraw-Hill), but no specific date. The user might not want book titles unless they include dates. \n",
      "\n",
      "Wait, the user says \"identified names, locations and dates.\" So any dates mentioned in the text. The Gartner mention in 2015 is a date. The other dates? The text says \"by 2015,\" so 2015 is a date. Also, the mention of the Planview Enterprise demo, but no specific date. \n",
      "\n",
      "So compiling all that: names are Jerry Manas, Tom Peters, Pat Williams, Angela Ahrendts, Judith E. Glaser. Locations: Iceland, Orlando (assuming Orlando Magic is based in Orlando, Florida). Dates: 2015. \n",
      "\n",
      "Wait, the user might consider \"Orlando Magic\" as an organization, but the location is Orlando, Florida. Also, the mention of Iceland as a location where he appeared on TV. \n",
      "\n",
      "I think that's all. Let me make sure there are no other dates. The text also mentions \"the Global 2000\" but that's a term, not a date. The rest are names and locations. So the answer should list those.\n",
      "</think>\n",
      "\n",
      "- **Names**: Jerry Manas, Tom Peters, Pat Williams, Angela Ahrendts, Judith E. Glaser  \n",
      "- **Locations**: Iceland, Orlando (Orlando Magic), Florida  \n",
      "- **Dates**: 2015\n"
     ]
    }
   ],
   "source": [
    "print(call_llama(prompt_ner))"
   ]
  },
  {
   "cell_type": "code",
   "execution_count": null,
   "id": "3b8c915f",
   "metadata": {},
   "outputs": [],
   "source": []
  }
 ],
 "metadata": {
  "kernelspec": {
   "display_name": "venv",
   "language": "python",
   "name": "python3"
  },
  "language_info": {
   "codemirror_mode": {
    "name": "ipython",
    "version": 3
   },
   "file_extension": ".py",
   "mimetype": "text/x-python",
   "name": "python",
   "nbconvert_exporter": "python",
   "pygments_lexer": "ipython3",
   "version": "3.11.9"
  }
 },
 "nbformat": 4,
 "nbformat_minor": 5
}
