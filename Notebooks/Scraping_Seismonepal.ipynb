{
 "cells": [
  {
   "cell_type": "markdown",
   "metadata": {},
   "source": [
    "# Web Scraping: Earthquakes data from Seismonepal.gov.np"
   ]
  },
  {
   "cell_type": "markdown",
   "metadata": {},
   "source": [
    "## Import Packages"
   ]
  },
  {
   "cell_type": "code",
   "execution_count": 1,
   "metadata": {},
   "outputs": [],
   "source": [
    "import requests #https://requests.readthedocs.io/en/master/\n",
    "from pyquery import PyQuery as pq #for XPath and Css Selectors: https://pythonhosted.org/pyquery/\n",
    "from urllib.request import urlopen\n",
    "import re"
   ]
  },
  {
   "cell_type": "markdown",
   "metadata": {},
   "source": [
    "### Define URL to Scrape"
   ]
  },
  {
   "cell_type": "code",
   "execution_count": 2,
   "metadata": {},
   "outputs": [],
   "source": [
    "url='http://www.seismonepal.gov.np/' #http://seismonepal.gov.np/earthquakes/2019"
   ]
  },
  {
   "cell_type": "markdown",
   "metadata": {},
   "source": [
    "## read/load url and return pagesource converted as PyQuery object"
   ]
  },
  {
   "cell_type": "code",
   "execution_count": 3,
   "metadata": {},
   "outputs": [],
   "source": [
    "def read_url(url):\n",
    "    '''using pyquery'''\n",
    "    pageSource = requests.get(url).text  #receiving 'view source'\n",
    "    #return pq(pageSource)\n",
    "    return pageSource\n",
    "    \n",
    "    '''using urlopen'''\n",
    "    #pageSource = urlopen(url).read()    \n",
    "    #return pq(pageSource)    #return pageSource"
   ]
  },
  {
   "cell_type": "markdown",
   "metadata": {},
   "source": [
    "lets load the URL and obtain pagesource or pyquery object!"
   ]
  },
  {
   "cell_type": "code",
   "execution_count": 4,
   "metadata": {},
   "outputs": [],
   "source": [
    "page = read_url(url)"
   ]
  },
  {
   "cell_type": "code",
   "execution_count": 5,
   "metadata": {},
   "outputs": [
    {
     "name": "stdout",
     "output_type": "stream",
     "text": [
      "<class 'str'>\n"
     ]
    }
   ],
   "source": [
    "print(type(page))"
   ]
  },
  {
   "cell_type": "code",
   "execution_count": 6,
   "metadata": {},
   "outputs": [
    {
     "name": "stdout",
     "output_type": "stream",
     "text": [
      "<!DOCTYPE html>\n",
      "<html class=\"no-js\" lang=\"\">\n",
      "<head>\n",
      "    <meta charset=\"utf-8\"/>\n",
      "    <meta http-equiv=\"x-ua-compatible\" content=\"ie=edge\">\n",
      "    <title>National Earthquake Monitoring & Research Center</title>\n",
      "    <meta name=\"description\" content=\"Department of Mines and Geology\"/>\n",
      "    <meta name=\"keyword\" content=\"National Earthquake Monitoring & Research Center, Earthquake, Nepal, Epicenter\"/>\n",
      "    <meta name=\"viewport\" content=\"width=device-width, initial-scale=1\"/>\n",
      "    <link rel=\"icon\" href=\"http://seismonepal.gov.np/assets/nav_img/nepal-logo.png\">\n",
      "    <link rel=\"stylesheet\" href=\"https://maxcdn.bootstrapcdn.com/bootstrap/4.0.0-beta.2/css/bootstrap.min.css\" integrity=\"sha384-PsH8R72JQ3SOdhVi3uxftmaW6Vc51MKb0q5P2rRUpPvrszuE4W1povHYgTpBfshb\" crossorigin=\"anonymous\"/>\n",
      "    <link rel=\"stylesheet\" href=\"https://cdnjs.cloudflare.com/ajax/libs/font-awesome/4.7.0/css/font-awesome.min.css\"/>\n",
      "    <link rel=\"stylesheet\" href=\"https://www.w3schools.com/w3css/4/w3.css\"/>\n",
      "    <link rel=\"stylesheet\" hr\n",
      "....................................................................................................\n"
     ]
    }
   ],
   "source": [
    "print(page[0:1000])\n",
    "print('.....'*20)"
   ]
  },
  {
   "cell_type": "code",
   "execution_count": 7,
   "metadata": {},
   "outputs": [
    {
     "name": "stdout",
     "output_type": "stream",
     "text": [
      "<class 'pyquery.pyquery.PyQuery'>\n"
     ]
    }
   ],
   "source": [
    "print(type(pq(page))) #pq(page)"
   ]
  },
  {
   "cell_type": "markdown",
   "metadata": {},
   "source": [
    "### Find the content from <title <meta..keyword and <meta..description"
   ]
  },
  {
   "cell_type": "code",
   "execution_count": 8,
   "metadata": {},
   "outputs": [
    {
     "name": "stdout",
     "output_type": "stream",
     "text": [
      "National Earthquake Monitoring & Research Center\n"
     ]
    }
   ],
   "source": [
    "title=pq(page).find('title').text() #check here if page is an object of pyquery or not\n",
    "print(title)"
   ]
  },
  {
   "cell_type": "code",
   "execution_count": 9,
   "metadata": {},
   "outputs": [
    {
     "name": "stdout",
     "output_type": "stream",
     "text": [
      "viewport\n"
     ]
    }
   ],
   "source": [
    "meta = pq(page).find('meta:last').attr('name') #check here if page is an object of pyquery or not\n",
    "print(meta)"
   ]
  },
  {
   "cell_type": "code",
   "execution_count": 10,
   "metadata": {},
   "outputs": [
    {
     "name": "stdout",
     "output_type": "stream",
     "text": [
      "National Earthquake Monitoring & Research Center, Earthquake, Nepal, Epicenter\n"
     ]
    }
   ],
   "source": [
    "keyword = pq(page).find('meta[name=\"keyword\"]').attr('content') #check here if page is an object of pyquery or not\n",
    "print(keyword)"
   ]
  },
  {
   "cell_type": "code",
   "execution_count": 11,
   "metadata": {},
   "outputs": [
    {
     "name": "stdout",
     "output_type": "stream",
     "text": [
      "Department of Mines and Geology\n"
     ]
    }
   ],
   "source": [
    "description = pq(page).find('meta[name=\"description\"]').attr('content') #check here if page is an object of pyquery or not\n",
    "print(description)"
   ]
  },
  {
   "cell_type": "markdown",
   "metadata": {},
   "source": [
    "### Identify the data container, elements as required!  "
   ]
  },
  {
   "cell_type": "code",
   "execution_count": 12,
   "metadata": {},
   "outputs": [
    {
     "name": "stdout",
     "output_type": "stream",
     "text": [
      "                  <th scope=\"col\">Latitude</th>\n",
      "                                <th scope=\"col\">Longitude</th>\n",
      "                                <th scope=\"col\">Magnitude(ML)</th>\n",
      "                                <th scope=\"col\">Remarks</th>\n",
      "                                <th scope=\"col\">Epicenter</th>\n",
      "                                <th scope=\"col\">Form</th>\n",
      "                            </tr>\n",
      "                            </thead>\n",
      "                            <tbody>\n",
      "                                                                                                                                     \n"
     ]
    }
   ],
   "source": [
    "data = pq(page).find('table.data_table').html() #confirming the content we have choosen!\n",
    "print(data[200:800])"
   ]
  },
  {
   "cell_type": "code",
   "execution_count": 13,
   "metadata": {},
   "outputs": [
    {
     "name": "stdout",
     "output_type": "stream",
     "text": [
      "\n",
      "                            <tr>\n",
      "                                <th scope=\"col\">Date</th>\n",
      "                                <th scope=\"col\">Time</th>\n",
      "                                <th scope=\"col\">Latitude</th>\n",
      "                                <th scope=\"col\">Longitude</th>\n",
      "                                <th scope=\"col\">Magnitude(ML)</th>\n",
      "                                <th scope=\"col\">Remarks</th>\n",
      "                                <th scope=\"col\">Epicenter</th>\n",
      "                                <th scope=\"col\">Form</th>\n",
      "                            </tr>\n",
      "                            \n"
     ]
    }
   ],
   "source": [
    "head = pq(page).find('table.data_table thead').html() #load <thead> HTML from table\n",
    "print(head)"
   ]
  },
  {
   "cell_type": "code",
   "execution_count": 14,
   "metadata": {},
   "outputs": [
    {
     "name": "stdout",
     "output_type": "stream",
     "text": [
      "Date\n",
      "Time\n",
      "Latitude\n",
      "Longitude\n",
      "Magnitude(ML)\n",
      "Remarks\n",
      "Epicenter\n",
      "Form\n"
     ]
    }
   ],
   "source": [
    "headText = pq(page).find('table.data_table thead').text() #load <thead> texts from table\n",
    "print(headText)"
   ]
  },
  {
   "cell_type": "code",
   "execution_count": 15,
   "metadata": {},
   "outputs": [
    {
     "name": "stdout",
     "output_type": "stream",
     "text": [
      "['Date', 'Time', 'Latitude', 'Longitude', 'Magnitude(ML)', 'Remarks', 'Epicenter', 'Form']\n"
     ]
    }
   ],
   "source": [
    "print(headText.split(\"\\n\")) #Looks fine if we are ready for Column names!"
   ]
  },
  {
   "cell_type": "code",
   "execution_count": 31,
   "metadata": {},
   "outputs": [
    {
     "name": "stdout",
     "output_type": "stream",
     "text": [
      " \n",
      "\n",
      "                                <tr class=\"highlight1\">\n",
      "                                   <td scope=\"row\" class=\"table-date\"><div><small>B.S:</small>2077-4-31<br/><small>A.D:</small>2020-08-15</div></td>\n",
      "\n",
      " <td class=\"table-time\"><small>Local:</small>  16:07<br/><small style=\"clear:both\">UTC:</small>   10:22</td>\n",
      "                                    <td class=\"table-latitude\">27.8</td>\n",
      "                                    <td class=\"table-longitude\">87.62</td>\n",
      "                                  \n"
     ]
    }
   ],
   "source": [
    "body = pq(page).find('table.data_table tbody').html() #load <tbody> HTML from table\n",
    "print(body[200:700])"
   ]
  },
  {
   "cell_type": "code",
   "execution_count": 16,
   "metadata": {},
   "outputs": [
    {
     "name": "stdout",
     "output_type": "stream",
     "text": [
      "B.S:2077-5-31\n",
      "A.D:2020-09-15\n",
      "Local:  05:19\n",
      "UTC:   23:34\n",
      "27.77\n",
      "85.88\n",
      "6.0\n",
      "NEMRC\n",
      "Sindhupalchowk\n",
      "Did You feel it ?\n"
     ]
    }
   ],
   "source": [
    "#Row wise picking/extraction!\n",
    "\n",
    "#:first, :last, :eq(0), :eq(1), :eq(2)\n",
    "#<tag>.className = table.data_table!\n",
    "\n",
    "firstRow = pq(page).find('table.data_table tbody tr:first').text() \n",
    "print(firstRow)"
   ]
  },
  {
   "cell_type": "code",
   "execution_count": 33,
   "metadata": {},
   "outputs": [
    {
     "name": "stdout",
     "output_type": "stream",
     "text": [
      "['B.S:2077-4-31', 'A.D:2020-08-15', 'Local:\\xa0\\xa016:07', 'UTC:\\xa0\\xa0\\xa010:22', '27.8', '87.62', '4.2', 'NSC', 'Sankhuwasabha', 'Did You feel it ?']\n"
     ]
    }
   ],
   "source": [
    "print(firstRow.split(\"\\n\"))"
   ]
  },
  {
   "cell_type": "markdown",
   "metadata": {},
   "source": [
    "### Contains unwanted data too! so cleaning is also required here or even we can process data cleaning after collection has been completed!"
   ]
  },
  {
   "cell_type": "code",
   "execution_count": 17,
   "metadata": {},
   "outputs": [
    {
     "name": "stdout",
     "output_type": "stream",
     "text": [
      "B.S: A.D: Local: UTC:\n"
     ]
    }
   ],
   "source": [
    "discardElements = pq(page).find('table.data_table tbody tr:first').find('small').remove().text() \n",
    "print(discardElements)"
   ]
  },
  {
   "cell_type": "code",
   "execution_count": 37,
   "metadata": {},
   "outputs": [
    {
     "data": {
      "text/plain": [
       "[<small>, <small>, <small>, <small>]"
      ]
     },
     "execution_count": 37,
     "metadata": {},
     "output_type": "execute_result"
    }
   ],
   "source": [
    "pq(page).find('table.data_table tbody tr:first').find('small').remove()"
   ]
  },
  {
   "cell_type": "code",
   "execution_count": 18,
   "metadata": {},
   "outputs": [
    {
     "name": "stdout",
     "output_type": "stream",
     "text": [
      "<tr class=\"highlight1\">\n",
      "                                   <td scope=\"row\" class=\"table-date\"><div> 2077-5-31<br/> 2020-09-15</div></td>\n",
      "\n",
      " <td class=\"table-time\">   05:19<br/>    23:34</td>\n",
      "                                    <td class=\"table-latitude\">27.77</td>\n",
      "                                    <td class=\"table-longitude\">85.88</td>\n",
      "                                    <td class=\"table-magnitude\">6.0</td>\n",
      "                                    <td class=\"table-remarks\">NEMRC</td>\n",
      "                                    <td class=\"table-epicenter\"><a href=\"http://seismonepal.gov.np/earthquake-epicenter-google-map/1031\" title=\"Click to see Google Map point of this\" style=\"text-decoration: underline;\">Sindhupalchowk</a></td>\n",
      "                                    <td><a href=\"http://seismonepal.gov.np/did-you-feel-it-\" class=\"btn btn-primary\">Did You feel it ?</a></td>\n",
      "                                </tr>\n",
      "                                                            \n",
      "                           \n",
      "\n",
      "                                \n"
     ]
    }
   ],
   "source": [
    "#removing all <small> tags found inside tr:first!\n",
    "\n",
    "firstRowNew = pq(page).find('table.data_table tbody tr:first').remove('small')\n",
    "print(firstRowNew)"
   ]
  },
  {
   "cell_type": "code",
   "execution_count": 19,
   "metadata": {},
   "outputs": [
    {
     "name": "stdout",
     "output_type": "stream",
     "text": [
      "2077-5-31\n",
      "2020-09-15\n",
      "05:19\n",
      "23:34\n",
      "27.77\n",
      "85.88\n",
      "6.0\n",
      "NEMRC\n",
      "Sindhupalchowk\n",
      "Did You feel it ?\n",
      "--------------------------------------------------------------------------------\n",
      "['2077-5-31', '2020-09-15', '05:19', '23:34', '27.77', '85.88', '6.0', 'NEMRC', 'Sindhupalchowk', 'Did You feel it ?']\n"
     ]
    }
   ],
   "source": [
    "#check the data from firstRowNew after cleaning/removing <small>\n",
    "\n",
    "newRow = pq(firstRowNew).text()\n",
    "print(newRow)\n",
    "print('----'*20)\n",
    "\n",
    "print(newRow.split(\"\\n\"))"
   ]
  },
  {
   "cell_type": "code",
   "execution_count": 20,
   "metadata": {},
   "outputs": [
    {
     "name": "stdout",
     "output_type": "stream",
     "text": [
      "<tr class=\"highlight1\">\n",
      "                                   <td scope=\"row\" class=\"table-date\"><div> 2077-5-31<br/> 2020-09-15</div></td>\n",
      "\n",
      " <td class=\"table-time\">   05:19<br/>    23:34</td>\n",
      "                                    <td class=\"table-latitude\">27.77</td>\n",
      "                                    <td class=\"table-longitude\">85.88</td>\n",
      "                                    <td class=\"table-magnitude\">6.0</td>\n",
      "                                     \n",
      "                                    <td class=\"table-epicenter\"><a href=\"http://seismonepal.gov.np/earthquake-epicenter-google-map/1031\" title=\"Click to see Google Map point of this\" style=\"text-decoration: underline;\">Sindhupalchowk</a></td>\n",
      "                                    <td/>\n",
      "                                </tr>\n"
     ]
    }
   ],
   "source": [
    "#removing all <small> and <a> found inside tr:first!\n",
    "#firstRowNewAgain = pq(page).find('table.data_table tbody tr:first').remove('small,a')\n",
    "\n",
    "'''\n",
    "Removing all <small> \n",
    "<a> (picking <a> only with class='btn')\n",
    "<td class=\"table-remarks\"> \n",
    "found inside tr:first!\n",
    "'''\n",
    "firstRowNewAgain = pq(page).find('table.data_table tbody tr:first').remove('small,a.btn,td.table-remarks')\n",
    "#print(firstRowNewAgain)\n",
    "\n",
    "print(str(firstRowNewAgain).strip())        #strip() unwanted spaces "
   ]
  },
  {
   "cell_type": "code",
   "execution_count": 21,
   "metadata": {},
   "outputs": [
    {
     "name": "stdout",
     "output_type": "stream",
     "text": [
      "2077-5-31\n",
      "2020-09-15\n",
      "05:19\n",
      "23:34\n",
      "27.77\n",
      "85.88\n",
      "6.0\n",
      "Sindhupalchowk\n",
      "--------------------------------------------------------------------------------\n",
      "['2077-5-31', '2020-09-15', '05:19', '23:34', '27.77', '85.88', '6.0', 'Sindhupalchowk']\n"
     ]
    }
   ],
   "source": [
    "newRowAgain = pq(firstRowNewAgain).text()\n",
    "print(newRowAgain)\n",
    "print('----'*20)\n",
    "print(newRowAgain.split(\"\\n\"))"
   ]
  },
  {
   "cell_type": "markdown",
   "metadata": {},
   "source": [
    "## Loop through multiple rows and extract data"
   ]
  },
  {
   "cell_type": "code",
   "execution_count": 22,
   "metadata": {},
   "outputs": [
    {
     "name": "stdout",
     "output_type": "stream",
     "text": [
      "19\n"
     ]
    }
   ],
   "source": [
    "#cleaned content from Seismonepal!\n",
    "\n",
    "allRowMaterial = pq(page).find('table.data_table tbody').remove('small,a.btn,td.table-remarks')\n",
    "#print(allRowMaterial.text())\n",
    "print(len(pq(allRowMaterial).find('tr')))"
   ]
  },
  {
   "cell_type": "code",
   "execution_count": 23,
   "metadata": {},
   "outputs": [
    {
     "name": "stdout",
     "output_type": "stream",
     "text": [
      "[['2077-5-31\\n2020-09-15', '05:19\\n23:34', '27.77', '85.88', '6.0', 'Sindhupalchowk'], ['2077-5-26\\n2020-09-11', '09:30\\n03:45', '26.76', '88.21', '5.0', 'Nepal India Border'], ['2077-5-24\\n2020-09-09', '15:48\\n10:03', '27.92', '84.94', '4.0', 'Dhading'], ['2077-5-19\\n2020-09-04', '07:20\\n01:35', '27.58', '87.19', '4.0', 'Sankhuwasabha'], ['2077-5-9\\n2020-08-25', '21:09\\n15:24', '29.59', '80.89', '4.7', 'Bajhang'], ['2077-4-31\\n2020-08-15', '16:07\\n10:22', '27.8', '87.62', '4.2', 'Sankhuwasabha'], ['2077-3-2\\n2020-06-16', '09:53\\n04:08', '27.88', '86.20', '4.1', 'Dolakha'], ['2077-2-17\\n2020-05-30', '21:36\\n15:51', '27.85', '84.93', '4.8', 'Dhading'], ['2077-2-13\\n2020-05-26', '16:00\\n10:15', '29.73', '82.01', '4.2', 'Humla/Mugu'], ['2077-1-30\\n2020-05-12', '23:53\\n18:08', '27.65', '86.15', '5.3', 'Dolakha'], ['2077-1-4\\n2020-04-15', '00:55\\n19:10', '27.55', '86.59', '4.7', 'Solukhumbu'], ['2076-12-20\\n2020-04-02', '20:55\\n15:10', '29.58', '80.96', '4.0', 'Bajhang'], ['2076-12-12\\n2020-03-25', '18:36\\n12:51', '28.01', '84.97', '4.0', 'Dhading'], ['2076-12-2\\n2020-03-15', '20:45\\n15:00', '28.34', '83.80', '5.0', 'Kaski'], ['2076-11-21\\n2020-03-04', '19:17\\n13:32', '27.79', '86.18', '4.3', 'Dolakha'], ['2076-11-7\\n2020-02-19', '21:13\\n15:28', '29.71', '81.69', '4.3', 'Bajura/Humla'], ['2076-10-14\\n2020-01-28', '07:59\\n02:14', '29.61', '81.71', '4.2', 'Bajura'], ['2076-9-27\\n2020-01-12', '20:19\\n14:34', '29.58', '81.71', '4.5', 'Bajura'], ['2076-9-28\\n2020-01-12', '02:07\\n20:22', '29.59', '81.73', '4.2', 'Bajura']]\n"
     ]
    }
   ],
   "source": [
    "finalList=list() #['Date', 'Time', 'Latitude', 'Longitude', 'Magnitude(ML)', 'Epicenter']\n",
    "magnitudes=list()\n",
    "\n",
    "for row in pq(allRowMaterial).find('tr').items(): #each and every selected element traverse/travel!\n",
    "    edate = row.find('td.table-date').text().strip()\n",
    "    etime = row.find('td.table-time').text().strip()\n",
    "    elatitude = row.find('td.table-latitude').text().strip()\n",
    "    elongitude = row.find('td.table-longitude').text().strip()\n",
    "    emagnitude = row.find('td.table-magnitude').text().strip()\n",
    "    epicentre = row.find('td.table-epicenter').text().strip()\n",
    "    \n",
    "    if edate:\n",
    "        finalList.append([edate, etime, elatitude, elongitude, emagnitude, epicentre])\n",
    "        magnitudes.append(float(emagnitude))\n",
    "        \n",
    "print(finalList)"
   ]
  },
  {
   "cell_type": "code",
   "execution_count": 24,
   "metadata": {},
   "outputs": [
    {
     "name": "stdout",
     "output_type": "stream",
     "text": [
      "Total Records found:  19\n",
      "['2077-5-31\\n2020-09-15', '05:19\\n23:34', '27.77', '85.88', '6.0', 'Sindhupalchowk']\n",
      "['2076-9-28\\n2020-01-12', '02:07\\n20:22', '29.59', '81.73', '4.2', 'Bajura']\n"
     ]
    }
   ],
   "source": [
    "print(\"Total Records found: \",len(finalList))\n",
    "print(finalList[0])\n",
    "print(finalList[-1])"
   ]
  },
  {
   "cell_type": "code",
   "execution_count": 25,
   "metadata": {},
   "outputs": [
    {
     "name": "stdout",
     "output_type": "stream",
     "text": [
      "[6.0, 5.0, 4.0, 4.0, 4.7, 4.2, 4.1, 4.8, 4.2, 5.3, 4.7, 4.0, 4.0, 5.0, 4.3, 4.3, 4.2, 4.5, 4.2]\n"
     ]
    }
   ],
   "source": [
    "print(magnitudes)"
   ]
  },
  {
   "cell_type": "markdown",
   "metadata": {},
   "source": [
    "### General Plotting "
   ]
  },
  {
   "cell_type": "code",
   "execution_count": 33,
   "metadata": {},
   "outputs": [
    {
     "data": {
      "image/png": "[encoded data removed]",
      "text/plain": [
       "<Figure size 432x288 with 1 Axes>"
      ]
     },
     "metadata": {
      "needs_background": "light"
     },
     "output_type": "display_data"
    },
    {
     "data": {
      "image/png": "[encoded data removed]",
      "text/plain": [
       "<Figure size 432x288 with 1 Axes>"
      ]
     },
     "metadata": {},
     "output_type": "display_data"
    }
   ],
   "source": [
    "import matplotlib.pyplot as plt\n",
    "plt.plot(magnitudes) #line\n",
    "plt.show()\n",
    "#plt.bar(range(0,19),magnitudes) #bar\n",
    "#plt.show()\n",
    "plt.pie(magnitudes,labels=magnitudes)#pie\n",
    "plt.show()\n"
   ]
  },
  {
   "cell_type": "code",
   "execution_count": null,
   "metadata": {},
   "outputs": [],
   "source": [
    "'''allRows = pq(page).find('table.data_table tbody tr').remove('small,a.btn,td.table-remarks').text()\n",
    "for row in pq(allRows).items():\n",
    "    print(row)\n",
    "    break\n",
    "'''"
   ]
  },
  {
   "cell_type": "markdown",
   "metadata": {},
   "source": [
    "# Tasks\n",
    "1. edate , etime: remove values before '\\n'\n",
    "2. Create CSV and JSON file with cleaned data\n",
    "\n",
    "#Final Task\n",
    "#Project http://seismonepal.gov.np/earthquakes/2019 Apply! - 'Scraping_seismonepal_2019'"
   ]
  }
 ],
 "metadata": {
  "kernelspec": {
   "display_name": "Python 3.7.0 32-bit",
   "language": "python",
   "name": "python37032bit5c9370e1c10f47d2a6b751db754ffb65"
  },
  "language_info": {
   "codemirror_mode": {
    "name": "ipython",
    "version": 3
   },
   "file_extension": ".py",
   "mimetype": "text/x-python",
   "name": "python",
   "nbconvert_exporter": "python",
   "pygments_lexer": "ipython3",
   "version": "3.7.6"
  }
 },
 "nbformat": 4,
 "nbformat_minor": 4
}
