{
 "cells": [
  {
   "cell_type": "markdown",
   "metadata": {},
   "source": [
    "## Random Numbers\n",
    "#### Refer for nice doc https://www.w3schools.com/python/numpy_random.asp "
   ]
  },
  {
   "cell_type": "code",
   "execution_count": 34,
   "metadata": {},
   "outputs": [],
   "source": [
    "import numpy as np \n",
    "\n",
    "from numpy import random as rd\n",
    "\n",
    "#import random as pyrd  #inbuilt Python -> check (pip install random --user)"
   ]
  },
  {
   "cell_type": "code",
   "execution_count": 42,
   "metadata": {},
   "outputs": [
    {
     "data": {
      "text/plain": [
       "array([31, 45, 21, 12, 23, 11, 34])"
      ]
     },
     "execution_count": 42,
     "metadata": {},
     "output_type": "execute_result"
    }
   ],
   "source": [
    "xyz=np.array([23,45,12,34,11,21,31]) \n",
    "\n",
    "rd.shuffle(xyz)  #shuffle: value randomize\n",
    "xyz"
   ]
  },
  {
   "cell_type": "code",
   "execution_count": 35,
   "metadata": {},
   "outputs": [
    {
     "data": {
      "text/plain": [
       "array([23, 45, 12, 34, 11, 21, 31])"
      ]
     },
     "execution_count": 35,
     "metadata": {},
     "output_type": "execute_result"
    }
   ],
   "source": [
    "xyz=np.array([23,45,12,34,11,21,31]) \n",
    "xyz"
   ]
  },
  {
   "cell_type": "code",
   "execution_count": 3,
   "metadata": {},
   "outputs": [
    {
     "data": {
      "text/plain": [
       "array([45, 11, 31, 21, 23, 12, 34])"
      ]
     },
     "execution_count": 3,
     "metadata": {},
     "output_type": "execute_result"
    }
   ],
   "source": [
    "rd.permutation(xyz) #shuffle               Randomly permute a sequence, or return a permuted range."
   ]
  },
  {
   "cell_type": "code",
   "execution_count": 4,
   "metadata": {},
   "outputs": [
    {
     "data": {
      "text/plain": [
       "3"
      ]
     },
     "execution_count": 4,
     "metadata": {},
     "output_type": "execute_result"
    }
   ],
   "source": [
    "rd.choice([3, 5, 7, 9]) #Pick: from given array!"
   ]
  },
  {
   "cell_type": "code",
   "execution_count": 5,
   "metadata": {},
   "outputs": [
    {
     "data": {
      "text/plain": [
       "array([[0, 3, 7],\n",
       "       [2, 1, 7],\n",
       "       [1, 7, 0]])"
      ]
     },
     "execution_count": 5,
     "metadata": {},
     "output_type": "execute_result"
    }
   ],
   "source": [
    "rd.choice([3, 5, 7, 9,10,1,2,0,20,99,11],size=(3,3))"
   ]
  },
  {
   "cell_type": "code",
   "execution_count": 6,
   "metadata": {},
   "outputs": [
    {
     "data": {
      "text/plain": [
       "array([3, 7, 9, 7, 3, 3, 7, 5, 9, 5, 5, 3, 5, 3, 7, 5, 7, 9, 7, 7])"
      ]
     },
     "execution_count": 6,
     "metadata": {},
     "output_type": "execute_result"
    }
   ],
   "source": [
    "#'p' defines probability for each mapped array element ==1\n",
    "\n",
    "rd.choice([3, 5, 7, 9], p=[0.3, 0.2, 0.3, 0.2], size=(20)) "
   ]
  },
  {
   "cell_type": "code",
   "execution_count": 7,
   "metadata": {},
   "outputs": [
    {
     "data": {
      "text/plain": [
       "array([[3, 5, 3, 5, 3],\n",
       "       [5, 5, 5, 5, 5],\n",
       "       [5, 3, 5, 3, 9],\n",
       "       [3, 7, 7, 5, 9]])"
      ]
     },
     "execution_count": 7,
     "metadata": {},
     "output_type": "execute_result"
    }
   ],
   "source": [
    "rd.choice([3, 5, 7, 9], p=[0.4, 0.4, 0.1, 0.1], size=(4, 5))"
   ]
  },
  {
   "cell_type": "code",
   "execution_count": 8,
   "metadata": {},
   "outputs": [
    {
     "name": "stdout",
     "output_type": "stream",
     "text": [
      "The history saving thread hit an unexpected error (OperationalError('database is locked')).History will not be written to the database."
     ]
    },
    {
     "data": {
      "text/plain": [
       "0.10683360434675471"
      ]
     },
     "execution_count": 8,
     "metadata": {},
     "output_type": "execute_result"
    },
    {
     "name": "stdout",
     "output_type": "stream",
     "text": [
      "\n"
     ]
    }
   ],
   "source": [
    "rd.random() #random using np: cumsum, cumprod, where (logical)"
   ]
  },
  {
   "cell_type": "code",
   "execution_count": 9,
   "metadata": {},
   "outputs": [
    {
     "data": {
      "text/plain": [
       "array([0.97760016, 0.42920666, 0.50373649])"
      ]
     },
     "execution_count": 9,
     "metadata": {},
     "output_type": "execute_result"
    }
   ],
   "source": [
    "rd.random(3)"
   ]
  },
  {
   "cell_type": "code",
   "execution_count": 10,
   "metadata": {},
   "outputs": [
    {
     "data": {
      "text/plain": [
       "array([0.3983319 , 0.47880162, 0.28097494, 0.23870068, 0.72807691,\n",
       "       0.37951794, 0.17861271, 0.3195626 , 0.94145351, 0.99072939])"
      ]
     },
     "execution_count": 10,
     "metadata": {},
     "output_type": "execute_result"
    }
   ],
   "source": [
    "rf = np.random.rand(10) #10 Float numbers 0 to 1\n",
    "rf"
   ]
  },
  {
   "cell_type": "code",
   "execution_count": 11,
   "metadata": {},
   "outputs": [
    {
     "data": {
      "text/plain": [
       "array([[0.17330359, 0.00192083, 0.3597525 , 0.84741883],\n",
       "       [0.40111968, 0.53187583, 0.73418199, 0.12540007]])"
      ]
     },
     "execution_count": 11,
     "metadata": {},
     "output_type": "execute_result"
    }
   ],
   "source": [
    "rf1 = np.random.rand(2,4) \n",
    "rf1"
   ]
  },
  {
   "cell_type": "code",
   "execution_count": 12,
   "metadata": {},
   "outputs": [
    {
     "data": {
      "text/plain": [
       "array([[[-0.84735513,  1.15489255, -1.02406492,  0.19626866],\n",
       "        [-0.79807126, -0.86332614,  0.4005937 , -1.54928507]],\n",
       "\n",
       "       [[-0.16873566, -0.36777883,  0.38565377,  2.11832507],\n",
       "        [ 0.16560311,  0.60078398,  0.99505723,  0.24664411]],\n",
       "\n",
       "       [[-0.26733703, -1.40685552,  0.25662835, -0.06936258],\n",
       "        [ 0.73167775,  0.94453638,  0.13602111,  0.81383752]]])"
      ]
     },
     "execution_count": 12,
     "metadata": {},
     "output_type": "execute_result"
    }
   ],
   "source": [
    "rf2 = np.random.randn(3,2,4) #3 rows with 2,4   # -1 0 1\n",
    "rf2 "
   ]
  },
  {
   "cell_type": "code",
   "execution_count": 13,
   "metadata": {},
   "outputs": [
    {
     "data": {
      "text/plain": [
       "array([ 1.2296456 ,  2.76213865, -1.67150478,  1.31452911, -0.06503627,\n",
       "       -0.23473387,  3.47305   , -1.93041337, -0.38589428, -0.05406956,\n",
       "       -1.70309017,  0.64473973, -0.52284081,  1.52045232,  0.57327441,\n",
       "        1.51103744, -0.58360869, -0.0747697 ,  1.14596722, -0.10655358,\n",
       "        0.58456445, -1.68595285,  0.5301645 , -0.22135261,  0.62430312,\n",
       "       -1.44435241, -1.22096458,  0.13770287, -0.38560561, -3.03920253,\n",
       "       -0.92760783, -0.64680735,  0.73963555, -0.74379609, -0.05007727,\n",
       "       -0.47474921, -0.7425876 , -1.56264329, -0.1536858 ,  1.04175061,\n",
       "       -0.10036497, -2.04351322,  2.34119042,  0.42229604,  0.93820971,\n",
       "       -0.52927925,  0.21978783,  1.27483574,  1.01822163,  0.87818064,\n",
       "        0.77081605])"
      ]
     },
     "execution_count": 13,
     "metadata": {},
     "output_type": "execute_result"
    }
   ],
   "source": [
    "rf3 = np.random.randn(51) \n",
    "rf3"
   ]
  },
  {
   "cell_type": "code",
   "execution_count": 14,
   "metadata": {},
   "outputs": [
    {
     "data": {
      "text/plain": [
       "8"
      ]
     },
     "execution_count": 14,
     "metadata": {},
     "output_type": "execute_result"
    }
   ],
   "source": [
    "r1 = np.random.randint(10) #Single Int 0 to 10\n",
    "r1"
   ]
  },
  {
   "cell_type": "code",
   "execution_count": 15,
   "metadata": {},
   "outputs": [
    {
     "data": {
      "text/plain": [
       "array([[5, 8, 4, 9, 1, 6, 6, 0, 4, 7, 3, 1, 6, 5, 7]])"
      ]
     },
     "execution_count": 15,
     "metadata": {},
     "output_type": "execute_result"
    }
   ],
   "source": [
    "r2 = np.random.randint(10,size=(1,15)) #Single Int 0 to 10\n",
    "r2"
   ]
  },
  {
   "cell_type": "code",
   "execution_count": 16,
   "metadata": {},
   "outputs": [
    {
     "data": {
      "text/plain": [
       "14"
      ]
     },
     "execution_count": 16,
     "metadata": {},
     "output_type": "execute_result"
    }
   ],
   "source": [
    "np.count_nonzero(r2) #Counts the number of non-zero elements in the input array"
   ]
  },
  {
   "cell_type": "code",
   "execution_count": 17,
   "metadata": {},
   "outputs": [
    {
     "data": {
      "text/plain": [
       "(array([0, 0, 0, 0, 0, 0, 0, 0, 0, 0, 0, 0, 0, 0], dtype=int64),\n",
       " array([ 0,  1,  2,  3,  4,  5,  6,  8,  9, 10, 11, 12, 13, 14],\n",
       "       dtype=int64))"
      ]
     },
     "execution_count": 17,
     "metadata": {},
     "output_type": "execute_result"
    }
   ],
   "source": [
    "np.nonzero(r2) #Return the indices of the elements that are non-zero."
   ]
  },
  {
   "cell_type": "code",
   "execution_count": 18,
   "metadata": {},
   "outputs": [
    {
     "data": {
      "text/plain": [
       "array([[33, 78, 33, 27, 58, 17],\n",
       "       [83, 17, 13, 90, 37, 23]])"
      ]
     },
     "execution_count": 18,
     "metadata": {},
     "output_type": "execute_result"
    }
   ],
   "source": [
    "r3 = np.random.randint(99,size=(2,6)) #random int from 0-99 in asked size -- shape!\n",
    "r3"
   ]
  },
  {
   "cell_type": "code",
   "execution_count": 19,
   "metadata": {},
   "outputs": [
    {
     "data": {
      "text/plain": [
       "array([14,  5, 30, 15, 19, 61,  6, 12, 11, 42, 64, 62,  3, 47, 54, 35,  1,\n",
       "       35, 54, 42, 10, 70, 70, 56, 11, 56, 15, 21, 37, 57, 58,  5, 16,  6,\n",
       "        7, 47, 65, 18, 63, 57, 40, 22, 45, 73, 65, 61, 61, 16, 20,  4])"
      ]
     },
     "execution_count": 19,
     "metadata": {},
     "output_type": "execute_result"
    }
   ],
   "source": [
    "r4=np.random.randint(1,80,50)#.reshape((5,4))   #np.random.randint(80,size=(1,20))\n",
    "r4"
   ]
  },
  {
   "cell_type": "code",
   "execution_count": 20,
   "metadata": {},
   "outputs": [
    {
     "data": {
      "text/plain": [
       "array([[14,  5, 30, 15, 19, 61,  6, 12, 11, 42, 64, 62,  3, 47, 54, 35,\n",
       "         1, 35, 54, 42, 10, 70, 70, 56, 11],\n",
       "       [56, 15, 21, 37, 57, 58,  5, 16,  6,  7, 47, 65, 18, 63, 57, 40,\n",
       "        22, 45, 73, 65, 61, 61, 16, 20,  4]])"
      ]
     },
     "execution_count": 20,
     "metadata": {},
     "output_type": "execute_result"
    }
   ],
   "source": [
    "r45 = r4.reshape((2,25))\n",
    "r45"
   ]
  },
  {
   "cell_type": "code",
   "execution_count": 21,
   "metadata": {},
   "outputs": [
    {
     "data": {
      "text/plain": [
       "array([[58, 22,  4, 78,  2, 61, 78,  2, 64, 17],\n",
       "       [ 1,  0, 52, 58, 20, 62, 10,  2, 76, 73]])"
      ]
     },
     "execution_count": 21,
     "metadata": {},
     "output_type": "execute_result"
    }
   ],
   "source": [
    "r5=np.random.randint(0,80,20).reshape((2,10))       #TASK: probability??\n",
    "r5"
   ]
  },
  {
   "cell_type": "code",
   "execution_count": 22,
   "metadata": {},
   "outputs": [
    {
     "data": {
      "text/plain": [
       "73"
      ]
     },
     "execution_count": 22,
     "metadata": {},
     "output_type": "execute_result"
    }
   ],
   "source": [
    "r4.max()"
   ]
  },
  {
   "cell_type": "code",
   "execution_count": 23,
   "metadata": {},
   "outputs": [
    {
     "data": {
      "text/plain": [
       "78"
      ]
     },
     "execution_count": 23,
     "metadata": {},
     "output_type": "execute_result"
    }
   ],
   "source": [
    "r5.max()"
   ]
  },
  {
   "cell_type": "code",
   "execution_count": 24,
   "metadata": {},
   "outputs": [
    {
     "data": {
      "text/plain": [
       "0"
      ]
     },
     "execution_count": 24,
     "metadata": {},
     "output_type": "execute_result"
    }
   ],
   "source": [
    "r5.min()"
   ]
  },
  {
   "cell_type": "code",
   "execution_count": 25,
   "metadata": {},
   "outputs": [
    {
     "data": {
      "text/plain": [
       "1.6159499581044294"
      ]
     },
     "execution_count": 25,
     "metadata": {},
     "output_type": "execute_result"
    }
   ],
   "source": [
    "#Random Float Values from Given Input Range!\n",
    "\n",
    "np.random.uniform(1,10)"
   ]
  },
  {
   "cell_type": "code",
   "execution_count": 26,
   "metadata": {},
   "outputs": [
    {
     "data": {
      "text/plain": [
       "array([[8.855618  , 9.10975647, 5.77019017, 9.14765842, 7.33549529],\n",
       "       [4.53384605, 2.96858767, 3.94055101, 7.3547323 , 1.42487789]])"
      ]
     },
     "execution_count": 26,
     "metadata": {},
     "output_type": "execute_result"
    }
   ],
   "source": [
    "np.random.uniform(1,10,size=(2,5))"
   ]
  },
  {
   "cell_type": "markdown",
   "metadata": {},
   "source": [
    "## Normal Distribution (Gaussian Distribution)"
   ]
  },
  {
   "cell_type": "code",
   "execution_count": 27,
   "metadata": {},
   "outputs": [
    {
     "data": {
      "text/plain": [
       "11.604955753284788"
      ]
     },
     "execution_count": 27,
     "metadata": {},
     "output_type": "execute_result"
    }
   ],
   "source": [
    "nd = np.random.normal(10)#(3,5)) \n",
    "nd"
   ]
  },
  {
   "cell_type": "code",
   "execution_count": 28,
   "metadata": {},
   "outputs": [
    {
     "data": {
      "text/plain": [
       "array([1.6354475 , 7.66739139])"
      ]
     },
     "execution_count": 28,
     "metadata": {},
     "output_type": "execute_result"
    }
   ],
   "source": [
    "nd1 = np.random.normal((1,9))\n",
    "nd1"
   ]
  },
  {
   "cell_type": "code",
   "execution_count": 29,
   "metadata": {},
   "outputs": [
    {
     "data": {
      "text/plain": [
       "array([  68.23977159,  177.0336149 ,  201.28390086,  163.27548672,\n",
       "       -228.68375407,  -10.05409479,  -57.02935993,   20.3652977 ,\n",
       "          1.97678668,   29.34228912,   32.05965077,  -58.46095459,\n",
       "       -132.82637846,   92.45467379, -103.87573396])"
      ]
     },
     "execution_count": 29,
     "metadata": {},
     "output_type": "execute_result"
    }
   ],
   "source": [
    "nd2 = np.random.normal(1,99,15)\n",
    "nd2"
   ]
  },
  {
   "cell_type": "code",
   "execution_count": 30,
   "metadata": {},
   "outputs": [
    {
     "data": {
      "text/plain": [
       "array([[-0.29741152, -0.85767   , -0.28247163, -1.94067609],\n",
       "       [-0.78110591, -0.84441558, -0.95276037,  1.10987012]])"
      ]
     },
     "execution_count": 30,
     "metadata": {},
     "output_type": "execute_result"
    }
   ],
   "source": [
    "nd3 = np.random.normal(size=(2,4))\n",
    "nd3"
   ]
  },
  {
   "cell_type": "code",
   "execution_count": 31,
   "metadata": {},
   "outputs": [
    {
     "data": {
      "text/plain": [
       "array([[ 2.20839615,  2.7753362 ,  2.0108401 ],\n",
       "       [ 1.78340912, -0.77061609,  2.51113744]])"
      ]
     },
     "execution_count": 31,
     "metadata": {},
     "output_type": "execute_result"
    }
   ],
   "source": [
    "# Random normal distribution with mean=2, std=2.5 and size(x,y)\n",
    "\n",
    "nd4 = rd.normal(loc=1, scale=2, size=(2, 3))\n",
    "nd4"
   ]
  },
  {
   "cell_type": "markdown",
   "metadata": {},
   "source": [
    "#### from numpy import random\n",
    "import matplotlib.pyplot as plt\n",
    "import seaborn as sns\n",
    "sns.distplot(random.normal(size=1000), hist=False)\n",
    "plt.show()"
   ]
  },
  {
   "cell_type": "markdown",
   "metadata": {},
   "source": [
    "Binomial or Discrete Distribution!"
   ]
  },
  {
   "cell_type": "code",
   "execution_count": 32,
   "metadata": {},
   "outputs": [
    {
     "data": {
      "text/plain": [
       "array([5, 5, 8, 5, 3, 6, 7, 2, 6, 5])"
      ]
     },
     "execution_count": 32,
     "metadata": {},
     "output_type": "execute_result"
    }
   ],
   "source": [
    "# Binomial distribution with number_of_trial=2, probability_of_each_trial=2.5 and size(x,y)\n",
    "\n",
    "rd.binomial(n=10, p=0.5, size=10)"
   ]
  },
  {
   "cell_type": "code",
   "execution_count": 33,
   "metadata": {},
   "outputs": [
    {
     "data": {
      "text/plain": [
       "array([[1, 1, 2, 2],\n",
       "       [1, 2, 2, 2]])"
      ]
     },
     "execution_count": 33,
     "metadata": {},
     "output_type": "execute_result"
    }
   ],
   "source": [
    "rd.binomial(n=2, p=0.5, size=(2,4))"
   ]
  }
 ],
 "metadata": {
  "kernelspec": {
   "display_name": "Python 3.7.0 32-bit",
   "language": "python",
   "name": "python37032bit5c9370e1c10f47d2a6b751db754ffb65"
  },
  "language_info": {
   "codemirror_mode": {
    "name": "ipython",
    "version": 3
   },
   "file_extension": ".py",
   "mimetype": "text/x-python",
   "name": "python",
   "nbconvert_exporter": "python",
   "pygments_lexer": "ipython3",
   "version": "3.7.6"
  }
 },
 "nbformat": 4,
 "nbformat_minor": 4
}
