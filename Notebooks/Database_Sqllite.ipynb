{
 "cells": [
  {
   "cell_type": "markdown",
   "metadata": {},
   "source": [
    "# SQLite"
   ]
  },
  {
   "cell_type": "markdown",
   "metadata": {},
   "source": [
    "SQLite is a C-language library that implements a SQL <u>(Structured Query Language)</u>\n",
    " database engine that is relatively quick, serverless and self-contained, high-reliable. SQLite is the most commonly used database engine in the test environment. <a href=\"#top\"></a>\n",
    " \n",
    " https://www.sqlite.org  |   https://sqlitebrowser.org/   |   https://www.sqliteviewer.org/database/   |   https://sqliteonline.com/   |   https://www.w3schools.com/sql/default.asp | https://www.sqlitetutorial.net/"
   ]
  },
  {
   "cell_type": "code",
   "execution_count": 1,
   "metadata": {},
   "outputs": [],
   "source": [
    "import sqlite3 as s3"
   ]
  },
  {
   "cell_type": "code",
   "execution_count": 2,
   "metadata": {},
   "outputs": [
    {
     "data": {
      "text/plain": [
       "'2.6.0'"
      ]
     },
     "execution_count": 2,
     "metadata": {},
     "output_type": "execute_result"
    }
   ],
   "source": [
    "s3.version#dir(s3)"
   ]
  },
  {
   "cell_type": "markdown",
   "metadata": {},
   "source": [
    "<b>Basic Database related Actions:</b> \n",
    "\n",
    "<ul>\n",
    "    <li>Create/Connect <u>Databases</u> (.db type) -- A Database can contain multiple Tables.</li>\n",
    "    <li>Deploy CRUD (Create, Retrieve, Update, Delete) operations with <u>Tables (Structured Data in Row and Column format)</u> from Database</li>\n",
    "    <li>Share information etc with <u>Python</u> Application</li>\n",
    "</ul>   \n"
   ]
  },
  {
   "cell_type": "markdown",
   "metadata": {},
   "source": [
    "<img src=\"table_str.png\" /> "
   ]
  },
  {
   "cell_type": "markdown",
   "metadata": {},
   "source": [
    "### Create Tables using Connection established"
   ]
  },
  {
   "cell_type": "code",
   "execution_count": 3,
   "metadata": {},
   "outputs": [],
   "source": [
    "# Creating a SQLite Database! Connection object ==> (:memory:) in memory object can also be created\n",
    "\n\n",
    "conn = s3.connect('userOrdersNew.db')  #conn is Connection object required for other activity!"
   ]
  },
  {
   "cell_type": "code",
   "execution_count": 4,
   "metadata": {},
   "outputs": [
    {
     "data": {
      "text/plain": [
       "<sqlite3.Connection at 0x22ef56001f0>"
      ]
     },
     "execution_count": 4,
     "metadata": {},
     "output_type": "execute_result"
    }
   ],
   "source": [
    "conn"
   ]
  },
  {
   "cell_type": "code",
   "execution_count": 5,
   "metadata": {},
   "outputs": [
    {
     "data": {
      "text/plain": [
       "['DataError',\n",
       " 'DatabaseError',\n",
       " 'Error',\n",
       " 'IntegrityError',\n",
       " 'InterfaceError',\n",
       " 'InternalError',\n",
       " 'NotSupportedError',\n",
       " 'OperationalError',\n",
       " 'ProgrammingError',\n",
       " 'Warning',\n",
       " '__call__',\n",
       " '__class__',\n",
       " '__delattr__',\n",
       " '__dir__',\n",
       " '__doc__',\n",
       " '__enter__',\n",
       " '__eq__',\n",
       " '__exit__',\n",
       " '__format__',\n",
       " '__ge__',\n",
       " '__getattribute__',\n",
       " '__gt__',\n",
       " '__hash__',\n",
       " '__init__',\n",
       " '__init_subclass__',\n",
       " '__le__',\n",
       " '__lt__',\n",
       " '__ne__',\n",
       " '__new__',\n",
       " '__reduce__',\n",
       " '__reduce_ex__',\n",
       " '__repr__',\n",
       " '__setattr__',\n",
       " '__sizeof__',\n",
       " '__str__',\n",
       " '__subclasshook__',\n",
       " 'backup',\n",
       " 'close',\n",
       " 'commit',\n",
       " 'create_aggregate',\n",
       " 'create_collation',\n",
       " 'create_function',\n",
       " 'cursor',\n",
       " 'enable_load_extension',\n",
       " 'execute',\n",
       " 'executemany',\n",
       " 'executescript',\n",
       " 'in_transaction',\n",
       " 'interrupt',\n",
       " 'isolation_level',\n",
       " 'iterdump',\n",
       " 'load_extension',\n",
       " 'rollback',\n",
       " 'row_factory',\n",
       " 'set_authorizer',\n",
       " 'set_progress_handler',\n",
       " 'set_trace_callback',\n",
       " 'text_factory',\n",
       " 'total_changes']"
      ]
     },
     "execution_count": 5,
     "metadata": {},
     "output_type": "execute_result"
    }
   ],
   "source": [
    "dir(conn)"
   ]
  },
  {
   "cell_type": "code",
   "execution_count": 6,
   "metadata": {},
   "outputs": [],
   "source": [
    "# Creating Cursor: cursor object is required to execute SQL\n",
    "\n",
    "cur = conn.cursor()"
   ]
  },
  {
   "cell_type": "code",
   "execution_count": 7,
   "metadata": {},
   "outputs": [
    {
     "data": {
      "text/plain": [
       "<sqlite3.Cursor at 0x22ef5627030>"
      ]
     },
     "execution_count": 7,
     "metadata": {},
     "output_type": "execute_result"
    }
   ],
   "source": [
    "cur"
   ]
  },
  {
   "cell_type": "code",
   "execution_count": 10,
   "metadata": {},
   "outputs": [],
   "source": [
    "#Defining SQL to create Tables! Data Types for Column https://www.sqlite.org/datatype3.html\n",
    "\n",
    "# CREATE TABLE TableName;\n",
    "\n",
    "userTable=\"\"\"CREATE TABLE IF NOT EXISTS users(\n",
    "   userid INT PRIMARY KEY,\n",
    "   fname TEXT,\n",
    "   lname TEXT,\n",
    "   gender TEXT);\n",
    "\"\"\"\n",
    "\n",
    "orderTable=\"\"\"CREATE TABLE IF NOT EXISTS orders(\n",
    "   orderid INT PRIMARY KEY,\n",
    "   date TEXT,\n",
    "   userid TEXT,\n",
    "   total TEXT);\n",
    "\"\"\""
   ]
  },
  {
   "cell_type": "code",
   "execution_count": 11,
   "metadata": {},
   "outputs": [],
   "source": [
    "#execute(SQL QUERY): executes SQL query! \n",
    "\n",
    "cur.execute(userTable) #execute SQL\n",
    "conn.commit() #commit executed SQL to the database~! SAVE\n",
    "\n",
    "cur.execute(orderTable)\n",
    "conn.commit()"
   ]
  },
  {
   "cell_type": "markdown",
   "metadata": {},
   "source": [
    "#### Try loading records from Tables created"
   ]
  },
  {
   "cell_type": "code",
   "execution_count": 8,
   "metadata": {},
   "outputs": [
    {
     "data": {
      "text/plain": [
       "[(1, '2020-01-01', '00025', '178'),\n",
       " (2, '2020-01-03', '00025', '39'),\n",
       " (3, '2020-01-07', '00016', '153')]"
      ]
     },
     "execution_count": 8,
     "metadata": {},
     "output_type": "execute_result"
    }
   ],
   "source": [
    "cur.execute(\"SELECT * FROM orders\").fetchmany(3)"
   ]
  },
  {
   "cell_type": "code",
   "execution_count": 9,
   "metadata": {},
   "outputs": [
    {
     "data": {
      "text/plain": [
       "[(1, 'Nik', 'Piepenbreier', 'MALE'),\n",
       " (2, 'Lois', 'Lane', 'Female'),\n",
       " (5, 'Stephanie', 'Stewart', 'female'),\n",
       " (6, 'Sincere', 'Sherman', 'female'),\n",
       " (7, 'Sidney', 'Horn', 'male'),\n",
       " (8, 'Litzy', 'Yates', 'female'),\n",
       " (9, 'Jaxon', 'Mills', 'male'),\n",
       " (10, 'Paul', 'Richard', 'male'),\n",
       " (11, 'Kamari', 'Holden', 'female'),\n",
       " (12, 'Gaige', 'Summers', 'female')]"
      ]
     },
     "execution_count": 9,
     "metadata": {},
     "output_type": "execute_result"
    }
   ],
   "source": [
    "cur.execute(\"SELECT * FROM users\").fetchmany(10)"
   ]
  },
  {
   "cell_type": "code",
   "execution_count": 10,
   "metadata": {},
   "outputs": [
    {
     "data": {
      "text/plain": [
       "[(1, 'Nik', 'Piepenbreier', 'MALE'),\n",
       " (2, 'Lois', 'Lane', 'Female'),\n",
       " (5, 'Stephanie', 'Stewart', 'female'),\n",
       " (6, 'Sincere', 'Sherman', 'female'),\n",
       " (7, 'Sidney', 'Horn', 'male'),\n",
       " (8, 'Litzy', 'Yates', 'female'),\n",
       " (9, 'Jaxon', 'Mills', 'male'),\n",
       " (10, 'Paul', 'Richard', 'male'),\n",
       " (11, 'Kamari', 'Holden', 'female'),\n",
       " (12, 'Gaige', 'Summers', 'female'),\n",
       " (13, 'Andrea', 'Snow', 'female'),\n",
       " (14, 'Angelica', 'Barnes', 'female'),\n",
       " (15, 'Leah', 'Pitts', 'female'),\n",
       " (16, 'Dillan', 'Olsen', 'male'),\n",
       " (17, 'Joe', 'Walsh', 'male'),\n",
       " (18, 'Reagan', 'Cooper', 'male'),\n",
       " (19, 'Aubree', 'Hogan', 'female'),\n",
       " (20, 'Avery', 'Floyd', 'male'),\n",
       " (21, 'Elianna', 'Simmons', 'female'),\n",
       " (22, 'Rodney', 'Stout', 'male'),\n",
       " (23, 'Elaine', 'Mcintosh', 'female'),\n",
       " (24, 'Myla', 'Mckenzie', 'female'),\n",
       " (25, 'Alijah', 'Horn', 'female'),\n",
       " (26, 'Rohan', 'Peterson', 'male'),\n",
       " (27, 'Irene', 'Walters', 'female'),\n",
       " (28, 'Lilia', 'Sellers', 'female'),\n",
       " (29, 'Perla', 'Jefferson', 'female'),\n",
       " (30, 'Ashley', 'Klein', 'female'),\n",
       " (32, 'Anelka', 'S.C', 'M'),\n",
       " (288, 'Lois', 'Lane', 'F')]"
      ]
     },
     "execution_count": 10,
     "metadata": {},
     "output_type": "execute_result"
    }
   ],
   "source": [
    "cur.execute(\"SELECT * FROM users\").fetchall() "
   ]
  },
  {
   "cell_type": "code",
   "execution_count": 11,
   "metadata": {},
   "outputs": [
    {
     "data": {
      "text/plain": [
       "'\\ncur.execute(\"SELECT * FROM users\")\\nrecord = cur.fetchone() #fetch 1 Row!\\nprint(record)\\n'"
      ]
     },
     "execution_count": 11,
     "metadata": {},
     "output_type": "execute_result"
    }
   ],
   "source": [
    "cur.execute(\"SELECT * FROM users\").fetchone() \n",
    "#conn.commit()\n",
    "\n",
    "#cur.execute(\"SELECT * FROM orders\").fetchone()\n",
    "\n",
    "#OR\n",
    "'''\n",
    "cur.execute(\"SELECT * FROM users\")\n",
    "record = cur.fetchone() #fetch 1 Row!\n",
    "print(record)\n",
    "'''"
   ]
  },
  {
   "cell_type": "markdown",
   "metadata": {},
   "source": [
    "### Insert/Load data into/from Table: \n",
    "execute(), executemany(), ----------, \n",
    "fetchone(), fetchmany(), fetchmany(5), fetchall()"
   ]
  },
  {
   "cell_type": "code",
   "execution_count": 17,
   "metadata": {},
   "outputs": [],
   "source": [
    "row1=\"\"\"INSERT INTO users(userid, fname, lname, gender) \n",
    "        VALUES (32, 'Anelka', 'S.C', 'M')\n",
    "   \"\"\"\n",
    "#{'key1':'value1','key2':'value2',''key3':'value3''}\n",
    "\n",
    "cur.execute(row1)\n",
    "conn.commit()"
   ]
  },
  {
   "cell_type": "code",
   "execution_count": 19,
   "metadata": {},
   "outputs": [
    {
     "data": {
      "text/plain": [
       "(1, 'Nik', 'Piepenbreier', 'MALE')"
      ]
     },
     "execution_count": 19,
     "metadata": {},
     "output_type": "execute_result"
    }
   ],
   "source": [
    "cur.execute(\"SELECT * FROM users\").fetchone() "
   ]
  },
  {
   "cell_type": "code",
   "execution_count": 20,
   "metadata": {},
   "outputs": [],
   "source": [
    "row2 = ('00002', 'Lois', 'Lane', 'Female')\n",
    "#insert\n",
    "#cur.execute(\"INSERT INTO users VALUES\", row2)\n",
    "cur.execute(\"INSERT INTO users VALUES(288, 'Lois', 'Lane', 'F')\")\n",
    "conn.commit()"
   ]
  },
  {
   "cell_type": "code",
   "execution_count": 21,
   "metadata": {},
   "outputs": [
    {
     "data": {
      "text/plain": [
       "[(1, 'Nik', 'Piepenbreier', 'MALE')]"
      ]
     },
     "execution_count": 21,
     "metadata": {},
     "output_type": "execute_result"
    }
   ],
   "source": [
    "#load rows\n",
    "cur.execute(\"SELECT * FROM users\").fetchmany() "
   ]
  },
  {
   "cell_type": "code",
   "execution_count": 22,
   "metadata": {},
   "outputs": [
    {
     "data": {
      "text/plain": [
       "[(1, 'Nik', 'Piepenbreier', 'MALE'), (2, 'Lois', 'Lane', 'Female')]"
      ]
     },
     "execution_count": 22,
     "metadata": {},
     "output_type": "execute_result"
    }
   ],
   "source": [
    "cur.execute(\"SELECT * FROM users\").fetchmany(2) "
   ]
  },
  {
   "cell_type": "code",
   "execution_count": 12,
   "metadata": {},
   "outputs": [
    {
     "data": {
      "text/plain": [
       "[(1, 'Nik', 'Piepenbreier', 'MALE'),\n",
       " (2, 'Lois', 'Lane', 'Female'),\n",
       " (5, 'Stephanie', 'Stewart', 'female'),\n",
       " (6, 'Sincere', 'Sherman', 'female'),\n",
       " (7, 'Sidney', 'Horn', 'male'),\n",
       " (8, 'Litzy', 'Yates', 'female'),\n",
       " (9, 'Jaxon', 'Mills', 'male'),\n",
       " (10, 'Paul', 'Richard', 'male'),\n",
       " (11, 'Kamari', 'Holden', 'female'),\n",
       " (12, 'Gaige', 'Summers', 'female'),\n",
       " (13, 'Andrea', 'Snow', 'female'),\n",
       " (14, 'Angelica', 'Barnes', 'female'),\n",
       " (15, 'Leah', 'Pitts', 'female'),\n",
       " (16, 'Dillan', 'Olsen', 'male'),\n",
       " (17, 'Joe', 'Walsh', 'male'),\n",
       " (18, 'Reagan', 'Cooper', 'male'),\n",
       " (19, 'Aubree', 'Hogan', 'female'),\n",
       " (20, 'Avery', 'Floyd', 'male'),\n",
       " (21, 'Elianna', 'Simmons', 'female'),\n",
       " (22, 'Rodney', 'Stout', 'male'),\n",
       " (23, 'Elaine', 'Mcintosh', 'female'),\n",
       " (24, 'Myla', 'Mckenzie', 'female'),\n",
       " (25, 'Alijah', 'Horn', 'female'),\n",
       " (26, 'Rohan', 'Peterson', 'male'),\n",
       " (27, 'Irene', 'Walters', 'female'),\n",
       " (28, 'Lilia', 'Sellers', 'female'),\n",
       " (29, 'Perla', 'Jefferson', 'female'),\n",
       " (30, 'Ashley', 'Klein', 'female'),\n",
       " (32, 'Anelka', 'S.C', 'M'),\n",
       " (288, 'Lois', 'Lane', 'F')]"
      ]
     },
     "execution_count": 12,
     "metadata": {},
     "output_type": "execute_result"
    }
   ],
   "source": [
    "cur.execute(\"SELECT * FROM users\").fetchall()"
   ]
  },
  {
   "cell_type": "code",
   "execution_count": 25,
   "metadata": {},
   "outputs": [],
   "source": [
    "#cur.execute(\"SELECT * FROM orders\").fetchall()"
   ]
  },
  {
   "cell_type": "code",
   "execution_count": null,
   "metadata": {},
   "outputs": [],
   "source": [
    "#Insert multiple rows using executemany()\n",
    "\n",
    "userData = [('00005', 'Stephanie', 'Stewart', 'female'), ('00006', 'Sincere', 'Sherman', 'female'),\n",
    "            ('00007', 'Sidney', 'Horn', 'male'), ('00008', 'Litzy', 'Yates', 'female'), ('00009', 'Jaxon', 'Mills', 'male'),\n",
    "            ('00010', 'Paul', 'Richard', 'male'), ('00011', 'Kamari', 'Holden', 'female'), \n",
    "            ('00012', 'Gaige', 'Summers', 'female'), ('00013', 'Andrea', 'Snow', 'female'), \n",
    "            ('00014', 'Angelica', 'Barnes', 'female'), ('00015', 'Leah', 'Pitts', 'female'), \n",
    "            ('00016', 'Dillan', 'Olsen', 'male'), ('00017', 'Joe', 'Walsh', 'male'), ('00018', 'Reagan', 'Cooper', 'male'),\n",
    "            ('00019', 'Aubree', 'Hogan', 'female'), ('00020', 'Avery', 'Floyd', 'male'), \n",
    "            ('00021', 'Elianna', 'Simmons', 'female'), ('00022', 'Rodney', 'Stout', 'male'), \n",
    "            ('00023', 'Elaine', 'Mcintosh', 'female'), ('00024', 'Myla', 'Mckenzie', 'female'), \n",
    "            ('00025', 'Alijah', 'Horn', 'female'), ('00026', 'Rohan', 'Peterson', 'male'), \n",
    "            ('00027', 'Irene', 'Walters', 'female'), ('00028', 'Lilia', 'Sellers', 'female'), \n",
    "            ('00029', 'Perla', 'Jefferson', 'female'), ('00030', 'Ashley', 'Klein', 'female')]\n",
    "orderData = [('00001', '2020-01-01', '00025', '178'), ('00002', '2020-01-03', '00025', '39'), \n",
    "             ('00003', '2020-01-07', '00016', '153'), ('00004', '2020-01-10', '00015', '110'),\n",
    "             ('00005', '2020-01-11', '00024', '219'), ('00006', '2020-01-12', '00029', '37'),\n",
    "             ('00007', '2020-01-14', '00028', '227'), ('00008', '2020-01-18', '00010', '232'), \n",
    "             ('00009', '2020-01-22', '00016', '236'), ('00010', '2020-01-26', '00017', '116'), \n",
    "             ('00011', '2020-01-28', '00028', '221'), ('00012', '2020-01-31', '00021', '238'), \n",
    "             ('00013', '2020-02-02', '00015', '177'), ('00014', '2020-02-05', '00025', '76'),('00015', '2020-02-08', '00022', '245'), ('00016', '2020-02-12', '00008', '180'), \n",
    "             ('00017', '2020-02-14', '00020', '190'), ('00018', '2020-02-18', '00030', '166'),('00019', '2020-02-22', '00002', '168'), ('00020', '2020-02-26', '00021', '174'), \n",
    "             ('00021', '2020-02-29', '00017', '126'), ('00022', '2020-03-02', '00019', '211'),('00023', '2020-03-05', '00030', '144'), ('00024', '2020-03-09', '00012', '112'), \n",
    "             ('00025', '2020-03-10', '00006', '45'), ('00026', '2020-03-11', '00004', '200'), \n",
    "             ('00027', '2020-03-14', '00015', '226'), ('00028', '2020-03-17', '00030', '189'), \n",
    "             ('00029', '2020-03-20', '00004', '152'), ('00030', '2020-03-22', '00026', '239'), \n",
    "             ('00031', '2020-03-23', '00012', '135'), ('00032', '2020-03-24', '00013', '211'),\n",
    "             ('00033', '2020-03-27', '00030', '226'), ('00034', '2020-03-28', '00007', '173'), \n",
    "             ('00035', '2020-03-30', '00010', '144'), ('00036', '2020-04-01', '00017', '185'), \n",
    "             ('00037', '2020-04-03', '00009', '95'), ('00038', '2020-04-06', '00009', '138'), \n",
    "             ('00039', '2020-04-10', '00025', '223'), ('00040', '2020-04-12', '00019', '118'), ('00041', '2020-04-15', '00024', '132'), ('00042', '2020-04-18', '00008', '238'), ('00043', '2020-04-21', '00003', '50'), ('00044', '2020-04-25', '00019', '98'), ('00045', '2020-04-26', '00017', '167'), ('00046', '2020-04-28', '00009', '215'), ('00047', '2020-05-01', '00014', '142'), ('00048', '2020-05-05', '00022', '173'), ('00049', '2020-05-06', '00015', '80'), ('00050', '2020-05-07', '00017', '37'), ('00051', '2020-05-08', '00002', '36'), ('00052', '2020-05-10', '00022', '65'), ('00053', '2020-05-14', '00019', '110'), ('00054', '2020-05-18', '00017', '36'), ('00055', '2020-05-21', '00008', '163'), ('00056', '2020-05-24', '00024', '91'), ('00057', '2020-05-26', '00028', '154'), ('00058', '2020-05-30', '00022', '130'), ('00059', '2020-05-31', '00017', '119'), ('00060', '2020-06-01', '00024', '137'), ('00061', '2020-06-03', '00017', '206'), ('00062', '2020-06-04', '00013', '100'), ('00063', '2020-06-05', '00021', '187'), ('00064', '2020-06-09', '00025', '170'), ('00065', '2020-06-11', '00011', '149'), ('00066', '2020-06-12', '00007', '195'), ('00067', '2020-06-14', '00015', '30'), ('00068', '2020-06-16', '00002', '246'), ('00069', '2020-06-20', '00028', '163'), ('00070', '2020-06-22', '00005', '184'), ('00071', '2020-06-23', '00022', '68'), ('00072', '2020-06-27', '00013', '92'), ('00073', '2020-06-30', '00022', '149'), ('00074', '2020-07-04', '00002', '65'), ('00075', '2020-07-05', '00017', '88'), ('00076', '2020-07-09', '00007', '156'), ('00077', '2020-07-13', '00010', '26'), ('00078', '2020-07-16', '00008', '55'), ('00079', '2020-07-20', '00019', '81'), ('00080', '2020-07-22', '00011', '78'), ('00081', '2020-07-23', '00026', '166'), ('00082', '2020-07-27', '00014', '65'), ('00083', '2020-07-30', '00021', '205'), ('00084', '2020-08-01', '00026', '140'), ('00085', '2020-08-05', '00006', '236'), ('00086', '2020-08-06', '00021', '208'), ('00087', '2020-08-07', '00021', '169'), ('00088', '2020-08-08', '00004', '157'), ('00089', '2020-08-11', '00017', '71'), ('00090', '2020-08-13', '00025', '89'), ('00091', '2020-08-16', '00014', '249'), ('00092', '2020-08-18', '00012', '59'), ('00093', '2020-08-19', '00013', '121'), ('00094', '2020-08-20', '00025', '179'), ('00095', '2020-08-22', '00017', '208'), ('00096', '2020-08-26', '00024', '217'), ('00097', '2020-08-28', '00004', '206'), ('00098', '2020-08-30', '00017', '114'), ('00099', '2020-08-31', '00017', '169'), \n",
    "             ('00100', '2020-09-02', '00022', '226')]\n",
    "\n",
    "cur.executemany(\"INSERT INTO users VALUES(?, ?, ?, ?)\", userData)\n",
    "cur.executemany(\"INSERT INTO orders VALUES(?, ?, ?, ?)\", orderData)\n",
    "conn.commit()"
   ]
  },
  {
   "cell_type": "code",
   "execution_count": 35,
   "metadata": {},
   "outputs": [
    {
     "data": {
      "text/plain": [
       "(30,)"
      ]
     },
     "execution_count": 35,
     "metadata": {},
     "output_type": "execute_result"
    }
   ],
   "source": [
    "cur.execute(\"SELECT COUNT(*) FROM users\").fetchone()# #100"
   ]
  },
  {
   "cell_type": "code",
   "execution_count": 13,
   "metadata": {},
   "outputs": [
    {
     "name": "stdout",
     "output_type": "stream",
     "text": [
      "[(1, 'Nik', 'Piepenbreier', 'MALE'), (2, 'Lois', 'Lane', 'Female'), (5, 'Stephanie', 'Stewart', 'female'), (6, 'Sincere', 'Sherman', 'female'), (7, 'Sidney', 'Horn', 'male')]\n"
     ]
    },
    {
     "data": {
      "text/plain": [
       "[(1, '2020-01-01', '00025', '178'),\n",
       " (2, '2020-01-03', '00025', '39'),\n",
       " (3, '2020-01-07', '00016', '153'),\n",
       " (4, '2020-01-10', '00015', '110'),\n",
       " (5, '2020-01-11', '00024', '219'),\n",
       " (6, '2020-01-12', '00029', '37'),\n",
       " (7, '2020-01-14', '00028', '227'),\n",
       " (8, '2020-01-18', '00010', '232'),\n",
       " (9, '2020-01-22', '00016', '236'),\n",
       " (10, '2020-01-26', '00017', '116')]"
      ]
     },
     "execution_count": 13,
     "metadata": {},
     "output_type": "execute_result"
    }
   ],
   "source": [
    "#load/Retrieve multiple rows from Table\n",
    "userrecords = cur.execute(\"SELECT * FROM users\").fetchmany(5) \n",
    "print(userrecords)\n",
    "\n",
    "cur.execute(\"SELECT * FROM orders\").fetchmany(10) "
   ]
  },
  {
   "cell_type": "code",
   "execution_count": 14,
   "metadata": {},
   "outputs": [
    {
     "name": "stdout",
     "output_type": "stream",
     "text": [
      "[(1, 'Nik', 'Piepenbreier', 'MALE'), (32, 'Anelka', 'S.C', 'M')]\n"
     ]
    }
   ],
   "source": [
    "#Retrieve with condition!\n",
    "\n",
    "userrecords = cur.execute(\"SELECT * FROM users WHERE gender='MALE' or gender='M'\").fetchmany(10)\n",
    "#userrecords = cur.execute(\"SELECT fname,lname,gender FROM users WHERE gender='female'\").fetchall()# WHERE gender='male'\").fetchmany(10) \n",
    "#userrecords = cur.execute(\"SELECT fname,lname,gender FROM users WHERE gender LIKE 'fe%'\").fetchall()# WHERE gender='male'\").fetchmany(10) \n",
    "\n",
    "print(userrecords)"
   ]
  },
  {
   "cell_type": "code",
   "execution_count": 15,
   "metadata": {},
   "outputs": [
    {
     "data": {
      "text/plain": [
       "[(9, '2020-01-22', '00016', '236'),\n",
       " (10, '2020-01-26', '00017', '116'),\n",
       " (11, '2020-01-28', '00028', '221')]"
      ]
     },
     "execution_count": 15,
     "metadata": {},
     "output_type": "execute_result"
    }
   ],
   "source": [
    "cur.execute(\"SELECT * FROM orders WHERE date LIKE '2020-01-2%'\").fetchmany(5) # LIKE"
   ]
  },
  {
   "cell_type": "code",
   "execution_count": 16,
   "metadata": {},
   "outputs": [
    {
     "data": {
      "text/plain": [
       "[('245', '2020-02-08'),\n",
       " ('45', '2020-03-10'),\n",
       " ('135', '2020-03-23'),\n",
       " ('185', '2020-04-01'),\n",
       " ('95', '2020-04-03'),\n",
       " ('215', '2020-04-28'),\n",
       " ('65', '2020-05-10'),\n",
       " ('195', '2020-06-12'),\n",
       " ('65', '2020-07-04'),\n",
       " ('55', '2020-07-16')]"
      ]
     },
     "execution_count": 16,
     "metadata": {},
     "output_type": "execute_result"
    }
   ],
   "source": [
    "cur.execute(\"SELECT total,date FROM orders WHERE total LIKE '%5'\").fetchmany(10) # selected columns"
   ]
  },
  {
   "cell_type": "code",
   "execution_count": 18,
   "metadata": {},
   "outputs": [
    {
     "name": "stdout",
     "output_type": "stream",
     "text": [
      "[('Sidney',), ('Alijah',)]\n"
     ]
    }
   ],
   "source": [
    "#unique: distinct()\n",
    "#print(cur.execute(\"SELECT lname FROM users\").fetchall())\n",
    "#print(cur.execute(\"SELECT distinct(lname) FROM users\").fetchall())\n",
    "\n",
    "print(cur.execute(\"SELECT distinct(fname) FROM users WHERE lname='Horn'\").fetchall()) #=, ==\n"
   ]
  },
  {
   "cell_type": "code",
   "execution_count": 20,
   "metadata": {},
   "outputs": [
    {
     "name": "stdout",
     "output_type": "stream",
     "text": [
      "[(30,)]\n",
      "[(28,)]\n",
      "[(9,)]\n",
      "[(17,)]\n",
      "[(100,)]\n",
      "[(82,)]\n",
      "[(11961,)]\n",
      "[(14789,)]\n",
      "[(147.89,)]\n"
     ]
    }
   ],
   "source": [
    "#count(), distinct()\n",
    "print(cur.execute(\"SELECT COUNT(lname) FROM users\").fetchall())\n",
    "print(cur.execute(\"SELECT count(distinct(lname)) FROM users\").fetchall())\n",
    "print(cur.execute(\"SELECT COUNT(lname) FROM users WHERE gender='male'\").fetchall())\n",
    "print(cur.execute(\"SELECT COUNT(lname) FROM users WHERE gender='female'\").fetchall())\n",
    "print(cur.execute(\"SELECT count(total) FROM orders\").fetchall())\n",
    "print(cur.execute(\"SELECT count(distinct(total)) FROM orders\").fetchall())\n",
    "print(cur.execute(\"SELECT SUM(distinct(total)) FROM orders\").fetchall())\n",
    "print(cur.execute(\"SELECT SUM(total) FROM orders\").fetchall())\n",
    "print(cur.execute(\"SELECT AVG(total) FROM orders\").fetchall())"
   ]
  },
  {
   "cell_type": "markdown",
   "metadata": {},
   "source": [
    "### UPDATE"
   ]
  },
  {
   "cell_type": "code",
   "execution_count": 23,
   "metadata": {},
   "outputs": [
    {
     "name": "stdout",
     "output_type": "stream",
     "text": [
      "[(288, 'Lois', 'Lane', 'F')]\n"
     ]
    }
   ],
   "source": [
    "result = cur.execute(\"SELECT * FROM users WHERE fname='Lois' AND gender='F'\").fetchall() \n",
    "#(288, 'Lois', 'Lane', 'F')]\n",
    "print(result)"
   ]
  },
  {
   "cell_type": "code",
   "execution_count": 24,
   "metadata": {},
   "outputs": [],
   "source": [
    "updateQuery=\"\"\"UPDATE users SET fname='Louis',gender='Female' WHERE fname='Lois' AND gender='F'\"\"\"\n",
    "cur.execute(updateQuery) #Update\n",
    "conn.commit()"
   ]
  },
  {
   "cell_type": "code",
   "execution_count": 26,
   "metadata": {},
   "outputs": [
    {
     "name": "stdout",
     "output_type": "stream",
     "text": [
      "[]\n",
      "[(288, 'Louis', 'Lane', 'Female')]\n"
     ]
    }
   ],
   "source": [
    "result = cur.execute(\"SELECT * from users WHERE fname='Lois' AND gender='F'\").fetchall() #check for Update Happen!\n",
    "print(result)\n",
    "\n",
    "result = cur.execute(\"SELECT * from users WHERE userid=288\").fetchall() #check for Update Happen!\n",
    "print(result)"
   ]
  },
  {
   "cell_type": "markdown",
   "metadata": {},
   "source": [
    "## DELETE"
   ]
  },
  {
   "cell_type": "code",
   "execution_count": 27,
   "metadata": {},
   "outputs": [],
   "source": [
    "#Insert Temporary Row \n",
    "\n",
    "rowData = ('10002', 'TEST', 'Record', 'NULL')\n",
    "#insert\n",
    "cur.execute(\"INSERT INTO users VALUES(?, ?, ?, ?);\", rowData)\n",
    "conn.commit()"
   ]
  },
  {
   "cell_type": "code",
   "execution_count": 28,
   "metadata": {},
   "outputs": [
    {
     "name": "stdout",
     "output_type": "stream",
     "text": [
      "[(10002, 'TEST', 'Record', 'NULL')]\n"
     ]
    }
   ],
   "source": [
    "rowData = cur.execute(\"SELECT * from users WHERE gender='NULL'\").fetchall() #check for Update Happen!\n",
    "print(rowData)"
   ]
  },
  {
   "cell_type": "code",
   "execution_count": 29,
   "metadata": {},
   "outputs": [],
   "source": [
    "#Deleting Temporary Row\n",
    "cur.execute(\"DELETE FROM users WHERE userid='10002'\")\n",
    "conn.commit()"
   ]
  },
  {
   "cell_type": "code",
   "execution_count": 30,
   "metadata": {},
   "outputs": [
    {
     "name": "stdout",
     "output_type": "stream",
     "text": [
      "[]\n"
     ]
    }
   ],
   "source": [
    "rowData1 = cur.execute(\"SELECT * from users WHERE gender='NULL'\").fetchall() #check for Update Happen!\n",
    "print(rowData1)"
   ]
  },
  {
   "cell_type": "code",
   "execution_count": 31,
   "metadata": {},
   "outputs": [
    {
     "name": "stdout",
     "output_type": "stream",
     "text": [
      "[]\n"
     ]
    }
   ],
   "source": [
    "rowData1 = cur.execute(\"SELECT * from users WHERE userid='10002'\").fetchall() #check for Update Happen!\n",
    "print(rowData1)"
   ]
  },
  {
   "cell_type": "markdown",
   "metadata": {},
   "source": [
    "### JOIN - mutiple Table!"
   ]
  },
  {
   "cell_type": "code",
   "execution_count": 26,
   "metadata": {},
   "outputs": [
    {
     "data": {
      "text/plain": [
       "[('2020-01-01', '178', 'Alijah', 'Horn'),\n",
       " ('2020-01-03', '39', 'Alijah', 'Horn'),\n",
       " ('2020-01-07', '153', 'Dillan', 'Olsen'),\n",
       " ('2020-01-10', '110', 'Leah', 'Pitts'),\n",
       " ('2020-01-11', '219', 'Myla', 'Mckenzie'),\n",
       " ('2020-01-12', '37', 'Perla', 'Jefferson'),\n",
       " ('2020-01-14', '227', 'Lilia', 'Sellers'),\n",
       " ('2020-01-18', '232', 'Paul', 'Richard'),\n",
       " ('2020-01-22', '236', 'Dillan', 'Olsen'),\n",
       " ('2020-01-26', '116', 'Joe', 'Walsh'),\n",
       " ('2020-01-28', '221', 'Lilia', 'Sellers'),\n",
       " ('2020-01-31', '238', 'Elianna', 'Simmons'),\n",
       " ('2020-02-02', '177', 'Leah', 'Pitts'),\n",
       " ('2020-02-05', '76', 'Alijah', 'Horn'),\n",
       " ('2020-02-08', '245', 'Rodney', 'Stout'),\n",
       " ('2020-02-12', '180', 'Litzy', 'Yates'),\n",
       " ('2020-02-14', '190', 'Avery', 'Floyd'),\n",
       " ('2020-02-18', '166', 'Ashley', 'Klein'),\n",
       " ('2020-02-22', '168', 'Lois', 'Lane'),\n",
       " ('2020-02-26', '174', 'Elianna', 'Simmons'),\n",
       " ('2020-02-29', '126', 'Joe', 'Walsh'),\n",
       " ('2020-03-02', '211', 'Aubree', 'Hogan'),\n",
       " ('2020-03-05', '144', 'Ashley', 'Klein'),\n",
       " ('2020-03-09', '112', 'Gaige', 'Summers'),\n",
       " ('2020-03-10', '45', 'Sincere', 'Sherman'),\n",
       " ('2020-03-14', '226', 'Leah', 'Pitts'),\n",
       " ('2020-03-17', '189', 'Ashley', 'Klein'),\n",
       " ('2020-03-22', '239', 'Rohan', 'Peterson'),\n",
       " ('2020-03-23', '135', 'Gaige', 'Summers'),\n",
       " ('2020-03-24', '211', 'Andrea', 'Snow'),\n",
       " ('2020-03-27', '226', 'Ashley', 'Klein'),\n",
       " ('2020-03-28', '173', 'Sidney', 'Horn'),\n",
       " ('2020-03-30', '144', 'Paul', 'Richard'),\n",
       " ('2020-04-01', '185', 'Joe', 'Walsh'),\n",
       " ('2020-04-03', '95', 'Jaxon', 'Mills'),\n",
       " ('2020-04-06', '138', 'Jaxon', 'Mills'),\n",
       " ('2020-04-10', '223', 'Alijah', 'Horn'),\n",
       " ('2020-04-12', '118', 'Aubree', 'Hogan'),\n",
       " ('2020-04-15', '132', 'Myla', 'Mckenzie'),\n",
       " ('2020-04-18', '238', 'Litzy', 'Yates'),\n",
       " ('2020-04-25', '98', 'Aubree', 'Hogan'),\n",
       " ('2020-04-26', '167', 'Joe', 'Walsh'),\n",
       " ('2020-04-28', '215', 'Jaxon', 'Mills'),\n",
       " ('2020-05-01', '142', 'Angelica', 'Barnes'),\n",
       " ('2020-05-05', '173', 'Rodney', 'Stout'),\n",
       " ('2020-05-06', '80', 'Leah', 'Pitts'),\n",
       " ('2020-05-07', '37', 'Joe', 'Walsh'),\n",
       " ('2020-05-08', '36', 'Lois', 'Lane'),\n",
       " ('2020-05-10', '65', 'Rodney', 'Stout'),\n",
       " ('2020-05-14', '110', 'Aubree', 'Hogan'),\n",
       " ('2020-05-18', '36', 'Joe', 'Walsh'),\n",
       " ('2020-05-21', '163', 'Litzy', 'Yates'),\n",
       " ('2020-05-24', '91', 'Myla', 'Mckenzie'),\n",
       " ('2020-05-26', '154', 'Lilia', 'Sellers'),\n",
       " ('2020-05-30', '130', 'Rodney', 'Stout'),\n",
       " ('2020-05-31', '119', 'Joe', 'Walsh'),\n",
       " ('2020-06-01', '137', 'Myla', 'Mckenzie'),\n",
       " ('2020-06-03', '206', 'Joe', 'Walsh'),\n",
       " ('2020-06-04', '100', 'Andrea', 'Snow'),\n",
       " ('2020-06-05', '187', 'Elianna', 'Simmons'),\n",
       " ('2020-06-09', '170', 'Alijah', 'Horn'),\n",
       " ('2020-06-11', '149', 'Kamari', 'Holden'),\n",
       " ('2020-06-12', '195', 'Sidney', 'Horn'),\n",
       " ('2020-06-14', '30', 'Leah', 'Pitts'),\n",
       " ('2020-06-16', '246', 'Lois', 'Lane'),\n",
       " ('2020-06-20', '163', 'Lilia', 'Sellers'),\n",
       " ('2020-06-22', '184', 'Stephanie', 'Stewart'),\n",
       " ('2020-06-23', '68', 'Rodney', 'Stout'),\n",
       " ('2020-06-27', '92', 'Andrea', 'Snow'),\n",
       " ('2020-06-30', '149', 'Rodney', 'Stout'),\n",
       " ('2020-07-04', '65', 'Lois', 'Lane'),\n",
       " ('2020-07-05', '88', 'Joe', 'Walsh'),\n",
       " ('2020-07-09', '156', 'Sidney', 'Horn'),\n",
       " ('2020-07-13', '26', 'Paul', 'Richard'),\n",
       " ('2020-07-16', '55', 'Litzy', 'Yates'),\n",
       " ('2020-07-20', '81', 'Aubree', 'Hogan'),\n",
       " ('2020-07-22', '78', 'Kamari', 'Holden'),\n",
       " ('2020-07-23', '166', 'Rohan', 'Peterson'),\n",
       " ('2020-07-27', '65', 'Angelica', 'Barnes'),\n",
       " ('2020-07-30', '205', 'Elianna', 'Simmons'),\n",
       " ('2020-08-01', '140', 'Rohan', 'Peterson'),\n",
       " ('2020-08-05', '236', 'Sincere', 'Sherman'),\n",
       " ('2020-08-06', '208', 'Elianna', 'Simmons'),\n",
       " ('2020-08-07', '169', 'Elianna', 'Simmons'),\n",
       " ('2020-08-11', '71', 'Joe', 'Walsh'),\n",
       " ('2020-08-13', '89', 'Alijah', 'Horn'),\n",
       " ('2020-08-16', '249', 'Angelica', 'Barnes'),\n",
       " ('2020-08-18', '59', 'Gaige', 'Summers'),\n",
       " ('2020-08-19', '121', 'Andrea', 'Snow'),\n",
       " ('2020-08-20', '179', 'Alijah', 'Horn'),\n",
       " ('2020-08-22', '208', 'Joe', 'Walsh'),\n",
       " ('2020-08-26', '217', 'Myla', 'Mckenzie'),\n",
       " ('2020-08-30', '114', 'Joe', 'Walsh'),\n",
       " ('2020-08-31', '169', 'Joe', 'Walsh'),\n",
       " ('2020-09-02', '226', 'Rodney', 'Stout')]"
      ]
     },
     "execution_count": 26,
     "metadata": {},
     "output_type": "execute_result"
    }
   ],
   "source": [
    "#JOIN: zip() : combine -> related\n",
    "cur.execute(\"\"\"SELECT orders.date,orders.total, users.fname, users.lname\n",
    "    FROM orders\n",
    "    INNER JOIN users \n",
    "    ON users.userid=orders.userid\"\"\")\n",
    "\n",
    "cur.fetchmany(101)"
   ]
  },
  {
   "cell_type": "code",
   "execution_count": 27,
   "metadata": {},
   "outputs": [
    {
     "data": {
      "text/plain": [
       "[('2020-01-01', '178', 'Alijah', 'Horn'),\n",
       " ('2020-01-03', '39', 'Alijah', 'Horn'),\n",
       " ('2020-02-05', '76', 'Alijah', 'Horn'),\n",
       " ('2020-04-10', '223', 'Alijah', 'Horn'),\n",
       " ('2020-06-09', '170', 'Alijah', 'Horn'),\n",
       " ('2020-08-13', '89', 'Alijah', 'Horn'),\n",
       " ('2020-08-20', '179', 'Alijah', 'Horn')]"
      ]
     },
     "execution_count": 27,
     "metadata": {},
     "output_type": "execute_result"
    }
   ],
   "source": [
    "#Particular Person\n",
    "\n",
    "cur.execute(\"\"\"SELECT orders.date,orders.total, users.fname, users.lname \n",
    "    FROM orders\n",
    "    INNER JOIN users \n",
    "    ON users.userid=orders.userid AND users.fname='Alijah'\"\"\")\n",
    "\n",
    "cur.fetchmany(10) #count(orders.total)"
   ]
  },
  {
   "cell_type": "code",
   "execution_count": 28,
   "metadata": {},
   "outputs": [
    {
     "name": "stdout",
     "output_type": "stream",
     "text": [
      "[(7, 954, 136.28571428571428)]\n"
     ]
    }
   ],
   "source": [
    "#Particular Person Order details: count(), sum(), avg()\n",
    "\n",
    "output=cur.execute(\"\"\"SELECT count(orders.total),sum(orders.total),avg(orders.total)\n",
    "    FROM orders\n",
    "    INNER JOIN users \n",
    "    ON users.userid=orders.userid AND users.fname='Alijah' AND users.lname='Horn'\n",
    "    \"\"\").fetchall()\n",
    "\n",
    "print(output)"
   ]
  },
  {
   "cell_type": "markdown",
   "metadata": {},
   "source": [
    "### Export!"
   ]
  },
  {
   "cell_type": "code",
   "execution_count": 31,
   "metadata": {},
   "outputs": [],
   "source": [
    "import csv\n",
    "import json"
   ]
  },
  {
   "cell_type": "code",
   "execution_count": 32,
   "metadata": {},
   "outputs": [],
   "source": [
    "data = cur.execute(\"SELECT * FROM users\")\n",
    "#order = cur.execute(\"SELECT * FROM orders\")"
   ]
  },
  {
   "cell_type": "code",
   "execution_count": 33,
   "metadata": {},
   "outputs": [
    {
     "data": {
      "text/plain": [
       "\"    \\nwith open('csvorder.csv','w',newline='') as fo:\\n    writer = csv.writer(fo)\\n    writer.writerow(['orderid','date','userid','total'])\\n    writer.writerows(order)\\n\""
      ]
     },
     "execution_count": 33,
     "metadata": {},
     "output_type": "execute_result"
    }
   ],
   "source": [
    "with open('csvUser.csv','w',newline='') as fp:\n",
    "    writer = csv.writer(fp)\n",
    "    writer.writerow(['userid','fname','lname','gender'])\n",
    "    writer.writerows(data)\n",
    "\n",
    "'''    \n",
    "with open('csvorder.csv','w',newline='') as fo:\n",
    "    writer = csv.writer(fo)\n",
    "    writer.writerow(['orderid','date','userid','total'])\n",
    "    writer.writerows(order)\n",
    "'''"
   ]
  },
  {
   "cell_type": "code",
   "execution_count": 34,
   "metadata": {},
   "outputs": [],
   "source": [
    "final={}\n",
    "with open('csvUser.csv') as cu:\n",
    "    readCSV = csv.DictReader(cu)\n",
    "    for row in readCSV:\n",
    "        id=row['userid']\n",
    "        final[id]=row\n",
    "#print(final)\n",
    "with open('jsonUser.json','w') as jf:\n",
    "    jf.write(json.dumps(final,indent=2))\n",
    "    "
   ]
  },
  {
   "cell_type": "markdown",
   "metadata": {},
   "source": [
    "# Import from CSV"
   ]
  },
  {
   "cell_type": "code",
   "execution_count": 35,
   "metadata": {},
   "outputs": [],
   "source": [
    "cur.execute(\"DROP TABLE users_from_csv\")#DROP Table\n",
    "conn.commit()"
   ]
  },
  {
   "cell_type": "code",
   "execution_count": 36,
   "metadata": {},
   "outputs": [
    {
     "data": {
      "text/plain": [
       "<sqlite3.Cursor at 0x274f8a91180>"
      ]
     },
     "execution_count": 36,
     "metadata": {},
     "output_type": "execute_result"
    }
   ],
   "source": [
    "#create new table 'users_from_csv' using csv data!\n",
    "cur.execute(\"CREATE TABLE users_from_csv (fname, gender);\") # selected columns"
   ]
  },
  {
   "cell_type": "code",
   "execution_count": 37,
   "metadata": {},
   "outputs": [],
   "source": [
    "with open('csvUser.csv','r') as fp: \n",
    "    readCSV = csv.DictReader(fp) \n",
    "    rows = [(row['fname'], row['gender']) for row in readCSV]\n",
    "\n",
    "cur.executemany(\"INSERT INTO users_from_csv (fname, gender) VALUES (?, ?);\", rows)\n",
    "conn.commit()"
   ]
  },
  {
   "cell_type": "code",
   "execution_count": 38,
   "metadata": {},
   "outputs": [
    {
     "data": {
      "text/plain": [
       "[('Nik', 'MALE'),\n",
       " ('Lois', 'Female'),\n",
       " ('Stephanie', 'female'),\n",
       " ('Sincere', 'female'),\n",
       " ('Sidney', 'male'),\n",
       " ('Litzy', 'female'),\n",
       " ('Jaxon', 'male'),\n",
       " ('Paul', 'male'),\n",
       " ('Kamari', 'female'),\n",
       " ('Gaige', 'female'),\n",
       " ('Andrea', 'female'),\n",
       " ('Angelica', 'female'),\n",
       " ('Leah', 'female'),\n",
       " ('Dillan', 'male'),\n",
       " ('Joe', 'male'),\n",
       " ('Reagan', 'male'),\n",
       " ('Aubree', 'female'),\n",
       " ('Avery', 'male'),\n",
       " ('Elianna', 'female'),\n",
       " ('Rodney', 'male'),\n",
       " ('Elaine', 'female'),\n",
       " ('Myla', 'female'),\n",
       " ('Alijah', 'female'),\n",
       " ('Rohan', 'male'),\n",
       " ('Irene', 'female'),\n",
       " ('Lilia', 'female'),\n",
       " ('Perla', 'female'),\n",
       " ('Ashley', 'female')]"
      ]
     },
     "execution_count": 38,
     "metadata": {},
     "output_type": "execute_result"
    }
   ],
   "source": [
    "cur.execute(\"SELECT * FROM users_from_csv\").fetchall()"
   ]
  },
  {
   "cell_type": "markdown",
   "metadata": {},
   "source": [
    "# TASKS??? Drop Table/Database ??"
   ]
  },
  {
   "cell_type": "markdown",
   "metadata": {},
   "source": [
    "#DROP users\n",
    "#DROP orders\n"
   ]
  },
  {
   "cell_type": "markdown",
   "metadata": {},
   "source": [
    "# PANDAS and SQL"
   ]
  },
  {
   "cell_type": "code",
   "execution_count": 32,
   "metadata": {},
   "outputs": [
    {
     "data": {
      "text/html": [
       "<div>\n",
       "<style scoped>\n",
       "    .dataframe tbody tr th:only-of-type {\n",
       "        vertical-align: middle;\n",
       "    }\n",
       "\n",
       "    .dataframe tbody tr th {\n",
       "        vertical-align: top;\n",
       "    }\n",
       "\n",
       "    .dataframe thead th {\n",
       "        text-align: right;\n",
       "    }\n",
       "</style>\n",
       "<table border=\"1\" class=\"dataframe\">\n",
       "  <thead>\n",
       "    <tr style=\"text-align: right;\">\n",
       "      <th></th>\n",
       "      <th>userid</th>\n",
       "      <th>fname</th>\n",
       "      <th>lname</th>\n",
       "      <th>gender</th>\n",
       "    </tr>\n",
       "  </thead>\n",
       "  <tbody>\n",
       "    <tr>\n",
       "      <th>0</th>\n",
       "      <td>1</td>\n",
       "      <td>Nik</td>\n",
       "      <td>Piepenbreier</td>\n",
       "      <td>MALE</td>\n",
       "    </tr>\n",
       "    <tr>\n",
       "      <th>1</th>\n",
       "      <td>2</td>\n",
       "      <td>Lois</td>\n",
       "      <td>Lane</td>\n",
       "      <td>Female</td>\n",
       "    </tr>\n",
       "    <tr>\n",
       "      <th>2</th>\n",
       "      <td>5</td>\n",
       "      <td>Stephanie</td>\n",
       "      <td>Stewart</td>\n",
       "      <td>female</td>\n",
       "    </tr>\n",
       "    <tr>\n",
       "      <th>3</th>\n",
       "      <td>6</td>\n",
       "      <td>Sincere</td>\n",
       "      <td>Sherman</td>\n",
       "      <td>female</td>\n",
       "    </tr>\n",
       "    <tr>\n",
       "      <th>4</th>\n",
       "      <td>7</td>\n",
       "      <td>Sidney</td>\n",
       "      <td>Horn</td>\n",
       "      <td>male</td>\n",
       "    </tr>\n",
       "    <tr>\n",
       "      <th>5</th>\n",
       "      <td>8</td>\n",
       "      <td>Litzy</td>\n",
       "      <td>Yates</td>\n",
       "      <td>female</td>\n",
       "    </tr>\n",
       "    <tr>\n",
       "      <th>6</th>\n",
       "      <td>9</td>\n",
       "      <td>Jaxon</td>\n",
       "      <td>Mills</td>\n",
       "      <td>male</td>\n",
       "    </tr>\n",
       "    <tr>\n",
       "      <th>7</th>\n",
       "      <td>10</td>\n",
       "      <td>Paul</td>\n",
       "      <td>Richard</td>\n",
       "      <td>male</td>\n",
       "    </tr>\n",
       "    <tr>\n",
       "      <th>8</th>\n",
       "      <td>11</td>\n",
       "      <td>Kamari</td>\n",
       "      <td>Holden</td>\n",
       "      <td>female</td>\n",
       "    </tr>\n",
       "    <tr>\n",
       "      <th>9</th>\n",
       "      <td>12</td>\n",
       "      <td>Gaige</td>\n",
       "      <td>Summers</td>\n",
       "      <td>female</td>\n",
       "    </tr>\n",
       "    <tr>\n",
       "      <th>10</th>\n",
       "      <td>13</td>\n",
       "      <td>Andrea</td>\n",
       "      <td>Snow</td>\n",
       "      <td>female</td>\n",
       "    </tr>\n",
       "    <tr>\n",
       "      <th>11</th>\n",
       "      <td>14</td>\n",
       "      <td>Angelica</td>\n",
       "      <td>Barnes</td>\n",
       "      <td>female</td>\n",
       "    </tr>\n",
       "    <tr>\n",
       "      <th>12</th>\n",
       "      <td>15</td>\n",
       "      <td>Leah</td>\n",
       "      <td>Pitts</td>\n",
       "      <td>female</td>\n",
       "    </tr>\n",
       "    <tr>\n",
       "      <th>13</th>\n",
       "      <td>16</td>\n",
       "      <td>Dillan</td>\n",
       "      <td>Olsen</td>\n",
       "      <td>male</td>\n",
       "    </tr>\n",
       "    <tr>\n",
       "      <th>14</th>\n",
       "      <td>17</td>\n",
       "      <td>Joe</td>\n",
       "      <td>Walsh</td>\n",
       "      <td>male</td>\n",
       "    </tr>\n",
       "  </tbody>\n",
       "</table>\n",
       "</div>"
      ],
      "text/plain": [
       "    userid      fname         lname  gender\n",
       "0        1        Nik  Piepenbreier    MALE\n",
       "1        2       Lois          Lane  Female\n",
       "2        5  Stephanie       Stewart  female\n",
       "3        6    Sincere       Sherman  female\n",
       "4        7     Sidney          Horn    male\n",
       "5        8      Litzy         Yates  female\n",
       "6        9      Jaxon         Mills    male\n",
       "7       10       Paul       Richard    male\n",
       "8       11     Kamari        Holden  female\n",
       "9       12      Gaige       Summers  female\n",
       "10      13     Andrea          Snow  female\n",
       "11      14   Angelica        Barnes  female\n",
       "12      15       Leah         Pitts  female\n",
       "13      16     Dillan         Olsen    male\n",
       "14      17        Joe         Walsh    male"
      ]
     },
     "execution_count": 32,
     "metadata": {},
     "output_type": "execute_result"
    }
   ],
   "source": [
    "import pandas as pd\n",
    "df = pd.read_sql_query('SELECT * FROM users',conn) #Read Table to DataFrame (read/to)\n",
    "df.head(15)"
   ]
  },
  {
   "cell_type": "code",
   "execution_count": 33,
   "metadata": {},
   "outputs": [
    {
     "data": {
      "text/html": [
       "<div>\n",
       "<style scoped>\n",
       "    .dataframe tbody tr th:only-of-type {\n",
       "        vertical-align: middle;\n",
       "    }\n",
       "\n",
       "    .dataframe tbody tr th {\n",
       "        vertical-align: top;\n",
       "    }\n",
       "\n",
       "    .dataframe thead th {\n",
       "        text-align: right;\n",
       "    }\n",
       "</style>\n",
       "<table border=\"1\" class=\"dataframe\">\n",
       "  <thead>\n",
       "    <tr style=\"text-align: right;\">\n",
       "      <th></th>\n",
       "      <th>userid</th>\n",
       "    </tr>\n",
       "  </thead>\n",
       "  <tbody>\n",
       "    <tr>\n",
       "      <th>count</th>\n",
       "      <td>30.000000</td>\n",
       "    </tr>\n",
       "    <tr>\n",
       "      <th>mean</th>\n",
       "      <td>25.933333</td>\n",
       "    </tr>\n",
       "    <tr>\n",
       "      <th>std</th>\n",
       "      <td>50.248303</td>\n",
       "    </tr>\n",
       "    <tr>\n",
       "      <th>min</th>\n",
       "      <td>1.000000</td>\n",
       "    </tr>\n",
       "    <tr>\n",
       "      <th>25%</th>\n",
       "      <td>10.250000</td>\n",
       "    </tr>\n",
       "    <tr>\n",
       "      <th>50%</th>\n",
       "      <td>17.500000</td>\n",
       "    </tr>\n",
       "    <tr>\n",
       "      <th>75%</th>\n",
       "      <td>24.750000</td>\n",
       "    </tr>\n",
       "    <tr>\n",
       "      <th>max</th>\n",
       "      <td>288.000000</td>\n",
       "    </tr>\n",
       "  </tbody>\n",
       "</table>\n",
       "</div>"
      ],
      "text/plain": [
       "           userid\n",
       "count   30.000000\n",
       "mean    25.933333\n",
       "std     50.248303\n",
       "min      1.000000\n",
       "25%     10.250000\n",
       "50%     17.500000\n",
       "75%     24.750000\n",
       "max    288.000000"
      ]
     },
     "execution_count": 33,
     "metadata": {},
     "output_type": "execute_result"
    }
   ],
   "source": [
    "df.describe()"
   ]
  },
  {
   "cell_type": "code",
   "execution_count": 10,
   "metadata": {},
   "outputs": [
    {
     "data": {
      "text/html": [
       "<div>\n",
       "<style scoped>\n",
       "    .dataframe tbody tr th:only-of-type {\n",
       "        vertical-align: middle;\n",
       "    }\n",
       "\n",
       "    .dataframe tbody tr th {\n",
       "        vertical-align: top;\n",
       "    }\n",
       "\n",
       "    .dataframe thead th {\n",
       "        text-align: right;\n",
       "    }\n",
       "</style>\n",
       "<table border=\"1\" class=\"dataframe\">\n",
       "  <thead>\n",
       "    <tr style=\"text-align: right;\">\n",
       "      <th></th>\n",
       "      <th>userid</th>\n",
       "      <th>fname</th>\n",
       "      <th>lname</th>\n",
       "      <th>gender</th>\n",
       "    </tr>\n",
       "  </thead>\n",
       "  <tbody>\n",
       "    <tr>\n",
       "      <th>2</th>\n",
       "      <td>5</td>\n",
       "      <td>Stephanie</td>\n",
       "      <td>Stewart</td>\n",
       "      <td>female</td>\n",
       "    </tr>\n",
       "    <tr>\n",
       "      <th>3</th>\n",
       "      <td>6</td>\n",
       "      <td>Sincere</td>\n",
       "      <td>Sherman</td>\n",
       "      <td>female</td>\n",
       "    </tr>\n",
       "    <tr>\n",
       "      <th>5</th>\n",
       "      <td>8</td>\n",
       "      <td>Litzy</td>\n",
       "      <td>Yates</td>\n",
       "      <td>female</td>\n",
       "    </tr>\n",
       "    <tr>\n",
       "      <th>8</th>\n",
       "      <td>11</td>\n",
       "      <td>Kamari</td>\n",
       "      <td>Holden</td>\n",
       "      <td>female</td>\n",
       "    </tr>\n",
       "    <tr>\n",
       "      <th>9</th>\n",
       "      <td>12</td>\n",
       "      <td>Gaige</td>\n",
       "      <td>Summers</td>\n",
       "      <td>female</td>\n",
       "    </tr>\n",
       "    <tr>\n",
       "      <th>10</th>\n",
       "      <td>13</td>\n",
       "      <td>Andrea</td>\n",
       "      <td>Snow</td>\n",
       "      <td>female</td>\n",
       "    </tr>\n",
       "    <tr>\n",
       "      <th>11</th>\n",
       "      <td>14</td>\n",
       "      <td>Angelica</td>\n",
       "      <td>Barnes</td>\n",
       "      <td>female</td>\n",
       "    </tr>\n",
       "    <tr>\n",
       "      <th>12</th>\n",
       "      <td>15</td>\n",
       "      <td>Leah</td>\n",
       "      <td>Pitts</td>\n",
       "      <td>female</td>\n",
       "    </tr>\n",
       "    <tr>\n",
       "      <th>16</th>\n",
       "      <td>19</td>\n",
       "      <td>Aubree</td>\n",
       "      <td>Hogan</td>\n",
       "      <td>female</td>\n",
       "    </tr>\n",
       "    <tr>\n",
       "      <th>18</th>\n",
       "      <td>21</td>\n",
       "      <td>Elianna</td>\n",
       "      <td>Simmons</td>\n",
       "      <td>female</td>\n",
       "    </tr>\n",
       "    <tr>\n",
       "      <th>20</th>\n",
       "      <td>23</td>\n",
       "      <td>Elaine</td>\n",
       "      <td>Mcintosh</td>\n",
       "      <td>female</td>\n",
       "    </tr>\n",
       "    <tr>\n",
       "      <th>21</th>\n",
       "      <td>24</td>\n",
       "      <td>Myla</td>\n",
       "      <td>Mckenzie</td>\n",
       "      <td>female</td>\n",
       "    </tr>\n",
       "    <tr>\n",
       "      <th>22</th>\n",
       "      <td>25</td>\n",
       "      <td>Alijah</td>\n",
       "      <td>Horn</td>\n",
       "      <td>female</td>\n",
       "    </tr>\n",
       "    <tr>\n",
       "      <th>24</th>\n",
       "      <td>27</td>\n",
       "      <td>Irene</td>\n",
       "      <td>Walters</td>\n",
       "      <td>female</td>\n",
       "    </tr>\n",
       "    <tr>\n",
       "      <th>25</th>\n",
       "      <td>28</td>\n",
       "      <td>Lilia</td>\n",
       "      <td>Sellers</td>\n",
       "      <td>female</td>\n",
       "    </tr>\n",
       "    <tr>\n",
       "      <th>26</th>\n",
       "      <td>29</td>\n",
       "      <td>Perla</td>\n",
       "      <td>Jefferson</td>\n",
       "      <td>female</td>\n",
       "    </tr>\n",
       "    <tr>\n",
       "      <th>27</th>\n",
       "      <td>30</td>\n",
       "      <td>Ashley</td>\n",
       "      <td>Klein</td>\n",
       "      <td>female</td>\n",
       "    </tr>\n",
       "  </tbody>\n",
       "</table>\n",
       "</div>"
      ],
      "text/plain": [
       "    userid      fname      lname  gender\n",
       "2        5  Stephanie    Stewart  female\n",
       "3        6    Sincere    Sherman  female\n",
       "5        8      Litzy      Yates  female\n",
       "8       11     Kamari     Holden  female\n",
       "9       12      Gaige    Summers  female\n",
       "10      13     Andrea       Snow  female\n",
       "11      14   Angelica     Barnes  female\n",
       "12      15       Leah      Pitts  female\n",
       "16      19     Aubree      Hogan  female\n",
       "18      21    Elianna    Simmons  female\n",
       "20      23     Elaine   Mcintosh  female\n",
       "21      24       Myla   Mckenzie  female\n",
       "22      25     Alijah       Horn  female\n",
       "24      27      Irene    Walters  female\n",
       "25      28      Lilia    Sellers  female\n",
       "26      29      Perla  Jefferson  female\n",
       "27      30     Ashley      Klein  female"
      ]
     },
     "execution_count": 10,
     "metadata": {},
     "output_type": "execute_result"
    }
   ],
   "source": [
    "femaleData=df[df.gender.str.contains('female')]\n",
    "femaleData"
   ]
  },
  {
   "cell_type": "code",
   "execution_count": 17,
   "metadata": {},
   "outputs": [],
   "source": [
    "femaleData.to_sql(\"femaleInfo1\", conn) #Write DataFrame as Table!"
   ]
  },
  {
   "cell_type": "code",
   "execution_count": 34,
   "metadata": {},
   "outputs": [
    {
     "data": {
      "text/plain": [
       "[(2, 5, 'Stephanie', 'Stewart', 'female'),\n",
       " (3, 6, 'Sincere', 'Sherman', 'female'),\n",
       " (5, 8, 'Litzy', 'Yates', 'female'),\n",
       " (8, 11, 'Kamari', 'Holden', 'female'),\n",
       " (9, 12, 'Gaige', 'Summers', 'female'),\n",
       " (10, 13, 'Andrea', 'Snow', 'female'),\n",
       " (11, 14, 'Angelica', 'Barnes', 'female'),\n",
       " (12, 15, 'Leah', 'Pitts', 'female'),\n",
       " (16, 19, 'Aubree', 'Hogan', 'female'),\n",
       " (18, 21, 'Elianna', 'Simmons', 'female'),\n",
       " (20, 23, 'Elaine', 'Mcintosh', 'female'),\n",
       " (21, 24, 'Myla', 'Mckenzie', 'female'),\n",
       " (22, 25, 'Alijah', 'Horn', 'female'),\n",
       " (24, 27, 'Irene', 'Walters', 'female'),\n",
       " (25, 28, 'Lilia', 'Sellers', 'female'),\n",
       " (26, 29, 'Perla', 'Jefferson', 'female'),\n",
       " (27, 30, 'Ashley', 'Klein', 'female')]"
      ]
     },
     "execution_count": 34,
     "metadata": {},
     "output_type": "execute_result"
    }
   ],
   "source": [
    "cur.execute(\"SELECT * FROM femaleInfo1\").fetchall()"
   ]
  },
  {
   "cell_type": "markdown",
   "metadata": {},
   "source": [
    "### Close Connection"
   ]
  },
  {
   "cell_type": "code",
   "execution_count": 35,
   "metadata": {},
   "outputs": [
    {
     "data": {
      "text/plain": [
       "['DataError',\n",
       " 'DatabaseError',\n",
       " 'Error',\n",
       " 'IntegrityError',\n",
       " 'InterfaceError',\n",
       " 'InternalError',\n",
       " 'NotSupportedError',\n",
       " 'OperationalError',\n",
       " 'ProgrammingError',\n",
       " 'Warning',\n",
       " '__call__',\n",
       " '__class__',\n",
       " '__delattr__',\n",
       " '__dir__',\n",
       " '__doc__',\n",
       " '__enter__',\n",
       " '__eq__',\n",
       " '__exit__',\n",
       " '__format__',\n",
       " '__ge__',\n",
       " '__getattribute__',\n",
       " '__gt__',\n",
       " '__hash__',\n",
       " '__init__',\n",
       " '__init_subclass__',\n",
       " '__le__',\n",
       " '__lt__',\n",
       " '__ne__',\n",
       " '__new__',\n",
       " '__reduce__',\n",
       " '__reduce_ex__',\n",
       " '__repr__',\n",
       " '__setattr__',\n",
       " '__sizeof__',\n",
       " '__str__',\n",
       " '__subclasshook__',\n",
       " 'backup',\n",
       " 'close',\n",
       " 'commit',\n",
       " 'create_aggregate',\n",
       " 'create_collation',\n",
       " 'create_function',\n",
       " 'cursor',\n",
       " 'enable_load_extension',\n",
       " 'execute',\n",
       " 'executemany',\n",
       " 'executescript',\n",
       " 'in_transaction',\n",
       " 'interrupt',\n",
       " 'isolation_level',\n",
       " 'iterdump',\n",
       " 'load_extension',\n",
       " 'rollback',\n",
       " 'row_factory',\n",
       " 'set_authorizer',\n",
       " 'set_progress_handler',\n",
       " 'set_trace_callback',\n",
       " 'text_factory',\n",
       " 'total_changes']"
      ]
     },
     "execution_count": 35,
     "metadata": {},
     "output_type": "execute_result"
    }
   ],
   "source": [
    "dir(conn)"
   ]
  },
  {
   "cell_type": "code",
   "execution_count": null,
   "metadata": {},
   "outputs": [],
   "source": [
    "conn.close() # close the connection to the Database! "
   ]
  },
  {
   "cell_type": "code",
   "execution_count": null,
   "metadata": {},
   "outputs": [],
   "source": []
  }
 ],
 "metadata": {
  "kernelspec": {
   "display_name": "Python 3.7.0 32-bit",
   "language": "python",
   "name": "python37032bit5c9370e1c10f47d2a6b751db754ffb65"
  },
  "language_info": {
   "codemirror_mode": {
    "name": "ipython",
    "version": 3
   },
   "file_extension": ".py",
   "mimetype": "text/x-python",
   "name": "python",
   "nbconvert_exporter": "python",
   "pygments_lexer": "ipython3",
   "version": "3.7.6"
  }
 },
 "nbformat": 4,
 "nbformat_minor": 4
}
