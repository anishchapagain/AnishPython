{
 "cells": [
  {
   "cell_type": "markdown",
   "metadata": {},
   "source": [
    "# Counting String Length, Number of Words in String"
   ]
  },
  {
   "cell_type": "code",
   "execution_count": 56,
   "metadata": {},
   "outputs": [],
   "source": [
    "sentence = \"The cat sat on the mat with the rat , cat and rat were playing on the mat and both cat and rat looks very happy\""
   ]
  },
  {
   "cell_type": "code",
   "execution_count": 57,
   "metadata": {},
   "outputs": [
    {
     "name": "stdout",
     "output_type": "stream",
     "text": [
      "The cat sat on the mat with the rat , cat and rat were playing on the mat and both cat and rat looks very happy\n"
     ]
    }
   ],
   "source": [
    "print(sentence)"
   ]
  },
  {
   "cell_type": "code",
   "execution_count": 58,
   "metadata": {},
   "outputs": [
    {
     "name": "stdout",
     "output_type": "stream",
     "text": [
      "('Sentence : ', 'The cat sat on the mat with the rat , cat and rat were playing on the mat and both cat and rat looks very happy')\n"
     ]
    }
   ],
   "source": [
    "print(\"Sentence : \",sentence)"
   ]
  },
  {
   "cell_type": "markdown",
   "metadata": {},
   "source": [
    "###### inbuilt function <b>len()</b> : counts each and every character inside given variable"
   ]
  },
  {
   "cell_type": "code",
   "execution_count": 59,
   "metadata": {
    "scrolled": true
   },
   "outputs": [
    {
     "name": "stdout",
     "output_type": "stream",
     "text": [
      "('Length of Sentence : ', 111)\n"
     ]
    }
   ],
   "source": [
    "print(\"Length of Sentence : \",len(sentence))"
   ]
  },
  {
   "cell_type": "markdown",
   "metadata": {},
   "source": [
    "###### inbuilt function <b>type()</b> : shows the type of variable. ##In Python every thing is an Object"
   ]
  },
  {
   "cell_type": "code",
   "execution_count": 60,
   "metadata": {},
   "outputs": [
    {
     "data": {
      "text/plain": [
       "str"
      ]
     },
     "execution_count": 60,
     "metadata": {},
     "output_type": "execute_result"
    }
   ],
   "source": [
    "type(sentence) #print(\"Type of Sentence : \",type(sentence))"
   ]
  },
  {
   "cell_type": "code",
   "execution_count": 61,
   "metadata": {},
   "outputs": [
    {
     "name": "stdout",
     "output_type": "stream",
     "text": [
      "('Type of Sentence : ', <type 'str'>)\n"
     ]
    }
   ],
   "source": [
    "print(\"Type of Sentence : \",type(sentence))  #main output looks like <class 'str'>"
   ]
  },
  {
   "cell_type": "markdown",
   "metadata": {},
   "source": [
    "###### there's another inbuilt function <b>count()</b>, used with string variable"
   ]
  },
  {
   "cell_type": "code",
   "execution_count": 62,
   "metadata": {},
   "outputs": [
    {
     "name": "stdout",
     "output_type": "stream",
     "text": [
      "(\"Count No of 'c' :\", 3)\n"
     ]
    }
   ],
   "source": [
    "print(\"Count No of 'c' :\",sentence.count('c'))"
   ]
  },
  {
   "cell_type": "code",
   "execution_count": 63,
   "metadata": {},
   "outputs": [
    {
     "name": "stdout",
     "output_type": "stream",
     "text": [
      "(\"Count No of 'cat' :\", 3)\n"
     ]
    }
   ],
   "source": [
    "print(\"Count No of 'cat' :\",sentence.count('cat'))"
   ]
  },
  {
   "cell_type": "markdown",
   "metadata": {},
   "source": [
    "#Check the Error below:"
   ]
  },
  {
   "cell_type": "code",
   "execution_count": 64,
   "metadata": {},
   "outputs": [
    {
     "ename": "TypeError",
     "evalue": "count() takes at least 1 argument (0 given)",
     "output_type": "error",
     "traceback": [
      "\u001b[1;31m---------------------------------------------------------------------------\u001b[0m",
      "\u001b[1;31mTypeError\u001b[0m                                 Traceback (most recent call last)",
      "\u001b[1;32m<ipython-input-64-5f67aa69b5c3>\u001b[0m in \u001b[0;36m<module>\u001b[1;34m()\u001b[0m\n\u001b[1;32m----> 1\u001b[1;33m \u001b[1;32mprint\u001b[0m\u001b[1;33m(\u001b[0m\u001b[1;34m\"Count No of :\"\u001b[0m\u001b[1;33m,\u001b[0m\u001b[0msentence\u001b[0m\u001b[1;33m.\u001b[0m\u001b[0mcount\u001b[0m\u001b[1;33m(\u001b[0m\u001b[1;33m)\u001b[0m\u001b[1;33m)\u001b[0m\u001b[1;33m\u001b[0m\u001b[0m\n\u001b[0m",
      "\u001b[1;31mTypeError\u001b[0m: count() takes at least 1 argument (0 given)"
     ]
    }
   ],
   "source": [
    "print(\"Count No of :\",sentence.count())"
   ]
  },
  {
   "cell_type": "code",
   "execution_count": 65,
   "metadata": {},
   "outputs": [
    {
     "name": "stdout",
     "output_type": "stream",
     "text": [
      "(\"Count No of ' ' :\", 25)\n"
     ]
    }
   ],
   "source": [
    "print(\"Count No of ' ' :\",sentence.count(' '))"
   ]
  },
  {
   "cell_type": "code",
   "execution_count": 67,
   "metadata": {},
   "outputs": [
    {
     "name": "stdout",
     "output_type": "stream",
     "text": [
      "111\n"
     ]
    }
   ],
   "source": [
    "print(len(sentence))"
   ]
  },
  {
   "cell_type": "markdown",
   "metadata": {},
   "source": [
    "### Split Sentence and Perform advanced functions"
   ]
  },
  {
   "cell_type": "code",
   "execution_count": 68,
   "metadata": {},
   "outputs": [
    {
     "name": "stdout",
     "output_type": "stream",
     "text": [
      "('Split : ', ['The', 'cat', 'sat', 'on', 'the', 'mat', 'with', 'the', 'rat', ',', 'cat', 'and', 'rat', 'were', 'playing', 'on', 'the', 'mat', 'and', 'both', 'cat', 'and', 'rat', 'looks', 'very', 'happy'])\n"
     ]
    }
   ],
   "source": [
    "#Split sentence, generates List (collection of elements) \n",
    "words = sentence.split()  #without parameter splits using 'space' character\n",
    "print(\"Split : \",words)"
   ]
  },
  {
   "cell_type": "code",
   "execution_count": 69,
   "metadata": {},
   "outputs": [
    {
     "name": "stdout",
     "output_type": "stream",
     "text": [
      "('Split again : ', ['The cat sat ', ' the mat with the rat , cat and rat were playing ', ' the mat and both cat and rat looks very happy'])\n"
     ]
    }
   ],
   "source": [
    "words = sentence.split('on')\n",
    "print(\"Split again : \",words)"
   ]
  },
  {
   "cell_type": "code",
   "execution_count": 70,
   "metadata": {},
   "outputs": [
    {
     "name": "stdout",
     "output_type": "stream",
     "text": [
      "('Type of Words : ', <type 'list'>)\n"
     ]
    }
   ],
   "source": [
    "print(\"Type of Words : \",type(words))"
   ]
  },
  {
   "cell_type": "code",
   "execution_count": 71,
   "metadata": {},
   "outputs": [
    {
     "name": "stdout",
     "output_type": "stream",
     "text": [
      "('Words : ', ['The', 'cat', 'sat', 'on', 'the', 'mat', 'with', 'the', 'rat', ',', 'cat', 'and', 'rat', 'were', 'playing', 'on', 'the', 'mat', 'and', 'both', 'cat', 'and', 'rat', 'looks', 'very', 'happy'])\n",
      "\n",
      "('No of Elements in Words : ', 26)\n"
     ]
    }
   ],
   "source": [
    "words = sentence.split()\n",
    "print(\"Words : \",words)\n",
    "print(\"\")\n",
    "print(\"No of Elements in Words : \",len(words))"
   ]
  },
  {
   "cell_type": "code",
   "execution_count": 72,
   "metadata": {
    "collapsed": true,
    "jupyter": {
     "outputs_hidden": true
    }
   },
   "outputs": [],
   "source": [
    "#Count Number of Elements in Words\n",
    "bucket={} #declaring empty Dictionary to be used as {'cat':3,...}\n",
    "\n",
    "\"\"\"\n",
    "loop through each element (say:'word') in List 'words' and append value 1 as default count,\n",
    "if 'word' is found again and is already inside Bucket, update the count value of that element by 1\n",
    "\"\"\"\n",
    "for word in words:\n",
    "    if word in bucket:\n",
    "        bucket[word] += 1\n",
    "    else:\n",
    "        bucket[word] = 1"
   ]
  },
  {
   "cell_type": "code",
   "execution_count": 73,
   "metadata": {},
   "outputs": [
    {
     "name": "stdout",
     "output_type": "stream",
     "text": [
      "('Dictionary : ', {'and': 3, 'on': 2, 'mat': 2, 'both': 1, 'very': 1, 'happy': 1, ',': 1, 'cat': 3, 'rat': 3, 'looks': 1, 'were': 1, 'The': 1, 'playing': 1, 'with': 1, 'the': 3, 'sat': 1})\n",
      "\n",
      "('Type of Bucket : ', <type 'dict'>)\n"
     ]
    }
   ],
   "source": [
    "print(\"Dictionary : \",bucket)\n",
    "print('')\n",
    "print(\"Type of Bucket : \", type(bucket))"
   ]
  },
  {
   "cell_type": "code",
   "execution_count": 74,
   "metadata": {},
   "outputs": [
    {
     "name": "stdout",
     "output_type": "stream",
     "text": [
      "('Sentence : ', 'The cat sat on the mat with the rat , cat and rat were playing on the mat and both cat and rat looks very happy')\n"
     ]
    }
   ],
   "source": [
    "#Sentence\n",
    "print(\"Sentence : \",sentence)"
   ]
  },
  {
   "cell_type": "code",
   "execution_count": 84,
   "metadata": {},
   "outputs": [
    {
     "name": "stdout",
     "output_type": "stream",
     "text": [
      "(\"Occurrences of 'cat': \", 3)\n",
      "(\"Occurrences of 'happy': \", 1)\n",
      "(\"Occurrences of 'rat': \", 3)\n"
     ]
    }
   ],
   "source": [
    "print(\"Occurrences of 'cat': \",bucket['cat'])\n",
    "print(\"Occurrences of 'happy': \",bucket['happy'])\n",
    "print(\"Occurrences of 'rat': \",bucket['rat'])"
   ]
  },
  {
   "cell_type": "markdown",
   "metadata": {},
   "source": [
    "# count using Python library"
   ]
  },
  {
   "cell_type": "code",
   "execution_count": 78,
   "metadata": {
    "collapsed": true,
    "jupyter": {
     "outputs_hidden": true
    }
   },
   "outputs": [],
   "source": [
    "from collections import Counter"
   ]
  },
  {
   "cell_type": "code",
   "execution_count": 79,
   "metadata": {},
   "outputs": [
    {
     "name": "stdout",
     "output_type": "stream",
     "text": [
      "('Words : ', ['The', 'cat', 'sat', 'on', 'the', 'mat', 'with', 'the', 'rat', ',', 'cat', 'and', 'rat', 'were', 'playing', 'on', 'the', 'mat', 'and', 'both', 'cat', 'and', 'rat', 'looks', 'very', 'happy'])\n",
      "\n",
      "('No of Elements in Words : ', 26)\n"
     ]
    }
   ],
   "source": [
    "words = sentence.split()\n",
    "print(\"Words : \",words)\n",
    "print(\"\")\n",
    "print(\"No of Elements in Words : \",len(words))"
   ]
  },
  {
   "cell_type": "code",
   "execution_count": 81,
   "metadata": {},
   "outputs": [
    {
     "name": "stdout",
     "output_type": "stream",
     "text": [
      "('Type counts: ', <class 'collections.Counter'>)\n",
      "\n",
      "Counter({'and': 3, 'cat': 3, 'rat': 3, 'the': 3, 'on': 2, 'mat': 2, 'both': 1, 'very': 1, 'happy': 1, ',': 1, 'looks': 1, 'were': 1, 'The': 1, 'playing': 1, 'with': 1, 'sat': 1})\n"
     ]
    }
   ],
   "source": [
    "#using Counter\n",
    "counts = Counter(words)\n",
    "print(\"Type counts: \",type(counts))\n",
    "print('')\n",
    "print(counts)"
   ]
  },
  {
   "cell_type": "code",
   "execution_count": 83,
   "metadata": {},
   "outputs": [
    {
     "name": "stdout",
     "output_type": "stream",
     "text": [
      "(\"Occurrences of 'cat': \", 3)\n",
      "(\"Occurrences of 'happy': \", 1)\n",
      "(\"Occurrences of 'rat': \", 3)\n"
     ]
    }
   ],
   "source": [
    "print(\"Occurrences of 'cat': \",counts['cat'])\n",
    "print(\"Occurrences of 'happy': \",counts['happy'])\n",
    "print(\"Occurrences of 'rat': \",counts['rat'])"
   ]
  },
  {
   "cell_type": "markdown",
   "metadata": {},
   "source": [
    "#### counter general Use (collections.Counter())"
   ]
  },
  {
   "cell_type": "code",
   "execution_count": 87,
   "metadata": {},
   "outputs": [
    {
     "name": "stdout",
     "output_type": "stream",
     "text": [
      "Using Counter: \n",
      "Counter({'a': 3, 2: 3, 'b': 3, 1: 2, 'd': 1, 'c': 1})\n"
     ]
    }
   ],
   "source": [
    "print(\"Using Counter: \")\n",
    "print(Counter(['a',2, 'b', 'c', 1,'a', 'b', 'd','b','a',1,2,2]))"
   ]
  },
  {
   "cell_type": "markdown",
   "metadata": {},
   "source": [
    "# Using Comprehension"
   ]
  },
  {
   "cell_type": "code",
   "execution_count": 6,
   "metadata": {
    "collapsed": true,
    "jupyter": {
     "outputs_hidden": true
    }
   },
   "outputs": [],
   "source": [
    "sentence = \"The cat sat on the mat with the rat , cat and rat were playing on the mat and both cat and rat looks very happy\""
   ]
  },
  {
   "cell_type": "code",
   "execution_count": 7,
   "metadata": {},
   "outputs": [
    {
     "name": "stdout",
     "output_type": "stream",
     "text": [
      "The cat sat on the mat with the rat , cat and rat were playing on the mat and both cat and rat looks very happy\n"
     ]
    }
   ],
   "source": [
    "print(sentence)"
   ]
  },
  {
   "cell_type": "code",
   "execution_count": 9,
   "metadata": {},
   "outputs": [],
   "source": [
    "countDict = {word:sentence.count(word) for word in sentence.split()}"
   ]
  },
  {
   "cell_type": "code",
   "execution_count": 10,
   "metadata": {},
   "outputs": [
    {
     "name": "stdout",
     "output_type": "stream",
     "text": [
      "{'and': 3, 'on': 2, 'mat': 2, 'both': 1, 'very': 1, 'happy': 1, ',': 1, 'cat': 3, 'rat': 3, 'looks': 1, 'were': 1, 'The': 1, 'playing': 1, 'with': 1, 'the': 3, 'sat': 1}\n"
     ]
    }
   ],
   "source": [
    "print(countDict)"
   ]
  }
 ],
 "metadata": {
  "kernelspec": {
   "display_name": "Python 3.7.0 32-bit",
   "language": "python",
   "name": "python37032bit5c9370e1c10f47d2a6b751db754ffb65"
  },
  "language_info": {
   "codemirror_mode": {
    "name": "ipython",
    "version": 3
   },
   "file_extension": ".py",
   "mimetype": "text/x-python",
   "name": "python",
   "nbconvert_exporter": "python",
   "pygments_lexer": "ipython3",
   "version": "3.7.6"
  }
 },
 "nbformat": 4,
 "nbformat_minor": 4
}
