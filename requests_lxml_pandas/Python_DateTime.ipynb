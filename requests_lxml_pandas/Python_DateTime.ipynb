{
 "cells": [
  {
   "cell_type": "markdown",
   "metadata": {},
   "source": [
    "## Python DateTime"
   ]
  },
  {
   "cell_type": "code",
   "execution_count": 1,
   "metadata": {},
   "outputs": [],
   "source": [
    "import datetime"
   ]
  },
  {
   "cell_type": "code",
   "execution_count": 2,
   "metadata": {},
   "outputs": [
    {
     "name": "stdout",
     "output_type": "stream",
     "text": [
      "2020-11-17 20:12:07.453906\n",
      "Now : 2020-11-17 20:12:07.453906\n",
      "ctime :  Tue Nov 17 20:12:07 2020\n",
      "UTC NOW :  2020-11-17 14:27:07.459905\n",
      "Time :  20:12:07.453906  >>  20:12:07.453906\n"
     ]
    }
   ],
   "source": [
    "now = datetime.datetime.now()\n",
    "print(now)\n",
    "print(\"Now :\",str(now))\n",
    "print(\"ctime : \",str(now.ctime()))  #ctime with more detail info\n",
    "print(\"UTC NOW : \",datetime.datetime.utcnow())\n",
    "t = datetime.time(now.hour,now.minute,now.second,now.microsecond)\n",
    "print(\"Time : \",t , \" >> \",str(t))"
   ]
  },
  {
   "cell_type": "code",
   "execution_count": 3,
   "metadata": {},
   "outputs": [
    {
     "name": "stdout",
     "output_type": "stream",
     "text": [
      "Today :  2020-11-17 20:12:07.530903\n",
      "Today Str:  2020-11-17 20:12:07.530903\n",
      "Today DateTime :  2020-11-17\n",
      "Today DateTime Str :  2020-11-17\n",
      "Ordinal : 737746\n"
     ]
    }
   ],
   "source": [
    "today = datetime.datetime.today()\n",
    "print(\"Today : \",today)\n",
    "print(\"Today Str: \",str(today)) #str casting\n",
    "print(\"Today DateTime : \" ,datetime.date.today())\n",
    "print(\"Today DateTime Str : \" ,str(datetime.date.today()))\n",
    "print('Ordinal :', today.toordinal())"
   ]
  },
  {
   "cell_type": "code",
   "execution_count": 4,
   "metadata": {},
   "outputs": [
    {
     "name": "stdout",
     "output_type": "stream",
     "text": [
      "Date : 2020-11-17\n",
      "Time :  20:12:07.530903\n"
     ]
    }
   ],
   "source": [
    "print(\"Date :\",str(today.date()))\n",
    "print(\"Time : \",str(today.time()))"
   ]
  },
  {
   "cell_type": "markdown",
   "metadata": {},
   "source": [
    "### Individual elements from DateTime"
   ]
  },
  {
   "cell_type": "code",
   "execution_count": 5,
   "metadata": {},
   "outputs": [
    {
     "name": "stdout",
     "output_type": "stream",
     "text": [
      "Year :  2020\n",
      "Month :  11\n",
      "Day :  17\n",
      "Hour :  20\n",
      "Minute :  12\n",
      "Second :  7\n",
      "WeekDay : 1\n",
      "Iso Calendar : (2020, 47, 2)\n",
      "Iso Format : 2020-11-17T20:12:07.530903\n"
     ]
    }
   ],
   "source": [
    "print(\"Year : \",today.year)\n",
    "print(\"Month : \",today.month)\n",
    "print(\"Day : \",today.day)\n",
    "print(\"Hour : \",today.hour)\n",
    "print(\"Minute : \",today.minute)\n",
    "print(\"Second : \",today.second)\n",
    "print(\"WeekDay :\" ,today.weekday())\n",
    "print(\"Iso Calendar :\",today.isocalendar())\n",
    "print(\"Iso Format :\",today.isoformat())"
   ]
  },
  {
   "cell_type": "markdown",
   "metadata": {},
   "source": [
    "### Time Tuple"
   ]
  },
  {
   "cell_type": "code",
   "execution_count": 6,
   "metadata": {},
   "outputs": [
    {
     "name": "stdout",
     "output_type": "stream",
     "text": [
      "time.struct_time(tm_year=2020, tm_mon=11, tm_mday=17, tm_hour=20, tm_min=12, tm_sec=7, tm_wday=1, tm_yday=322, tm_isdst=-1)\n"
     ]
    }
   ],
   "source": [
    "print(today.timetuple())"
   ]
  },
  {
   "cell_type": "code",
   "execution_count": 7,
   "metadata": {},
   "outputs": [
    {
     "name": "stdout",
     "output_type": "stream",
     "text": [
      "tuple  : tm_year  = 2020\n",
      "         tm_mon   = 11\n",
      "         tm_mday  = 17\n",
      "         tm_hour  = 20\n",
      "         tm_min   = 12\n",
      "         tm_sec   = 7\n",
      "         tm_wday  = 1\n",
      "         tm_yday  = 322\n",
      "         tm_isdst = -1\n"
     ]
    }
   ],
   "source": [
    "tt = today.timetuple()\n",
    "print('tuple  : tm_year  =', tt.tm_year)\n",
    "print('         tm_mon   =', tt.tm_mon)\n",
    "print('         tm_mday  =', tt.tm_mday)\n",
    "print('         tm_hour  =', tt.tm_hour)\n",
    "print('         tm_min   =', tt.tm_min)\n",
    "print('         tm_sec   =', tt.tm_sec)\n",
    "print('         tm_wday  =', tt.tm_wday)\n",
    "print('         tm_yday  =', tt.tm_yday)\n",
    "print('         tm_isdst =', tt.tm_isdst)"
   ]
  },
  {
   "cell_type": "markdown",
   "metadata": {},
   "source": [
    "### Ordinal and Timestamp "
   ]
  },
  {
   "cell_type": "code",
   "execution_count": 8,
   "metadata": {},
   "outputs": [
    {
     "name": "stdout",
     "output_type": "stream",
     "text": [
      "Ordinal :  737746\n",
      "From Ordinal :  2020-11-17 00:00:00\n",
      "Time : 20:12:07.530903\n"
     ]
    },
    {
     "data": {
      "text/plain": [
       "(datetime.time(20, 12, 7, 530903), ' and ', None)"
      ]
     },
     "execution_count": 8,
     "metadata": {},
     "output_type": "execute_result"
    }
   ],
   "source": [
    "'''\n",
    "The method toordinal returns the proleptic Gregorian ordinal. \n",
    "The proleptic Gregorian calendar is produced by extending the Gregorian calendar backward\n",
    "to dates preceding its official introduction in 1582. January 1 of year 1 is day 1\n",
    "'''\n",
    "print(\"Ordinal : \",today.toordinal())\n",
    "print(\"From Ordinal : \",today.fromordinal(today.toordinal()))\n",
    "print(\"Time :\", today.time())\n",
    "today.timetz() ,\" and \", today.tzname()"
   ]
  },
  {
   "cell_type": "markdown",
   "metadata": {},
   "source": [
    "## DateTime Calculations"
   ]
  },
  {
   "cell_type": "code",
   "execution_count": 9,
   "metadata": {},
   "outputs": [
    {
     "name": "stdout",
     "output_type": "stream",
     "text": [
      "Today    : 2020-11-17 20:12:07.530903\n",
      "Yesterday: 2020-11-16 20:12:07.530903\n",
      "Tomorrow : 2020-11-18 20:12:07.530903\n",
      "Tomorrow - Yesterday : 2 days, 0:00:00\n",
      "Yesterday - Tomorrow : -2 days, 0:00:00\n",
      "Tomorrow > Yesterday : True\n",
      "Yesterday > Tomorrow: False\n"
     ]
    }
   ],
   "source": [
    "print('Today    :', today)\n",
    "yesterday = today - datetime.timedelta(days=1)\n",
    "print('Yesterday:', yesterday)\n",
    "tomorrow = today + datetime.timedelta(days=1)\n",
    "print('Tomorrow :', tomorrow)\n",
    "\n",
    "print('Tomorrow - Yesterday :', tomorrow - yesterday)\n",
    "print('Yesterday - Tomorrow :', yesterday - tomorrow)\n",
    "print('Tomorrow > Yesterday :', tomorrow > yesterday)\n",
    "print('Yesterday > Tomorrow:', yesterday > tomorrow)"
   ]
  },
  {
   "cell_type": "code",
   "execution_count": 10,
   "metadata": {
    "scrolled": true
   },
   "outputs": [
    {
     "name": "stdout",
     "output_type": "stream",
     "text": [
      "100 Days Ago :  2020-08-09 20:12:07.530903\n",
      "4 Days Ago :  2020-11-13 20:12:07.530903\n",
      "7 Days Ago :  2020-11-10 20:12:07.530903\n",
      "1 Week Ago :  2020-11-10 20:12:07.530903\n",
      "4 Hour Ago :  2020-11-17 16:12:07.530903\n",
      "30 Minutes Ago :  2020-11-17 19:42:07.530903\n",
      "45 Seconds Ago :  2020-11-17 20:11:22.530903\n",
      "--------------------------------------------------\n",
      "1 Week After :  2020-11-24 20:12:07.530903\n",
      "100 Days After :  2021-02-25 20:12:07.530903\n",
      "4 Hour After :  2020-11-18 00:12:07.530903\n",
      "30 Minutes After : 2020-11-17 20:42:07.530903\n",
      "45 Seconds After : 2020-11-17 20:12:52.530903\n"
     ]
    }
   ],
   "source": [
    "print(\"100 Days Ago : \", str(today - datetime.timedelta(days=100)))\n",
    "print(\"4 Days Ago : \", str(today - datetime.timedelta(days=4)))\n",
    "print(\"7 Days Ago : \", str(today - datetime.timedelta(days=7)))\n",
    "print(\"1 Week Ago : \", str(today - datetime.timedelta(weeks=1)))\n",
    "print(\"4 Hour Ago : \", str(today - datetime.timedelta(hours=4)))\n",
    "print(\"30 Minutes Ago : \", str(today - datetime.timedelta(minutes=30)))\n",
    "print(\"45 Seconds Ago : \", str(today - datetime.timedelta(seconds=45)))\n",
    "print('-'*50)\n",
    "print(\"1 Week After : \", str(today + datetime.timedelta(weeks=1)))\n",
    "print(\"100 Days After : \", str(today + datetime.timedelta(days=100)))\n",
    "print(\"4 Hour After : \" ,str(today + datetime.timedelta(hours=4)))\n",
    "print(\"30 Minutes After :\" , str(today + datetime.timedelta(minutes=30)))\n",
    "print(\"45 Seconds After :\", str(today + datetime.timedelta(seconds=45)))"
   ]
  },
  {
   "cell_type": "markdown",
   "metadata": {},
   "source": [
    "#### Calculate Month Difference between two Dates?"
   ]
  },
  {
   "cell_type": "code",
   "execution_count": null,
   "metadata": {},
   "outputs": [],
   "source": []
  }
 ],
 "metadata": {
  "kernelspec": {
   "display_name": "Python 3.7.0 32-bit",
   "language": "python",
   "name": "python37032bit5c9370e1c10f47d2a6b751db754ffb65"
  },
  "language_info": {
   "codemirror_mode": {
    "name": "ipython",
    "version": 3
   },
   "file_extension": ".py",
   "mimetype": "text/x-python",
   "name": "python",
   "nbconvert_exporter": "python",
   "pygments_lexer": "ipython3",
   "version": "3.7.6"
  }
 },
 "nbformat": 4,
 "nbformat_minor": 1
}
