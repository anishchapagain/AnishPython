{
 "cells": [
  {
   "cell_type": "markdown",
   "metadata": {},
   "source": [
    "# EarthQuake Data:\n",
    "Columns: Date,Time,Latitude,Longitude,Magnitude,Epicentre"
   ]
  },
  {
   "cell_type": "code",
   "execution_count": null,
   "metadata": {},
   "outputs": [],
   "source": [
    "import pandas as pd #alias\n",
    "from pandas_profiling import ProfileReport\n",
    "import numpy as np\n",
    "import matplotlib.pyplot as plt\n",
    "from pandas_visual_analysis import VisualAnalysis, DataSource"
   ]
  },
  {
   "cell_type": "markdown",
   "metadata": {},
   "source": [
    "# Read CSV file"
   ]
  },
  {
   "cell_type": "code",
   "execution_count": null,
   "metadata": {
    "scrolled": true
   },
   "outputs": [],
   "source": [
    "dataDate = pd.read_csv('earthquake.csv') #load CSV to pandas DataFrame (Tabular form: Table (row x col))\n",
    "dataDate #[dataDate['Magnitude']>=5.0]"
   ]
  },
  {
   "cell_type": "markdown",
   "metadata": {},
   "source": [
    "### Pandas Profiling - Exploratory Data Analysis"
   ]
  },
  {
   "cell_type": "code",
   "execution_count": null,
   "metadata": {},
   "outputs": [],
   "source": [
    "#profile = ProfileReport(dataDate)\n",
    "#profile.to_file(output_file='earthquake1.html')"
   ]
  },
  {
   "cell_type": "code",
   "execution_count": null,
   "metadata": {},
   "outputs": [],
   "source": [
    "#https://pypi.org/project/pandas-visual-analysis/\n",
    "#https://pandas-visual-analysis.readthedocs.io/\n",
    "VisualAnalysis(dataDate)"
   ]
  },
  {
   "cell_type": "markdown",
   "metadata": {},
   "source": [
    "# Pandas Operations"
   ]
  },
  {
   "cell_type": "code",
   "execution_count": 12,
   "metadata": {},
   "outputs": [
    {
     "data": {
      "text/plain": [
       "Longitude     object\n",
       "Latitude      object\n",
       "Epicentre     object\n",
       "Time          object\n",
       "Magnitude    float64\n",
       "Date          object\n",
       "dtype: object"
      ]
     },
     "execution_count": 12,
     "metadata": {},
     "output_type": "execute_result"
    }
   ],
   "source": [
    "dataDate.dtypes #Table column-wise datatypes (Int,object=string,Float,Date-Y/m/d 2021/03/30)"
   ]
  },
  {
   "cell_type": "code",
   "execution_count": 5,
   "metadata": {},
   "outputs": [],
   "source": [
    "#dir(dataDate)"
   ]
  },
  {
   "cell_type": "code",
   "execution_count": 6,
   "metadata": {},
   "outputs": [
    {
     "data": {
      "text/plain": [
       "pandas.core.frame.DataFrame"
      ]
     },
     "execution_count": 6,
     "metadata": {},
     "output_type": "execute_result"
    }
   ],
   "source": [
    "type(dataDate) #DataFrame, Series-List"
   ]
  },
  {
   "cell_type": "code",
   "execution_count": 7,
   "metadata": {},
   "outputs": [
    {
     "data": {
      "text/html": [
       "<div>\n",
       "<style scoped>\n",
       "    .dataframe tbody tr th:only-of-type {\n",
       "        vertical-align: middle;\n",
       "    }\n",
       "\n",
       "    .dataframe tbody tr th {\n",
       "        vertical-align: top;\n",
       "    }\n",
       "\n",
       "    .dataframe thead th {\n",
       "        text-align: right;\n",
       "    }\n",
       "</style>\n",
       "<table border=\"1\" class=\"dataframe\">\n",
       "  <thead>\n",
       "    <tr style=\"text-align: right;\">\n",
       "      <th></th>\n",
       "      <th>Longitude</th>\n",
       "      <th>Latitude</th>\n",
       "      <th>Epicentre</th>\n",
       "      <th>Time</th>\n",
       "      <th>Magnitude</th>\n",
       "      <th>Date</th>\n",
       "    </tr>\n",
       "  </thead>\n",
       "  <tbody>\n",
       "    <tr>\n",
       "      <th>0</th>\n",
       "      <td>85.39</td>\n",
       "      <td>27.58</td>\n",
       "      <td>Lalitpur</td>\n",
       "      <td>14:45</td>\n",
       "      <td>4.1</td>\n",
       "      <td>2015/06/26</td>\n",
       "    </tr>\n",
       "    <tr>\n",
       "      <th>1</th>\n",
       "      <td>85.49</td>\n",
       "      <td>27.94</td>\n",
       "      <td>Sindhupalchowk</td>\n",
       "      <td>23:51</td>\n",
       "      <td>4.2</td>\n",
       "      <td>2015/06/25</td>\n",
       "    </tr>\n",
       "    <tr>\n",
       "      <th>2</th>\n",
       "      <td>86.21</td>\n",
       "      <td>27.66</td>\n",
       "      <td>Dolakha</td>\n",
       "      <td>23:49</td>\n",
       "      <td>4.1</td>\n",
       "      <td>2015/06/25</td>\n",
       "    </tr>\n",
       "    <tr>\n",
       "      <th>3</th>\n",
       "      <td>85.17</td>\n",
       "      <td>27.78</td>\n",
       "      <td>Nuwakot</td>\n",
       "      <td>21:07</td>\n",
       "      <td>4.3</td>\n",
       "      <td>2015/06/25</td>\n",
       "    </tr>\n",
       "    <tr>\n",
       "      <th>4</th>\n",
       "      <td>85.75</td>\n",
       "      <td>27.85</td>\n",
       "      <td>Sindhupalchowk</td>\n",
       "      <td>14:59</td>\n",
       "      <td>4.0</td>\n",
       "      <td>2015/06/24</td>\n",
       "    </tr>\n",
       "  </tbody>\n",
       "</table>\n",
       "</div>"
      ],
      "text/plain": [
       "  Longitude Latitude       Epicentre   Time  Magnitude        Date\n",
       "0     85.39    27.58        Lalitpur  14:45        4.1  2015/06/26\n",
       "1     85.49    27.94  Sindhupalchowk  23:51        4.2  2015/06/25\n",
       "2     86.21    27.66         Dolakha  23:49        4.1  2015/06/25\n",
       "3     85.17    27.78         Nuwakot  21:07        4.3  2015/06/25\n",
       "4     85.75    27.85  Sindhupalchowk  14:59        4.0  2015/06/24"
      ]
     },
     "execution_count": 7,
     "metadata": {},
     "output_type": "execute_result"
    }
   ],
   "source": [
    "dataDate.head() #tail() (Header-head(noOfRows), footer-tail(noOfRows))"
   ]
  },
  {
   "cell_type": "code",
   "execution_count": 8,
   "metadata": {},
   "outputs": [
    {
     "data": {
      "text/html": [
       "<div>\n",
       "<style scoped>\n",
       "    .dataframe tbody tr th:only-of-type {\n",
       "        vertical-align: middle;\n",
       "    }\n",
       "\n",
       "    .dataframe tbody tr th {\n",
       "        vertical-align: top;\n",
       "    }\n",
       "\n",
       "    .dataframe thead th {\n",
       "        text-align: right;\n",
       "    }\n",
       "</style>\n",
       "<table border=\"1\" class=\"dataframe\">\n",
       "  <thead>\n",
       "    <tr style=\"text-align: right;\">\n",
       "      <th></th>\n",
       "      <th>Longitude</th>\n",
       "      <th>Latitude</th>\n",
       "      <th>Epicentre</th>\n",
       "      <th>Time</th>\n",
       "      <th>Magnitude</th>\n",
       "      <th>Date</th>\n",
       "    </tr>\n",
       "  </thead>\n",
       "  <tbody>\n",
       "    <tr>\n",
       "      <th>438</th>\n",
       "      <td>85.35</td>\n",
       "      <td>28.05</td>\n",
       "      <td>Rasuwa</td>\n",
       "      <td>01:49</td>\n",
       "      <td>4.0</td>\n",
       "      <td>2015/04/26</td>\n",
       "    </tr>\n",
       "    <tr>\n",
       "      <th>439</th>\n",
       "      <td>85.56</td>\n",
       "      <td>27.93</td>\n",
       "      <td>Sindhupalchowk</td>\n",
       "      <td>01:29</td>\n",
       "      <td>4.1</td>\n",
       "      <td>2015/04/26</td>\n",
       "    </tr>\n",
       "    <tr>\n",
       "      <th>440</th>\n",
       "      <td>85.43</td>\n",
       "      <td>27.71</td>\n",
       "      <td>Kathmandu</td>\n",
       "      <td>00:43</td>\n",
       "      <td>4.6</td>\n",
       "      <td>2015/04/26</td>\n",
       "    </tr>\n",
       "    <tr>\n",
       "      <th>441</th>\n",
       "      <td>85.55</td>\n",
       "      <td>27.94</td>\n",
       "      <td>Sindhupalchowk</td>\n",
       "      <td>00:14</td>\n",
       "      <td>4.1</td>\n",
       "      <td>2015/04/26</td>\n",
       "    </tr>\n",
       "    <tr>\n",
       "      <th>442</th>\n",
       "      <td>85.98</td>\n",
       "      <td>27.78</td>\n",
       "      <td>Sindhupalchowk</td>\n",
       "      <td>23:46</td>\n",
       "      <td>4.1</td>\n",
       "      <td>2015/04/25</td>\n",
       "    </tr>\n",
       "  </tbody>\n",
       "</table>\n",
       "</div>"
      ],
      "text/plain": [
       "    Longitude Latitude       Epicentre   Time  Magnitude        Date\n",
       "438     85.35    28.05          Rasuwa  01:49        4.0  2015/04/26\n",
       "439     85.56    27.93  Sindhupalchowk  01:29        4.1  2015/04/26\n",
       "440     85.43    27.71       Kathmandu  00:43        4.6  2015/04/26\n",
       "441     85.55    27.94  Sindhupalchowk  00:14        4.1  2015/04/26\n",
       "442     85.98    27.78  Sindhupalchowk  23:46        4.1  2015/04/25"
      ]
     },
     "execution_count": 8,
     "metadata": {},
     "output_type": "execute_result"
    }
   ],
   "source": [
    "dataDate.tail()"
   ]
  },
  {
   "cell_type": "code",
   "execution_count": 9,
   "metadata": {},
   "outputs": [
    {
     "data": {
      "text/html": [
       "<div>\n",
       "<style scoped>\n",
       "    .dataframe tbody tr th:only-of-type {\n",
       "        vertical-align: middle;\n",
       "    }\n",
       "\n",
       "    .dataframe tbody tr th {\n",
       "        vertical-align: top;\n",
       "    }\n",
       "\n",
       "    .dataframe thead th {\n",
       "        text-align: right;\n",
       "    }\n",
       "</style>\n",
       "<table border=\"1\" class=\"dataframe\">\n",
       "  <thead>\n",
       "    <tr style=\"text-align: right;\">\n",
       "      <th></th>\n",
       "      <th>Magnitude</th>\n",
       "    </tr>\n",
       "  </thead>\n",
       "  <tbody>\n",
       "    <tr>\n",
       "      <th>count</th>\n",
       "      <td>443.000000</td>\n",
       "    </tr>\n",
       "    <tr>\n",
       "      <th>mean</th>\n",
       "      <td>4.397968</td>\n",
       "    </tr>\n",
       "    <tr>\n",
       "      <th>std</th>\n",
       "      <td>0.479838</td>\n",
       "    </tr>\n",
       "    <tr>\n",
       "      <th>min</th>\n",
       "      <td>4.000000</td>\n",
       "    </tr>\n",
       "    <tr>\n",
       "      <th>25%</th>\n",
       "      <td>4.100000</td>\n",
       "    </tr>\n",
       "    <tr>\n",
       "      <th>50%</th>\n",
       "      <td>4.200000</td>\n",
       "    </tr>\n",
       "    <tr>\n",
       "      <th>75%</th>\n",
       "      <td>4.500000</td>\n",
       "    </tr>\n",
       "    <tr>\n",
       "      <th>max</th>\n",
       "      <td>7.600000</td>\n",
       "    </tr>\n",
       "  </tbody>\n",
       "</table>\n",
       "</div>"
      ],
      "text/plain": [
       "        Magnitude\n",
       "count  443.000000\n",
       "mean     4.397968\n",
       "std      0.479838\n",
       "min      4.000000\n",
       "25%      4.100000\n",
       "50%      4.200000\n",
       "75%      4.500000\n",
       "max      7.600000"
      ]
     },
     "execution_count": 9,
     "metadata": {},
     "output_type": "execute_result"
    }
   ],
   "source": [
    "dataDate.describe() #TASK--> parameter, function !!"
   ]
  },
  {
   "cell_type": "code",
   "execution_count": 10,
   "metadata": {},
   "outputs": [
    {
     "name": "stdout",
     "output_type": "stream",
     "text": [
      "<class 'pandas.core.frame.DataFrame'>\n",
      "RangeIndex: 443 entries, 0 to 442\n",
      "Data columns (total 6 columns):\n",
      " #   Column     Non-Null Count  Dtype  \n",
      "---  ------     --------------  -----  \n",
      " 0   Longitude  443 non-null    object \n",
      " 1   Latitude   443 non-null    object \n",
      " 2   Epicentre  443 non-null    object \n",
      " 3   Time       443 non-null    object \n",
      " 4   Magnitude  443 non-null    float64\n",
      " 5   Date       443 non-null    object \n",
      "dtypes: float64(1), object(5)\n",
      "memory usage: 20.9+ KB\n"
     ]
    }
   ],
   "source": [
    "dataDate.info() # null: empty , not-null: not empty (NAN) # None a='' a is None"
   ]
  },
  {
   "cell_type": "code",
   "execution_count": 11,
   "metadata": {},
   "outputs": [
    {
     "data": {
      "text/plain": [
       "(443, 6)"
      ]
     },
     "execution_count": 11,
     "metadata": {},
     "output_type": "execute_result"
    }
   ],
   "source": [
    "dataDate.shape #row, col"
   ]
  },
  {
   "cell_type": "code",
   "execution_count": 12,
   "metadata": {},
   "outputs": [
    {
     "data": {
      "text/plain": [
       "2"
      ]
     },
     "execution_count": 12,
     "metadata": {},
     "output_type": "execute_result"
    }
   ],
   "source": [
    "dataDate.ndim #n-dimensional"
   ]
  },
  {
   "cell_type": "code",
   "execution_count": 13,
   "metadata": {},
   "outputs": [
    {
     "data": {
      "text/plain": [
       "['Longitude', 'Latitude', 'Epicentre', 'Time', 'Magnitude', 'Date']"
      ]
     },
     "execution_count": 13,
     "metadata": {},
     "output_type": "execute_result"
    }
   ],
   "source": [
    "list(dataDate.columns)"
   ]
  },
  {
   "cell_type": "code",
   "execution_count": 14,
   "metadata": {},
   "outputs": [
    {
     "data": {
      "text/plain": [
       "RangeIndex(start=0, stop=443, step=1)"
      ]
     },
     "execution_count": 14,
     "metadata": {},
     "output_type": "execute_result"
    }
   ],
   "source": [
    "dataDate.index  #range(0,443,1)\n",
    "#list(range(0,443,1))"
   ]
  },
  {
   "cell_type": "code",
   "execution_count": 15,
   "metadata": {},
   "outputs": [
    {
     "data": {
      "text/html": [
       "<div>\n",
       "<style scoped>\n",
       "    .dataframe tbody tr th:only-of-type {\n",
       "        vertical-align: middle;\n",
       "    }\n",
       "\n",
       "    .dataframe tbody tr th {\n",
       "        vertical-align: top;\n",
       "    }\n",
       "\n",
       "    .dataframe thead th {\n",
       "        text-align: right;\n",
       "    }\n",
       "</style>\n",
       "<table border=\"1\" class=\"dataframe\">\n",
       "  <thead>\n",
       "    <tr style=\"text-align: right;\">\n",
       "      <th></th>\n",
       "      <th>Longitude</th>\n",
       "      <th>Latitude</th>\n",
       "      <th>Epicentre</th>\n",
       "      <th>Time</th>\n",
       "      <th>Magnitude</th>\n",
       "      <th>Date</th>\n",
       "    </tr>\n",
       "  </thead>\n",
       "  <tbody>\n",
       "    <tr>\n",
       "      <th>0</th>\n",
       "      <td>85.39</td>\n",
       "      <td>27.58</td>\n",
       "      <td>Lalitpur</td>\n",
       "      <td>14:45</td>\n",
       "      <td>4.1</td>\n",
       "      <td>2015/06/26</td>\n",
       "    </tr>\n",
       "    <tr>\n",
       "      <th>100</th>\n",
       "      <td>86.26</td>\n",
       "      <td>27.70</td>\n",
       "      <td>Dolakha</td>\n",
       "      <td>17:38</td>\n",
       "      <td>4.5</td>\n",
       "      <td>2015/06/03</td>\n",
       "    </tr>\n",
       "    <tr>\n",
       "      <th>200</th>\n",
       "      <td>86.24</td>\n",
       "      <td>27.76</td>\n",
       "      <td>Dolakha</td>\n",
       "      <td>16:26</td>\n",
       "      <td>4.4</td>\n",
       "      <td>2015/05/12</td>\n",
       "    </tr>\n",
       "    <tr>\n",
       "      <th>300</th>\n",
       "      <td>85.91</td>\n",
       "      <td>28.34</td>\n",
       "      <td>Tibet</td>\n",
       "      <td>23:27</td>\n",
       "      <td>5.6</td>\n",
       "      <td>2015/04/25</td>\n",
       "    </tr>\n",
       "    <tr>\n",
       "      <th>400</th>\n",
       "      <td>85.74</td>\n",
       "      <td>27.57</td>\n",
       "      <td>Kavrepalanchowk</td>\n",
       "      <td>04:17</td>\n",
       "      <td>4.5</td>\n",
       "      <td>2015/04/27</td>\n",
       "    </tr>\n",
       "  </tbody>\n",
       "</table>\n",
       "</div>"
      ],
      "text/plain": [
       "    Longitude Latitude        Epicentre   Time  Magnitude        Date\n",
       "0       85.39    27.58         Lalitpur  14:45        4.1  2015/06/26\n",
       "100     86.26    27.70          Dolakha  17:38        4.5  2015/06/03\n",
       "200     86.24    27.76          Dolakha  16:26        4.4  2015/05/12\n",
       "300     85.91    28.34            Tibet  23:27        5.6  2015/04/25\n",
       "400     85.74    27.57  Kavrepalanchowk  04:17        4.5  2015/04/27"
      ]
     },
     "execution_count": 15,
     "metadata": {},
     "output_type": "execute_result"
    }
   ],
   "source": [
    "dataDate[0:443:100] #box- unbox"
   ]
  },
  {
   "cell_type": "code",
   "execution_count": 16,
   "metadata": {},
   "outputs": [
    {
     "data": {
      "text/html": [
       "<div>\n",
       "<style scoped>\n",
       "    .dataframe tbody tr th:only-of-type {\n",
       "        vertical-align: middle;\n",
       "    }\n",
       "\n",
       "    .dataframe tbody tr th {\n",
       "        vertical-align: top;\n",
       "    }\n",
       "\n",
       "    .dataframe thead th {\n",
       "        text-align: right;\n",
       "    }\n",
       "</style>\n",
       "<table border=\"1\" class=\"dataframe\">\n",
       "  <thead>\n",
       "    <tr style=\"text-align: right;\">\n",
       "      <th></th>\n",
       "      <th>Longitude</th>\n",
       "      <th>Latitude</th>\n",
       "      <th>Epicentre</th>\n",
       "      <th>Time</th>\n",
       "      <th>Magnitude</th>\n",
       "      <th>Date</th>\n",
       "    </tr>\n",
       "  </thead>\n",
       "  <tbody>\n",
       "    <tr>\n",
       "      <th>0</th>\n",
       "      <td>85.39</td>\n",
       "      <td>27.58</td>\n",
       "      <td>Lalitpur</td>\n",
       "      <td>14:45</td>\n",
       "      <td>4.1</td>\n",
       "      <td>2015/06/26</td>\n",
       "    </tr>\n",
       "    <tr>\n",
       "      <th>50</th>\n",
       "      <td>85.48</td>\n",
       "      <td>27.97</td>\n",
       "      <td>Nuwakot</td>\n",
       "      <td>06:11</td>\n",
       "      <td>4.0</td>\n",
       "      <td>2015/05/16</td>\n",
       "    </tr>\n",
       "    <tr>\n",
       "      <th>100</th>\n",
       "      <td>86.26</td>\n",
       "      <td>27.70</td>\n",
       "      <td>Dolakha</td>\n",
       "      <td>17:38</td>\n",
       "      <td>4.5</td>\n",
       "      <td>2015/06/03</td>\n",
       "    </tr>\n",
       "    <tr>\n",
       "      <th>150</th>\n",
       "      <td>85.53</td>\n",
       "      <td>27.89</td>\n",
       "      <td>Sindhupalchowk</td>\n",
       "      <td>13:16</td>\n",
       "      <td>4.6</td>\n",
       "      <td>2015/05/27</td>\n",
       "    </tr>\n",
       "    <tr>\n",
       "      <th>200</th>\n",
       "      <td>86.24</td>\n",
       "      <td>27.76</td>\n",
       "      <td>Dolakha</td>\n",
       "      <td>16:26</td>\n",
       "      <td>4.4</td>\n",
       "      <td>2015/05/12</td>\n",
       "    </tr>\n",
       "    <tr>\n",
       "      <th>250</th>\n",
       "      <td>86.26</td>\n",
       "      <td>27.69</td>\n",
       "      <td>Dolakha</td>\n",
       "      <td>11:24</td>\n",
       "      <td>4.0</td>\n",
       "      <td>2015/05/18</td>\n",
       "    </tr>\n",
       "    <tr>\n",
       "      <th>300</th>\n",
       "      <td>85.91</td>\n",
       "      <td>28.34</td>\n",
       "      <td>Tibet</td>\n",
       "      <td>23:27</td>\n",
       "      <td>5.6</td>\n",
       "      <td>2015/04/25</td>\n",
       "    </tr>\n",
       "    <tr>\n",
       "      <th>350</th>\n",
       "      <td>83.99</td>\n",
       "      <td>28.40</td>\n",
       "      <td>Kaski</td>\n",
       "      <td>01:57</td>\n",
       "      <td>4.1</td>\n",
       "      <td>2015/04/23</td>\n",
       "    </tr>\n",
       "    <tr>\n",
       "      <th>400</th>\n",
       "      <td>85.74</td>\n",
       "      <td>27.57</td>\n",
       "      <td>Kavrepalanchowk</td>\n",
       "      <td>04:17</td>\n",
       "      <td>4.5</td>\n",
       "      <td>2015/04/27</td>\n",
       "    </tr>\n",
       "  </tbody>\n",
       "</table>\n",
       "</div>"
      ],
      "text/plain": [
       "    Longitude Latitude        Epicentre   Time  Magnitude        Date\n",
       "0       85.39    27.58         Lalitpur  14:45        4.1  2015/06/26\n",
       "50      85.48    27.97          Nuwakot  06:11        4.0  2015/05/16\n",
       "100     86.26    27.70          Dolakha  17:38        4.5  2015/06/03\n",
       "150     85.53    27.89   Sindhupalchowk  13:16        4.6  2015/05/27\n",
       "200     86.24    27.76          Dolakha  16:26        4.4  2015/05/12\n",
       "250     86.26    27.69          Dolakha  11:24        4.0  2015/05/18\n",
       "300     85.91    28.34            Tibet  23:27        5.6  2015/04/25\n",
       "350     83.99    28.40            Kaski  01:57        4.1  2015/04/23\n",
       "400     85.74    27.57  Kavrepalanchowk  04:17        4.5  2015/04/27"
      ]
     },
     "execution_count": 16,
     "metadata": {},
     "output_type": "execute_result"
    }
   ],
   "source": [
    "dataDate[::50] # List/ Range  [start,stop,step]"
   ]
  },
  {
   "cell_type": "code",
   "execution_count": 17,
   "metadata": {},
   "outputs": [
    {
     "data": {
      "text/plain": [
       "0            Lalitpur\n",
       "1      Sindhupalchowk\n",
       "2             Dolakha\n",
       "3             Nuwakot\n",
       "4      Sindhupalchowk\n",
       "            ...      \n",
       "438            Rasuwa\n",
       "439    Sindhupalchowk\n",
       "440         Kathmandu\n",
       "441    Sindhupalchowk\n",
       "442    Sindhupalchowk\n",
       "Name: Epicentre, Length: 443, dtype: object"
      ]
     },
     "execution_count": 17,
     "metadata": {},
     "output_type": "execute_result"
    }
   ],
   "source": [
    "dataDate['Epicentre']  #single column demand 'dataDate.Epicentre'"
   ]
  },
  {
   "cell_type": "code",
   "execution_count": 18,
   "metadata": {},
   "outputs": [
    {
     "data": {
      "text/plain": [
       "'Dolakha'"
      ]
     },
     "execution_count": 18,
     "metadata": {},
     "output_type": "execute_result"
    }
   ],
   "source": [
    "dataDate['Epicentre'][5]"
   ]
  },
  {
   "cell_type": "code",
   "execution_count": 19,
   "metadata": {},
   "outputs": [
    {
     "data": {
      "text/plain": [
       "100           Dolakha\n",
       "105           Dolakha\n",
       "110           Dhading\n",
       "115             Humla\n",
       "120           Dolakha\n",
       "125         Kathmandu\n",
       "130           Dolakha\n",
       "135           Dolakha\n",
       "140           Dhading\n",
       "145           Dolakha\n",
       "150    Sindhupalchowk\n",
       "155    Sindhupalchowk\n",
       "160           Dolakha\n",
       "165         Kathmandu\n",
       "170           Dolakha\n",
       "175           Dolakha\n",
       "180            Gorkha\n",
       "185           Dolakha\n",
       "190           Dolakha\n",
       "195    Sindhupalchowk\n",
       "200           Dolakha\n",
       "Name: Epicentre, dtype: object"
      ]
     },
     "execution_count": 19,
     "metadata": {},
     "output_type": "execute_result"
    }
   ],
   "source": [
    "dataDate['Epicentre'][100:201:5]"
   ]
  },
  {
   "cell_type": "code",
   "execution_count": 20,
   "metadata": {},
   "outputs": [
    {
     "data": {
      "text/html": [
       "<div>\n",
       "<style scoped>\n",
       "    .dataframe tbody tr th:only-of-type {\n",
       "        vertical-align: middle;\n",
       "    }\n",
       "\n",
       "    .dataframe tbody tr th {\n",
       "        vertical-align: top;\n",
       "    }\n",
       "\n",
       "    .dataframe thead th {\n",
       "        text-align: right;\n",
       "    }\n",
       "</style>\n",
       "<table border=\"1\" class=\"dataframe\">\n",
       "  <thead>\n",
       "    <tr style=\"text-align: right;\">\n",
       "      <th></th>\n",
       "      <th>Epicentre</th>\n",
       "      <th>Magnitude</th>\n",
       "    </tr>\n",
       "  </thead>\n",
       "  <tbody>\n",
       "    <tr>\n",
       "      <th>0</th>\n",
       "      <td>Lalitpur</td>\n",
       "      <td>4.1</td>\n",
       "    </tr>\n",
       "    <tr>\n",
       "      <th>1</th>\n",
       "      <td>Sindhupalchowk</td>\n",
       "      <td>4.2</td>\n",
       "    </tr>\n",
       "    <tr>\n",
       "      <th>2</th>\n",
       "      <td>Dolakha</td>\n",
       "      <td>4.1</td>\n",
       "    </tr>\n",
       "    <tr>\n",
       "      <th>3</th>\n",
       "      <td>Nuwakot</td>\n",
       "      <td>4.3</td>\n",
       "    </tr>\n",
       "    <tr>\n",
       "      <th>4</th>\n",
       "      <td>Sindhupalchowk</td>\n",
       "      <td>4.0</td>\n",
       "    </tr>\n",
       "    <tr>\n",
       "      <th>...</th>\n",
       "      <td>...</td>\n",
       "      <td>...</td>\n",
       "    </tr>\n",
       "    <tr>\n",
       "      <th>438</th>\n",
       "      <td>Rasuwa</td>\n",
       "      <td>4.0</td>\n",
       "    </tr>\n",
       "    <tr>\n",
       "      <th>439</th>\n",
       "      <td>Sindhupalchowk</td>\n",
       "      <td>4.1</td>\n",
       "    </tr>\n",
       "    <tr>\n",
       "      <th>440</th>\n",
       "      <td>Kathmandu</td>\n",
       "      <td>4.6</td>\n",
       "    </tr>\n",
       "    <tr>\n",
       "      <th>441</th>\n",
       "      <td>Sindhupalchowk</td>\n",
       "      <td>4.1</td>\n",
       "    </tr>\n",
       "    <tr>\n",
       "      <th>442</th>\n",
       "      <td>Sindhupalchowk</td>\n",
       "      <td>4.1</td>\n",
       "    </tr>\n",
       "  </tbody>\n",
       "</table>\n",
       "<p>443 rows × 2 columns</p>\n",
       "</div>"
      ],
      "text/plain": [
       "          Epicentre  Magnitude\n",
       "0          Lalitpur        4.1\n",
       "1    Sindhupalchowk        4.2\n",
       "2           Dolakha        4.1\n",
       "3           Nuwakot        4.3\n",
       "4    Sindhupalchowk        4.0\n",
       "..              ...        ...\n",
       "438          Rasuwa        4.0\n",
       "439  Sindhupalchowk        4.1\n",
       "440       Kathmandu        4.6\n",
       "441  Sindhupalchowk        4.1\n",
       "442  Sindhupalchowk        4.1\n",
       "\n",
       "[443 rows x 2 columns]"
      ]
     },
     "execution_count": 20,
     "metadata": {},
     "output_type": "execute_result"
    }
   ],
   "source": [
    "dataDate[['Epicentre','Magnitude']]  # dataDate['Epicentre']     #ages=[1,2]"
   ]
  },
  {
   "cell_type": "code",
   "execution_count": 21,
   "metadata": {},
   "outputs": [
    {
     "data": {
      "text/html": [
       "<div>\n",
       "<style scoped>\n",
       "    .dataframe tbody tr th:only-of-type {\n",
       "        vertical-align: middle;\n",
       "    }\n",
       "\n",
       "    .dataframe tbody tr th {\n",
       "        vertical-align: top;\n",
       "    }\n",
       "\n",
       "    .dataframe thead th {\n",
       "        text-align: right;\n",
       "    }\n",
       "</style>\n",
       "<table border=\"1\" class=\"dataframe\">\n",
       "  <thead>\n",
       "    <tr style=\"text-align: right;\">\n",
       "      <th></th>\n",
       "      <th>Epicentre</th>\n",
       "      <th>Magnitude</th>\n",
       "    </tr>\n",
       "  </thead>\n",
       "  <tbody>\n",
       "    <tr>\n",
       "      <th>100</th>\n",
       "      <td>Dolakha</td>\n",
       "      <td>4.5</td>\n",
       "    </tr>\n",
       "    <tr>\n",
       "      <th>105</th>\n",
       "      <td>Dolakha</td>\n",
       "      <td>4.0</td>\n",
       "    </tr>\n",
       "    <tr>\n",
       "      <th>110</th>\n",
       "      <td>Dhading</td>\n",
       "      <td>4.0</td>\n",
       "    </tr>\n",
       "    <tr>\n",
       "      <th>115</th>\n",
       "      <td>Humla</td>\n",
       "      <td>4.1</td>\n",
       "    </tr>\n",
       "    <tr>\n",
       "      <th>120</th>\n",
       "      <td>Dolakha</td>\n",
       "      <td>4.8</td>\n",
       "    </tr>\n",
       "    <tr>\n",
       "      <th>125</th>\n",
       "      <td>Kathmandu</td>\n",
       "      <td>4.0</td>\n",
       "    </tr>\n",
       "    <tr>\n",
       "      <th>130</th>\n",
       "      <td>Dolakha</td>\n",
       "      <td>4.8</td>\n",
       "    </tr>\n",
       "    <tr>\n",
       "      <th>135</th>\n",
       "      <td>Dolakha</td>\n",
       "      <td>4.3</td>\n",
       "    </tr>\n",
       "    <tr>\n",
       "      <th>140</th>\n",
       "      <td>Dhading</td>\n",
       "      <td>4.2</td>\n",
       "    </tr>\n",
       "    <tr>\n",
       "      <th>145</th>\n",
       "      <td>Dolakha</td>\n",
       "      <td>4.2</td>\n",
       "    </tr>\n",
       "    <tr>\n",
       "      <th>150</th>\n",
       "      <td>Sindhupalchowk</td>\n",
       "      <td>4.6</td>\n",
       "    </tr>\n",
       "    <tr>\n",
       "      <th>155</th>\n",
       "      <td>Sindhupalchowk</td>\n",
       "      <td>4.1</td>\n",
       "    </tr>\n",
       "    <tr>\n",
       "      <th>160</th>\n",
       "      <td>Dolakha</td>\n",
       "      <td>4.1</td>\n",
       "    </tr>\n",
       "    <tr>\n",
       "      <th>165</th>\n",
       "      <td>Kathmandu</td>\n",
       "      <td>4.2</td>\n",
       "    </tr>\n",
       "    <tr>\n",
       "      <th>170</th>\n",
       "      <td>Dolakha</td>\n",
       "      <td>4.4</td>\n",
       "    </tr>\n",
       "    <tr>\n",
       "      <th>175</th>\n",
       "      <td>Dolakha</td>\n",
       "      <td>4.1</td>\n",
       "    </tr>\n",
       "    <tr>\n",
       "      <th>180</th>\n",
       "      <td>Gorkha</td>\n",
       "      <td>5.0</td>\n",
       "    </tr>\n",
       "    <tr>\n",
       "      <th>185</th>\n",
       "      <td>Dolakha</td>\n",
       "      <td>4.2</td>\n",
       "    </tr>\n",
       "    <tr>\n",
       "      <th>190</th>\n",
       "      <td>Dolakha</td>\n",
       "      <td>4.1</td>\n",
       "    </tr>\n",
       "    <tr>\n",
       "      <th>195</th>\n",
       "      <td>Sindhupalchowk</td>\n",
       "      <td>4.4</td>\n",
       "    </tr>\n",
       "    <tr>\n",
       "      <th>200</th>\n",
       "      <td>Dolakha</td>\n",
       "      <td>4.4</td>\n",
       "    </tr>\n",
       "  </tbody>\n",
       "</table>\n",
       "</div>"
      ],
      "text/plain": [
       "          Epicentre  Magnitude\n",
       "100         Dolakha        4.5\n",
       "105         Dolakha        4.0\n",
       "110         Dhading        4.0\n",
       "115           Humla        4.1\n",
       "120         Dolakha        4.8\n",
       "125       Kathmandu        4.0\n",
       "130         Dolakha        4.8\n",
       "135         Dolakha        4.3\n",
       "140         Dhading        4.2\n",
       "145         Dolakha        4.2\n",
       "150  Sindhupalchowk        4.6\n",
       "155  Sindhupalchowk        4.1\n",
       "160         Dolakha        4.1\n",
       "165       Kathmandu        4.2\n",
       "170         Dolakha        4.4\n",
       "175         Dolakha        4.1\n",
       "180          Gorkha        5.0\n",
       "185         Dolakha        4.2\n",
       "190         Dolakha        4.1\n",
       "195  Sindhupalchowk        4.4\n",
       "200         Dolakha        4.4"
      ]
     },
     "execution_count": 21,
     "metadata": {},
     "output_type": "execute_result"
    }
   ],
   "source": [
    "dataDate[['Epicentre','Magnitude']][100:201:5]"
   ]
  },
  {
   "cell_type": "code",
   "execution_count": 22,
   "metadata": {},
   "outputs": [
    {
     "data": {
      "text/plain": [
       "<AxesSubplot:>"
      ]
     },
     "execution_count": 22,
     "metadata": {},
     "output_type": "execute_result"
    },
    {
     "data": {
      "image/png": "[encoded data removed]",
      "text/plain": [
       "<Figure size 432x288 with 1 Axes>"
      ]
     },
     "metadata": {
      "needs_background": "light"
     },
     "output_type": "display_data"
    }
   ],
   "source": [
    "dataDate.Epicentre.value_counts().plot(kind='bar') #line, bar, barh"
   ]
  },
  {
   "cell_type": "code",
   "execution_count": 23,
   "metadata": {},
   "outputs": [
    {
     "data": {
      "text/plain": [
       "Dolakha            143\n",
       "Sindhupalchowk     116\n",
       "Nuwakot             34\n",
       "Gorkha              30\n",
       "Rasuwa              26\n",
       "Dhading             25\n",
       "Kathmandu           16\n",
       "Tibet                9\n",
       "Kavre                6\n",
       "Kavrepalanchowk      5\n",
       "Ramechhap            4\n",
       "Humla                4\n",
       "Lalitpur             4\n",
       "Bajura               3\n",
       "Baglung              2\n",
       "Kaski                2\n",
       "Jajarkot             2\n",
       "Darchula             2\n",
       "Lalitput             1\n",
       "Lamjung              1\n",
       "Dailekh              1\n",
       "Taplejung            1\n",
       "Rukum                1\n",
       "Panchthar            1\n",
       "Udayapur             1\n",
       "Bhojpur              1\n",
       "Doti                 1\n",
       "Myagdi               1\n",
       "Name: Epicentre, dtype: int64"
      ]
     },
     "execution_count": 23,
     "metadata": {},
     "output_type": "execute_result"
    }
   ],
   "source": [
    "dataDate.Epicentre.value_counts() #important (GroupBy)"
   ]
  },
  {
   "cell_type": "code",
   "execution_count": 24,
   "metadata": {},
   "outputs": [
    {
     "data": {
      "text/plain": [
       "4.0    100\n",
       "4.2     74\n",
       "4.1     63\n",
       "4.3     34\n",
       "4.5     32\n",
       "4.4     30\n",
       "4.6     18\n",
       "4.8     17\n",
       "5.0     14\n",
       "4.7     13\n",
       "5.3      9\n",
       "5.1      9\n",
       "5.5      8\n",
       "5.2      6\n",
       "4.9      5\n",
       "5.7      2\n",
       "7.6      1\n",
       "5.9      1\n",
       "5.8      1\n",
       "6.8      1\n",
       "5.6      1\n",
       "6.2      1\n",
       "6.9      1\n",
       "5.4      1\n",
       "6.6      1\n",
       "Name: Magnitude, dtype: int64"
      ]
     },
     "execution_count": 24,
     "metadata": {},
     "output_type": "execute_result"
    }
   ],
   "source": [
    "dataDate.Magnitude.value_counts()"
   ]
  },
  {
   "cell_type": "code",
   "execution_count": 25,
   "metadata": {},
   "outputs": [
    {
     "name": "stdout",
     "output_type": "stream",
     "text": [
      "{'Nuwakot', 'Dhading', 'Tibet', 'Rasuwa', 'Lalitpur', 'Gorkha', 'Lamjung', 'Rukum', 'Dolakha', 'Darchula', 'Humla', 'Myagdi', 'Jajarkot', 'Udayapur', 'Kathmandu', 'Baglung', 'Lalitput', 'Ramechhap', 'Kavrepalanchowk', 'Sindhupalchowk', 'Kavre', 'Dailekh', 'Taplejung', 'Kaski', 'Panchthar', 'Bajura', 'Bhojpur', 'Doti'}\n"
     ]
    }
   ],
   "source": [
    "print(set(dataDate['Epicentre'])) #unique"
   ]
  },
  {
   "cell_type": "code",
   "execution_count": 26,
   "metadata": {},
   "outputs": [
    {
     "data": {
      "text/plain": [
       "28"
      ]
     },
     "execution_count": 26,
     "metadata": {},
     "output_type": "execute_result"
    }
   ],
   "source": [
    "len(set(dataDate['Epicentre']))"
   ]
  },
  {
   "cell_type": "code",
   "execution_count": 27,
   "metadata": {},
   "outputs": [
    {
     "data": {
      "text/plain": [
       "2015/04/25    38\n",
       "2015/04/26    38\n",
       "2015/05/12    36\n",
       "2015/05/13    16\n",
       "2015/04/27    13\n",
       "2015/04/28    12\n",
       "2015/05/14    10\n",
       "2015/05/16     9\n",
       "2015/05/04     9\n",
       "2015/05/03     8\n",
       "2015/05/28     7\n",
       "2015/05/01     7\n",
       "2015/05/22     6\n",
       "2015/04/29     6\n",
       "2015/05/02     6\n",
       "2015/05/15     6\n",
       "2015/05/10     5\n",
       "2015/05/29     5\n",
       "2015/05/26     5\n",
       "2015/05/24     5\n",
       "Name: Date, dtype: int64"
      ]
     },
     "execution_count": 27,
     "metadata": {},
     "output_type": "execute_result"
    }
   ],
   "source": [
    "#print(dataDate['Epicentre'].value_counts())\n",
    "#print(dataDate.sort_values(by='Epicentre',ascending=True)['Epicentre'].value_counts(ascending=True))\n",
    "\n",
    "dataDate['Date'].value_counts().head(20)"
   ]
  },
  {
   "cell_type": "code",
   "execution_count": 28,
   "metadata": {},
   "outputs": [
    {
     "data": {
      "text/html": [
       "<div>\n",
       "<style scoped>\n",
       "    .dataframe tbody tr th:only-of-type {\n",
       "        vertical-align: middle;\n",
       "    }\n",
       "\n",
       "    .dataframe tbody tr th {\n",
       "        vertical-align: top;\n",
       "    }\n",
       "\n",
       "    .dataframe thead th {\n",
       "        text-align: right;\n",
       "    }\n",
       "</style>\n",
       "<table border=\"1\" class=\"dataframe\">\n",
       "  <thead>\n",
       "    <tr style=\"text-align: right;\">\n",
       "      <th></th>\n",
       "      <th>Latitude</th>\n",
       "      <th>Longitude</th>\n",
       "      <th>Date</th>\n",
       "      <th>Epicentre</th>\n",
       "    </tr>\n",
       "  </thead>\n",
       "  <tbody>\n",
       "    <tr>\n",
       "      <th>count</th>\n",
       "      <td>443</td>\n",
       "      <td>443</td>\n",
       "      <td>443</td>\n",
       "      <td>443</td>\n",
       "    </tr>\n",
       "    <tr>\n",
       "      <th>unique</th>\n",
       "      <td>114</td>\n",
       "      <td>188</td>\n",
       "      <td>139</td>\n",
       "      <td>28</td>\n",
       "    </tr>\n",
       "    <tr>\n",
       "      <th>top</th>\n",
       "      <td>27.80</td>\n",
       "      <td>86.09</td>\n",
       "      <td>2015/04/25</td>\n",
       "      <td>Dolakha</td>\n",
       "    </tr>\n",
       "    <tr>\n",
       "      <th>freq</th>\n",
       "      <td>16</td>\n",
       "      <td>9</td>\n",
       "      <td>38</td>\n",
       "      <td>143</td>\n",
       "    </tr>\n",
       "  </tbody>\n",
       "</table>\n",
       "</div>"
      ],
      "text/plain": [
       "       Latitude Longitude        Date Epicentre\n",
       "count       443       443         443       443\n",
       "unique      114       188         139        28\n",
       "top       27.80     86.09  2015/04/25   Dolakha\n",
       "freq         16         9          38       143"
      ]
     },
     "execution_count": 28,
     "metadata": {},
     "output_type": "execute_result"
    }
   ],
   "source": [
    "#dataDate.describe()\n",
    "dataDate[['Latitude','Longitude','Date','Epicentre']].describe()  #top, freq? #set() for unique"
   ]
  },
  {
   "cell_type": "code",
   "execution_count": 29,
   "metadata": {},
   "outputs": [
    {
     "data": {
      "text/html": [
       "<div>\n",
       "<style scoped>\n",
       "    .dataframe tbody tr th:only-of-type {\n",
       "        vertical-align: middle;\n",
       "    }\n",
       "\n",
       "    .dataframe tbody tr th {\n",
       "        vertical-align: top;\n",
       "    }\n",
       "\n",
       "    .dataframe thead th {\n",
       "        text-align: right;\n",
       "    }\n",
       "</style>\n",
       "<table border=\"1\" class=\"dataframe\">\n",
       "  <thead>\n",
       "    <tr style=\"text-align: right;\">\n",
       "      <th></th>\n",
       "      <th>Longitude</th>\n",
       "      <th>Latitude</th>\n",
       "      <th>Epicentre</th>\n",
       "      <th>Time</th>\n",
       "      <th>Magnitude</th>\n",
       "      <th>Date</th>\n",
       "    </tr>\n",
       "  </thead>\n",
       "  <tbody>\n",
       "    <tr>\n",
       "      <th>count</th>\n",
       "      <td>443</td>\n",
       "      <td>443</td>\n",
       "      <td>443</td>\n",
       "      <td>443</td>\n",
       "      <td>443.000000</td>\n",
       "      <td>443</td>\n",
       "    </tr>\n",
       "    <tr>\n",
       "      <th>unique</th>\n",
       "      <td>188</td>\n",
       "      <td>114</td>\n",
       "      <td>28</td>\n",
       "      <td>390</td>\n",
       "      <td>NaN</td>\n",
       "      <td>139</td>\n",
       "    </tr>\n",
       "    <tr>\n",
       "      <th>top</th>\n",
       "      <td>86.09</td>\n",
       "      <td>27.80</td>\n",
       "      <td>Dolakha</td>\n",
       "      <td>16:44</td>\n",
       "      <td>NaN</td>\n",
       "      <td>2015/04/25</td>\n",
       "    </tr>\n",
       "    <tr>\n",
       "      <th>freq</th>\n",
       "      <td>9</td>\n",
       "      <td>16</td>\n",
       "      <td>143</td>\n",
       "      <td>4</td>\n",
       "      <td>NaN</td>\n",
       "      <td>38</td>\n",
       "    </tr>\n",
       "    <tr>\n",
       "      <th>mean</th>\n",
       "      <td>NaN</td>\n",
       "      <td>NaN</td>\n",
       "      <td>NaN</td>\n",
       "      <td>NaN</td>\n",
       "      <td>4.397968</td>\n",
       "      <td>NaN</td>\n",
       "    </tr>\n",
       "    <tr>\n",
       "      <th>std</th>\n",
       "      <td>NaN</td>\n",
       "      <td>NaN</td>\n",
       "      <td>NaN</td>\n",
       "      <td>NaN</td>\n",
       "      <td>0.479838</td>\n",
       "      <td>NaN</td>\n",
       "    </tr>\n",
       "    <tr>\n",
       "      <th>min</th>\n",
       "      <td>NaN</td>\n",
       "      <td>NaN</td>\n",
       "      <td>NaN</td>\n",
       "      <td>NaN</td>\n",
       "      <td>4.000000</td>\n",
       "      <td>NaN</td>\n",
       "    </tr>\n",
       "    <tr>\n",
       "      <th>25%</th>\n",
       "      <td>NaN</td>\n",
       "      <td>NaN</td>\n",
       "      <td>NaN</td>\n",
       "      <td>NaN</td>\n",
       "      <td>4.100000</td>\n",
       "      <td>NaN</td>\n",
       "    </tr>\n",
       "    <tr>\n",
       "      <th>50%</th>\n",
       "      <td>NaN</td>\n",
       "      <td>NaN</td>\n",
       "      <td>NaN</td>\n",
       "      <td>NaN</td>\n",
       "      <td>4.200000</td>\n",
       "      <td>NaN</td>\n",
       "    </tr>\n",
       "    <tr>\n",
       "      <th>75%</th>\n",
       "      <td>NaN</td>\n",
       "      <td>NaN</td>\n",
       "      <td>NaN</td>\n",
       "      <td>NaN</td>\n",
       "      <td>4.500000</td>\n",
       "      <td>NaN</td>\n",
       "    </tr>\n",
       "    <tr>\n",
       "      <th>max</th>\n",
       "      <td>NaN</td>\n",
       "      <td>NaN</td>\n",
       "      <td>NaN</td>\n",
       "      <td>NaN</td>\n",
       "      <td>7.600000</td>\n",
       "      <td>NaN</td>\n",
       "    </tr>\n",
       "  </tbody>\n",
       "</table>\n",
       "</div>"
      ],
      "text/plain": [
       "       Longitude Latitude Epicentre   Time   Magnitude        Date\n",
       "count        443      443       443    443  443.000000         443\n",
       "unique       188      114        28    390         NaN         139\n",
       "top        86.09    27.80   Dolakha  16:44         NaN  2015/04/25\n",
       "freq           9       16       143      4         NaN          38\n",
       "mean         NaN      NaN       NaN    NaN    4.397968         NaN\n",
       "std          NaN      NaN       NaN    NaN    0.479838         NaN\n",
       "min          NaN      NaN       NaN    NaN    4.000000         NaN\n",
       "25%          NaN      NaN       NaN    NaN    4.100000         NaN\n",
       "50%          NaN      NaN       NaN    NaN    4.200000         NaN\n",
       "75%          NaN      NaN       NaN    NaN    4.500000         NaN\n",
       "max          NaN      NaN       NaN    NaN    7.600000         NaN"
      ]
     },
     "execution_count": 29,
     "metadata": {},
     "output_type": "execute_result"
    }
   ],
   "source": [
    "dataDate.describe(include='all')  #top, freq? #set() for unique"
   ]
  },
  {
   "cell_type": "code",
   "execution_count": 30,
   "metadata": {},
   "outputs": [
    {
     "data": {
      "text/html": [
       "<div>\n",
       "<style scoped>\n",
       "    .dataframe tbody tr th:only-of-type {\n",
       "        vertical-align: middle;\n",
       "    }\n",
       "\n",
       "    .dataframe tbody tr th {\n",
       "        vertical-align: top;\n",
       "    }\n",
       "\n",
       "    .dataframe thead th {\n",
       "        text-align: right;\n",
       "    }\n",
       "</style>\n",
       "<table border=\"1\" class=\"dataframe\">\n",
       "  <thead>\n",
       "    <tr style=\"text-align: right;\">\n",
       "      <th></th>\n",
       "      <th>Magnitude</th>\n",
       "      <th>Longitude</th>\n",
       "      <th>Date</th>\n",
       "      <th>Epicentre</th>\n",
       "      <th>Latitude</th>\n",
       "      <th>Time</th>\n",
       "    </tr>\n",
       "  </thead>\n",
       "  <tbody>\n",
       "    <tr>\n",
       "      <th>50</th>\n",
       "      <td>4.0</td>\n",
       "      <td>85.48</td>\n",
       "      <td>2015/05/16</td>\n",
       "      <td>Nuwakot</td>\n",
       "      <td>27.97</td>\n",
       "      <td>06:11</td>\n",
       "    </tr>\n",
       "    <tr>\n",
       "      <th>60</th>\n",
       "      <td>5.3</td>\n",
       "      <td>85.73</td>\n",
       "      <td>2015/06/11</td>\n",
       "      <td>Sindhupalchowk</td>\n",
       "      <td>27.96</td>\n",
       "      <td>21:57</td>\n",
       "    </tr>\n",
       "    <tr>\n",
       "      <th>70</th>\n",
       "      <td>4.0</td>\n",
       "      <td>85.22</td>\n",
       "      <td>2015/06/05</td>\n",
       "      <td>Kathmandu</td>\n",
       "      <td>27.70</td>\n",
       "      <td>14:16</td>\n",
       "    </tr>\n",
       "  </tbody>\n",
       "</table>\n",
       "</div>"
      ],
      "text/plain": [
       "    Magnitude Longitude        Date       Epicentre Latitude   Time\n",
       "50        4.0     85.48  2015/05/16         Nuwakot    27.97  06:11\n",
       "60        5.3     85.73  2015/06/11  Sindhupalchowk    27.96  21:57\n",
       "70        4.0     85.22  2015/06/05       Kathmandu    27.70  14:16"
      ]
     },
     "execution_count": 30,
     "metadata": {},
     "output_type": "execute_result"
    }
   ],
   "source": [
    "dataDate[['Magnitude','Longitude','Date','Epicentre','Latitude','Time']][50:80:10]  #3S : start, stop, step: range()"
   ]
  },
  {
   "cell_type": "code",
   "execution_count": 31,
   "metadata": {},
   "outputs": [
    {
     "data": {
      "text/html": [
       "<div>\n",
       "<style scoped>\n",
       "    .dataframe tbody tr th:only-of-type {\n",
       "        vertical-align: middle;\n",
       "    }\n",
       "\n",
       "    .dataframe tbody tr th {\n",
       "        vertical-align: top;\n",
       "    }\n",
       "\n",
       "    .dataframe thead th {\n",
       "        text-align: right;\n",
       "    }\n",
       "</style>\n",
       "<table border=\"1\" class=\"dataframe\">\n",
       "  <thead>\n",
       "    <tr style=\"text-align: right;\">\n",
       "      <th></th>\n",
       "      <th>0</th>\n",
       "      <th>1</th>\n",
       "      <th>2</th>\n",
       "      <th>3</th>\n",
       "      <th>4</th>\n",
       "      <th>5</th>\n",
       "      <th>6</th>\n",
       "      <th>7</th>\n",
       "      <th>8</th>\n",
       "      <th>9</th>\n",
       "      <th>...</th>\n",
       "      <th>433</th>\n",
       "      <th>434</th>\n",
       "      <th>435</th>\n",
       "      <th>436</th>\n",
       "      <th>437</th>\n",
       "      <th>438</th>\n",
       "      <th>439</th>\n",
       "      <th>440</th>\n",
       "      <th>441</th>\n",
       "      <th>442</th>\n",
       "    </tr>\n",
       "  </thead>\n",
       "  <tbody>\n",
       "    <tr>\n",
       "      <th>Longitude</th>\n",
       "      <td>85.39</td>\n",
       "      <td>85.49</td>\n",
       "      <td>86.21</td>\n",
       "      <td>85.17</td>\n",
       "      <td>85.75</td>\n",
       "      <td>86.17</td>\n",
       "      <td>86.00</td>\n",
       "      <td>84.94</td>\n",
       "      <td>82.76</td>\n",
       "      <td>84.92</td>\n",
       "      <td>...</td>\n",
       "      <td>85.96</td>\n",
       "      <td>84.82</td>\n",
       "      <td>85.83</td>\n",
       "      <td>85.56</td>\n",
       "      <td>84.71</td>\n",
       "      <td>85.35</td>\n",
       "      <td>85.56</td>\n",
       "      <td>85.43</td>\n",
       "      <td>85.55</td>\n",
       "      <td>85.98</td>\n",
       "    </tr>\n",
       "    <tr>\n",
       "      <th>Latitude</th>\n",
       "      <td>27.58</td>\n",
       "      <td>27.94</td>\n",
       "      <td>27.66</td>\n",
       "      <td>27.78</td>\n",
       "      <td>27.85</td>\n",
       "      <td>27.67</td>\n",
       "      <td>27.80</td>\n",
       "      <td>28.17</td>\n",
       "      <td>28.65</td>\n",
       "      <td>28.26</td>\n",
       "      <td>...</td>\n",
       "      <td>27.6</td>\n",
       "      <td>28.24</td>\n",
       "      <td>28.25</td>\n",
       "      <td>27.93</td>\n",
       "      <td>28.14</td>\n",
       "      <td>28.05</td>\n",
       "      <td>27.93</td>\n",
       "      <td>27.71</td>\n",
       "      <td>27.94</td>\n",
       "      <td>27.78</td>\n",
       "    </tr>\n",
       "    <tr>\n",
       "      <th>Epicentre</th>\n",
       "      <td>Lalitpur</td>\n",
       "      <td>Sindhupalchowk</td>\n",
       "      <td>Dolakha</td>\n",
       "      <td>Nuwakot</td>\n",
       "      <td>Sindhupalchowk</td>\n",
       "      <td>Dolakha</td>\n",
       "      <td>Sindhupalchowk</td>\n",
       "      <td>Gorkha</td>\n",
       "      <td>Rukum</td>\n",
       "      <td>Gorkha</td>\n",
       "      <td>...</td>\n",
       "      <td>Sindhupalchowk</td>\n",
       "      <td>Gorkha</td>\n",
       "      <td>Rasuwa</td>\n",
       "      <td>Sindhupalchowk</td>\n",
       "      <td>Gorkha</td>\n",
       "      <td>Rasuwa</td>\n",
       "      <td>Sindhupalchowk</td>\n",
       "      <td>Kathmandu</td>\n",
       "      <td>Sindhupalchowk</td>\n",
       "      <td>Sindhupalchowk</td>\n",
       "    </tr>\n",
       "    <tr>\n",
       "      <th>Time</th>\n",
       "      <td>14:45</td>\n",
       "      <td>23:51</td>\n",
       "      <td>23:49</td>\n",
       "      <td>21:07</td>\n",
       "      <td>14:59</td>\n",
       "      <td>13:19</td>\n",
       "      <td>19:26</td>\n",
       "      <td>2:40</td>\n",
       "      <td>12:23</td>\n",
       "      <td>13:50</td>\n",
       "      <td>...</td>\n",
       "      <td>02:17</td>\n",
       "      <td>02:14</td>\n",
       "      <td>02:08</td>\n",
       "      <td>01:56</td>\n",
       "      <td>01:52</td>\n",
       "      <td>01:49</td>\n",
       "      <td>01:29</td>\n",
       "      <td>00:43</td>\n",
       "      <td>00:14</td>\n",
       "      <td>23:46</td>\n",
       "    </tr>\n",
       "    <tr>\n",
       "      <th>Magnitude</th>\n",
       "      <td>4.1</td>\n",
       "      <td>4.2</td>\n",
       "      <td>4.1</td>\n",
       "      <td>4.3</td>\n",
       "      <td>4.0</td>\n",
       "      <td>4.0</td>\n",
       "      <td>4.3</td>\n",
       "      <td>4.2</td>\n",
       "      <td>5.4</td>\n",
       "      <td>4.0</td>\n",
       "      <td>...</td>\n",
       "      <td>4.8</td>\n",
       "      <td>4.3</td>\n",
       "      <td>4.0</td>\n",
       "      <td>4.4</td>\n",
       "      <td>4.2</td>\n",
       "      <td>4.0</td>\n",
       "      <td>4.1</td>\n",
       "      <td>4.6</td>\n",
       "      <td>4.1</td>\n",
       "      <td>4.1</td>\n",
       "    </tr>\n",
       "    <tr>\n",
       "      <th>Date</th>\n",
       "      <td>2015/06/26</td>\n",
       "      <td>2015/06/25</td>\n",
       "      <td>2015/06/25</td>\n",
       "      <td>2015/06/25</td>\n",
       "      <td>2015/06/24</td>\n",
       "      <td>2015/06/22</td>\n",
       "      <td>2015/06/21</td>\n",
       "      <td>2015/06/20</td>\n",
       "      <td>2015/06/20</td>\n",
       "      <td>2015/06/19</td>\n",
       "      <td>...</td>\n",
       "      <td>2015/04/26</td>\n",
       "      <td>2015/04/26</td>\n",
       "      <td>2015/04/26</td>\n",
       "      <td>2015/04/26</td>\n",
       "      <td>2015/04/26</td>\n",
       "      <td>2015/04/26</td>\n",
       "      <td>2015/04/26</td>\n",
       "      <td>2015/04/26</td>\n",
       "      <td>2015/04/26</td>\n",
       "      <td>2015/04/25</td>\n",
       "    </tr>\n",
       "  </tbody>\n",
       "</table>\n",
       "<p>6 rows × 443 columns</p>\n",
       "</div>"
      ],
      "text/plain": [
       "                  0               1           2           3               4    \\\n",
       "Longitude       85.39           85.49       86.21       85.17           85.75   \n",
       "Latitude        27.58           27.94       27.66       27.78           27.85   \n",
       "Epicentre    Lalitpur  Sindhupalchowk     Dolakha     Nuwakot  Sindhupalchowk   \n",
       "Time            14:45           23:51       23:49       21:07           14:59   \n",
       "Magnitude         4.1             4.2         4.1         4.3             4.0   \n",
       "Date       2015/06/26      2015/06/25  2015/06/25  2015/06/25      2015/06/24   \n",
       "\n",
       "                  5               6           7           8           9    \\\n",
       "Longitude       86.17           86.00       84.94       82.76       84.92   \n",
       "Latitude        27.67           27.80       28.17       28.65       28.26   \n",
       "Epicentre     Dolakha  Sindhupalchowk      Gorkha       Rukum      Gorkha   \n",
       "Time            13:19           19:26        2:40       12:23       13:50   \n",
       "Magnitude         4.0             4.3         4.2         5.4         4.0   \n",
       "Date       2015/06/22      2015/06/21  2015/06/20  2015/06/20  2015/06/19   \n",
       "\n",
       "           ...             433         434         435             436  \\\n",
       "Longitude  ...           85.96       84.82       85.83           85.56   \n",
       "Latitude   ...            27.6       28.24       28.25           27.93   \n",
       "Epicentre  ...  Sindhupalchowk      Gorkha      Rasuwa  Sindhupalchowk   \n",
       "Time       ...           02:17       02:14       02:08           01:56   \n",
       "Magnitude  ...             4.8         4.3         4.0             4.4   \n",
       "Date       ...      2015/04/26  2015/04/26  2015/04/26      2015/04/26   \n",
       "\n",
       "                  437         438             439         440             441  \\\n",
       "Longitude       84.71       85.35           85.56       85.43           85.55   \n",
       "Latitude        28.14       28.05           27.93       27.71           27.94   \n",
       "Epicentre      Gorkha      Rasuwa  Sindhupalchowk   Kathmandu  Sindhupalchowk   \n",
       "Time            01:52       01:49           01:29       00:43           00:14   \n",
       "Magnitude         4.2         4.0             4.1         4.6             4.1   \n",
       "Date       2015/04/26  2015/04/26      2015/04/26  2015/04/26      2015/04/26   \n",
       "\n",
       "                      442  \n",
       "Longitude           85.98  \n",
       "Latitude            27.78  \n",
       "Epicentre  Sindhupalchowk  \n",
       "Time                23:46  \n",
       "Magnitude             4.1  \n",
       "Date           2015/04/25  \n",
       "\n",
       "[6 rows x 443 columns]"
      ]
     },
     "execution_count": 31,
     "metadata": {},
     "output_type": "execute_result"
    }
   ],
   "source": [
    "dataDate.T #transpose - flip  (x=5,y=x)"
   ]
  },
  {
   "cell_type": "code",
   "execution_count": 32,
   "metadata": {},
   "outputs": [
    {
     "data": {
      "text/plain": [
       "Index(['Longitude', 'Latitude', 'Epicentre', 'Time', 'Magnitude', 'Date'], dtype='object')"
      ]
     },
     "execution_count": 32,
     "metadata": {},
     "output_type": "execute_result"
    }
   ],
   "source": [
    "dataDate.columns"
   ]
  },
  {
   "cell_type": "code",
   "execution_count": 33,
   "metadata": {},
   "outputs": [
    {
     "data": {
      "text/html": [
       "<div>\n",
       "<style scoped>\n",
       "    .dataframe tbody tr th:only-of-type {\n",
       "        vertical-align: middle;\n",
       "    }\n",
       "\n",
       "    .dataframe tbody tr th {\n",
       "        vertical-align: top;\n",
       "    }\n",
       "\n",
       "    .dataframe thead th {\n",
       "        text-align: right;\n",
       "    }\n",
       "</style>\n",
       "<table border=\"1\" class=\"dataframe\">\n",
       "  <thead>\n",
       "    <tr style=\"text-align: right;\">\n",
       "      <th></th>\n",
       "      <th>Longitude</th>\n",
       "      <th>Epicentre</th>\n",
       "      <th>Magnitude</th>\n",
       "    </tr>\n",
       "  </thead>\n",
       "  <tbody>\n",
       "    <tr>\n",
       "      <th>50</th>\n",
       "      <td>85.48</td>\n",
       "      <td>Nuwakot</td>\n",
       "      <td>4.0</td>\n",
       "    </tr>\n",
       "    <tr>\n",
       "      <th>58</th>\n",
       "      <td>86.08</td>\n",
       "      <td>Dolakha</td>\n",
       "      <td>4.3</td>\n",
       "    </tr>\n",
       "    <tr>\n",
       "      <th>66</th>\n",
       "      <td>86.13</td>\n",
       "      <td>Dolakha</td>\n",
       "      <td>4.1</td>\n",
       "    </tr>\n",
       "    <tr>\n",
       "      <th>74</th>\n",
       "      <td>85.87</td>\n",
       "      <td>Sindhupalchowk</td>\n",
       "      <td>4.6</td>\n",
       "    </tr>\n",
       "  </tbody>\n",
       "</table>\n",
       "</div>"
      ],
      "text/plain": [
       "   Longitude       Epicentre  Magnitude\n",
       "50     85.48         Nuwakot        4.0\n",
       "58     86.08         Dolakha        4.3\n",
       "66     86.13         Dolakha        4.1\n",
       "74     85.87  Sindhupalchowk        4.6"
      ]
     },
     "execution_count": 33,
     "metadata": {},
     "output_type": "execute_result"
    }
   ],
   "source": [
    "dataDate[dataDate.columns[::2]][50:80:8]  #Important -- efficient: column name, number!"
   ]
  },
  {
   "cell_type": "code",
   "execution_count": 34,
   "metadata": {},
   "outputs": [
    {
     "data": {
      "text/html": [
       "<div>\n",
       "<style scoped>\n",
       "    .dataframe tbody tr th:only-of-type {\n",
       "        vertical-align: middle;\n",
       "    }\n",
       "\n",
       "    .dataframe tbody tr th {\n",
       "        vertical-align: top;\n",
       "    }\n",
       "\n",
       "    .dataframe thead th {\n",
       "        text-align: right;\n",
       "    }\n",
       "</style>\n",
       "<table border=\"1\" class=\"dataframe\">\n",
       "  <thead>\n",
       "    <tr style=\"text-align: right;\">\n",
       "      <th></th>\n",
       "      <th>Longitude</th>\n",
       "      <th>Latitude</th>\n",
       "      <th>Epicentre</th>\n",
       "      <th>Time</th>\n",
       "      <th>Magnitude</th>\n",
       "      <th>Date</th>\n",
       "    </tr>\n",
       "  </thead>\n",
       "  <tbody>\n",
       "    <tr>\n",
       "      <th>60</th>\n",
       "      <td>85.73</td>\n",
       "      <td>27.96</td>\n",
       "      <td>Sindhupalchowk</td>\n",
       "      <td>21:57</td>\n",
       "      <td>5.3</td>\n",
       "      <td>2015/06/11</td>\n",
       "    </tr>\n",
       "    <tr>\n",
       "      <th>8</th>\n",
       "      <td>82.76</td>\n",
       "      <td>28.65</td>\n",
       "      <td>Rukum</td>\n",
       "      <td>12:23</td>\n",
       "      <td>5.4</td>\n",
       "      <td>2015/06/20</td>\n",
       "    </tr>\n",
       "    <tr>\n",
       "      <th>19</th>\n",
       "      <td>81.69</td>\n",
       "      <td>29.44</td>\n",
       "      <td>Bajura</td>\n",
       "      <td>22:16</td>\n",
       "      <td>5.5</td>\n",
       "      <td>2015/12/18</td>\n",
       "    </tr>\n",
       "    <tr>\n",
       "      <th>324</th>\n",
       "      <td>85.6</td>\n",
       "      <td>28</td>\n",
       "      <td>Sindhupalchowk</td>\n",
       "      <td>15:15</td>\n",
       "      <td>5.5</td>\n",
       "      <td>2015/04/25</td>\n",
       "    </tr>\n",
       "    <tr>\n",
       "      <th>348</th>\n",
       "      <td>85.80</td>\n",
       "      <td>28.41</td>\n",
       "      <td>Tibet</td>\n",
       "      <td>12:23</td>\n",
       "      <td>5.5</td>\n",
       "      <td>2015/04/25</td>\n",
       "    </tr>\n",
       "    <tr>\n",
       "      <th>430</th>\n",
       "      <td>85.02</td>\n",
       "      <td>27.99</td>\n",
       "      <td>Nuwakot</td>\n",
       "      <td>05:01</td>\n",
       "      <td>5.5</td>\n",
       "      <td>2015/04/26</td>\n",
       "    </tr>\n",
       "    <tr>\n",
       "      <th>256</th>\n",
       "      <td>86.26</td>\n",
       "      <td>27.6</td>\n",
       "      <td>Dolakha</td>\n",
       "      <td>17:19</td>\n",
       "      <td>5.5</td>\n",
       "      <td>2015/05/16</td>\n",
       "    </tr>\n",
       "    <tr>\n",
       "      <th>354</th>\n",
       "      <td>83.73</td>\n",
       "      <td>28.29</td>\n",
       "      <td>Kaski</td>\n",
       "      <td>19:44</td>\n",
       "      <td>5.5</td>\n",
       "      <td>2015/01/31</td>\n",
       "    </tr>\n",
       "    <tr>\n",
       "      <th>57</th>\n",
       "      <td>84.84</td>\n",
       "      <td>27.93</td>\n",
       "      <td>Dhading</td>\n",
       "      <td>07:27</td>\n",
       "      <td>5.5</td>\n",
       "      <td>2015/05/15</td>\n",
       "    </tr>\n",
       "    <tr>\n",
       "      <th>316</th>\n",
       "      <td>84.71</td>\n",
       "      <td>28.16</td>\n",
       "      <td>Gorkha</td>\n",
       "      <td>18:29</td>\n",
       "      <td>5.5</td>\n",
       "      <td>2015/04/25</td>\n",
       "    </tr>\n",
       "    <tr>\n",
       "      <th>300</th>\n",
       "      <td>85.91</td>\n",
       "      <td>28.34</td>\n",
       "      <td>Tibet</td>\n",
       "      <td>23:27</td>\n",
       "      <td>5.6</td>\n",
       "      <td>2015/04/25</td>\n",
       "    </tr>\n",
       "    <tr>\n",
       "      <th>326</th>\n",
       "      <td>85.63</td>\n",
       "      <td>27.65</td>\n",
       "      <td>Kavre</td>\n",
       "      <td>14:40</td>\n",
       "      <td>5.7</td>\n",
       "      <td>2015/04/25</td>\n",
       "    </tr>\n",
       "    <tr>\n",
       "      <th>346</th>\n",
       "      <td>85.65</td>\n",
       "      <td>28.13</td>\n",
       "      <td>Rasuwa</td>\n",
       "      <td>12:41</td>\n",
       "      <td>5.7</td>\n",
       "      <td>2015/04/25</td>\n",
       "    </tr>\n",
       "    <tr>\n",
       "      <th>266</th>\n",
       "      <td>86.17</td>\n",
       "      <td>27.84</td>\n",
       "      <td>Dolakha</td>\n",
       "      <td>13:02</td>\n",
       "      <td>5.8</td>\n",
       "      <td>2015/05/12</td>\n",
       "    </tr>\n",
       "    <tr>\n",
       "      <th>137</th>\n",
       "      <td>84.82</td>\n",
       "      <td>27.91</td>\n",
       "      <td>Dhading</td>\n",
       "      <td>03:10</td>\n",
       "      <td>5.9</td>\n",
       "      <td>2015/05/13</td>\n",
       "    </tr>\n",
       "    <tr>\n",
       "      <th>242</th>\n",
       "      <td>86.21</td>\n",
       "      <td>27.73</td>\n",
       "      <td>Dolakha</td>\n",
       "      <td>13:21</td>\n",
       "      <td>6.2</td>\n",
       "      <td>2015/05/12</td>\n",
       "    </tr>\n",
       "    <tr>\n",
       "      <th>347</th>\n",
       "      <td>84.72</td>\n",
       "      <td>28.28</td>\n",
       "      <td>Gorkha</td>\n",
       "      <td>12:30</td>\n",
       "      <td>6.6</td>\n",
       "      <td>2015/04/25</td>\n",
       "    </tr>\n",
       "    <tr>\n",
       "      <th>267</th>\n",
       "      <td>86.12</td>\n",
       "      <td>27.82</td>\n",
       "      <td>Dolakha</td>\n",
       "      <td>12:50</td>\n",
       "      <td>6.8</td>\n",
       "      <td>2015/05/12</td>\n",
       "    </tr>\n",
       "    <tr>\n",
       "      <th>419</th>\n",
       "      <td>86.05</td>\n",
       "      <td>27.84</td>\n",
       "      <td>Dolakha</td>\n",
       "      <td>12:54</td>\n",
       "      <td>6.9</td>\n",
       "      <td>2015/04/26</td>\n",
       "    </tr>\n",
       "    <tr>\n",
       "      <th>349</th>\n",
       "      <td>84.75</td>\n",
       "      <td>28.24</td>\n",
       "      <td>Gorkha</td>\n",
       "      <td>11:56</td>\n",
       "      <td>7.6</td>\n",
       "      <td>2015/04/25</td>\n",
       "    </tr>\n",
       "  </tbody>\n",
       "</table>\n",
       "</div>"
      ],
      "text/plain": [
       "    Longitude Latitude       Epicentre   Time  Magnitude        Date\n",
       "60      85.73    27.96  Sindhupalchowk  21:57        5.3  2015/06/11\n",
       "8       82.76    28.65           Rukum  12:23        5.4  2015/06/20\n",
       "19      81.69    29.44          Bajura  22:16        5.5  2015/12/18\n",
       "324      85.6       28  Sindhupalchowk  15:15        5.5  2015/04/25\n",
       "348     85.80    28.41           Tibet  12:23        5.5  2015/04/25\n",
       "430     85.02    27.99         Nuwakot  05:01        5.5  2015/04/26\n",
       "256     86.26     27.6         Dolakha  17:19        5.5  2015/05/16\n",
       "354     83.73    28.29           Kaski  19:44        5.5  2015/01/31\n",
       "57      84.84    27.93         Dhading  07:27        5.5  2015/05/15\n",
       "316     84.71    28.16          Gorkha  18:29        5.5  2015/04/25\n",
       "300     85.91    28.34           Tibet  23:27        5.6  2015/04/25\n",
       "326     85.63    27.65           Kavre  14:40        5.7  2015/04/25\n",
       "346     85.65    28.13          Rasuwa  12:41        5.7  2015/04/25\n",
       "266     86.17    27.84         Dolakha  13:02        5.8  2015/05/12\n",
       "137     84.82    27.91         Dhading  03:10        5.9  2015/05/13\n",
       "242     86.21    27.73         Dolakha  13:21        6.2  2015/05/12\n",
       "347     84.72    28.28          Gorkha  12:30        6.6  2015/04/25\n",
       "267     86.12    27.82         Dolakha  12:50        6.8  2015/05/12\n",
       "419     86.05    27.84         Dolakha  12:54        6.9  2015/04/26\n",
       "349     84.75    28.24          Gorkha  11:56        7.6  2015/04/25"
      ]
     },
     "execution_count": 34,
     "metadata": {},
     "output_type": "execute_result"
    }
   ],
   "source": [
    "dataDate.sort_values(by='Magnitude',ascending=True).tail(20) #True/False\n",
    "#dataDate.sort_values(by=['Magnitude','Epicentre'],ascending=True) #True/False"
   ]
  },
  {
   "cell_type": "code",
   "execution_count": 35,
   "metadata": {},
   "outputs": [
    {
     "data": {
      "text/html": [
       "<div>\n",
       "<style scoped>\n",
       "    .dataframe tbody tr th:only-of-type {\n",
       "        vertical-align: middle;\n",
       "    }\n",
       "\n",
       "    .dataframe tbody tr th {\n",
       "        vertical-align: top;\n",
       "    }\n",
       "\n",
       "    .dataframe thead th {\n",
       "        text-align: right;\n",
       "    }\n",
       "</style>\n",
       "<table border=\"1\" class=\"dataframe\">\n",
       "  <thead>\n",
       "    <tr style=\"text-align: right;\">\n",
       "      <th></th>\n",
       "      <th>Longitude</th>\n",
       "      <th>Latitude</th>\n",
       "      <th>Epicentre</th>\n",
       "      <th>Time</th>\n",
       "      <th>Magnitude</th>\n",
       "      <th>Date</th>\n",
       "    </tr>\n",
       "  </thead>\n",
       "  <tbody>\n",
       "    <tr>\n",
       "      <th>226</th>\n",
       "      <td>83.13</td>\n",
       "      <td>28.48</td>\n",
       "      <td>Baglung</td>\n",
       "      <td>15:21</td>\n",
       "      <td>4.2</td>\n",
       "      <td>2015/07/07</td>\n",
       "    </tr>\n",
       "    <tr>\n",
       "      <th>35</th>\n",
       "      <td>83.36</td>\n",
       "      <td>28.35</td>\n",
       "      <td>Baglung</td>\n",
       "      <td>08:00</td>\n",
       "      <td>4.0</td>\n",
       "      <td>2015/11/20</td>\n",
       "    </tr>\n",
       "    <tr>\n",
       "      <th>19</th>\n",
       "      <td>81.69</td>\n",
       "      <td>29.44</td>\n",
       "      <td>Bajura</td>\n",
       "      <td>22:16</td>\n",
       "      <td>5.5</td>\n",
       "      <td>2015/12/18</td>\n",
       "    </tr>\n",
       "    <tr>\n",
       "      <th>17</th>\n",
       "      <td>81.29</td>\n",
       "      <td>29.35</td>\n",
       "      <td>Bajura</td>\n",
       "      <td>04:48</td>\n",
       "      <td>4.1</td>\n",
       "      <td>2015/12/26</td>\n",
       "    </tr>\n",
       "    <tr>\n",
       "      <th>227</th>\n",
       "      <td>81.74</td>\n",
       "      <td>29.69</td>\n",
       "      <td>Bajura</td>\n",
       "      <td>09:31</td>\n",
       "      <td>4.6</td>\n",
       "      <td>2015/07/07</td>\n",
       "    </tr>\n",
       "  </tbody>\n",
       "</table>\n",
       "</div>"
      ],
      "text/plain": [
       "    Longitude Latitude Epicentre   Time  Magnitude        Date\n",
       "226     83.13    28.48   Baglung  15:21        4.2  2015/07/07\n",
       "35      83.36    28.35   Baglung  08:00        4.0  2015/11/20\n",
       "19      81.69    29.44    Bajura  22:16        5.5  2015/12/18\n",
       "17      81.29    29.35    Bajura  04:48        4.1  2015/12/26\n",
       "227     81.74    29.69    Bajura  09:31        4.6  2015/07/07"
      ]
     },
     "execution_count": 35,
     "metadata": {},
     "output_type": "execute_result"
    }
   ],
   "source": [
    "dataDate.sort_values(by='Epicentre',ascending=True).head(5)"
   ]
  },
  {
   "cell_type": "code",
   "execution_count": 36,
   "metadata": {},
   "outputs": [
    {
     "data": {
      "text/html": [
       "<div>\n",
       "<style scoped>\n",
       "    .dataframe tbody tr th:only-of-type {\n",
       "        vertical-align: middle;\n",
       "    }\n",
       "\n",
       "    .dataframe tbody tr th {\n",
       "        vertical-align: top;\n",
       "    }\n",
       "\n",
       "    .dataframe thead th {\n",
       "        text-align: right;\n",
       "    }\n",
       "</style>\n",
       "<table border=\"1\" class=\"dataframe\">\n",
       "  <thead>\n",
       "    <tr style=\"text-align: right;\">\n",
       "      <th></th>\n",
       "      <th>Longitude</th>\n",
       "      <th>Latitude</th>\n",
       "      <th>Epicentre</th>\n",
       "      <th>Time</th>\n",
       "      <th>Magnitude</th>\n",
       "      <th>Date</th>\n",
       "    </tr>\n",
       "  </thead>\n",
       "  <tbody>\n",
       "    <tr>\n",
       "      <th>349</th>\n",
       "      <td>84.75</td>\n",
       "      <td>28.24</td>\n",
       "      <td>Gorkha</td>\n",
       "      <td>11:56</td>\n",
       "      <td>7.6</td>\n",
       "      <td>2015/04/25</td>\n",
       "    </tr>\n",
       "    <tr>\n",
       "      <th>419</th>\n",
       "      <td>86.05</td>\n",
       "      <td>27.84</td>\n",
       "      <td>Dolakha</td>\n",
       "      <td>12:54</td>\n",
       "      <td>6.9</td>\n",
       "      <td>2015/04/26</td>\n",
       "    </tr>\n",
       "    <tr>\n",
       "      <th>267</th>\n",
       "      <td>86.12</td>\n",
       "      <td>27.82</td>\n",
       "      <td>Dolakha</td>\n",
       "      <td>12:50</td>\n",
       "      <td>6.8</td>\n",
       "      <td>2015/05/12</td>\n",
       "    </tr>\n",
       "    <tr>\n",
       "      <th>347</th>\n",
       "      <td>84.72</td>\n",
       "      <td>28.28</td>\n",
       "      <td>Gorkha</td>\n",
       "      <td>12:30</td>\n",
       "      <td>6.6</td>\n",
       "      <td>2015/04/25</td>\n",
       "    </tr>\n",
       "    <tr>\n",
       "      <th>242</th>\n",
       "      <td>86.21</td>\n",
       "      <td>27.73</td>\n",
       "      <td>Dolakha</td>\n",
       "      <td>13:21</td>\n",
       "      <td>6.2</td>\n",
       "      <td>2015/05/12</td>\n",
       "    </tr>\n",
       "    <tr>\n",
       "      <th>137</th>\n",
       "      <td>84.82</td>\n",
       "      <td>27.91</td>\n",
       "      <td>Dhading</td>\n",
       "      <td>03:10</td>\n",
       "      <td>5.9</td>\n",
       "      <td>2015/05/13</td>\n",
       "    </tr>\n",
       "  </tbody>\n",
       "</table>\n",
       "</div>"
      ],
      "text/plain": [
       "    Longitude Latitude Epicentre   Time  Magnitude        Date\n",
       "349     84.75    28.24    Gorkha  11:56        7.6  2015/04/25\n",
       "419     86.05    27.84   Dolakha  12:54        6.9  2015/04/26\n",
       "267     86.12    27.82   Dolakha  12:50        6.8  2015/05/12\n",
       "347     84.72    28.28    Gorkha  12:30        6.6  2015/04/25\n",
       "242     86.21    27.73   Dolakha  13:21        6.2  2015/05/12\n",
       "137     84.82    27.91   Dhading  03:10        5.9  2015/05/13"
      ]
     },
     "execution_count": 36,
     "metadata": {},
     "output_type": "execute_result"
    }
   ],
   "source": [
    "dataDate.sort_values(by=['Magnitude','Epicentre'],ascending=False).head(6) #Multiple"
   ]
  },
  {
   "cell_type": "code",
   "execution_count": 37,
   "metadata": {},
   "outputs": [
    {
     "data": {
      "text/plain": [
       "Longitude    57\n",
       "Latitude     57\n",
       "Epicentre    57\n",
       "Time         57\n",
       "Magnitude    57\n",
       "Date         57\n",
       "dtype: int64"
      ]
     },
     "execution_count": 37,
     "metadata": {},
     "output_type": "execute_result"
    }
   ],
   "source": [
    "#some filtering of Data\n",
    "dataDate[dataDate['Magnitude']>=5.0].count()  #iloc, loc"
   ]
  },
  {
   "cell_type": "code",
   "execution_count": 38,
   "metadata": {},
   "outputs": [
    {
     "data": {
      "text/plain": [
       "Longitude         85.95\n",
       "Latitude          27.58\n",
       "Epicentre       Dolakha\n",
       "Time              00:05\n",
       "Magnitude           4.0\n",
       "Date         2015/04/25\n",
       "dtype: object"
      ]
     },
     "execution_count": 38,
     "metadata": {},
     "output_type": "execute_result"
    }
   ],
   "source": [
    "dataDate[dataDate['Epicentre']=='Dolakha'].min()  #iloc, loc"
   ]
  },
  {
   "cell_type": "code",
   "execution_count": 39,
   "metadata": {},
   "outputs": [
    {
     "data": {
      "text/plain": [
       "Dolakha           5\n",
       "Gorkha            3\n",
       "Dhading           2\n",
       "Tibet             2\n",
       "Kavre             1\n",
       "Bajura            1\n",
       "Kaski             1\n",
       "Nuwakot           1\n",
       "Rasuwa            1\n",
       "Sindhupalchowk    1\n",
       "Name: Epicentre, dtype: int64"
      ]
     },
     "execution_count": 39,
     "metadata": {},
     "output_type": "execute_result"
    }
   ],
   "source": [
    "dataDate[dataDate.Magnitude>=5.5]['Epicentre'].value_counts()  #filtering - logic\n",
    "#dataDate[dataDate['Magnitude']>=5.0]['Epicentre'].value_counts()  #filtering - logic"
   ]
  },
  {
   "cell_type": "code",
   "execution_count": 40,
   "metadata": {},
   "outputs": [
    {
     "data": {
      "text/html": [
       "<div>\n",
       "<style scoped>\n",
       "    .dataframe tbody tr th:only-of-type {\n",
       "        vertical-align: middle;\n",
       "    }\n",
       "\n",
       "    .dataframe tbody tr th {\n",
       "        vertical-align: top;\n",
       "    }\n",
       "\n",
       "    .dataframe thead th {\n",
       "        text-align: right;\n",
       "    }\n",
       "</style>\n",
       "<table border=\"1\" class=\"dataframe\">\n",
       "  <thead>\n",
       "    <tr style=\"text-align: right;\">\n",
       "      <th></th>\n",
       "      <th>Longitude</th>\n",
       "      <th>Latitude</th>\n",
       "      <th>Epicentre</th>\n",
       "      <th>Time</th>\n",
       "      <th>Magnitude</th>\n",
       "      <th>Date</th>\n",
       "    </tr>\n",
       "  </thead>\n",
       "  <tbody>\n",
       "    <tr>\n",
       "      <th>242</th>\n",
       "      <td>86.21</td>\n",
       "      <td>27.73</td>\n",
       "      <td>Dolakha</td>\n",
       "      <td>13:21</td>\n",
       "      <td>6.2</td>\n",
       "      <td>2015/05/12</td>\n",
       "    </tr>\n",
       "    <tr>\n",
       "      <th>266</th>\n",
       "      <td>86.17</td>\n",
       "      <td>27.84</td>\n",
       "      <td>Dolakha</td>\n",
       "      <td>13:02</td>\n",
       "      <td>5.8</td>\n",
       "      <td>2015/05/12</td>\n",
       "    </tr>\n",
       "    <tr>\n",
       "      <th>267</th>\n",
       "      <td>86.12</td>\n",
       "      <td>27.82</td>\n",
       "      <td>Dolakha</td>\n",
       "      <td>12:50</td>\n",
       "      <td>6.8</td>\n",
       "      <td>2015/05/12</td>\n",
       "    </tr>\n",
       "    <tr>\n",
       "      <th>347</th>\n",
       "      <td>84.72</td>\n",
       "      <td>28.28</td>\n",
       "      <td>Gorkha</td>\n",
       "      <td>12:30</td>\n",
       "      <td>6.6</td>\n",
       "      <td>2015/04/25</td>\n",
       "    </tr>\n",
       "    <tr>\n",
       "      <th>349</th>\n",
       "      <td>84.75</td>\n",
       "      <td>28.24</td>\n",
       "      <td>Gorkha</td>\n",
       "      <td>11:56</td>\n",
       "      <td>7.6</td>\n",
       "      <td>2015/04/25</td>\n",
       "    </tr>\n",
       "    <tr>\n",
       "      <th>419</th>\n",
       "      <td>86.05</td>\n",
       "      <td>27.84</td>\n",
       "      <td>Dolakha</td>\n",
       "      <td>12:54</td>\n",
       "      <td>6.9</td>\n",
       "      <td>2015/04/26</td>\n",
       "    </tr>\n",
       "  </tbody>\n",
       "</table>\n",
       "</div>"
      ],
      "text/plain": [
       "    Longitude Latitude Epicentre   Time  Magnitude        Date\n",
       "242     86.21    27.73   Dolakha  13:21        6.2  2015/05/12\n",
       "266     86.17    27.84   Dolakha  13:02        5.8  2015/05/12\n",
       "267     86.12    27.82   Dolakha  12:50        6.8  2015/05/12\n",
       "347     84.72    28.28    Gorkha  12:30        6.6  2015/04/25\n",
       "349     84.75    28.24    Gorkha  11:56        7.6  2015/04/25\n",
       "419     86.05    27.84   Dolakha  12:54        6.9  2015/04/26"
      ]
     },
     "execution_count": 40,
     "metadata": {},
     "output_type": "execute_result"
    }
   ],
   "source": [
    "ans = dataDate[dataDate.Epicentre.isin(['Sindhupalchowk','Nuwakot','Gorkha','Dolakha']) & (dataDate.Magnitude>5.5)]#.count()#.head()  #and '&', 'a' is in ['a','b'], not in, or '|'\n",
    "#ans[['Epicentre','Magnitude']].sort_values(by='Magnitude').value_counts()\n",
    "#ans[['Epicentre','Magnitude']].value_counts()\n",
    "ans    #EOL: endOFLine , EOF: endOfFile"
   ]
  },
  {
   "cell_type": "code",
   "execution_count": 41,
   "metadata": {},
   "outputs": [
    {
     "data": {
      "text/html": [
       "<div>\n",
       "<style scoped>\n",
       "    .dataframe tbody tr th:only-of-type {\n",
       "        vertical-align: middle;\n",
       "    }\n",
       "\n",
       "    .dataframe tbody tr th {\n",
       "        vertical-align: top;\n",
       "    }\n",
       "\n",
       "    .dataframe thead th {\n",
       "        text-align: right;\n",
       "    }\n",
       "</style>\n",
       "<table border=\"1\" class=\"dataframe\">\n",
       "  <thead>\n",
       "    <tr style=\"text-align: right;\">\n",
       "      <th></th>\n",
       "      <th>Longitude</th>\n",
       "      <th>Latitude</th>\n",
       "      <th>Epicentre</th>\n",
       "      <th>Time</th>\n",
       "      <th>Magnitude</th>\n",
       "      <th>Date</th>\n",
       "    </tr>\n",
       "  </thead>\n",
       "  <tbody>\n",
       "    <tr>\n",
       "      <th>1</th>\n",
       "      <td>85.49</td>\n",
       "      <td>27.94</td>\n",
       "      <td>Sindhupalchowk</td>\n",
       "      <td>23:51</td>\n",
       "      <td>4.2</td>\n",
       "      <td>2015/06/25</td>\n",
       "    </tr>\n",
       "    <tr>\n",
       "      <th>3</th>\n",
       "      <td>85.17</td>\n",
       "      <td>27.78</td>\n",
       "      <td>Nuwakot</td>\n",
       "      <td>21:07</td>\n",
       "      <td>4.3</td>\n",
       "      <td>2015/06/25</td>\n",
       "    </tr>\n",
       "    <tr>\n",
       "      <th>4</th>\n",
       "      <td>85.75</td>\n",
       "      <td>27.85</td>\n",
       "      <td>Sindhupalchowk</td>\n",
       "      <td>14:59</td>\n",
       "      <td>4.0</td>\n",
       "      <td>2015/06/24</td>\n",
       "    </tr>\n",
       "    <tr>\n",
       "      <th>6</th>\n",
       "      <td>86.00</td>\n",
       "      <td>27.80</td>\n",
       "      <td>Sindhupalchowk</td>\n",
       "      <td>19:26</td>\n",
       "      <td>4.3</td>\n",
       "      <td>2015/06/21</td>\n",
       "    </tr>\n",
       "    <tr>\n",
       "      <th>7</th>\n",
       "      <td>84.94</td>\n",
       "      <td>28.17</td>\n",
       "      <td>Gorkha</td>\n",
       "      <td>2:40</td>\n",
       "      <td>4.2</td>\n",
       "      <td>2015/06/20</td>\n",
       "    </tr>\n",
       "    <tr>\n",
       "      <th>...</th>\n",
       "      <td>...</td>\n",
       "      <td>...</td>\n",
       "      <td>...</td>\n",
       "      <td>...</td>\n",
       "      <td>...</td>\n",
       "      <td>...</td>\n",
       "    </tr>\n",
       "    <tr>\n",
       "      <th>436</th>\n",
       "      <td>85.56</td>\n",
       "      <td>27.93</td>\n",
       "      <td>Sindhupalchowk</td>\n",
       "      <td>01:56</td>\n",
       "      <td>4.4</td>\n",
       "      <td>2015/04/26</td>\n",
       "    </tr>\n",
       "    <tr>\n",
       "      <th>437</th>\n",
       "      <td>84.71</td>\n",
       "      <td>28.14</td>\n",
       "      <td>Gorkha</td>\n",
       "      <td>01:52</td>\n",
       "      <td>4.2</td>\n",
       "      <td>2015/04/26</td>\n",
       "    </tr>\n",
       "    <tr>\n",
       "      <th>439</th>\n",
       "      <td>85.56</td>\n",
       "      <td>27.93</td>\n",
       "      <td>Sindhupalchowk</td>\n",
       "      <td>01:29</td>\n",
       "      <td>4.1</td>\n",
       "      <td>2015/04/26</td>\n",
       "    </tr>\n",
       "    <tr>\n",
       "      <th>441</th>\n",
       "      <td>85.55</td>\n",
       "      <td>27.94</td>\n",
       "      <td>Sindhupalchowk</td>\n",
       "      <td>00:14</td>\n",
       "      <td>4.1</td>\n",
       "      <td>2015/04/26</td>\n",
       "    </tr>\n",
       "    <tr>\n",
       "      <th>442</th>\n",
       "      <td>85.98</td>\n",
       "      <td>27.78</td>\n",
       "      <td>Sindhupalchowk</td>\n",
       "      <td>23:46</td>\n",
       "      <td>4.1</td>\n",
       "      <td>2015/04/25</td>\n",
       "    </tr>\n",
       "  </tbody>\n",
       "</table>\n",
       "<p>180 rows × 6 columns</p>\n",
       "</div>"
      ],
      "text/plain": [
       "    Longitude Latitude       Epicentre   Time  Magnitude        Date\n",
       "1       85.49    27.94  Sindhupalchowk  23:51        4.2  2015/06/25\n",
       "3       85.17    27.78         Nuwakot  21:07        4.3  2015/06/25\n",
       "4       85.75    27.85  Sindhupalchowk  14:59        4.0  2015/06/24\n",
       "6       86.00    27.80  Sindhupalchowk  19:26        4.3  2015/06/21\n",
       "7       84.94    28.17          Gorkha   2:40        4.2  2015/06/20\n",
       "..        ...      ...             ...    ...        ...         ...\n",
       "436     85.56    27.93  Sindhupalchowk  01:56        4.4  2015/04/26\n",
       "437     84.71    28.14          Gorkha  01:52        4.2  2015/04/26\n",
       "439     85.56    27.93  Sindhupalchowk  01:29        4.1  2015/04/26\n",
       "441     85.55    27.94  Sindhupalchowk  00:14        4.1  2015/04/26\n",
       "442     85.98    27.78  Sindhupalchowk  23:46        4.1  2015/04/25\n",
       "\n",
       "[180 rows x 6 columns]"
      ]
     },
     "execution_count": 41,
     "metadata": {},
     "output_type": "execute_result"
    }
   ],
   "source": [
    "dataDate[dataDate.Epicentre.isin(['Sindhupalchowk','Nuwakot','Gorkha'])]#.head()#Dolakha       dataDate.Epicentre"
   ]
  },
  {
   "cell_type": "markdown",
   "metadata": {},
   "source": [
    "## Regular Expressions  #https://regex101.com/"
   ]
  },
  {
   "cell_type": "code",
   "execution_count": 42,
   "metadata": {},
   "outputs": [
    {
     "data": {
      "text/html": [
       "<div>\n",
       "<style scoped>\n",
       "    .dataframe tbody tr th:only-of-type {\n",
       "        vertical-align: middle;\n",
       "    }\n",
       "\n",
       "    .dataframe tbody tr th {\n",
       "        vertical-align: top;\n",
       "    }\n",
       "\n",
       "    .dataframe thead th {\n",
       "        text-align: right;\n",
       "    }\n",
       "</style>\n",
       "<table border=\"1\" class=\"dataframe\">\n",
       "  <thead>\n",
       "    <tr style=\"text-align: right;\">\n",
       "      <th></th>\n",
       "      <th>Longitude</th>\n",
       "      <th>Latitude</th>\n",
       "      <th>Epicentre</th>\n",
       "      <th>Time</th>\n",
       "      <th>Magnitude</th>\n",
       "      <th>Date</th>\n",
       "    </tr>\n",
       "  </thead>\n",
       "  <tbody>\n",
       "    <tr>\n",
       "      <th>158</th>\n",
       "      <td>85.50</td>\n",
       "      <td>27.50</td>\n",
       "      <td>Kavre</td>\n",
       "      <td>11:57</td>\n",
       "      <td>4.4</td>\n",
       "      <td>2015/08/07</td>\n",
       "    </tr>\n",
       "    <tr>\n",
       "      <th>261</th>\n",
       "      <td>85.54</td>\n",
       "      <td>27.67</td>\n",
       "      <td>Kavre</td>\n",
       "      <td>05:26</td>\n",
       "      <td>4.1</td>\n",
       "      <td>2015/07/02</td>\n",
       "    </tr>\n",
       "    <tr>\n",
       "      <th>265</th>\n",
       "      <td>85.79</td>\n",
       "      <td>27.55</td>\n",
       "      <td>Kavre</td>\n",
       "      <td>3:31</td>\n",
       "      <td>4.4</td>\n",
       "      <td>2015/06/30</td>\n",
       "    </tr>\n",
       "    <tr>\n",
       "      <th>272</th>\n",
       "      <td>85.56</td>\n",
       "      <td>27.65</td>\n",
       "      <td>Kavre</td>\n",
       "      <td>15:23</td>\n",
       "      <td>4.2</td>\n",
       "      <td>2015/05/10</td>\n",
       "    </tr>\n",
       "    <tr>\n",
       "      <th>326</th>\n",
       "      <td>85.63</td>\n",
       "      <td>27.65</td>\n",
       "      <td>Kavre</td>\n",
       "      <td>14:40</td>\n",
       "      <td>5.7</td>\n",
       "      <td>2015/04/25</td>\n",
       "    </tr>\n",
       "    <tr>\n",
       "      <th>422</th>\n",
       "      <td>85.63</td>\n",
       "      <td>27.64</td>\n",
       "      <td>Kavre</td>\n",
       "      <td>09:06</td>\n",
       "      <td>5.0</td>\n",
       "      <td>2015/04/26</td>\n",
       "    </tr>\n",
       "  </tbody>\n",
       "</table>\n",
       "</div>"
      ],
      "text/plain": [
       "    Longitude Latitude Epicentre   Time  Magnitude        Date\n",
       "158     85.50    27.50     Kavre  11:57        4.4  2015/08/07\n",
       "261     85.54    27.67     Kavre  05:26        4.1  2015/07/02\n",
       "265     85.79    27.55     Kavre   3:31        4.4  2015/06/30\n",
       "272     85.56    27.65     Kavre  15:23        4.2  2015/05/10\n",
       "326     85.63    27.65     Kavre  14:40        5.7  2015/04/25\n",
       "422     85.63    27.64     Kavre  09:06        5.0  2015/04/26"
      ]
     },
     "execution_count": 42,
     "metadata": {},
     "output_type": "execute_result"
    }
   ],
   "source": [
    "dataDate[dataDate.Epicentre.str.contains(r'^[KGB].*[kea]$')]#.head()  'end=$','start=^'\n",
    "\n",
    "dataDate[dataDate['Epicentre']=='Kavre']  #iloc, loc\n",
    "\n",
    "#dataDate[dataDate.Epicentre.str.contains(r'^[KSB]+.*[^akt]+$')]#Dolakha"
   ]
  },
  {
   "cell_type": "code",
   "execution_count": 43,
   "metadata": {},
   "outputs": [
    {
     "data": {
      "text/html": [
       "<div>\n",
       "<style scoped>\n",
       "    .dataframe tbody tr th:only-of-type {\n",
       "        vertical-align: middle;\n",
       "    }\n",
       "\n",
       "    .dataframe tbody tr th {\n",
       "        vertical-align: top;\n",
       "    }\n",
       "\n",
       "    .dataframe thead th {\n",
       "        text-align: right;\n",
       "    }\n",
       "</style>\n",
       "<table border=\"1\" class=\"dataframe\">\n",
       "  <thead>\n",
       "    <tr style=\"text-align: right;\">\n",
       "      <th></th>\n",
       "      <th>Longitude</th>\n",
       "      <th>Latitude</th>\n",
       "      <th>Epicentre</th>\n",
       "      <th>Time</th>\n",
       "      <th>Magnitude</th>\n",
       "      <th>Date</th>\n",
       "    </tr>\n",
       "  </thead>\n",
       "  <tbody>\n",
       "    <tr>\n",
       "      <th>47</th>\n",
       "      <td>85.31</td>\n",
       "      <td>27.45</td>\n",
       "      <td>Lalitpur</td>\n",
       "      <td>09:35</td>\n",
       "      <td>4.2</td>\n",
       "      <td>2015/05/16</td>\n",
       "    </tr>\n",
       "    <tr>\n",
       "      <th>48</th>\n",
       "      <td>85.85</td>\n",
       "      <td>27.70</td>\n",
       "      <td>Sindhupalchowk</td>\n",
       "      <td>09:24</td>\n",
       "      <td>4.2</td>\n",
       "      <td>2015/05/16</td>\n",
       "    </tr>\n",
       "    <tr>\n",
       "      <th>49</th>\n",
       "      <td>84.89</td>\n",
       "      <td>28.13</td>\n",
       "      <td>Gorkha</td>\n",
       "      <td>06:31</td>\n",
       "      <td>4.0</td>\n",
       "      <td>2015/05/16</td>\n",
       "    </tr>\n",
       "    <tr>\n",
       "      <th>50</th>\n",
       "      <td>85.48</td>\n",
       "      <td>27.97</td>\n",
       "      <td>Nuwakot</td>\n",
       "      <td>06:11</td>\n",
       "      <td>4.0</td>\n",
       "      <td>2015/05/16</td>\n",
       "    </tr>\n",
       "    <tr>\n",
       "      <th>51</th>\n",
       "      <td>86.09</td>\n",
       "      <td>27.66</td>\n",
       "      <td>Dolakha</td>\n",
       "      <td>04:38</td>\n",
       "      <td>4.1</td>\n",
       "      <td>2015/05/16</td>\n",
       "    </tr>\n",
       "    <tr>\n",
       "      <th>...</th>\n",
       "      <td>...</td>\n",
       "      <td>...</td>\n",
       "      <td>...</td>\n",
       "      <td>...</td>\n",
       "      <td>...</td>\n",
       "      <td>...</td>\n",
       "    </tr>\n",
       "    <tr>\n",
       "      <th>364</th>\n",
       "      <td>85.99</td>\n",
       "      <td>27.74</td>\n",
       "      <td>Dolakha</td>\n",
       "      <td>17:37</td>\n",
       "      <td>4.0</td>\n",
       "      <td>2015/05/01</td>\n",
       "    </tr>\n",
       "    <tr>\n",
       "      <th>365</th>\n",
       "      <td>85.33</td>\n",
       "      <td>28.04</td>\n",
       "      <td>Rasuwa</td>\n",
       "      <td>11:28</td>\n",
       "      <td>4.5</td>\n",
       "      <td>2015/05/01</td>\n",
       "    </tr>\n",
       "    <tr>\n",
       "      <th>366</th>\n",
       "      <td>85.95</td>\n",
       "      <td>27.75</td>\n",
       "      <td>Sindhupalchowk</td>\n",
       "      <td>10:35</td>\n",
       "      <td>4.0</td>\n",
       "      <td>2015/05/01</td>\n",
       "    </tr>\n",
       "    <tr>\n",
       "      <th>367</th>\n",
       "      <td>85.30</td>\n",
       "      <td>27.68</td>\n",
       "      <td>Kathmandu</td>\n",
       "      <td>02:56</td>\n",
       "      <td>4.0</td>\n",
       "      <td>2015/05/01</td>\n",
       "    </tr>\n",
       "    <tr>\n",
       "      <th>368</th>\n",
       "      <td>85.98</td>\n",
       "      <td>27.70</td>\n",
       "      <td>Dolakha</td>\n",
       "      <td>00:58</td>\n",
       "      <td>4.2</td>\n",
       "      <td>2015/05/01</td>\n",
       "    </tr>\n",
       "  </tbody>\n",
       "</table>\n",
       "<p>183 rows × 6 columns</p>\n",
       "</div>"
      ],
      "text/plain": [
       "    Longitude Latitude       Epicentre   Time  Magnitude        Date\n",
       "47      85.31    27.45        Lalitpur  09:35        4.2  2015/05/16\n",
       "48      85.85    27.70  Sindhupalchowk  09:24        4.2  2015/05/16\n",
       "49      84.89    28.13          Gorkha  06:31        4.0  2015/05/16\n",
       "50      85.48    27.97         Nuwakot  06:11        4.0  2015/05/16\n",
       "51      86.09    27.66         Dolakha  04:38        4.1  2015/05/16\n",
       "..        ...      ...             ...    ...        ...         ...\n",
       "364     85.99    27.74         Dolakha  17:37        4.0  2015/05/01\n",
       "365     85.33    28.04          Rasuwa  11:28        4.5  2015/05/01\n",
       "366     85.95    27.75  Sindhupalchowk  10:35        4.0  2015/05/01\n",
       "367     85.30    27.68       Kathmandu  02:56        4.0  2015/05/01\n",
       "368     85.98    27.70         Dolakha  00:58        4.2  2015/05/01\n",
       "\n",
       "[183 rows x 6 columns]"
      ]
     },
     "execution_count": 43,
     "metadata": {},
     "output_type": "execute_result"
    }
   ],
   "source": [
    "#dataDate[dataDate.Date.str.contains(r'.*[123]+1$')] #April\n",
    "\n",
    "dataDate[dataDate.Date.str.contains(r'.*/[05]+/.*')] \n",
    "\n",
    "#dataDate[dataDate['Date']=='2015/04/21'] \n",
    "#dataDate[dataDate['Date'].str.endswith('21')] "
   ]
  },
  {
   "cell_type": "code",
   "execution_count": 44,
   "metadata": {},
   "outputs": [
    {
     "data": {
      "text/html": [
       "<div>\n",
       "<style scoped>\n",
       "    .dataframe tbody tr th:only-of-type {\n",
       "        vertical-align: middle;\n",
       "    }\n",
       "\n",
       "    .dataframe tbody tr th {\n",
       "        vertical-align: top;\n",
       "    }\n",
       "\n",
       "    .dataframe thead th {\n",
       "        text-align: right;\n",
       "    }\n",
       "</style>\n",
       "<table border=\"1\" class=\"dataframe\">\n",
       "  <thead>\n",
       "    <tr style=\"text-align: right;\">\n",
       "      <th></th>\n",
       "      <th>Longitude</th>\n",
       "      <th>Latitude</th>\n",
       "      <th>Epicentre</th>\n",
       "      <th>Time</th>\n",
       "      <th>Magnitude</th>\n",
       "      <th>Date</th>\n",
       "    </tr>\n",
       "  </thead>\n",
       "  <tbody>\n",
       "    <tr>\n",
       "      <th>299</th>\n",
       "      <td>85.27</td>\n",
       "      <td>28.1</td>\n",
       "      <td>Rasuwa</td>\n",
       "      <td>23:40</td>\n",
       "      <td>4.0</td>\n",
       "      <td>2015/04/25</td>\n",
       "    </tr>\n",
       "    <tr>\n",
       "      <th>300</th>\n",
       "      <td>85.91</td>\n",
       "      <td>28.34</td>\n",
       "      <td>Tibet</td>\n",
       "      <td>23:27</td>\n",
       "      <td>5.6</td>\n",
       "      <td>2015/04/25</td>\n",
       "    </tr>\n",
       "    <tr>\n",
       "      <th>301</th>\n",
       "      <td>85.17</td>\n",
       "      <td>27.78</td>\n",
       "      <td>Nuwakot</td>\n",
       "      <td>23:25</td>\n",
       "      <td>4.0</td>\n",
       "      <td>2015/04/25</td>\n",
       "    </tr>\n",
       "    <tr>\n",
       "      <th>302</th>\n",
       "      <td>85.53</td>\n",
       "      <td>27.9</td>\n",
       "      <td>Sindhupalchowk</td>\n",
       "      <td>23:24</td>\n",
       "      <td>4.0</td>\n",
       "      <td>2015/04/25</td>\n",
       "    </tr>\n",
       "    <tr>\n",
       "      <th>303</th>\n",
       "      <td>85.83</td>\n",
       "      <td>27.77</td>\n",
       "      <td>Sindhupalchowk</td>\n",
       "      <td>23:19</td>\n",
       "      <td>4.1</td>\n",
       "      <td>2015/04/25</td>\n",
       "    </tr>\n",
       "    <tr>\n",
       "      <th>...</th>\n",
       "      <td>...</td>\n",
       "      <td>...</td>\n",
       "      <td>...</td>\n",
       "      <td>...</td>\n",
       "      <td>...</td>\n",
       "      <td>...</td>\n",
       "    </tr>\n",
       "    <tr>\n",
       "      <th>438</th>\n",
       "      <td>85.35</td>\n",
       "      <td>28.05</td>\n",
       "      <td>Rasuwa</td>\n",
       "      <td>01:49</td>\n",
       "      <td>4.0</td>\n",
       "      <td>2015/04/26</td>\n",
       "    </tr>\n",
       "    <tr>\n",
       "      <th>439</th>\n",
       "      <td>85.56</td>\n",
       "      <td>27.93</td>\n",
       "      <td>Sindhupalchowk</td>\n",
       "      <td>01:29</td>\n",
       "      <td>4.1</td>\n",
       "      <td>2015/04/26</td>\n",
       "    </tr>\n",
       "    <tr>\n",
       "      <th>440</th>\n",
       "      <td>85.43</td>\n",
       "      <td>27.71</td>\n",
       "      <td>Kathmandu</td>\n",
       "      <td>00:43</td>\n",
       "      <td>4.6</td>\n",
       "      <td>2015/04/26</td>\n",
       "    </tr>\n",
       "    <tr>\n",
       "      <th>441</th>\n",
       "      <td>85.55</td>\n",
       "      <td>27.94</td>\n",
       "      <td>Sindhupalchowk</td>\n",
       "      <td>00:14</td>\n",
       "      <td>4.1</td>\n",
       "      <td>2015/04/26</td>\n",
       "    </tr>\n",
       "    <tr>\n",
       "      <th>442</th>\n",
       "      <td>85.98</td>\n",
       "      <td>27.78</td>\n",
       "      <td>Sindhupalchowk</td>\n",
       "      <td>23:46</td>\n",
       "      <td>4.1</td>\n",
       "      <td>2015/04/25</td>\n",
       "    </tr>\n",
       "  </tbody>\n",
       "</table>\n",
       "<p>76 rows × 6 columns</p>\n",
       "</div>"
      ],
      "text/plain": [
       "    Longitude Latitude       Epicentre   Time  Magnitude        Date\n",
       "299     85.27     28.1          Rasuwa  23:40        4.0  2015/04/25\n",
       "300     85.91    28.34           Tibet  23:27        5.6  2015/04/25\n",
       "301     85.17    27.78         Nuwakot  23:25        4.0  2015/04/25\n",
       "302     85.53     27.9  Sindhupalchowk  23:24        4.0  2015/04/25\n",
       "303     85.83    27.77  Sindhupalchowk  23:19        4.1  2015/04/25\n",
       "..        ...      ...             ...    ...        ...         ...\n",
       "438     85.35    28.05          Rasuwa  01:49        4.0  2015/04/26\n",
       "439     85.56    27.93  Sindhupalchowk  01:29        4.1  2015/04/26\n",
       "440     85.43    27.71       Kathmandu  00:43        4.6  2015/04/26\n",
       "441     85.55    27.94  Sindhupalchowk  00:14        4.1  2015/04/26\n",
       "442     85.98    27.78  Sindhupalchowk  23:46        4.1  2015/04/25\n",
       "\n",
       "[76 rows x 6 columns]"
      ]
     },
     "execution_count": 44,
     "metadata": {},
     "output_type": "execute_result"
    }
   ],
   "source": [
    "#dataDate[dataDate.Date.between('2015/04/25','2015/04/28') & dataDate.Epicentre.str.contains(r'Sindhu')]#[::10]\n",
    "\n",
    "#OR\n",
    "#dataDate[dataDate['Epicentre']=='Sindhupalchowk']\n",
    "dataDate[dataDate.Date.between('2015/04/25','2015/04/26')] #TASK-subset-Sindhupalchowk"
   ]
  },
  {
   "cell_type": "code",
   "execution_count": 45,
   "metadata": {},
   "outputs": [],
   "source": [
    "mag5 = dataDate[dataDate.Magnitude>=5.0]# & dataDate.Epicentre.str.contains(r'G')]#.max()\n",
    "#mag5"
   ]
  },
  {
   "cell_type": "markdown",
   "metadata": {},
   "source": [
    "## startswith()"
   ]
  },
  {
   "cell_type": "code",
   "execution_count": 46,
   "metadata": {},
   "outputs": [
    {
     "data": {
      "text/html": [
       "<div>\n",
       "<style scoped>\n",
       "    .dataframe tbody tr th:only-of-type {\n",
       "        vertical-align: middle;\n",
       "    }\n",
       "\n",
       "    .dataframe tbody tr th {\n",
       "        vertical-align: top;\n",
       "    }\n",
       "\n",
       "    .dataframe thead th {\n",
       "        text-align: right;\n",
       "    }\n",
       "</style>\n",
       "<table border=\"1\" class=\"dataframe\">\n",
       "  <thead>\n",
       "    <tr style=\"text-align: right;\">\n",
       "      <th></th>\n",
       "      <th>Longitude</th>\n",
       "      <th>Latitude</th>\n",
       "      <th>Epicentre</th>\n",
       "      <th>Time</th>\n",
       "      <th>Magnitude</th>\n",
       "      <th>Date</th>\n",
       "    </tr>\n",
       "  </thead>\n",
       "  <tbody>\n",
       "    <tr>\n",
       "      <th>180</th>\n",
       "      <td>84.68</td>\n",
       "      <td>28.01</td>\n",
       "      <td>Gorkha</td>\n",
       "      <td>03:23</td>\n",
       "      <td>5.0</td>\n",
       "      <td>2015/05/25</td>\n",
       "    </tr>\n",
       "    <tr>\n",
       "      <th>316</th>\n",
       "      <td>84.71</td>\n",
       "      <td>28.16</td>\n",
       "      <td>Gorkha</td>\n",
       "      <td>18:29</td>\n",
       "      <td>5.5</td>\n",
       "      <td>2015/04/25</td>\n",
       "    </tr>\n",
       "    <tr>\n",
       "      <th>327</th>\n",
       "      <td>84.95</td>\n",
       "      <td>28.18</td>\n",
       "      <td>Gorkha</td>\n",
       "      <td>14:14</td>\n",
       "      <td>5.2</td>\n",
       "      <td>2015/04/25</td>\n",
       "    </tr>\n",
       "    <tr>\n",
       "      <th>347</th>\n",
       "      <td>84.72</td>\n",
       "      <td>28.28</td>\n",
       "      <td>Gorkha</td>\n",
       "      <td>12:30</td>\n",
       "      <td>6.6</td>\n",
       "      <td>2015/04/25</td>\n",
       "    </tr>\n",
       "    <tr>\n",
       "      <th>349</th>\n",
       "      <td>84.75</td>\n",
       "      <td>28.24</td>\n",
       "      <td>Gorkha</td>\n",
       "      <td>11:56</td>\n",
       "      <td>7.6</td>\n",
       "      <td>2015/04/25</td>\n",
       "    </tr>\n",
       "    <tr>\n",
       "      <th>357</th>\n",
       "      <td>84.76</td>\n",
       "      <td>28.24</td>\n",
       "      <td>Gorkha</td>\n",
       "      <td>11:20</td>\n",
       "      <td>5.1</td>\n",
       "      <td>2015/05/02</td>\n",
       "    </tr>\n",
       "  </tbody>\n",
       "</table>\n",
       "</div>"
      ],
      "text/plain": [
       "    Longitude Latitude Epicentre   Time  Magnitude        Date\n",
       "180     84.68    28.01    Gorkha  03:23        5.0  2015/05/25\n",
       "316     84.71    28.16    Gorkha  18:29        5.5  2015/04/25\n",
       "327     84.95    28.18    Gorkha  14:14        5.2  2015/04/25\n",
       "347     84.72    28.28    Gorkha  12:30        6.6  2015/04/25\n",
       "349     84.75    28.24    Gorkha  11:56        7.6  2015/04/25\n",
       "357     84.76    28.24    Gorkha  11:20        5.1  2015/05/02"
      ]
     },
     "execution_count": 46,
     "metadata": {},
     "output_type": "execute_result"
    }
   ],
   "source": [
    "mag5[mag5.Epicentre.str.startswith('G')]"
   ]
  },
  {
   "cell_type": "markdown",
   "metadata": {},
   "source": [
    "## endswith()"
   ]
  },
  {
   "cell_type": "code",
   "execution_count": 47,
   "metadata": {},
   "outputs": [
    {
     "data": {
      "text/html": [
       "<div>\n",
       "<style scoped>\n",
       "    .dataframe tbody tr th:only-of-type {\n",
       "        vertical-align: middle;\n",
       "    }\n",
       "\n",
       "    .dataframe tbody tr th {\n",
       "        vertical-align: top;\n",
       "    }\n",
       "\n",
       "    .dataframe thead th {\n",
       "        text-align: right;\n",
       "    }\n",
       "</style>\n",
       "<table border=\"1\" class=\"dataframe\">\n",
       "  <thead>\n",
       "    <tr style=\"text-align: right;\">\n",
       "      <th></th>\n",
       "      <th>Longitude</th>\n",
       "      <th>Latitude</th>\n",
       "      <th>Epicentre</th>\n",
       "      <th>Time</th>\n",
       "      <th>Magnitude</th>\n",
       "      <th>Date</th>\n",
       "    </tr>\n",
       "  </thead>\n",
       "  <tbody>\n",
       "    <tr>\n",
       "      <th>2</th>\n",
       "      <td>86.21</td>\n",
       "      <td>27.66</td>\n",
       "      <td>Dolakha</td>\n",
       "      <td>23:49</td>\n",
       "      <td>4.1</td>\n",
       "      <td>2015/06/25</td>\n",
       "    </tr>\n",
       "    <tr>\n",
       "      <th>5</th>\n",
       "      <td>86.17</td>\n",
       "      <td>27.67</td>\n",
       "      <td>Dolakha</td>\n",
       "      <td>13:19</td>\n",
       "      <td>4.0</td>\n",
       "      <td>2015/06/22</td>\n",
       "    </tr>\n",
       "    <tr>\n",
       "      <th>7</th>\n",
       "      <td>84.94</td>\n",
       "      <td>28.17</td>\n",
       "      <td>Gorkha</td>\n",
       "      <td>2:40</td>\n",
       "      <td>4.2</td>\n",
       "      <td>2015/06/20</td>\n",
       "    </tr>\n",
       "    <tr>\n",
       "      <th>9</th>\n",
       "      <td>84.92</td>\n",
       "      <td>28.26</td>\n",
       "      <td>Gorkha</td>\n",
       "      <td>13:50</td>\n",
       "      <td>4.0</td>\n",
       "      <td>2015/06/19</td>\n",
       "    </tr>\n",
       "    <tr>\n",
       "      <th>16</th>\n",
       "      <td>86.12</td>\n",
       "      <td>27.7</td>\n",
       "      <td>Dolakha</td>\n",
       "      <td>03:52</td>\n",
       "      <td>4.2</td>\n",
       "      <td>2015/12/28</td>\n",
       "    </tr>\n",
       "    <tr>\n",
       "      <th>...</th>\n",
       "      <td>...</td>\n",
       "      <td>...</td>\n",
       "      <td>...</td>\n",
       "      <td>...</td>\n",
       "      <td>...</td>\n",
       "      <td>...</td>\n",
       "    </tr>\n",
       "    <tr>\n",
       "      <th>432</th>\n",
       "      <td>84.99</td>\n",
       "      <td>27.98</td>\n",
       "      <td>Gorkha</td>\n",
       "      <td>02:49</td>\n",
       "      <td>4.0</td>\n",
       "      <td>2015/04/26</td>\n",
       "    </tr>\n",
       "    <tr>\n",
       "      <th>434</th>\n",
       "      <td>84.82</td>\n",
       "      <td>28.24</td>\n",
       "      <td>Gorkha</td>\n",
       "      <td>02:14</td>\n",
       "      <td>4.3</td>\n",
       "      <td>2015/04/26</td>\n",
       "    </tr>\n",
       "    <tr>\n",
       "      <th>435</th>\n",
       "      <td>85.83</td>\n",
       "      <td>28.25</td>\n",
       "      <td>Rasuwa</td>\n",
       "      <td>02:08</td>\n",
       "      <td>4.0</td>\n",
       "      <td>2015/04/26</td>\n",
       "    </tr>\n",
       "    <tr>\n",
       "      <th>437</th>\n",
       "      <td>84.71</td>\n",
       "      <td>28.14</td>\n",
       "      <td>Gorkha</td>\n",
       "      <td>01:52</td>\n",
       "      <td>4.2</td>\n",
       "      <td>2015/04/26</td>\n",
       "    </tr>\n",
       "    <tr>\n",
       "      <th>438</th>\n",
       "      <td>85.35</td>\n",
       "      <td>28.05</td>\n",
       "      <td>Rasuwa</td>\n",
       "      <td>01:49</td>\n",
       "      <td>4.0</td>\n",
       "      <td>2015/04/26</td>\n",
       "    </tr>\n",
       "  </tbody>\n",
       "</table>\n",
       "<p>208 rows × 6 columns</p>\n",
       "</div>"
      ],
      "text/plain": [
       "    Longitude Latitude Epicentre   Time  Magnitude        Date\n",
       "2       86.21    27.66   Dolakha  23:49        4.1  2015/06/25\n",
       "5       86.17    27.67   Dolakha  13:19        4.0  2015/06/22\n",
       "7       84.94    28.17    Gorkha   2:40        4.2  2015/06/20\n",
       "9       84.92    28.26    Gorkha  13:50        4.0  2015/06/19\n",
       "16      86.12     27.7   Dolakha  03:52        4.2  2015/12/28\n",
       "..        ...      ...       ...    ...        ...         ...\n",
       "432     84.99    27.98    Gorkha  02:49        4.0  2015/04/26\n",
       "434     84.82    28.24    Gorkha  02:14        4.3  2015/04/26\n",
       "435     85.83    28.25    Rasuwa  02:08        4.0  2015/04/26\n",
       "437     84.71    28.14    Gorkha  01:52        4.2  2015/04/26\n",
       "438     85.35    28.05    Rasuwa  01:49        4.0  2015/04/26\n",
       "\n",
       "[208 rows x 6 columns]"
      ]
     },
     "execution_count": 47,
     "metadata": {},
     "output_type": "execute_result"
    }
   ],
   "source": [
    "dataDate[dataDate['Epicentre'].str.endswith('a')] #query-trick "
   ]
  },
  {
   "cell_type": "markdown",
   "metadata": {},
   "source": [
    "## between() - contains()"
   ]
  },
  {
   "cell_type": "code",
   "execution_count": 48,
   "metadata": {},
   "outputs": [
    {
     "data": {
      "text/plain": [
       "3"
      ]
     },
     "execution_count": 48,
     "metadata": {},
     "output_type": "execute_result"
    }
   ],
   "source": [
    "mag56 = dataDate[dataDate.Magnitude.between(5.0,6.0)]['Epicentre']\n",
    "#mag56\n",
    "mag56[mag56.str.contains(r'K')].count()"
   ]
  },
  {
   "cell_type": "markdown",
   "metadata": {},
   "source": [
    "## Fetch impure value"
   ]
  },
  {
   "cell_type": "code",
   "execution_count": 49,
   "metadata": {},
   "outputs": [
    {
     "data": {
      "text/plain": [
       "443"
      ]
     },
     "execution_count": 49,
     "metadata": {},
     "output_type": "execute_result"
    }
   ],
   "source": [
    "len(dataDate.Latitude)"
   ]
  },
  {
   "cell_type": "code",
   "execution_count": 50,
   "metadata": {},
   "outputs": [
    {
     "name": "stdout",
     "output_type": "stream",
     "text": [
      "<class 'pandas.core.frame.DataFrame'>\n",
      "RangeIndex: 443 entries, 0 to 442\n",
      "Data columns (total 6 columns):\n",
      " #   Column     Non-Null Count  Dtype  \n",
      "---  ------     --------------  -----  \n",
      " 0   Longitude  443 non-null    object \n",
      " 1   Latitude   443 non-null    object \n",
      " 2   Epicentre  443 non-null    object \n",
      " 3   Time       443 non-null    object \n",
      " 4   Magnitude  443 non-null    float64\n",
      " 5   Date       443 non-null    object \n",
      "dtypes: float64(1), object(5)\n",
      "memory usage: 20.9+ KB\n"
     ]
    }
   ],
   "source": [
    "dataDate.info()"
   ]
  },
  {
   "cell_type": "code",
   "execution_count": 54,
   "metadata": {},
   "outputs": [
    {
     "data": {
      "text/plain": [
       "Longitude    443\n",
       "Latitude     443\n",
       "Epicentre    443\n",
       "Time         443\n",
       "Magnitude    443\n",
       "Date         443\n",
       "dtype: int64"
      ]
     },
     "execution_count": 54,
     "metadata": {},
     "output_type": "execute_result"
    }
   ],
   "source": [
    "dataDate[dataDate.Latitude.str.contains(\".\")].count()  #   443    #raw format/string: c:\\\\pyhton39\\\\   -> c:\\"
   ]
  },
  {
   "cell_type": "code",
   "execution_count": 55,
   "metadata": {},
   "outputs": [
    {
     "data": {
      "text/plain": [
       "Longitude    440\n",
       "Latitude     440\n",
       "Epicentre    440\n",
       "Time         440\n",
       "Magnitude    440\n",
       "Date         440\n",
       "dtype: int64"
      ]
     },
     "execution_count": 55,
     "metadata": {},
     "output_type": "execute_result"
    }
   ],
   "source": [
    "#dataDate[dataDate.Latitude.str.contains(\".\",regex=False)].count()  #   443    #raw format/string: c:\\\\pyhton39\\\\   -> c:\\\n",
    "dataDate[dataDate.Latitude.str.contains(\"\\.\")]    # [a-zA-Z]+    #   440    #raw format/string: c:\\\\ -> c:\\\n",
    "\n",
    "#dataDate[dataDate.Latitude.str.contains(r'\\.')]   # 440\n",
    "\n",
    "#.Latitude.index #Note: regex TASK??    in -> not in   , is -> is not , True -> False"
   ]
  },
  {
   "cell_type": "markdown",
   "metadata": {},
   "source": [
    "## '~' NOT or Against Logic"
   ]
  },
  {
   "cell_type": "code",
   "execution_count": 64,
   "metadata": {},
   "outputs": [
    {
     "data": {
      "text/html": [
       "<div>\n",
       "<style scoped>\n",
       "    .dataframe tbody tr th:only-of-type {\n",
       "        vertical-align: middle;\n",
       "    }\n",
       "\n",
       "    .dataframe tbody tr th {\n",
       "        vertical-align: top;\n",
       "    }\n",
       "\n",
       "    .dataframe thead th {\n",
       "        text-align: right;\n",
       "    }\n",
       "</style>\n",
       "<table border=\"1\" class=\"dataframe\">\n",
       "  <thead>\n",
       "    <tr style=\"text-align: right;\">\n",
       "      <th></th>\n",
       "      <th>Longitude</th>\n",
       "      <th>Latitude</th>\n",
       "      <th>Epicentre</th>\n",
       "      <th>Time</th>\n",
       "      <th>Magnitude</th>\n",
       "      <th>Date</th>\n",
       "    </tr>\n",
       "  </thead>\n",
       "  <tbody>\n",
       "    <tr>\n",
       "      <th>279</th>\n",
       "      <td>85:64</td>\n",
       "      <td>27:93</td>\n",
       "      <td>Sindhupalchowk</td>\n",
       "      <td>23:34</td>\n",
       "      <td>4.0</td>\n",
       "      <td>2015/06/29</td>\n",
       "    </tr>\n",
       "    <tr>\n",
       "      <th>318</th>\n",
       "      <td>85.4</td>\n",
       "      <td>28</td>\n",
       "      <td>Nuwakot</td>\n",
       "      <td>18:02</td>\n",
       "      <td>4.9</td>\n",
       "      <td>2015/04/25</td>\n",
       "    </tr>\n",
       "    <tr>\n",
       "      <th>324</th>\n",
       "      <td>85.6</td>\n",
       "      <td>28</td>\n",
       "      <td>Sindhupalchowk</td>\n",
       "      <td>15:15</td>\n",
       "      <td>5.5</td>\n",
       "      <td>2015/04/25</td>\n",
       "    </tr>\n",
       "  </tbody>\n",
       "</table>\n",
       "</div>"
      ],
      "text/plain": [
       "    Longitude Latitude       Epicentre   Time  Magnitude        Date\n",
       "279     85:64    27:93  Sindhupalchowk  23:34        4.0  2015/06/29\n",
       "318      85.4       28         Nuwakot  18:02        4.9  2015/04/25\n",
       "324      85.6       28  Sindhupalchowk  15:15        5.5  2015/04/25"
      ]
     },
     "execution_count": 64,
     "metadata": {},
     "output_type": "execute_result"
    }
   ],
   "source": [
    "dataDate[~dataDate.Latitude.str.contains('\\.')]   # in ->  not in #279 , 318, 324   [^a-zA-Z]+"
   ]
  },
  {
   "cell_type": "code",
   "execution_count": 64,
   "metadata": {},
   "outputs": [
    {
     "data": {
      "text/plain": [
       "Int64Index([279, 318, 324], dtype='int64')"
      ]
     },
     "execution_count": 64,
     "metadata": {},
     "output_type": "execute_result"
    }
   ],
   "source": [
    "dataDate[~dataDate.Latitude.str.contains(r'\\.')].index"
   ]
  },
  {
   "cell_type": "code",
   "execution_count": 65,
   "metadata": {},
   "outputs": [
    {
     "data": {
      "text/html": [
       "<div>\n",
       "<style scoped>\n",
       "    .dataframe tbody tr th:only-of-type {\n",
       "        vertical-align: middle;\n",
       "    }\n",
       "\n",
       "    .dataframe tbody tr th {\n",
       "        vertical-align: top;\n",
       "    }\n",
       "\n",
       "    .dataframe thead th {\n",
       "        text-align: right;\n",
       "    }\n",
       "</style>\n",
       "<table border=\"1\" class=\"dataframe\">\n",
       "  <thead>\n",
       "    <tr style=\"text-align: right;\">\n",
       "      <th></th>\n",
       "      <th>Longitude</th>\n",
       "      <th>Latitude</th>\n",
       "      <th>Epicentre</th>\n",
       "      <th>Time</th>\n",
       "      <th>Magnitude</th>\n",
       "      <th>Date</th>\n",
       "    </tr>\n",
       "  </thead>\n",
       "  <tbody>\n",
       "    <tr>\n",
       "      <th>279</th>\n",
       "      <td>85:64</td>\n",
       "      <td>27:93</td>\n",
       "      <td>Sindhupalchowk</td>\n",
       "      <td>23:34</td>\n",
       "      <td>4.0</td>\n",
       "      <td>2015/06/29</td>\n",
       "    </tr>\n",
       "  </tbody>\n",
       "</table>\n",
       "</div>"
      ],
      "text/plain": [
       "    Longitude Latitude       Epicentre   Time  Magnitude        Date\n",
       "279     85:64    27:93  Sindhupalchowk  23:34        4.0  2015/06/29"
      ]
     },
     "execution_count": 65,
     "metadata": {},
     "output_type": "execute_result"
    }
   ],
   "source": [
    "dataDate[dataDate.Latitude.str.contains(':')] #EDA"
   ]
  },
  {
   "cell_type": "code",
   "execution_count": 70,
   "metadata": {},
   "outputs": [
    {
     "data": {
      "text/plain": [
       "Longitude             85:64\n",
       "Latitude              27:93\n",
       "Epicentre    Sindhupalchowk\n",
       "Time                  23:34\n",
       "Magnitude               4.0\n",
       "Date             2015/06/29\n",
       "Name: 279, dtype: object"
      ]
     },
     "execution_count": 70,
     "metadata": {},
     "output_type": "execute_result"
    }
   ],
   "source": [
    "dataDate.iloc[279]"
   ]
  },
  {
   "cell_type": "code",
   "execution_count": 71,
   "metadata": {},
   "outputs": [
    {
     "data": {
      "text/plain": [
       "'27:93'"
      ]
     },
     "execution_count": 71,
     "metadata": {},
     "output_type": "execute_result"
    }
   ],
   "source": [
    "dataDate.Latitude[279]"
   ]
  },
  {
   "cell_type": "markdown",
   "metadata": {},
   "source": [
    "### Update impure values as required"
   ]
  },
  {
   "cell_type": "code",
   "execution_count": 72,
   "metadata": {},
   "outputs": [
    {
     "name": "stderr",
     "output_type": "stream",
     "text": [
      "C:\\Python37\\lib\\site-packages\\ipykernel_launcher.py:1: SettingWithCopyWarning: \n",
      "A value is trying to be set on a copy of a slice from a DataFrame\n",
      "\n",
      "See the caveats in the documentation: https://pandas.pydata.org/pandas-docs/stable/user_guide/indexing.html#returning-a-view-versus-a-copy\n",
      "  \"\"\"Entry point for launching an IPython kernel.\n"
     ]
    },
    {
     "data": {
      "text/plain": [
       "Longitude             85:64\n",
       "Latitude              27.93\n",
       "Epicentre    Sindhupalchowk\n",
       "Time                  23:34\n",
       "Magnitude               4.0\n",
       "Date             2015/06/29\n",
       "Name: 279, dtype: object"
      ]
     },
     "execution_count": 72,
     "metadata": {},
     "output_type": "execute_result"
    }
   ],
   "source": [
    "dataDate.Latitude[279]='27.93'\n",
    "dataDate.iloc[279]"
   ]
  },
  {
   "cell_type": "code",
   "execution_count": 73,
   "metadata": {},
   "outputs": [
    {
     "name": "stderr",
     "output_type": "stream",
     "text": [
      "C:\\Python37\\lib\\site-packages\\ipykernel_launcher.py:1: SettingWithCopyWarning: \n",
      "A value is trying to be set on a copy of a slice from a DataFrame\n",
      "\n",
      "See the caveats in the documentation: https://pandas.pydata.org/pandas-docs/stable/user_guide/indexing.html#returning-a-view-versus-a-copy\n",
      "  \"\"\"Entry point for launching an IPython kernel.\n"
     ]
    },
    {
     "data": {
      "text/plain": [
       "Longitude             85.64\n",
       "Latitude              27.93\n",
       "Epicentre    Sindhupalchowk\n",
       "Time                  23:34\n",
       "Magnitude               4.0\n",
       "Date             2015/06/29\n",
       "Name: 279, dtype: object"
      ]
     },
     "execution_count": 73,
     "metadata": {},
     "output_type": "execute_result"
    }
   ],
   "source": [
    "dataDate.Longitude[279]='85.64'\n",
    "dataDate.iloc[279]"
   ]
  },
  {
   "cell_type": "code",
   "execution_count": 74,
   "metadata": {},
   "outputs": [],
   "source": [
    "# write clean data to new File and use the data !\n",
    "\n",
    "#dataDate.to_csv('cleanEarthquake.csv')"
   ]
  },
  {
   "cell_type": "markdown",
   "metadata": {},
   "source": [
    "## apply(), to_numeric"
   ]
  },
  {
   "cell_type": "raw",
   "metadata": {},
   "source": [
    "def pow2(x):\n",
    "    return x**2\n",
    "dataDate[['Longitude','Latitude']].apply(pow2) #change column type   #filter(pow2,dataDate.magnitude)  map(pow2,datadate.magnitude)"
   ]
  },
  {
   "cell_type": "code",
   "execution_count": 75,
   "metadata": {},
   "outputs": [
    {
     "data": {
      "text/html": [
       "<div>\n",
       "<style scoped>\n",
       "    .dataframe tbody tr th:only-of-type {\n",
       "        vertical-align: middle;\n",
       "    }\n",
       "\n",
       "    .dataframe tbody tr th {\n",
       "        vertical-align: top;\n",
       "    }\n",
       "\n",
       "    .dataframe thead th {\n",
       "        text-align: right;\n",
       "    }\n",
       "</style>\n",
       "<table border=\"1\" class=\"dataframe\">\n",
       "  <thead>\n",
       "    <tr style=\"text-align: right;\">\n",
       "      <th></th>\n",
       "      <th>Longitude</th>\n",
       "      <th>Latitude</th>\n",
       "    </tr>\n",
       "  </thead>\n",
       "  <tbody>\n",
       "    <tr>\n",
       "      <th>0</th>\n",
       "      <td>85.39</td>\n",
       "      <td>27.58</td>\n",
       "    </tr>\n",
       "    <tr>\n",
       "      <th>1</th>\n",
       "      <td>85.49</td>\n",
       "      <td>27.94</td>\n",
       "    </tr>\n",
       "    <tr>\n",
       "      <th>2</th>\n",
       "      <td>86.21</td>\n",
       "      <td>27.66</td>\n",
       "    </tr>\n",
       "    <tr>\n",
       "      <th>3</th>\n",
       "      <td>85.17</td>\n",
       "      <td>27.78</td>\n",
       "    </tr>\n",
       "    <tr>\n",
       "      <th>4</th>\n",
       "      <td>85.75</td>\n",
       "      <td>27.85</td>\n",
       "    </tr>\n",
       "    <tr>\n",
       "      <th>...</th>\n",
       "      <td>...</td>\n",
       "      <td>...</td>\n",
       "    </tr>\n",
       "    <tr>\n",
       "      <th>438</th>\n",
       "      <td>85.35</td>\n",
       "      <td>28.05</td>\n",
       "    </tr>\n",
       "    <tr>\n",
       "      <th>439</th>\n",
       "      <td>85.56</td>\n",
       "      <td>27.93</td>\n",
       "    </tr>\n",
       "    <tr>\n",
       "      <th>440</th>\n",
       "      <td>85.43</td>\n",
       "      <td>27.71</td>\n",
       "    </tr>\n",
       "    <tr>\n",
       "      <th>441</th>\n",
       "      <td>85.55</td>\n",
       "      <td>27.94</td>\n",
       "    </tr>\n",
       "    <tr>\n",
       "      <th>442</th>\n",
       "      <td>85.98</td>\n",
       "      <td>27.78</td>\n",
       "    </tr>\n",
       "  </tbody>\n",
       "</table>\n",
       "<p>443 rows × 2 columns</p>\n",
       "</div>"
      ],
      "text/plain": [
       "     Longitude  Latitude\n",
       "0        85.39     27.58\n",
       "1        85.49     27.94\n",
       "2        86.21     27.66\n",
       "3        85.17     27.78\n",
       "4        85.75     27.85\n",
       "..         ...       ...\n",
       "438      85.35     28.05\n",
       "439      85.56     27.93\n",
       "440      85.43     27.71\n",
       "441      85.55     27.94\n",
       "442      85.98     27.78\n",
       "\n",
       "[443 rows x 2 columns]"
      ]
     },
     "execution_count": 75,
     "metadata": {},
     "output_type": "execute_result"
    }
   ],
   "source": [
    "dataDate[['Longitude','Latitude']].apply(pd.to_numeric) #change column type   #filter(fun,l)\n",
    "\n",
    "'''\n",
    "x=input(\"Enter your age\") 20\n",
    "x -> 20\n",
    "type(x) -> 'str'\n",
    "#x=(int)x -> apply & update\n",
    "print((int)x+1) -> (int)x -> apply\n",
    "type(x) -> ???\n",
    "'''"
   ]
  },
  {
   "cell_type": "code",
   "execution_count": 76,
   "metadata": {},
   "outputs": [
    {
     "data": {
      "text/plain": [
       "Longitude     object\n",
       "Latitude      object\n",
       "Epicentre     object\n",
       "Time          object\n",
       "Magnitude    float64\n",
       "Date          object\n",
       "dtype: object"
      ]
     },
     "execution_count": 76,
     "metadata": {},
     "output_type": "execute_result"
    }
   ],
   "source": [
    "dataDate.dtypes"
   ]
  },
  {
   "cell_type": "code",
   "execution_count": 77,
   "metadata": {},
   "outputs": [],
   "source": [
    "dfTest = dataDate #copy\n",
    "'''\n",
    "x=a\n",
    "y=b\n",
    "y=x\n",
    "'''"
   ]
  },
  {
   "cell_type": "code",
   "execution_count": 78,
   "metadata": {},
   "outputs": [
    {
     "data": {
      "text/html": [
       "<div>\n",
       "<style scoped>\n",
       "    .dataframe tbody tr th:only-of-type {\n",
       "        vertical-align: middle;\n",
       "    }\n",
       "\n",
       "    .dataframe tbody tr th {\n",
       "        vertical-align: top;\n",
       "    }\n",
       "\n",
       "    .dataframe thead th {\n",
       "        text-align: right;\n",
       "    }\n",
       "</style>\n",
       "<table border=\"1\" class=\"dataframe\">\n",
       "  <thead>\n",
       "    <tr style=\"text-align: right;\">\n",
       "      <th></th>\n",
       "      <th>Longitude</th>\n",
       "      <th>Latitude</th>\n",
       "      <th>Epicentre</th>\n",
       "      <th>Time</th>\n",
       "      <th>Magnitude</th>\n",
       "      <th>Date</th>\n",
       "    </tr>\n",
       "  </thead>\n",
       "  <tbody>\n",
       "  </tbody>\n",
       "</table>\n",
       "</div>"
      ],
      "text/plain": [
       "Empty DataFrame\n",
       "Columns: [Longitude, Latitude, Epicentre, Time, Magnitude, Date]\n",
       "Index: []"
      ]
     },
     "execution_count": 78,
     "metadata": {},
     "output_type": "execute_result"
    }
   ],
   "source": [
    "dfTest[dfTest.Latitude.str.contains(':')]"
   ]
  },
  {
   "cell_type": "code",
   "execution_count": 150,
   "metadata": {},
   "outputs": [
    {
     "name": "stdout",
     "output_type": "stream",
     "text": [
      "<class 'pandas.core.frame.DataFrame'>\n",
      "RangeIndex: 443 entries, 0 to 442\n",
      "Data columns (total 6 columns):\n",
      " #   Column     Non-Null Count  Dtype  \n",
      "---  ------     --------------  -----  \n",
      " 0   Longitude  443 non-null    object \n",
      " 1   Latitude   443 non-null    object \n",
      " 2   Epicentre  443 non-null    object \n",
      " 3   Time       443 non-null    object \n",
      " 4   Magnitude  443 non-null    float64\n",
      " 5   Date       443 non-null    object \n",
      "dtypes: float64(1), object(5)\n",
      "memory usage: 20.9+ KB\n"
     ]
    }
   ],
   "source": [
    "dfTest.info()"
   ]
  },
  {
   "cell_type": "markdown",
   "metadata": {},
   "source": [
    "## Convert and refresh column with new type"
   ]
  },
  {
   "cell_type": "code",
   "execution_count": 79,
   "metadata": {},
   "outputs": [],
   "source": [
    "dfTest.Latitude = pd.to_datetime(dfTest.Latitude)\n",
    "#df.index = df.team"
   ]
  },
  {
   "cell_type": "code",
   "execution_count": 80,
   "metadata": {},
   "outputs": [],
   "source": [
    "dfTest.Longitude = pd.to_numeric(dfTest.Longitude)"
   ]
  },
  {
   "cell_type": "markdown",
   "metadata": {},
   "source": [
    "#### NOTE: we could have used: <b style=\"color:#ff0022\">dfTest[[\"Longitude\", \"Latitude\"]] = dfTest[[\"Longitude\", \"Latitude\"]].apply(pd.to_numeric)</b>"
   ]
  },
  {
   "cell_type": "code",
   "execution_count": 81,
   "metadata": {},
   "outputs": [
    {
     "data": {
      "text/plain": [
       "Longitude    float64\n",
       "Latitude     float64\n",
       "Epicentre     object\n",
       "Time          object\n",
       "Magnitude    float64\n",
       "Date          object\n",
       "dtype: object"
      ]
     },
     "execution_count": 81,
     "metadata": {},
     "output_type": "execute_result"
    }
   ],
   "source": [
    "dfTest.dtypes"
   ]
  },
  {
   "cell_type": "code",
   "execution_count": 82,
   "metadata": {},
   "outputs": [
    {
     "name": "stdout",
     "output_type": "stream",
     "text": [
      "<class 'pandas.core.frame.DataFrame'>\n",
      "RangeIndex: 443 entries, 0 to 442\n",
      "Data columns (total 6 columns):\n",
      " #   Column     Non-Null Count  Dtype  \n",
      "---  ------     --------------  -----  \n",
      " 0   Longitude  443 non-null    float64\n",
      " 1   Latitude   443 non-null    float64\n",
      " 2   Epicentre  443 non-null    object \n",
      " 3   Time       443 non-null    object \n",
      " 4   Magnitude  443 non-null    float64\n",
      " 5   Date       443 non-null    object \n",
      "dtypes: float64(3), object(3)\n",
      "memory usage: 20.9+ KB\n"
     ]
    }
   ],
   "source": [
    "dfTest.info()"
   ]
  },
  {
   "cell_type": "code",
   "execution_count": 83,
   "metadata": {},
   "outputs": [
    {
     "data": {
      "text/html": [
       "<div>\n",
       "<style scoped>\n",
       "    .dataframe tbody tr th:only-of-type {\n",
       "        vertical-align: middle;\n",
       "    }\n",
       "\n",
       "    .dataframe tbody tr th {\n",
       "        vertical-align: top;\n",
       "    }\n",
       "\n",
       "    .dataframe thead th {\n",
       "        text-align: right;\n",
       "    }\n",
       "</style>\n",
       "<table border=\"1\" class=\"dataframe\">\n",
       "  <thead>\n",
       "    <tr style=\"text-align: right;\">\n",
       "      <th></th>\n",
       "      <th>Longitude</th>\n",
       "      <th>Latitude</th>\n",
       "      <th>Magnitude</th>\n",
       "    </tr>\n",
       "  </thead>\n",
       "  <tbody>\n",
       "    <tr>\n",
       "      <th>count</th>\n",
       "      <td>443.000000</td>\n",
       "      <td>443.000000</td>\n",
       "      <td>443.000000</td>\n",
       "    </tr>\n",
       "    <tr>\n",
       "      <th>mean</th>\n",
       "      <td>85.547065</td>\n",
       "      <td>27.896546</td>\n",
       "      <td>4.397968</td>\n",
       "    </tr>\n",
       "    <tr>\n",
       "      <th>std</th>\n",
       "      <td>0.904854</td>\n",
       "      <td>0.365831</td>\n",
       "      <td>0.479838</td>\n",
       "    </tr>\n",
       "    <tr>\n",
       "      <th>min</th>\n",
       "      <td>80.600000</td>\n",
       "      <td>26.940000</td>\n",
       "      <td>4.000000</td>\n",
       "    </tr>\n",
       "    <tr>\n",
       "      <th>25%</th>\n",
       "      <td>85.250000</td>\n",
       "      <td>27.700000</td>\n",
       "      <td>4.100000</td>\n",
       "    </tr>\n",
       "    <tr>\n",
       "      <th>50%</th>\n",
       "      <td>85.750000</td>\n",
       "      <td>27.820000</td>\n",
       "      <td>4.200000</td>\n",
       "    </tr>\n",
       "    <tr>\n",
       "      <th>75%</th>\n",
       "      <td>86.080000</td>\n",
       "      <td>27.970000</td>\n",
       "      <td>4.500000</td>\n",
       "    </tr>\n",
       "    <tr>\n",
       "      <th>max</th>\n",
       "      <td>87.950000</td>\n",
       "      <td>30.310000</td>\n",
       "      <td>7.600000</td>\n",
       "    </tr>\n",
       "  </tbody>\n",
       "</table>\n",
       "</div>"
      ],
      "text/plain": [
       "        Longitude    Latitude   Magnitude\n",
       "count  443.000000  443.000000  443.000000\n",
       "mean    85.547065   27.896546    4.397968\n",
       "std      0.904854    0.365831    0.479838\n",
       "min     80.600000   26.940000    4.000000\n",
       "25%     85.250000   27.700000    4.100000\n",
       "50%     85.750000   27.820000    4.200000\n",
       "75%     86.080000   27.970000    4.500000\n",
       "max     87.950000   30.310000    7.600000"
      ]
     },
     "execution_count": 83,
     "metadata": {},
     "output_type": "execute_result"
    }
   ],
   "source": [
    "dfTest.describe()"
   ]
  },
  {
   "cell_type": "markdown",
   "metadata": {},
   "source": [
    "# Preprocessing DONE!"
   ]
  },
  {
   "cell_type": "code",
   "execution_count": 84,
   "metadata": {},
   "outputs": [],
   "source": [
    "dfTest.to_csv('cleanEarthquake.csv')"
   ]
  },
  {
   "cell_type": "code",
   "execution_count": 94,
   "metadata": {},
   "outputs": [
    {
     "data": {
      "text/plain": [
       "<AxesSubplot:>"
      ]
     },
     "execution_count": 94,
     "metadata": {},
     "output_type": "execute_result"
    },
    {
     "data": {
      "image/png": "[encoded data removed]",
      "text/plain": [
       "<Figure size 1152x576 with 1 Axes>"
      ]
     },
     "metadata": {
      "needs_background": "light"
     },
     "output_type": "display_data"
    }
   ],
   "source": [
    "dfTest.Magnitude.plot.line(figsize=(16, 8))"
   ]
  },
  {
   "cell_type": "code",
   "execution_count": null,
   "metadata": {},
   "outputs": [],
   "source": [
    "# TASK: Scatter plot -> Magnitude"
   ]
  }
 ],
 "metadata": {
  "kernelspec": {
   "display_name": "Python 3.7.0 32-bit",
   "language": "python",
   "name": "python37032bit5c9370e1c10f47d2a6b751db754ffb65"
  },
  "language_info": {
   "codemirror_mode": {
    "name": "ipython",
    "version": 3
   },
   "file_extension": ".py",
   "mimetype": "text/x-python",
   "name": "python",
   "nbconvert_exporter": "python",
   "pygments_lexer": "ipython3",
   "version": "3.7.6"
  }
 },
 "nbformat": 4,
 "nbformat_minor": 4
}
