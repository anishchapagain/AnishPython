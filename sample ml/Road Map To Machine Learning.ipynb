{
 "cells": [
  {
   "cell_type": "markdown",
   "metadata": {},
   "source": [
    "## Road Map to Machine Learning with Pyhton"
   ]
  },
  {
   "cell_type": "markdown",
   "metadata": {},
   "source": [
    "### Part1"
   ]
  },
  {
   "cell_type": "markdown",
   "metadata": {},
   "source": [
    "1. Basic Arithematic Operations\n",
    "2. Control and conditonal structures\n",
    "3. Looping - For, While loops\n",
    "4. Input User\n",
    "5. Strings\n",
    "6. Integer\n",
    "7. Floating Values\n",
    "8. Type casting"
   ]
  },
  {
   "cell_type": "markdown",
   "metadata": {},
   "source": [
    "### Part2 - Focus on In- Build Data Structures"
   ]
  },
  {
   "cell_type": "markdown",
   "metadata": {},
   "source": [
    "1. Python strings and inbuild functions\n",
    "2. python List and Boolean variables inbuild functions\n",
    "3. python List and Boolean variables inbuild functions\n",
    "4. Functions in python\n",
    "5. Lambda Function\n",
    "6. Iterators and generators\n",
    "7. Exception Handling and import libraries"
   ]
  },
  {
   "cell_type": "markdown",
   "metadata": {},
   "source": [
    "### Part3 - OOPS Concepts"
   ]
  },
  {
   "cell_type": "markdown",
   "metadata": {},
   "source": [
    "1. class, object, method, inheritance\n",
    "2. polymorphism, data abstration, encapsulation"
   ]
  },
  {
   "cell_type": "markdown",
   "metadata": {},
   "source": [
    "### Part4 - Libraries with Python"
   ]
  },
  {
   "cell_type": "markdown",
   "metadata": {},
   "source": [
    "1. Numpy - plays with arrays\n",
    "2. Pandas\n",
    "3. Matplot\n",
    "4. Seaborn\n",
    "5. scipy\n"
   ]
  },
  {
   "cell_type": "markdown",
   "metadata": {},
   "source": [
    "## Road Map To Machine Learning"
   ]
  },
  {
   "cell_type": "markdown",
   "metadata": {},
   "source": [
    "1. Programming Language - Python\n",
    "2. Exploratory Data Analysis\n",
    "3. Feature Engineering <br>\n",
    "   a. Exploratory Data analysis<br>\n",
    "   b. Handling missing values<br>\n",
    "   c. Handling Outliers<br>\n",
    "   d. categorical encoding<br>\n",
    "   e. Normalization and standarlization<br>"
   ]
  },
  {
   "cell_type": "markdown",
   "metadata": {},
   "source": [
    "4. Feature Selection<br>\n",
    "   a. correlation<br>\n",
    "   b. backward elimination<br>\n",
    "   c. forward eliminatin<br>\n",
    "   d. univariate selection<br>\n",
    "   e. random forest importance<br>\n",
    "   f. feature selection with decision trees<br>"
   ]
  },
  {
   "cell_type": "markdown",
   "metadata": {},
   "source": [
    "5. Machine Learning Algorithems - Regression, classification and clustring\n",
    "6. Linear, Logist Regression, Decision tree, randomForest,xgboost, KMeans\n",
    "7. Hyper Parameter tunning\n",
    "8. GridSearch, randomized Search, HyperOpt, Optuna, Genetics Algorithems\n",
    "9. Dockers and kubernerets\n",
    "10. Model Deployments\n",
    "11. End to End Projects"
   ]
  },
  {
   "cell_type": "code",
   "execution_count": null,
   "metadata": {},
   "outputs": [],
   "source": []
  }
 ],
 "metadata": {
  "kernelspec": {
   "display_name": "Python 3.7.0 32-bit",
   "language": "python",
   "name": "python37032bit5c9370e1c10f47d2a6b751db754ffb65"
  },
  "language_info": {
   "codemirror_mode": {
    "name": "ipython",
    "version": 3
   },
   "file_extension": ".py",
   "mimetype": "text/x-python",
   "name": "python",
   "nbconvert_exporter": "python",
   "pygments_lexer": "ipython3",
   "version": "3.7.6"
  }
 },
 "nbformat": 4,
 "nbformat_minor": 4
}
