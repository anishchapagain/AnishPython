{
 "cells": [
  {
   "cell_type": "markdown",
   "id": "e8c7478b",
   "metadata": {},
   "source": [
    "## Markitdown (pdf -> md)"
   ]
  },
  {
   "cell_type": "code",
   "execution_count": 1,
   "id": "23cf2d04",
   "metadata": {},
   "outputs": [],
   "source": [
    "from markitdown import MarkItDown"
   ]
  },
  {
   "cell_type": "code",
   "execution_count": 2,
   "id": "7f96d659",
   "metadata": {},
   "outputs": [],
   "source": [
    "converter = MarkItDown()"
   ]
  },
  {
   "cell_type": "code",
   "execution_count": 9,
   "id": "0e7c1717",
   "metadata": {},
   "outputs": [],
   "source": [
    "output = converter.convert(\"./BIT301_Tutorial_1.pdf\")"
   ]
  },
  {
   "cell_type": "code",
   "execution_count": 10,
   "id": "3284399c",
   "metadata": {},
   "outputs": [],
   "source": [
    "output_file = \"markdown_docs/structured_data.md\""
   ]
  },
  {
   "cell_type": "code",
   "execution_count": 11,
   "id": "deb41430",
   "metadata": {},
   "outputs": [],
   "source": [
    "with open(output_file, \"w\", encoding=\"utf-8\") as file:\n",
    "    file.write(output.text_content)"
   ]
  },
  {
   "cell_type": "markdown",
   "id": "27aeb174",
   "metadata": {},
   "source": [
    "## Using LLM"
   ]
  },
  {
   "cell_type": "code",
   "execution_count": null,
   "id": "ffca00b7",
   "metadata": {},
   "outputs": [],
   "source": [
    "import ollama"
   ]
  },
  {
   "cell_type": "markdown",
   "id": "dba08792",
   "metadata": {},
   "source": []
  }
 ],
 "metadata": {
  "kernelspec": {
   "display_name": "venv",
   "language": "python",
   "name": "python3"
  },
  "language_info": {
   "codemirror_mode": {
    "name": "ipython",
    "version": 3
   },
   "file_extension": ".py",
   "mimetype": "text/x-python",
   "name": "python",
   "nbconvert_exporter": "python",
   "pygments_lexer": "ipython3",
   "version": "3.11.9"
  }
 },
 "nbformat": 4,
 "nbformat_minor": 5
}
